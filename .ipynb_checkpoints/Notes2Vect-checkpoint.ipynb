{
 "cells": [
  {
   "cell_type": "markdown",
   "metadata": {
    "nbpresent": {
     "id": "3bb1a80a-ebdc-4cd8-92eb-31e9aa449ab1"
    }
   },
   "source": [
    "# Notes 2 Vect\n",
    "\n",
    "The goal of this Notebook is to figure out if we can create an embedding for each specific note."
   ]
  },
  {
   "cell_type": "code",
   "execution_count": 1,
   "metadata": {
    "nbpresent": {
     "id": "47011dba-5136-43eb-9ae8-78b8a593bb79"
    }
   },
   "outputs": [],
   "source": [
    "#Preamble\n",
    "%matplotlib inline\n",
    "import sys\n",
    "import numpy as np\n",
    "from matplotlib import pyplot\n",
    "import pandas as pd\n",
    "import gensim\n",
    "import logging as log\n",
    "import csv\n",
    "import pickle as pkl\n",
    "from sklearn.manifold import TSNE\n",
    "from nltk.tokenize import word_tokenize\n",
    "\n",
    "# Logging config\n",
    "log.basicConfig(format='%(levelname)s : %(message)s', level=log.INFO)\n",
    "\n",
    "# Seeds:\n",
    "np.random.seed(42)"
   ]
  },
  {
   "cell_type": "markdown",
   "metadata": {
    "nbpresent": {
     "id": "9473e204-ac68-457c-b3f7-7f960f4bbafe"
    }
   },
   "source": [
    "Read in the .csv notes data:"
   ]
  },
  {
   "cell_type": "code",
   "execution_count": 2,
   "metadata": {
    "nbpresent": {
     "id": "d5cc6422-3f85-4781-97d3-296d0066a77d"
    }
   },
   "outputs": [],
   "source": [
    "def load_notes():\n",
    "    \"Load in the notes from the .csv file\"\n",
    "    global notes\n",
    "\n",
    "    file_name = 'data/disch_full.csv'\n",
    "    \n",
    "    with open(file_name) as csv_file:\n",
    "        csv_reader = csv.reader(csv_file, delimiter=',')\n",
    "        next(csv_reader) # skip the header\n",
    "#         notes = [row[3] for row in csv_reader]\n",
    "        notes = [row for row in csv_reader]\n",
    "    \n",
    "    log.info(\"Done loading notes with length {}\".format(len(notes)))"
   ]
  },
  {
   "cell_type": "code",
   "execution_count": null,
   "metadata": {
    "nbpresent": {
     "id": "170aa717-794e-43b7-a206-947560f6ee6c"
    }
   },
   "outputs": [],
   "source": [
    "def load_pickle_file(name):\n",
    "    \"Get the value from the pickle file and set it as the variable value\"\n",
    "    with open(\"data/{}.pkl\".format(name), \"rb\") as pickle_file:        \n",
    "        globals()[name] = np.array(pkl.load(pickle_file))"
   ]
  },
  {
   "cell_type": "code",
   "execution_count": null,
   "metadata": {
    "nbpresent": {
     "id": "a5cb768b-cb6f-487c-841e-b3d2c6ab54c7"
    }
   },
   "outputs": [],
   "source": [
    "load_pickle_file(\"tagged_notes\")"
   ]
  },
  {
   "cell_type": "code",
   "execution_count": 3,
   "metadata": {
    "nbpresent": {
     "id": "5dc158f9-8df4-441d-8404-f1c82fdb3969"
    }
   },
   "outputs": [
    {
     "name": "stderr",
     "output_type": "stream",
     "text": [
      "INFO : Done loading notes with length 59652\n"
     ]
    }
   ],
   "source": [
    "load_notes()"
   ]
  },
  {
   "cell_type": "code",
   "execution_count": 5,
   "metadata": {},
   "outputs": [
    {
     "data": {
      "text/plain": [
       "[['22532',\n",
       "  '167853',\n",
       "  '',\n",
       "  'admission date discharge date service addendum radiologic studies radiologic studies also included a chest ct which confirmed cavitary lesions in the left lung apex consistent with infectious process tuberculosis this also moderate sized left pleural effusion head ct head ct showed no intracranial hemorrhage or mass effect but old infarction consistent with past medical history abdominal ct abdominal ct showed lesions of t10 and sacrum most likely secondary to osteoporosis these can be followed by repeat imaging as an outpatient first name8 namepattern2 first name4 namepattern1 last name namepattern1 m d md number dictated by hospital medquist36 d t job job number'],\n",
       " ['13702',\n",
       "  '107527',\n",
       "  '',\n",
       "  'admission date discharge date date of birth sex f service micu and then to doctor last name medicine history of present illness this is an year old female with a history of emphysema not on home o2 who presents with three days of shortness of breath thought by her primary care doctor to be a copd flare two days prior to admission she was started on a prednisone taper and one day prior to admission she required oxygen at home in order to maintain oxygen saturation greater than she has also been on levofloxacin and nebulizers and was not getting better and presented to the hospital1 emergency room in the hospital3 emergency room her oxygen saturation was on cpap she was not able to be weaned off of this despite nebulizer treatment and solu medrol mg iv x2 review of systems is negative for the following fevers chills nausea vomiting night sweats change in weight gastrointestinal complaints neurologic changes rashes palpitations orthopnea is positive for the following chest pressure occasionally with shortness of breath with exertion some shortness of breath that is positionally related but is improved with nebulizer treatment past medical history copd last pulmonary function tests in demonstrated a fvc of of predicted a fev1 of of predicted a mmf of of predicted and a fev1 fvc ratio of of predicted that does not improve with bronchodilator treatment the fvc however does significantly improve with bronchodilator treatment consistent with her known reversible air flow obstruction in addition to an underlying restrictive ventilatory defect the patient has never been on home oxygen prior to this recent episode she has never been on steroid taper or been intubated in the past lacunar cva mri of the head in demonstrates mild degree of multiple small foci of high t2 signal within the white matter of both cerebral hemispheres as well as the pons in the latter region predominantly to the right of midline the abnormalities while nonspecific in etiology are most likely secondary to chronic microvascular infarction there is no mass lesion shift of the normal midline strictures or hydrocephalus the major vascular flow patterns are preserved there is moderate right maxillary moderate bilateral ethmoid mild left maxillary minimal right sphenoid and frontal sinus mucosal thickening these abnormalities could represent an allergic or some other type of inflammatory process additionally noted is a moderately enlarged subtotally empty sella turcica angina most recent stress test was in going for four minutes with a rate pressure product of of maximum predicted heart rate without evidence of ischemic ekg changes or symptoms the imaging portion of the study demonstrated no evidence of myocardial ischemia and a calculated ejection fraction of the patient denies angina at rest and gets angina with walking a few blocks are alleviated by sublingual nitroglycerin hypothyroidism on synthroid depression on lexapro motor vehicle accident with head injury approximately years ago medications on admission hydrochlorothiazide q d prednisone mg mg mg mg levofloxacin mg q d imdur mg q d synthroid mcg q d pulmicort nebulizer b i d albuterol nebulizer q prn lexapro mg q d protonix mg q d aspirin mg q d allergies norvasc leads to lightheadedness and headache family history noncontributory social history lives with her husband dr known lastname an eminent pediatric neurologist at hospital3 the patient is a prior smoker but has not smoked in over years she has no known alcohol use and she is a full code physical exam at time of admission blood pressure heart rate and regular respirations at and axillary temperature she was saturating at on cpap with dry mucous membranes an elderly female in no apparent distress pupils are equal round and reactive to light and accommodation extraocular movements are intact oropharynx difficult to assess due to cpap machine no evidence of jugular venous pressure however the strap from the cpap machine obscures the neck exam cranial nerves ii through xii are grossly intact neck is supple without lymphadenopathy heart exam tachycardic regular obscured by loud bilateral wheezing with increase in the expiratory phase as well as profuse scattered rhonchi throughout the lung fields positive bowel sounds soft nontender nondistended obese no masses mild edema of the lower extremities without clubbing or cyanosis no rashes there is a right hand hematoma strength is assessed as in the lower extremities in the upper extremities with a normal mental status and cognition laboratory studies white count hematocrit platelets chem troponin was negative cks were negative times three initial blood gas showed a ph of po2 of pco2 of chest x ray demonstrates a moderate sized hiatal hernia segmental atelectasis left lower lobe infiltrate versus segmental atelectasis ekg shows normal sinus rhythm at beats per minute normal axis no evidence of st t wave changes brief summary of hospital course copd dyspnea pneumonia the patient was initially placed on an aggressive steroid taper and admitted to the medical intensive care unit due to her difficulty with oxygenation despite cpap machine she was also given nebulizer treatments q 4h as well as chest pt the nebulizers were increased to q 1h due to the fact that she continued to have labored breathing due to persistent respiratory failure and labored breathing the patient was intubated on in order to improve oxygenation ventilation and ability to suction a bronchoscopy was performed on which demonstrated marked narrowing of the airways with expiration consistent with tracheomalacia on two silicone stents were placed one in the left main stem x and one in the trachea x by dr first name stitle name stitle under rigid bronchoscopy with general anesthesia on the patient was extubated to a cool mist shovel mask and her oxygen was titrated down to liters nasal cannula at which time she was transferred to the medical floor on the medical floor the steroids were weaned to off on and the patient was saturating at on liters on room air on the patient was seen again by the interventional pulmonology service who agreed that she looked much improved and recommended that she go to pulmonary rehabilitation with followup within six weeks time status post placement of stents in respiratory failure cardiovascular the patient was ruled out for a mi she did have another episode on the medical floor of chest pain which showed no evidence of ekg changes and negative troponin negative cks x3 she was continued on aspirin imdur and diltiazem for rate control per her outpatient regimen hypertension she was maintained on diltiazem and hydrochlorothiazide with adequate blood pressure control and normalization of electrolytes hematuria the patient had intermittent hematuria likely secondary to foley placement the foley catheter was discontinued on she had serial urinalyses which were all negative for signs of infection hyperglycemia patient was placed on insulin sliding scale due to hyperglycemia which was steroid induced this worked quite well and her glucose came back to normal levels once the steroids were tapered to off leukocytosis patient did have a profound leukocytosis of to during much of her hospital course as the steroids were tapered to off her white blood cell count on was it was felt that the leukocytosis was secondary to both steroids as well as question of a left lower lobe pneumonia for the left lower lobe pneumonia the patient had initially received a course of levofloxacin p o q d from to this was restarted on for an additional seven day course given the fact that she still had the leukocytosis and still had marked rales at the left lower lobe hypothyroidism the patient was continued on outpatient medical regimen depression the patient was continued on lexapro per outpatient regimen it is recommended that she follow up with a therapist as an outpatient due to the fact that she did have a blunted affect throughout much of the hospital course and did appear clinically to be depressed prophylaxis she was maintained on proton pump inhibitor with subq heparin sore throat the patient did have a sore throat for much of the hospital course post extubation this was treated with cepacol lozenges as well as kbl liquid a solution containing kaopectate bismuth and lidocaine at bedtime communication code status the patient was full code throughout her hospital course and communication was maintained with the patient and her husband muscle weakness the patient did have profound muscle weakness and was evaluated by physical therapy and was found to have impaired functional mobility impaired musculoskeletal performance impaired gas exchange impaired endurance impaired ventilation and needed help with supine to sit however she was able to tolerate sitting in a chair for approximately one hour on motor exam her flexors and extensors of the lower extremities were at the knee at the ankle at the elbows and hips it was felt that this weakness was most likely due to a combination of steroid myopathy as well as muscle atrophy secondary to deconditioning after a prolonged hospital course speech swallow the patient had a speech and swallow evaluation showing no evidence of dysphagia no evidence of vocal cord damage status post tracheal stent placement discharge condition the patient was able to oxygenate on room air at at the time of discharge she was profoundly weak but was no longer tachycardic and had a normal blood pressure her respirations were much improved albeit with transmitted upper airway sounds discharge status the patient will be discharged to hospital1 for both pulmonary and physical rehabilitation discharge medications levothyroxine mcg p o q d citalopram mg p o q d aspirin mg p o q d fluticasone mcg two puffs inhaled b i d salmeterol diskus one inhalation b i d acetaminophen mg p o q 6h prn ipratropium bromide mdi two puffs inhaled q 2h prn albuterol puffs inhaled q 2h prn zolpidem tartrate mg p o q h s prn isosorbide dinitrate mg p o t i d diltiazem mg p o q i d pantoprazole mg p o q 24h trazodone mg p o q h s prn subq heparin units subcutaneous b i d until such time that the patient is able to get out of bed twice a day cepacol lozenges q 2h prn levofloxacin mg p o q d for a seven day course to be completed on kaopectate benadryl lidocaine ml p o b i d prn not to be given around mealtimes for concern of dysphagia induced by lidocaine lorazepam mg iv q 6h prn follow up plans the patient is recommended to followup with dr first name4 namepattern1 last name namepattern1 telephone fax within two weeks of leaving of the hospital she is also recommended to followup with the interventional pulmonary service for followup status post stent placement she is also recommended to followup with a neurologist if her muscle weakness does not improve within one week on physical therapy with concern for steroid induced myopathy final diagnoses tracheomalacia status post tracheal and left main stem bronchial stent placement hypertension hypothyroidism restrictive lung defect depression dr last name stitle first name3 lf dictated by last name namepattern1 medquist36 d t job job number']]"
      ]
     },
     "execution_count": 5,
     "metadata": {},
     "output_type": "execute_result"
    }
   ],
   "source": [
    "notes[0:2]"
   ]
  },
  {
   "cell_type": "markdown",
   "metadata": {
    "nbpresent": {
     "id": "5852962f-662b-4c88-9e5e-5b39f36eb596"
    }
   },
   "source": [
    "##  Vectors\n",
    "\n",
    "Now that all the notes are in the `notes` variable, we can begin training for our vectors. Reference material: [Article 1](https://medium.com/@mishra.thedeepak/doc2vec-simple-implementation-example-df2afbbfbad5) and [article 2](https://radimrehurek.com/gensim/models/doc2vec.html#gensim.models.doc2vec.TaggedDocument)."
   ]
  },
  {
   "cell_type": "code",
   "execution_count": null,
   "metadata": {
    "nbpresent": {
     "id": "45b22c8d-ef4f-4519-9a4d-040d48121d6b"
    }
   },
   "outputs": [],
   "source": [
    "tagged_notes = [gensim.models.doc2vec.TaggedDocument(words=word_tokenize(_d.lower()), tags=[str(i)]) for i, _d in enumerate(notes)]"
   ]
  },
  {
   "cell_type": "code",
   "execution_count": null,
   "metadata": {
    "nbpresent": {
     "id": "1e6cab4a-48af-437d-a25e-c56e7bacc69a"
    }
   },
   "outputs": [],
   "source": [
    "def save_pickle_file(name, data):\n",
    "    \"Save out the data as a pickle file\"\n",
    "    with open(\"data/{}.pkl\".format(name), \"wb\") as pickle_file:\n",
    "        pkl.dump(data, pickle_file)"
   ]
  },
  {
   "cell_type": "code",
   "execution_count": null,
   "metadata": {
    "nbpresent": {
     "id": "b1d87303-6237-4439-b380-328817004055"
    }
   },
   "outputs": [],
   "source": [
    "#save_pickle_file(\"tagged_notes\", tagged_notes)"
   ]
  },
  {
   "cell_type": "code",
   "execution_count": null,
   "metadata": {
    "nbpresent": {
     "id": "0238d9fc-a2e8-4126-8dae-51a7deeb4218"
    }
   },
   "outputs": [],
   "source": [
    "def make_model(max_epochs = 5, vec_size = 100, alpha = 0.025):\n",
    "    \"Make the model for notes 2 vect\"\n",
    "    global model\n",
    "    \n",
    "    model = gensim.models.doc2vec.Doc2Vec(vector_size=vec_size,\n",
    "                                            alpha=alpha, \n",
    "                                            min_alpha=0.00025,\n",
    "                                            min_count=1,\n",
    "                                            dm=1,\n",
    "                                            workers=2\n",
    "                                         )\n",
    "    model.build_vocab(tagged_notes)\n",
    "    \n",
    "    for epoch in range(max_epochs):\n",
    "        log.info('iteration {0}'.format(epoch))\n",
    "        model.train(tagged_notes,\n",
    "                    total_examples=model.corpus_count,\n",
    "                    epochs=model.iter)\n",
    "        # decrease the learning rate\n",
    "        model.alpha -= 0.0002\n",
    "        # fix the learning rate, no decay\n",
    "        model.min_alpha = model.alpha\n",
    "\n",
    "    model.save(\"models/{}_{}_notes2vect.w2v\".format(vec_size, max_epochs))\n",
    "    log.info(\"Model Saved\")"
   ]
  },
  {
   "cell_type": "code",
   "execution_count": null,
   "metadata": {
    "nbpresent": {
     "id": "72219688-1e0f-4288-8f08-bb19470c65b5"
    }
   },
   "outputs": [],
   "source": [
    "make_model(vec_size = 200)"
   ]
  },
  {
   "cell_type": "markdown",
   "metadata": {
    "nbpresent": {
     "id": "75d032fb-2667-459e-9afa-4301ba66d084"
    }
   },
   "source": [
    "## Testing\n",
    "\n",
    "Now that the new embedding has been saved, we can go ahead and test it out. The best way test out if the embedding is useful is to try and and see what it tells us as similar notes."
   ]
  },
  {
   "cell_type": "code",
   "execution_count": null,
   "metadata": {
    "nbpresent": {
     "id": "75fc1470-be4a-4289-aaad-7f65fd4286a4"
    }
   },
   "outputs": [],
   "source": [
    "def check_model():\n",
    "    \"Check to see if the model is working properly\"\n",
    "    check_model= gensim.models.doc2vec.Doc2Vec.load(\"models/100_10_notes2vect.w2v\")\n",
    "    test_data = word_tokenize(\"Patient was showing suicidal ideation.\".lower())\n",
    "    v1 = check_model.infer_vector(test_data)\n",
    "    \n",
    "    # Vector for our test_data sentence:\n",
    "    print(\"V1_infer\", v1)\n",
    "    \n",
    "    # List of similar documents:\n",
    "    similar_doc = check_model.docvecs.most_similar('1')\n",
    "    print(similar_doc)\n",
    "\n",
    "    # Find vector of doc in training data using tags or in other words, \n",
    "    print(check_model.docvecs['1'])"
   ]
  },
  {
   "cell_type": "code",
   "execution_count": null,
   "metadata": {
    "nbpresent": {
     "id": "30d12624-0ff1-4aee-bce6-93cf32609226"
    }
   },
   "outputs": [],
   "source": [
    "check_model()"
   ]
  },
  {
   "cell_type": "code",
   "execution_count": null,
   "metadata": {
    "nbpresent": {
     "id": "431ff1dd-6abc-4e57-b663-d7e90f0acd9c"
    }
   },
   "outputs": [],
   "source": [
    "check_model= gensim.models.doc2vec.Doc2Vec.load(\"models/100_10_notes2vect.w2v\")"
   ]
  },
  {
   "cell_type": "code",
   "execution_count": null,
   "metadata": {
    "nbpresent": {
     "id": "c7048165-f1bb-43de-bd61-3baf6c57b8d1"
    }
   },
   "outputs": [],
   "source": [
    "len(check_model.docvecs)"
   ]
  },
  {
   "cell_type": "code",
   "execution_count": null,
   "metadata": {
    "nbpresent": {
     "id": "8bbf87ff-7f8b-41e4-b519-f8f39b8b9307"
    }
   },
   "outputs": [],
   "source": [
    "len(notes)"
   ]
  },
  {
   "cell_type": "markdown",
   "metadata": {
    "nbpresent": {
     "id": "5c6f3a81-0d21-4308-ab24-09f9286147fd"
    }
   },
   "source": [
    "# Plots\n",
    "\n",
    "Now that we have the suicide class values in `suicide_class.csv` file, we can match it with the notes csv file (specifically the field called \"subject_id\")."
   ]
  },
  {
   "cell_type": "code",
   "execution_count": 6,
   "metadata": {},
   "outputs": [],
   "source": [
    "def load_embedding(filename):\n",
    "    \"Load the embedding for a given filename\"\n",
    "    return gensim.models.doc2vec.Doc2Vec.load(filename)"
   ]
  },
  {
   "cell_type": "code",
   "execution_count": 7,
   "metadata": {},
   "outputs": [
    {
     "name": "stderr",
     "output_type": "stream",
     "text": [
      "INFO : loading Doc2Vec object from models/200_5_notes2vect.w2v\n",
      "INFO : loading vocabulary recursively from models/200_5_notes2vect.w2v.vocabulary.* with mmap=None\n",
      "INFO : loading trainables recursively from models/200_5_notes2vect.w2v.trainables.* with mmap=None\n",
      "INFO : loading syn1neg from models/200_5_notes2vect.w2v.trainables.syn1neg.npy with mmap=None\n",
      "INFO : loading wv recursively from models/200_5_notes2vect.w2v.wv.* with mmap=None\n",
      "INFO : loading vectors from models/200_5_notes2vect.w2v.wv.vectors.npy with mmap=None\n",
      "INFO : loading docvecs recursively from models/200_5_notes2vect.w2v.docvecs.* with mmap=None\n",
      "INFO : loading vectors_docs from models/200_5_notes2vect.w2v.docvecs.vectors_docs.npy with mmap=None\n",
      "INFO : loaded models/200_5_notes2vect.w2v\n"
     ]
    }
   ],
   "source": [
    "embedding = load_embedding(\"models/200_5_notes2vect.w2v\")"
   ]
  },
  {
   "cell_type": "code",
   "execution_count": 8,
   "metadata": {},
   "outputs": [],
   "source": [
    "def load_suicide_csv():\n",
    "    \"Load the suicide csv dataset\"\n",
    "    global suicide_subject_ids\n",
    "\n",
    "    file_name = 'data/suicide_class.csv'\n",
    "    \n",
    "    with open(file_name) as csv_file:\n",
    "        csv_reader = csv.reader(csv_file, delimiter=',')\n",
    "        next(csv_reader) # skip the header\n",
    "        suicide_subject_ids = [int(row[0]) for row in csv_reader]"
   ]
  },
  {
   "cell_type": "code",
   "execution_count": 9,
   "metadata": {},
   "outputs": [],
   "source": [
    "load_suicide_csv()"
   ]
  },
  {
   "cell_type": "code",
   "execution_count": 10,
   "metadata": {},
   "outputs": [
    {
     "data": {
      "text/plain": [
       "[71, 119, 449, 468]"
      ]
     },
     "execution_count": 10,
     "metadata": {},
     "output_type": "execute_result"
    }
   ],
   "source": [
    "suicide_subject_ids[0:4]"
   ]
  },
  {
   "cell_type": "code",
   "execution_count": 12,
   "metadata": {},
   "outputs": [
    {
     "data": {
      "text/plain": [
       "59652"
      ]
     },
     "execution_count": 12,
     "metadata": {},
     "output_type": "execute_result"
    }
   ],
   "source": [
    "len(notes)"
   ]
  },
  {
   "cell_type": "code",
   "execution_count": 13,
   "metadata": {},
   "outputs": [],
   "source": [
    "df = pd.DataFrame(notes)\n",
    "df.columns = [\"SUBJECT_ID\",\"HADM_ID\",\"CHARTTIME\",\"TEXT\"]"
   ]
  },
  {
   "cell_type": "code",
   "execution_count": 14,
   "metadata": {},
   "outputs": [],
   "source": [
    "found_id = lambda id: id in suicide_subject_ids"
   ]
  },
  {
   "cell_type": "code",
   "execution_count": 15,
   "metadata": {},
   "outputs": [],
   "source": [
    "df['VECTORS'] = [[1.1, 2.2]]*len(df)\n",
    "df['SUICIDE'] = [False]*len(df)"
   ]
  },
  {
   "cell_type": "code",
   "execution_count": 16,
   "metadata": {},
   "outputs": [],
   "source": [
    "def func(row):\n",
    "    return found_id(int(row.SUBJECT_ID))\n",
    "\n",
    "def sub_to_int(row):\n",
    "    return int(row.SUBJECT_ID)\n",
    "\n",
    "def hadm_to_int(row):\n",
    "    return int(row.HADM_ID)\n",
    "\n",
    "def add_vectors(row):\n",
    "    return embedding.docvecs[str(row.name)]"
   ]
  },
  {
   "cell_type": "code",
   "execution_count": 17,
   "metadata": {},
   "outputs": [],
   "source": [
    "df.SUICIDE = df.apply(func,axis=1)\n",
    "df.SUBJECT_ID = df.apply(sub_to_int, axis=1)\n",
    "df.HADM_ID = df.apply(hadm_to_int, axis=1)\n",
    "df.VECTORS = df.apply(add_vectors, axis=1)"
   ]
  },
  {
   "cell_type": "code",
   "execution_count": 18,
   "metadata": {},
   "outputs": [
    {
     "data": {
      "text/plain": [
       "array([False,  True])"
      ]
     },
     "execution_count": 18,
     "metadata": {},
     "output_type": "execute_result"
    }
   ],
   "source": [
    "df.SUICIDE.unique()"
   ]
  },
  {
   "cell_type": "code",
   "execution_count": 19,
   "metadata": {},
   "outputs": [
    {
     "data": {
      "text/plain": [
       "False    58736\n",
       "True       916\n",
       "Name: SUICIDE, dtype: int64"
      ]
     },
     "execution_count": 19,
     "metadata": {},
     "output_type": "execute_result"
    }
   ],
   "source": [
    "df.SUICIDE.value_counts()"
   ]
  },
  {
   "cell_type": "code",
   "execution_count": 20,
   "metadata": {},
   "outputs": [
    {
     "data": {
      "text/html": [
       "<div>\n",
       "<style scoped>\n",
       "    .dataframe tbody tr th:only-of-type {\n",
       "        vertical-align: middle;\n",
       "    }\n",
       "\n",
       "    .dataframe tbody tr th {\n",
       "        vertical-align: top;\n",
       "    }\n",
       "\n",
       "    .dataframe thead th {\n",
       "        text-align: right;\n",
       "    }\n",
       "</style>\n",
       "<table border=\"1\" class=\"dataframe\">\n",
       "  <thead>\n",
       "    <tr style=\"text-align: right;\">\n",
       "      <th></th>\n",
       "      <th>SUBJECT_ID</th>\n",
       "      <th>HADM_ID</th>\n",
       "      <th>CHARTTIME</th>\n",
       "      <th>TEXT</th>\n",
       "      <th>VECTORS</th>\n",
       "      <th>SUICIDE</th>\n",
       "    </tr>\n",
       "  </thead>\n",
       "  <tbody>\n",
       "    <tr>\n",
       "      <th>0</th>\n",
       "      <td>22532</td>\n",
       "      <td>167853</td>\n",
       "      <td></td>\n",
       "      <td>admission date discharge date service addendum...</td>\n",
       "      <td>[0.39852864, -0.1671015, 0.7521763, 0.54836917...</td>\n",
       "      <td>False</td>\n",
       "    </tr>\n",
       "    <tr>\n",
       "      <th>1</th>\n",
       "      <td>13702</td>\n",
       "      <td>107527</td>\n",
       "      <td></td>\n",
       "      <td>admission date discharge date date of birth se...</td>\n",
       "      <td>[0.0020026737, 0.10612658, 1.5018982, 0.843314...</td>\n",
       "      <td>False</td>\n",
       "    </tr>\n",
       "    <tr>\n",
       "      <th>2</th>\n",
       "      <td>13702</td>\n",
       "      <td>167118</td>\n",
       "      <td></td>\n",
       "      <td>admission date discharge date service cardioth...</td>\n",
       "      <td>[0.08271298, 0.41421026, 0.10357042, 0.0394304...</td>\n",
       "      <td>False</td>\n",
       "    </tr>\n",
       "    <tr>\n",
       "      <th>3</th>\n",
       "      <td>13702</td>\n",
       "      <td>196489</td>\n",
       "      <td></td>\n",
       "      <td>admission date discharge date service medicine...</td>\n",
       "      <td>[-1.1403258, 0.18988298, 0.29465637, 1.0322447...</td>\n",
       "      <td>False</td>\n",
       "    </tr>\n",
       "    <tr>\n",
       "      <th>4</th>\n",
       "      <td>26880</td>\n",
       "      <td>135453</td>\n",
       "      <td></td>\n",
       "      <td>admission date discharge date date of birth se...</td>\n",
       "      <td>[0.3301744, -1.3839103, -0.121851526, 0.053400...</td>\n",
       "      <td>False</td>\n",
       "    </tr>\n",
       "  </tbody>\n",
       "</table>\n",
       "</div>"
      ],
      "text/plain": [
       "   SUBJECT_ID  HADM_ID CHARTTIME  \\\n",
       "0       22532   167853             \n",
       "1       13702   107527             \n",
       "2       13702   167118             \n",
       "3       13702   196489             \n",
       "4       26880   135453             \n",
       "\n",
       "                                                TEXT  \\\n",
       "0  admission date discharge date service addendum...   \n",
       "1  admission date discharge date date of birth se...   \n",
       "2  admission date discharge date service cardioth...   \n",
       "3  admission date discharge date service medicine...   \n",
       "4  admission date discharge date date of birth se...   \n",
       "\n",
       "                                             VECTORS  SUICIDE  \n",
       "0  [0.39852864, -0.1671015, 0.7521763, 0.54836917...    False  \n",
       "1  [0.0020026737, 0.10612658, 1.5018982, 0.843314...    False  \n",
       "2  [0.08271298, 0.41421026, 0.10357042, 0.0394304...    False  \n",
       "3  [-1.1403258, 0.18988298, 0.29465637, 1.0322447...    False  \n",
       "4  [0.3301744, -1.3839103, -0.121851526, 0.053400...    False  "
      ]
     },
     "execution_count": 20,
     "metadata": {},
     "output_type": "execute_result"
    }
   ],
   "source": [
    "df.head()"
   ]
  },
  {
   "cell_type": "code",
   "execution_count": 21,
   "metadata": {},
   "outputs": [
    {
     "name": "stdout",
     "output_type": "stream",
     "text": [
      "Number of suicide notes is 1.560%\n"
     ]
    }
   ],
   "source": [
    "print(\"Number of suicide notes is {0:.3f}%\".format((916/58736)*100))"
   ]
  },
  {
   "cell_type": "markdown",
   "metadata": {},
   "source": [
    "Stratified sampling"
   ]
  },
  {
   "cell_type": "code",
   "execution_count": 22,
   "metadata": {},
   "outputs": [],
   "source": [
    "suicide_df = df[df['SUICIDE'] == True]\n",
    "not_suicide_df = df[df['SUICIDE'] == False]"
   ]
  },
  {
   "cell_type": "code",
   "execution_count": 54,
   "metadata": {},
   "outputs": [
    {
     "data": {
      "text/html": [
       "<div>\n",
       "<style scoped>\n",
       "    .dataframe tbody tr th:only-of-type {\n",
       "        vertical-align: middle;\n",
       "    }\n",
       "\n",
       "    .dataframe tbody tr th {\n",
       "        vertical-align: top;\n",
       "    }\n",
       "\n",
       "    .dataframe thead th {\n",
       "        text-align: right;\n",
       "    }\n",
       "</style>\n",
       "<table border=\"1\" class=\"dataframe\">\n",
       "  <thead>\n",
       "    <tr style=\"text-align: right;\">\n",
       "      <th></th>\n",
       "      <th>SUBJECT_ID</th>\n",
       "      <th>HADM_ID</th>\n",
       "      <th>CHARTTIME</th>\n",
       "      <th>TEXT</th>\n",
       "      <th>VECTORS</th>\n",
       "      <th>SUICIDE</th>\n",
       "    </tr>\n",
       "  </thead>\n",
       "  <tbody>\n",
       "    <tr>\n",
       "      <th>33908</th>\n",
       "      <td>12080</td>\n",
       "      <td>182794</td>\n",
       "      <td></td>\n",
       "      <td>admission date discharge date date of birth se...</td>\n",
       "      <td>[1.838024, 0.039114416, 0.12507683, 1.3202151,...</td>\n",
       "      <td>True</td>\n",
       "    </tr>\n",
       "  </tbody>\n",
       "</table>\n",
       "</div>"
      ],
      "text/plain": [
       "       SUBJECT_ID  HADM_ID CHARTTIME  \\\n",
       "33908       12080   182794             \n",
       "\n",
       "                                                    TEXT  \\\n",
       "33908  admission date discharge date date of birth se...   \n",
       "\n",
       "                                                 VECTORS  SUICIDE  \n",
       "33908  [1.838024, 0.039114416, 0.12507683, 1.3202151,...     True  "
      ]
     },
     "execution_count": 54,
     "metadata": {},
     "output_type": "execute_result"
    }
   ],
   "source": [
    "suicide_df.loc[suicide_df['SUBJECT_ID'] == 12080]"
   ]
  },
  {
   "cell_type": "markdown",
   "metadata": {},
   "source": [
    "### Getting the T-SNE Plot:\n",
    "\n",
    "Now that all the data is in the shape that we need, we can perform the T-SNE dimensionality reduction to see where the 916 suicide notes are plotted given their vectors."
   ]
  },
  {
   "cell_type": "code",
   "execution_count": 43,
   "metadata": {},
   "outputs": [],
   "source": [
    "def tsne_model(model, data_frame, model_pkl, new_values_pkl, perplexity=40):\n",
    "    \"Create the t-SNE model\"\n",
    "    \n",
    "    tokens = []\n",
    "    \n",
    "    for index, row in data_frame.iterrows():\n",
    "        tokens.append(row.VECTORS)\n",
    "    \n",
    "    tsne_model = TSNE(perplexity=perplexity, n_components=2, init='pca', n_iter=2500, random_state=23)\n",
    "    new_values = tsne_model.fit_transform(tokens)\n",
    "\n",
    "    # Save the model\n",
    "    with open(\"models/{}.pickle\".format(model_pkl), \"wb\") as pickle_file:\n",
    "        pkl.dump(tsne_model, pickle_file)\n",
    "        \n",
    "    # Save the new_values\n",
    "    with open(\"models/{}.pickle\".format(new_values_pkl), \"wb\") as pickle_file:\n",
    "        pkl.dump(new_values, pickle_file)\n",
    "    \n",
    "    return new_values"
   ]
  },
  {
   "cell_type": "code",
   "execution_count": null,
   "metadata": {},
   "outputs": [],
   "source": [
    "emb_2d_values = tsne_model(embedding, \n",
    "                           suicide_df, \n",
    "                           model_pkl=\"tsne_note_to_vect_pos_model\", \n",
    "                           new_values_pkl=\"tsne_note_to_vect_pos_values\")"
   ]
  },
  {
   "cell_type": "code",
   "execution_count": 44,
   "metadata": {},
   "outputs": [],
   "source": [
    "def tsne_plot(vectors, data_frame, title, filename=\"no-name-plot\", labels_show=True, save=False):\n",
    "    \"Creates the t-SNE plot\"\n",
    "    global vectors_1_clean, vectors_2_clean\n",
    "    labels = []\n",
    "    \n",
    "    outliers = [25503,49938,20382]\n",
    "    outlier_id = []\n",
    "\n",
    "    i = 0\n",
    "    for index, row in data_frame.iterrows():\n",
    "        if index not in outliers:\n",
    "            labels.append(index)\n",
    "        else:\n",
    "            outlier_id.append(i)\n",
    "        i = i + 1\n",
    "\n",
    "    vectors_1_clean = []\n",
    "#     vectors_2_clean = []\n",
    "    x = []\n",
    "    y = []\n",
    "    for i, value in enumerate(vectors):\n",
    "        if i not in outlier_id:\n",
    "            x.append(value[0])\n",
    "            y.append(value[1])\n",
    "#             vectors_2_clean.append([value[0], value[1]])\n",
    "            vectors_1_clean.append([value[0], value[1]])\n",
    "            \n",
    "    vectors_2_clean = np.array(vectors_2_clean)\n",
    "        \n",
    "    plot = pyplot.figure(figsize=(16, 16))\n",
    "    pyplot.title(title)\n",
    "    for i in range(len(x)):\n",
    "        pyplot.scatter(x[i],y[i])\n",
    "        if labels_show:\n",
    "            pyplot.annotate(labels[i],\n",
    "                 xy=(x[i], y[i]),\n",
    "                 xytext=(5, 2),\n",
    "                 textcoords='offset points',\n",
    "                 ha='right',\n",
    "                 va='bottom')\n",
    "            \n",
    "    pyplot.show()\n",
    "    # Save a .png of the plot\n",
    "    if save:\n",
    "        plot.savefig(\"output/{}\".format(filename))"
   ]
  },
  {
   "cell_type": "code",
   "execution_count": null,
   "metadata": {},
   "outputs": [],
   "source": [
    "tsne_plot(vectors=emb_2d_values, \n",
    "          data_frame=suicide_df, \n",
    "          title=\"T-SNE for Positive Class Note2Vect\", \n",
    "          labels_show=True,\n",
    "          filename=\"tsne_note_to_vect_pos_plot.png\",\n",
    "         )"
   ]
  },
  {
   "cell_type": "code",
   "execution_count": 45,
   "metadata": {},
   "outputs": [],
   "source": [
    "# randomly sample 900 points from the negative class of notes:\n",
    "negative_random_notes = not_suicide_df.sample(n=900)"
   ]
  },
  {
   "cell_type": "code",
   "execution_count": null,
   "metadata": {},
   "outputs": [],
   "source": [
    "# Create the T-SNE for the negative notes:\n",
    "emb_2d_values_neg = tsne_model(embedding, \n",
    "                               negative_random_notes,\n",
    "                               model_pkl=\"tsne_note_to_vect_neg_model\", \n",
    "                               new_values_pkl=\"tsne_note_to_vect_neg_values\")"
   ]
  },
  {
   "cell_type": "code",
   "execution_count": null,
   "metadata": {},
   "outputs": [],
   "source": [
    "tsne_plot(vectors=emb_2d_values_neg, \n",
    "          data_frame=negative_random_notes, \n",
    "          title=\"T-SNE for Negative Class Note2Vect\", \n",
    "          labels_show=True,\n",
    "          filename=\"tsne_note_to_vect_neg_no_labels_plot.png\"\n",
    "         )"
   ]
  },
  {
   "cell_type": "code",
   "execution_count": 46,
   "metadata": {},
   "outputs": [],
   "source": [
    "joint_df = pd.concat([suicide_df,negative_random_notes]) # first 916 are suicide, next 900 are not suicide"
   ]
  },
  {
   "cell_type": "code",
   "execution_count": 47,
   "metadata": {},
   "outputs": [
    {
     "name": "stdout",
     "output_type": "stream",
     "text": [
      "<class 'pandas.core.frame.DataFrame'>\n",
      "Int64Index: 1816 entries, 33 to 12499\n",
      "Data columns (total 6 columns):\n",
      "SUBJECT_ID    1816 non-null int64\n",
      "HADM_ID       1816 non-null int64\n",
      "CHARTTIME     1816 non-null object\n",
      "TEXT          1816 non-null object\n",
      "VECTORS       1816 non-null object\n",
      "SUICIDE       1816 non-null bool\n",
      "dtypes: bool(1), int64(2), object(3)\n",
      "memory usage: 86.9+ KB\n"
     ]
    }
   ],
   "source": [
    "joint_df.info()"
   ]
  },
  {
   "cell_type": "code",
   "execution_count": 48,
   "metadata": {},
   "outputs": [],
   "source": [
    "# Get the joint tsne for all the notes combined:\n",
    "joint_tsne_values = tsne_model(embedding, \n",
    "                                joint_df, \n",
    "                                model_pkl=\"tsne_note_to_vect_joint_model\", \n",
    "                                new_values_pkl=\"tsne_note_to_vect_joint_values\")"
   ]
  },
  {
   "cell_type": "code",
   "execution_count": 49,
   "metadata": {},
   "outputs": [],
   "source": [
    "# Add the XY column\n",
    "joint_df['XY'] = [[x, y] for x,y in joint_tsne_values]"
   ]
  },
  {
   "cell_type": "code",
   "execution_count": 58,
   "metadata": {},
   "outputs": [
    {
     "data": {
      "text/html": [
       "<div>\n",
       "<style scoped>\n",
       "    .dataframe tbody tr th:only-of-type {\n",
       "        vertical-align: middle;\n",
       "    }\n",
       "\n",
       "    .dataframe tbody tr th {\n",
       "        vertical-align: top;\n",
       "    }\n",
       "\n",
       "    .dataframe thead th {\n",
       "        text-align: right;\n",
       "    }\n",
       "</style>\n",
       "<table border=\"1\" class=\"dataframe\">\n",
       "  <thead>\n",
       "    <tr style=\"text-align: right;\">\n",
       "      <th></th>\n",
       "      <th>SUBJECT_ID</th>\n",
       "      <th>HADM_ID</th>\n",
       "      <th>CHARTTIME</th>\n",
       "      <th>TEXT</th>\n",
       "      <th>VECTORS</th>\n",
       "      <th>SUICIDE</th>\n",
       "      <th>XY</th>\n",
       "    </tr>\n",
       "  </thead>\n",
       "  <tbody>\n",
       "    <tr>\n",
       "      <th>33</th>\n",
       "      <td>19183</td>\n",
       "      <td>145164</td>\n",
       "      <td></td>\n",
       "      <td>admission date discharge date date of birth se...</td>\n",
       "      <td>[0.5490569, -1.0463872, 2.3742604, 3.8042455, ...</td>\n",
       "      <td>True</td>\n",
       "      <td>[0.29713508, -2.0225675]</td>\n",
       "    </tr>\n",
       "    <tr>\n",
       "      <th>65</th>\n",
       "      <td>76874</td>\n",
       "      <td>113329</td>\n",
       "      <td></td>\n",
       "      <td>admission date discharge date date of birth se...</td>\n",
       "      <td>[-0.24526086, -0.73347014, 0.998312, 1.939286,...</td>\n",
       "      <td>True</td>\n",
       "      <td>[4.0805173, -0.31190935]</td>\n",
       "    </tr>\n",
       "    <tr>\n",
       "      <th>201</th>\n",
       "      <td>42753</td>\n",
       "      <td>121343</td>\n",
       "      <td></td>\n",
       "      <td>admission date discharge date date of birth se...</td>\n",
       "      <td>[-0.37974367, -1.4513984, 0.069716275, -0.7680...</td>\n",
       "      <td>True</td>\n",
       "      <td>[-0.37074783, -0.62927455]</td>\n",
       "    </tr>\n",
       "    <tr>\n",
       "      <th>232</th>\n",
       "      <td>30565</td>\n",
       "      <td>146707</td>\n",
       "      <td></td>\n",
       "      <td>admission date discharge date date of birth se...</td>\n",
       "      <td>[0.037499756, 0.71773505, 1.3312695, -0.527831...</td>\n",
       "      <td>True</td>\n",
       "      <td>[2.4108996, -0.84657633]</td>\n",
       "    </tr>\n",
       "    <tr>\n",
       "      <th>233</th>\n",
       "      <td>30565</td>\n",
       "      <td>105393</td>\n",
       "      <td></td>\n",
       "      <td>admission date discharge date date of birth se...</td>\n",
       "      <td>[-0.072421744, -0.02542495, 1.4349209, 0.40642...</td>\n",
       "      <td>True</td>\n",
       "      <td>[1.846985, -0.18512975]</td>\n",
       "    </tr>\n",
       "  </tbody>\n",
       "</table>\n",
       "</div>"
      ],
      "text/plain": [
       "     SUBJECT_ID  HADM_ID CHARTTIME  \\\n",
       "33        19183   145164             \n",
       "65        76874   113329             \n",
       "201       42753   121343             \n",
       "232       30565   146707             \n",
       "233       30565   105393             \n",
       "\n",
       "                                                  TEXT  \\\n",
       "33   admission date discharge date date of birth se...   \n",
       "65   admission date discharge date date of birth se...   \n",
       "201  admission date discharge date date of birth se...   \n",
       "232  admission date discharge date date of birth se...   \n",
       "233  admission date discharge date date of birth se...   \n",
       "\n",
       "                                               VECTORS  SUICIDE  \\\n",
       "33   [0.5490569, -1.0463872, 2.3742604, 3.8042455, ...     True   \n",
       "65   [-0.24526086, -0.73347014, 0.998312, 1.939286,...     True   \n",
       "201  [-0.37974367, -1.4513984, 0.069716275, -0.7680...     True   \n",
       "232  [0.037499756, 0.71773505, 1.3312695, -0.527831...     True   \n",
       "233  [-0.072421744, -0.02542495, 1.4349209, 0.40642...     True   \n",
       "\n",
       "                             XY  \n",
       "33     [0.29713508, -2.0225675]  \n",
       "65     [4.0805173, -0.31190935]  \n",
       "201  [-0.37074783, -0.62927455]  \n",
       "232    [2.4108996, -0.84657633]  \n",
       "233     [1.846985, -0.18512975]  "
      ]
     },
     "execution_count": 58,
     "metadata": {},
     "output_type": "execute_result"
    }
   ],
   "source": [
    "joint_df.head()"
   ]
  },
  {
   "cell_type": "code",
   "execution_count": 84,
   "metadata": {},
   "outputs": [],
   "source": [
    "def tsne_plot_mixed(joint_df, title, filename=\"tsne_note_to_vect_plot\", save=False, show_labels=False):\n",
    "    \"Creates the t-SNE plot which has both the clases on it\"\n",
    "        \n",
    "    plot = pyplot.figure(figsize=(16, 16))\n",
    "    pyplot.title(title, fontsize=24)\n",
    "    \n",
    "    outliers = [19410,14282,26803,45509,11818,99293,14912]\n",
    "    outlier_id = []\n",
    "\n",
    "    i = 0\n",
    "    labels = []\n",
    "    data = []\n",
    "    types = []\n",
    "    for row in joint_df.values:\n",
    "        if row[0] not in outliers:\n",
    "            labels.append(row[0])\n",
    "            data.append(row[6])\n",
    "            types.append(row[5])\n",
    "        else:\n",
    "            outlier_id.append(i)\n",
    "        i = i + 1\n",
    "        \n",
    "    for index, item in enumerate(data):\n",
    "        if types[index]:\n",
    "            pyplot.scatter([item[0]], [item[1]], c='red', label='Suicide')\n",
    "        else:\n",
    "            pyplot.scatter([item[0]], [item[1]], c='blue', label='Not Suicide')\n",
    "        if show_labels:\n",
    "            pyplot.annotate(labels[index],\n",
    "                     xy=(item[0], item[1]),\n",
    "                     xytext=(5, 2),\n",
    "                     textcoords='offset points',\n",
    "                     ha='right',\n",
    "                     va='bottom')\n",
    "            \n",
    "    # Get the centroids:\n",
    "    data = np.array(data)\n",
    "    mean_1 = [data[:905,0].mean(), data[:905,1].mean()]\n",
    "    mean_2 = [data[906:,0].mean(), data[906:,1].mean()]\n",
    "    \n",
    "    pyplot.scatter([mean_1[0]], [mean_1[1]], c='maroon', s=22**2)\n",
    "    pyplot.scatter([mean_2[0]], [mean_2[1]], c='cyan', s=22**2)\n",
    "    \n",
    "#     pyplot.legend(loc=4, fontsize = 'xx-large')\n",
    "    pyplot.show()\n",
    "    # Save a .png of the plot\n",
    "    if save:\n",
    "        plot.savefig(\"output/{}.png\".format(filename))"
   ]
  },
  {
   "cell_type": "code",
   "execution_count": 85,
   "metadata": {},
   "outputs": [
    {
     "data": {
      "image/png": "[encoded data removed]",
      "text/plain": [
       "<Figure size 1152x1152 with 1 Axes>"
      ]
     },
     "metadata": {},
     "output_type": "display_data"
    }
   ],
   "source": [
    "tsne_plot_mixed(joint_df=joint_df, \n",
    "                title=\"T-SNE for Both Classes (Note2Vect)\",\n",
    "                show_labels=False,\n",
    "                save=True,\n",
    "                filename=\"tsne_note_to_vect_centroid_plot\"\n",
    "               )"
   ]
  },
  {
   "cell_type": "code",
   "execution_count": null,
   "metadata": {},
   "outputs": [],
   "source": []
  }
 ],
 "metadata": {
  "kernelspec": {
   "display_name": "Python [conda env:myenv]",
   "language": "python",
   "name": "conda-env-myenv-py"
  },
  "language_info": {
   "codemirror_mode": {
    "name": "ipython",
    "version": 3
   },
   "file_extension": ".py",
   "mimetype": "text/x-python",
   "name": "python",
   "nbconvert_exporter": "python",
   "pygments_lexer": "ipython3",
   "version": "3.6.6"
  }
 },
 "nbformat": 4,
 "nbformat_minor": 2
}
