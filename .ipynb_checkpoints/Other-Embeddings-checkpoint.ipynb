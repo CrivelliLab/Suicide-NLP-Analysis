{
 "cells": [
  {
   "cell_type": "markdown",
   "metadata": {},
   "source": [
    "## Other Embeddings\n",
    "\n",
    "It is possible to use other embeddings and then do a dimensionality reduction. \n",
    "\n",
    "Two other embeddings include:\n",
    "\n",
    "- [Google's](https://drive.google.com/file/d/0B7XkCwpI5KDYNlNUTTlSS21pQmM/edit?usp=sharing) - https://code.google.com/archive/p/word2vec/\n",
    "- [Stanford's](https://nlp.stanford.edu/projects/glove/) - https://nlp.stanford.edu/projects/glove/\n",
    "\n",
    "The goal of this Notebook is to use these two different embeddings to try and see if different results come about with PCA / T-SNE.\n",
    "\n",
    "### Load the Google embedding:"
   ]
  },
  {
   "cell_type": "code",
   "execution_count": 48,
   "metadata": {},
   "outputs": [
    {
     "data": {
      "text/html": [
       "<script>requirejs.config({paths: { 'plotly': ['https://cdn.plot.ly/plotly-latest.min']},});if(!window.Plotly) {{require(['plotly'],function(plotly) {window.Plotly=plotly;});}}</script>"
      ],
      "text/vnd.plotly.v1+html": [
       "<script>requirejs.config({paths: { 'plotly': ['https://cdn.plot.ly/plotly-latest.min']},});if(!window.Plotly) {{require(['plotly'],function(plotly) {window.Plotly=plotly;});}}</script>"
      ]
     },
     "metadata": {},
     "output_type": "display_data"
    }
   ],
   "source": [
    "from gensim.models import KeyedVectors\n",
    "from sklearn.decomposition import PCA\n",
    "from sklearn.manifold import TSNE\n",
    "import numpy as np\n",
    "import plotly as py\n",
    "import plotly.graph_objs as go\n",
    "py.offline.init_notebook_mode(connected=True)"
   ]
  },
  {
   "cell_type": "code",
   "execution_count": 5,
   "metadata": {},
   "outputs": [],
   "source": [
    "def load_google_model():\n",
    "    \"Load the google vectors from the given filename\"\n",
    "    global google_model\n",
    "    filename = 'data/google.bin'\n",
    "    google_model = KeyedVectors.load_word2vec_format(filename, binary=True)\n",
    "\n",
    "#load_google_model()"
   ]
  },
  {
   "cell_type": "code",
   "execution_count": 8,
   "metadata": {},
   "outputs": [],
   "source": [
    "# Get the model_words from the other active notebook:\n",
    "%store -r model_words"
   ]
  },
  {
   "cell_type": "markdown",
   "metadata": {},
   "source": [
    "### PCA:\n",
    "\n",
    "To start of with, the dimensionality reduction will only be done to two dimensions."
   ]
  },
  {
   "cell_type": "code",
   "execution_count": 35,
   "metadata": {},
   "outputs": [],
   "source": [
    "def create_pca():\n",
    "    safe_words = []\n",
    "    not_safe_words = []\n",
    "    \n",
    "    # Figure out which words are int the Google vocab:\n",
    "    all_words = sorted(model_words)[1:]\n",
    "    for word in all_words:\n",
    "        try:\n",
    "            vectors = google_model[word]\n",
    "            safe_words.append([word, vectors])\n",
    "        except:\n",
    "            not_safe_words.append(word)\n",
    "    \n",
    "    # Create the PCA:\n",
    "    pca = PCA(n_components=2, random_state=23)\n",
    "    result = pca.fit_transform([word[1] for word in safe_words])\n",
    "    return result, safe_words, not_safe_words\n",
    "\n",
    "pca_result, safe_words, not_safe_words = create_pca()"
   ]
  },
  {
   "cell_type": "markdown",
   "metadata": {},
   "source": [
    "The following words are not in the Google embedding:"
   ]
  },
  {
   "cell_type": "code",
   "execution_count": 34,
   "metadata": {},
   "outputs": [
    {
     "data": {
      "text/plain": [
       "['apap',\n",
       " 'ciwa',\n",
       " 'copd',\n",
       " 'dispo',\n",
       " 'dxed',\n",
       " 'etoh',\n",
       " 'gerd',\n",
       " 'haldol',\n",
       " 'hiatal',\n",
       " 'hospital1',\n",
       " 'hospital3',\n",
       " 'hospital6',\n",
       " 'ivdu',\n",
       " 'lastname',\n",
       " 'lfts',\n",
       " 'listerine',\n",
       " 'lvef',\n",
       " 'medquist36',\n",
       " 'micu',\n",
       " 'mrsa',\n",
       " 'mucomyst',\n",
       " 'name11',\n",
       " 'name2',\n",
       " 'name8',\n",
       " 'namepattern1',\n",
       " 'namepattern2',\n",
       " 'namepattern4',\n",
       " 'oopherectomy',\n",
       " 'pcwp',\n",
       " 'ptsd',\n",
       " 'risperdal',\n",
       " 'stitle',\n",
       " 'tegretol',\n",
       " 'trazadone',\n",
       " 'turp',\n",
       " 'utis',\n",
       " 'valproic']"
      ]
     },
     "execution_count": 34,
     "metadata": {},
     "output_type": "execute_result"
    }
   ],
   "source": [
    "not_safe_words"
   ]
  },
  {
   "cell_type": "markdown",
   "metadata": {},
   "source": [
    "Now that we have the embeddings for PCA, we can create an interactive 2D plot:"
   ]
  },
  {
   "cell_type": "code",
   "execution_count": 44,
   "metadata": {},
   "outputs": [
    {
     "data": {
      "application/vnd.plotly.v1+json": {
       "data": [
        {
         "mode": "markers",
         "text": "abdominal",
         "textposition": "top center",
         "type": "scatter",
         "x": [
          0.8851514888680846
         ],
         "y": [
          -1.1959316072211712
         ]
        },
        {
         "mode": "markers",
         "text": "acetaminophen",
         "textposition": "top center",
         "type": "scatter",
         "x": [
          1.766650088277753
         ],
         "y": [
          1.3696017942327647
         ]
        },
        {
         "mode": "markers",
         "text": "activated",
         "textposition": "top center",
         "type": "scatter",
         "x": [
          -0.7164692933013475
         ],
         "y": [
          -0.25084892583060386
         ]
        },
        {
         "mode": "markers",
         "text": "actively",
         "textposition": "top center",
         "type": "scatter",
         "x": [
          -0.8876867478118547
         ],
         "y": [
          -0.24769121257438537
         ]
        },
        {
         "mode": "markers",
         "text": "acute",
         "textposition": "top center",
         "type": "scatter",
         "x": [
          0.24498335416720302
         ],
         "y": [
          -0.25239121163997086
         ]
        },
        {
         "mode": "markers",
         "text": "acutely",
         "textposition": "top center",
         "type": "scatter",
         "x": [
          -0.3705177730791827
         ],
         "y": [
          -0.15036832733077926
         ]
        },
        {
         "mode": "markers",
         "text": "adhd",
         "textposition": "top center",
         "type": "scatter",
         "x": [
          0.4104477151008231
         ],
         "y": [
          0.5902070445401992
         ]
        },
        {
         "mode": "markers",
         "text": "admissions",
         "textposition": "top center",
         "type": "scatter",
         "x": [
          -0.16324976720328624
         ],
         "y": [
          0.031082845288954507
         ]
        },
        {
         "mode": "markers",
         "text": "admitted",
         "textposition": "top center",
         "type": "scatter",
         "x": [
          -0.9916070851927817
         ],
         "y": [
          -0.05527977947088284
         ]
        },
        {
         "mode": "markers",
         "text": "adrenal",
         "textposition": "top center",
         "type": "scatter",
         "x": [
          1.3406623191365965
         ],
         "y": [
          -0.022787407632517978
         ]
        },
        {
         "mode": "markers",
         "text": "adverse",
         "textposition": "top center",
         "type": "scatter",
         "x": [
          0.12355416763296788
         ],
         "y": [
          -0.05620529821034215
         ]
        },
        {
         "mode": "markers",
         "text": "agitation",
         "textposition": "top center",
         "type": "scatter",
         "x": [
          -0.10523534765644336
         ],
         "y": [
          0.34967346612536043
         ]
        },
        {
         "mode": "markers",
         "text": "agreed",
         "textposition": "top center",
         "type": "scatter",
         "x": [
          -1.1471765258763658
         ],
         "y": [
          -0.38555864147938923
         ]
        },
        {
         "mode": "markers",
         "text": "airway",
         "textposition": "top center",
         "type": "scatter",
         "x": [
          1.5485043395830644
         ],
         "y": [
          -0.7567900893638836
         ]
        },
        {
         "mode": "markers",
         "text": "alcoholic",
         "textposition": "top center",
         "type": "scatter",
         "x": [
          -0.02643668800528831
         ],
         "y": [
          0.7886685283151499
         ]
        },
        {
         "mode": "markers",
         "text": "alcoholism",
         "textposition": "top center",
         "type": "scatter",
         "x": [
          0.22176505151407605
         ],
         "y": [
          0.666157255177724
         ]
        },
        {
         "mode": "markers",
         "text": "alert",
         "textposition": "top center",
         "type": "scatter",
         "x": [
          -0.740985749635582
         ],
         "y": [
          0.03304859321669735
         ]
        },
        {
         "mode": "markers",
         "text": "allergies",
         "textposition": "top center",
         "type": "scatter",
         "x": [
          0.9435499648957253
         ],
         "y": [
          0.31108949940143626
         ]
        },
        {
         "mode": "markers",
         "text": "allergy",
         "textposition": "top center",
         "type": "scatter",
         "x": [
          0.8928885510136466
         ],
         "y": [
          0.4428044642594427
         ]
        },
        {
         "mode": "markers",
         "text": "altered",
         "textposition": "top center",
         "type": "scatter",
         "x": [
          -0.8633852932932348
         ],
         "y": [
          -0.1878081718137665
         ]
        },
        {
         "mode": "markers",
         "text": "ambien",
         "textposition": "top center",
         "type": "scatter",
         "x": [
          0.27227034345853857
         ],
         "y": [
          2.0731903178576276
         ]
        },
        {
         "mode": "markers",
         "text": "ambulating",
         "textposition": "top center",
         "type": "scatter",
         "x": [
          -0.1708139768718544
         ],
         "y": [
          -0.29784271676821966
         ]
        },
        {
         "mode": "markers",
         "text": "anemia",
         "textposition": "top center",
         "type": "scatter",
         "x": [
          1.3039903851168606
         ],
         "y": [
          -0.050338348495582066
         ]
        },
        {
         "mode": "markers",
         "text": "apnea",
         "textposition": "top center",
         "type": "scatter",
         "x": [
          2.0105112397982925
         ],
         "y": [
          -0.2597160333706024
         ]
        },
        {
         "mode": "markers",
         "text": "appears",
         "textposition": "top center",
         "type": "scatter",
         "x": [
          -1.0188299924084816
         ],
         "y": [
          -0.1509392763815282
         ]
        },
        {
         "mode": "markers",
         "text": "appendectomy",
         "textposition": "top center",
         "type": "scatter",
         "x": [
          0.4865804983049902
         ],
         "y": [
          -0.9618489937222422
         ]
        },
        {
         "mode": "markers",
         "text": "appetite",
         "textposition": "top center",
         "type": "scatter",
         "x": [
          -0.2612357095344545
         ],
         "y": [
          0.09875881129636488
         ]
        },
        {
         "mode": "markers",
         "text": "approx",
         "textposition": "top center",
         "type": "scatter",
         "x": [
          -0.5853449131599662
         ],
         "y": [
          0.02273741055746033
         ]
        },
        {
         "mode": "markers",
         "text": "artery",
         "textposition": "top center",
         "type": "scatter",
         "x": [
          1.1004253801903092
         ],
         "y": [
          -1.0411856488639284
         ]
        },
        {
         "mode": "markers",
         "text": "aspiration",
         "textposition": "top center",
         "type": "scatter",
         "x": [
          -0.3480648222384941
         ],
         "y": [
          -0.21323425713032074
         ]
        },
        {
         "mode": "markers",
         "text": "aspirin",
         "textposition": "top center",
         "type": "scatter",
         "x": [
          1.4298874636233125
         ],
         "y": [
          1.0374311200005224
         ]
        },
        {
         "mode": "markers",
         "text": "asthma",
         "textposition": "top center",
         "type": "scatter",
         "x": [
          1.0829352662533178
         ],
         "y": [
          0.11163594905114117
         ]
        },
        {
         "mode": "markers",
         "text": "ativan",
         "textposition": "top center",
         "type": "scatter",
         "x": [
          0.2416488430203075
         ],
         "y": [
          1.7331912401561593
         ]
        },
        {
         "mode": "markers",
         "text": "atrial",
         "textposition": "top center",
         "type": "scatter",
         "x": [
          2.055262264374121
         ],
         "y": [
          -1.2515499655570002
         ]
        },
        {
         "mode": "markers",
         "text": "attempted",
         "textposition": "top center",
         "type": "scatter",
         "x": [
          -1.0792817766490719
         ],
         "y": [
          -0.11249734725212246
         ]
        },
        {
         "mode": "markers",
         "text": "attempts",
         "textposition": "top center",
         "type": "scatter",
         "x": [
          -0.9025978158456425
         ],
         "y": [
          -0.05861726794231841
         ]
        },
        {
         "mode": "markers",
         "text": "attending",
         "textposition": "top center",
         "type": "scatter",
         "x": [
          -0.8864981199603944
         ],
         "y": [
          -0.2662025285731498
         ]
        },
        {
         "mode": "markers",
         "text": "awake",
         "textposition": "top center",
         "type": "scatter",
         "x": [
          -0.2463904031979183
         ],
         "y": [
          0.3774888851401513
         ]
        },
        {
         "mode": "markers",
         "text": "axis",
         "textposition": "top center",
         "type": "scatter",
         "x": [
          -0.3020886622956207
         ],
         "y": [
          -0.4334475871860263
         ]
        },
        {
         "mode": "markers",
         "text": "barbiturates",
         "textposition": "top center",
         "type": "scatter",
         "x": [
          0.6440675547584281
         ],
         "y": [
          1.8011911818068365
         ]
        },
        {
         "mode": "markers",
         "text": "baseline",
         "textposition": "top center",
         "type": "scatter",
         "x": [
          -0.07998122668503298
         ],
         "y": [
          -0.351693261150349
         ]
        },
        {
         "mode": "markers",
         "text": "been",
         "textposition": "top center",
         "type": "scatter",
         "x": [
          -1.0668731537880742
         ],
         "y": [
          -0.24779405207108265
         ]
        },
        {
         "mode": "markers",
         "text": "began",
         "textposition": "top center",
         "type": "scatter",
         "x": [
          -1.200151083223108
         ],
         "y": [
          -0.16004415562988952
         ]
        },
        {
         "mode": "markers",
         "text": "believed",
         "textposition": "top center",
         "type": "scatter",
         "x": [
          -1.0362678675488508
         ],
         "y": [
          -0.2062604228073262
         ]
        },
        {
         "mode": "markers",
         "text": "benadryl",
         "textposition": "top center",
         "type": "scatter",
         "x": [
          0.19682819665203977
         ],
         "y": [
          0.8298011074759667
         ]
        },
        {
         "mode": "markers",
         "text": "benzo",
         "textposition": "top center",
         "type": "scatter",
         "x": [
          0.45479394008642704
         ],
         "y": [
          0.9691696856727597
         ]
        },
        {
         "mode": "markers",
         "text": "benzodiazepine",
         "textposition": "top center",
         "type": "scatter",
         "x": [
          1.4679802964503321
         ],
         "y": [
          1.7577690402746653
         ]
        },
        {
         "mode": "markers",
         "text": "benzodiazepines",
         "textposition": "top center",
         "type": "scatter",
         "x": [
          1.5482007959270352
         ],
         "y": [
          1.7484883402958897
         ]
        },
        {
         "mode": "markers",
         "text": "benzos",
         "textposition": "top center",
         "type": "scatter",
         "x": [
          0.1784763679434348
         ],
         "y": [
          0.9520681013098791
         ]
        },
        {
         "mode": "markers",
         "text": "biopsy",
         "textposition": "top center",
         "type": "scatter",
         "x": [
          1.297155264321631
         ],
         "y": [
          -1.1552901506337725
         ]
        },
        {
         "mode": "markers",
         "text": "bipolar",
         "textposition": "top center",
         "type": "scatter",
         "x": [
          0.317577940915009
         ],
         "y": [
          0.47325773478808936
         ]
        },
        {
         "mode": "markers",
         "text": "bleeding",
         "textposition": "top center",
         "type": "scatter",
         "x": [
          0.4146702380829309
         ],
         "y": [
          -0.3009902541568029
         ]
        },
        {
         "mode": "markers",
         "text": "borderline",
         "textposition": "top center",
         "type": "scatter",
         "x": [
          -0.43719623308384786
         ],
         "y": [
          -0.16847209723985257
         ]
        },
        {
         "mode": "markers",
         "text": "bottles",
         "textposition": "top center",
         "type": "scatter",
         "x": [
          -0.5088925454475277
         ],
         "y": [
          0.8301650387427355
         ]
        },
        {
         "mode": "markers",
         "text": "bowel",
         "textposition": "top center",
         "type": "scatter",
         "x": [
          1.501046652646325
         ],
         "y": [
          -0.6642115056446417
         ]
        },
        {
         "mode": "markers",
         "text": "breathing",
         "textposition": "top center",
         "type": "scatter",
         "x": [
          0.09552380443723367
         ],
         "y": [
          -0.16460701893679883
         ]
        },
        {
         "mode": "markers",
         "text": "brought",
         "textposition": "top center",
         "type": "scatter",
         "x": [
          -1.1498082700676722
         ],
         "y": [
          -0.281574192599332
         ]
        },
        {
         "mode": "markers",
         "text": "bypass",
         "textposition": "top center",
         "type": "scatter",
         "x": [
          -0.4559660555504302
         ],
         "y": [
          -0.665649461174959
         ]
        },
        {
         "mode": "markers",
         "text": "calf",
         "textposition": "top center",
         "type": "scatter",
         "x": [
          -0.002833427527670892
         ],
         "y": [
          -0.5996819029852444
         ]
        },
        {
         "mode": "markers",
         "text": "called",
         "textposition": "top center",
         "type": "scatter",
         "x": [
          -0.9633302917097374
         ],
         "y": [
          -0.10844209887261204
         ]
        },
        {
         "mode": "markers",
         "text": "came",
         "textposition": "top center",
         "type": "scatter",
         "x": [
          -1.1410412436171915
         ],
         "y": [
          -0.2623355058129464
         ]
        },
        {
         "mode": "markers",
         "text": "cardiac",
         "textposition": "top center",
         "type": "scatter",
         "x": [
          1.320365525656791
         ],
         "y": [
          -1.0627007456730455
         ]
        },
        {
         "mode": "markers",
         "text": "cardiology",
         "textposition": "top center",
         "type": "scatter",
         "x": [
          0.5583513396620293
         ],
         "y": [
          -0.9136486393627931
         ]
        },
        {
         "mode": "markers",
         "text": "cardiothoracic",
         "textposition": "top center",
         "type": "scatter",
         "x": [
          0.4109090914005849
         ],
         "y": [
          -1.056672266449303
         ]
        },
        {
         "mode": "markers",
         "text": "cardiovascular",
         "textposition": "top center",
         "type": "scatter",
         "x": [
          1.4652353554977342
         ],
         "y": [
          -0.6137171604261803
         ]
        },
        {
         "mode": "markers",
         "text": "cath",
         "textposition": "top center",
         "type": "scatter",
         "x": [
          0.3704089415364539
         ],
         "y": [
          -0.2454995022857603
         ]
        },
        {
         "mode": "markers",
         "text": "cervical",
         "textposition": "top center",
         "type": "scatter",
         "x": [
          0.9788681347994227
         ],
         "y": [
          -1.1555037007365008
         ]
        },
        {
         "mode": "markers",
         "text": "changes",
         "textposition": "top center",
         "type": "scatter",
         "x": [
          -0.852017571809567
         ],
         "y": [
          -0.22191505254002605
         ]
        },
        {
         "mode": "markers",
         "text": "charcoal",
         "textposition": "top center",
         "type": "scatter",
         "x": [
          -0.4761896756259201
         ],
         "y": [
          0.32390303672723125
         ]
        },
        {
         "mode": "markers",
         "text": "children",
         "textposition": "top center",
         "type": "scatter",
         "x": [
          -0.5206361486868856
         ],
         "y": [
          0.04061909076590124
         ]
        },
        {
         "mode": "markers",
         "text": "cholecystectomy",
         "textposition": "top center",
         "type": "scatter",
         "x": [
          1.3403530960974446
         ],
         "y": [
          -1.0476773526217191
         ]
        },
        {
         "mode": "markers",
         "text": "chronic",
         "textposition": "top center",
         "type": "scatter",
         "x": [
          0.33896209097745283
         ],
         "y": [
          -0.15620161616741582
         ]
        },
        {
         "mode": "markers",
         "text": "cirrhosis",
         "textposition": "top center",
         "type": "scatter",
         "x": [
          1.29038852218439
         ],
         "y": [
          -0.3706442159945486
         ]
        },
        {
         "mode": "markers",
         "text": "cleared",
         "textposition": "top center",
         "type": "scatter",
         "x": [
          -1.113971834774736
         ],
         "y": [
          -0.45785927989239067
         ]
        },
        {
         "mode": "markers",
         "text": "clonazepam",
         "textposition": "top center",
         "type": "scatter",
         "x": [
          0.975710871446101
         ],
         "y": [
          1.7541355837253165
         ]
        },
        {
         "mode": "markers",
         "text": "cocaine",
         "textposition": "top center",
         "type": "scatter",
         "x": [
          -0.15488869847306086
         ],
         "y": [
          1.4710420973934024
         ]
        },
        {
         "mode": "markers",
         "text": "codeine",
         "textposition": "top center",
         "type": "scatter",
         "x": [
          0.5637461219168834
         ],
         "y": [
          2.0222526046543545
         ]
        },
        {
         "mode": "markers",
         "text": "coherent",
         "textposition": "top center",
         "type": "scatter",
         "x": [
          -0.6401608342206672
         ],
         "y": [
          0.1343406438200418
         ]
        },
        {
         "mode": "markers",
         "text": "colectomy",
         "textposition": "top center",
         "type": "scatter",
         "x": [
          1.460343199426421
         ],
         "y": [
          -0.8588900555149027
         ]
        },
        {
         "mode": "markers",
         "text": "colon",
         "textposition": "top center",
         "type": "scatter",
         "x": [
          1.0367003875605654
         ],
         "y": [
          -0.6594163368885403
         ]
        },
        {
         "mode": "markers",
         "text": "colonic",
         "textposition": "top center",
         "type": "scatter",
         "x": [
          1.1025694019403507
         ],
         "y": [
          -0.20371874858447575
         ]
        },
        {
         "mode": "markers",
         "text": "compartment",
         "textposition": "top center",
         "type": "scatter",
         "x": [
          -0.1738827777306395
         ],
         "y": [
          -0.3517257740638173
         ]
        },
        {
         "mode": "markers",
         "text": "complications",
         "textposition": "top center",
         "type": "scatter",
         "x": [
          0.4228055810633027
         ],
         "y": [
          -0.701572874231554
         ]
        },
        {
         "mode": "markers",
         "text": "concerning",
         "textposition": "top center",
         "type": "scatter",
         "x": [
          -0.9827296080861183
         ],
         "y": [
          -0.26002082880970845
         ]
        },
        {
         "mode": "markers",
         "text": "confirmed",
         "textposition": "top center",
         "type": "scatter",
         "x": [
          -1.1308689265480882
         ],
         "y": [
          -0.40627287268768747
         ]
        },
        {
         "mode": "markers",
         "text": "consult",
         "textposition": "top center",
         "type": "scatter",
         "x": [
          -0.7188106170483917
         ],
         "y": [
          -0.0774640441029254
         ]
        },
        {
         "mode": "markers",
         "text": "consulted",
         "textposition": "top center",
         "type": "scatter",
         "x": [
          -0.9911211812583133
         ],
         "y": [
          -0.28091880676217446
         ]
        },
        {
         "mode": "markers",
         "text": "continuing",
         "textposition": "top center",
         "type": "scatter",
         "x": [
          -0.9716483245986116
         ],
         "y": [
          -0.23720292796620446
         ]
        },
        {
         "mode": "markers",
         "text": "contributory",
         "textposition": "top center",
         "type": "scatter",
         "x": [
          -0.31223659679049376
         ],
         "y": [
          0.16964673061642752
         ]
        },
        {
         "mode": "markers",
         "text": "controlled",
         "textposition": "top center",
         "type": "scatter",
         "x": [
          -0.9241401580298888
         ],
         "y": [
          -0.05496915250994073
         ]
        },
        {
         "mode": "markers",
         "text": "cord",
         "textposition": "top center",
         "type": "scatter",
         "x": [
          -0.2624727403335194
         ],
         "y": [
          -0.3637564440307721
         ]
        },
        {
         "mode": "markers",
         "text": "coronary",
         "textposition": "top center",
         "type": "scatter",
         "x": [
          1.4791351010182505
         ],
         "y": [
          -1.1727911814201257
         ]
        },
        {
         "mode": "markers",
         "text": "cough",
         "textposition": "top center",
         "type": "scatter",
         "x": [
          0.03224885836408856
         ],
         "y": [
          0.4446854616499868
         ]
        },
        {
         "mode": "markers",
         "text": "coumadin",
         "textposition": "top center",
         "type": "scatter",
         "x": [
          0.43722769573917153
         ],
         "y": [
          0.34608978750367964
         ]
        },
        {
         "mode": "markers",
         "text": "counseling",
         "textposition": "top center",
         "type": "scatter",
         "x": [
          -0.5445711459937489
         ],
         "y": [
          0.380425565637972
         ]
        },
        {
         "mode": "markers",
         "text": "creatinine",
         "textposition": "top center",
         "type": "scatter",
         "x": [
          1.6305073160133863
         ],
         "y": [
          -0.32357912266368466
         ]
        },
        {
         "mode": "markers",
         "text": "cutting",
         "textposition": "top center",
         "type": "scatter",
         "x": [
          -0.929133204664065
         ],
         "y": [
          -0.36399815829137794
         ]
        },
        {
         "mode": "markers",
         "text": "cyst",
         "textposition": "top center",
         "type": "scatter",
         "x": [
          1.2766333900904858
         ],
         "y": [
          -1.0014011817169128
         ]
        },
        {
         "mode": "markers",
         "text": "days",
         "textposition": "top center",
         "type": "scatter",
         "x": [
          -0.958774114179539
         ],
         "y": [
          -0.06149063718738519
         ]
        },
        {
         "mode": "markers",
         "text": "deceased",
         "textposition": "top center",
         "type": "scatter",
         "x": [
          -0.6227935136417614
         ],
         "y": [
          -0.05424232431826446
         ]
        },
        {
         "mode": "markers",
         "text": "decided",
         "textposition": "top center",
         "type": "scatter",
         "x": [
          -1.1597919378270756
         ],
         "y": [
          -0.27495558356269845
         ]
        },
        {
         "mode": "markers",
         "text": "decreased",
         "textposition": "top center",
         "type": "scatter",
         "x": [
          -0.39066618289207017
         ],
         "y": [
          -0.2260060557956579
         ]
        },
        {
         "mode": "markers",
         "text": "deemed",
         "textposition": "top center",
         "type": "scatter",
         "x": [
          -0.9574133999211819
         ],
         "y": [
          -0.3619529825341479
         ]
        },
        {
         "mode": "markers",
         "text": "defect",
         "textposition": "top center",
         "type": "scatter",
         "x": [
          -0.028083808118963195
         ],
         "y": [
          -0.8631069562603508
         ]
        },
        {
         "mode": "markers",
         "text": "deficiency",
         "textposition": "top center",
         "type": "scatter",
         "x": [
          0.09318580841180592
         ],
         "y": [
          -0.39767180284817427
         ]
        },
        {
         "mode": "markers",
         "text": "denied",
         "textposition": "top center",
         "type": "scatter",
         "x": [
          -1.2552885436707573
         ],
         "y": [
          -0.37897513791447884
         ]
        },
        {
         "mode": "markers",
         "text": "denies",
         "textposition": "top center",
         "type": "scatter",
         "x": [
          -1.3658623987527703
         ],
         "y": [
          -0.1628870932257066
         ]
        },
        {
         "mode": "markers",
         "text": "depakote",
         "textposition": "top center",
         "type": "scatter",
         "x": [
          -0.20573515858702393
         ],
         "y": [
          0.46786704444105853
         ]
        },
        {
         "mode": "markers",
         "text": "dependence",
         "textposition": "top center",
         "type": "scatter",
         "x": [
          -0.454002622700627
         ],
         "y": [
          0.36969281091798506
         ]
        },
        {
         "mode": "markers",
         "text": "depressed",
         "textposition": "top center",
         "type": "scatter",
         "x": [
          -0.35086266636688634
         ],
         "y": [
          0.3114217454449972
         ]
        },
        {
         "mode": "markers",
         "text": "details",
         "textposition": "top center",
         "type": "scatter",
         "x": [
          -1.018820782253719
         ],
         "y": [
          -0.14356584894707403
         ]
        },
        {
         "mode": "markers",
         "text": "determined",
         "textposition": "top center",
         "type": "scatter",
         "x": [
          -1.042718715841192
         ],
         "y": [
          -0.2285429510345333
         ]
        },
        {
         "mode": "markers",
         "text": "detox",
         "textposition": "top center",
         "type": "scatter",
         "x": [
          0.10288287073365143
         ],
         "y": [
          0.9819247439733035
         ]
        },
        {
         "mode": "markers",
         "text": "diabetes",
         "textposition": "top center",
         "type": "scatter",
         "x": [
          1.1601265925004793
         ],
         "y": [
          -0.23949834817039567
         ]
        },
        {
         "mode": "markers",
         "text": "diagnosed",
         "textposition": "top center",
         "type": "scatter",
         "x": [
          0.4082496321747566
         ],
         "y": [
          -0.7061503489512444
         ]
        },
        {
         "mode": "markers",
         "text": "diagnoses",
         "textposition": "top center",
         "type": "scatter",
         "x": [
          0.4785966700775189
         ],
         "y": [
          -0.2002913425105521
         ]
        },
        {
         "mode": "markers",
         "text": "diagnosis",
         "textposition": "top center",
         "type": "scatter",
         "x": [
          0.6199482314359984
         ],
         "y": [
          -0.6477929847681647
         ]
        },
        {
         "mode": "markers",
         "text": "diastolic",
         "textposition": "top center",
         "type": "scatter",
         "x": [
          1.831667403906695
         ],
         "y": [
          -0.790504333983848
         ]
        },
        {
         "mode": "markers",
         "text": "diazepam",
         "textposition": "top center",
         "type": "scatter",
         "x": [
          0.691640965561291
         ],
         "y": [
          1.9246857462225209
         ]
        },
        {
         "mode": "markers",
         "text": "died",
         "textposition": "top center",
         "type": "scatter",
         "x": [
          -0.5849537329460911
         ],
         "y": [
          -0.22707962886894914
         ]
        },
        {
         "mode": "markers",
         "text": "dilated",
         "textposition": "top center",
         "type": "scatter",
         "x": [
          0.9309185897237146
         ],
         "y": [
          -0.7006679906664206
         ]
        },
        {
         "mode": "markers",
         "text": "discharged",
         "textposition": "top center",
         "type": "scatter",
         "x": [
          -0.5190379027588357
         ],
         "y": [
          -0.17808084927975956
         ]
        },
        {
         "mode": "markers",
         "text": "discontinued",
         "textposition": "top center",
         "type": "scatter",
         "x": [
          -0.5297734246777045
         ],
         "y": [
          -0.03686437669646655
         ]
        },
        {
         "mode": "markers",
         "text": "discussed",
         "textposition": "top center",
         "type": "scatter",
         "x": [
          -1.0584980069656953
         ],
         "y": [
          -0.3429076166664147
         ]
        },
        {
         "mode": "markers",
         "text": "disposition",
         "textposition": "top center",
         "type": "scatter",
         "x": [
          -0.5643107299700847
         ],
         "y": [
          -0.05663397194211777
         ]
        },
        {
         "mode": "markers",
         "text": "distal",
         "textposition": "top center",
         "type": "scatter",
         "x": [
          1.2002118805909394
         ],
         "y": [
          -1.5925750028546153
         ]
        },
        {
         "mode": "markers",
         "text": "divorced",
         "textposition": "top center",
         "type": "scatter",
         "x": [
          -0.7322067991230361
         ],
         "y": [
          0.08856698003713107
         ]
        },
        {
         "mode": "markers",
         "text": "does",
         "textposition": "top center",
         "type": "scatter",
         "x": [
          -1.0297242204170427
         ],
         "y": [
          -0.07556577129324102
         ]
        },
        {
         "mode": "markers",
         "text": "done",
         "textposition": "top center",
         "type": "scatter",
         "x": [
          -1.0599531429377476
         ],
         "y": [
          -0.32153530937189007
         ]
        },
        {
         "mode": "markers",
         "text": "dose",
         "textposition": "top center",
         "type": "scatter",
         "x": [
          0.6053900222149748
         ],
         "y": [
          0.7032719445452534
         ]
        },
        {
         "mode": "markers",
         "text": "drinking",
         "textposition": "top center",
         "type": "scatter",
         "x": [
          -0.2712718262013195
         ],
         "y": [
          0.7966947283393951
         ]
        },
        {
         "mode": "markers",
         "text": "drinks",
         "textposition": "top center",
         "type": "scatter",
         "x": [
          -0.34309268820927863
         ],
         "y": [
          0.8593290058433073
         ]
        },
        {
         "mode": "markers",
         "text": "drip",
         "textposition": "top center",
         "type": "scatter",
         "x": [
          -0.11694197098038925
         ],
         "y": [
          0.2513026687829725
         ]
        },
        {
         "mode": "markers",
         "text": "drugs",
         "textposition": "top center",
         "type": "scatter",
         "x": [
          0.15161956494496737
         ],
         "y": [
          1.4241519995410632
         ]
        },
        {
         "mode": "markers",
         "text": "dyslipidemia",
         "textposition": "top center",
         "type": "scatter",
         "x": [
          1.7799496769733794
         ],
         "y": [
          -0.22480985890576813
         ]
        },
        {
         "mode": "markers",
         "text": "eating",
         "textposition": "top center",
         "type": "scatter",
         "x": [
          -0.37617164756899407
         ],
         "y": [
          0.20071055690231232
         ]
        },
        {
         "mode": "markers",
         "text": "echo",
         "textposition": "top center",
         "type": "scatter",
         "x": [
          -0.7661127596767505
         ],
         "y": [
          -0.22097670987229928
         ]
        },
        {
         "mode": "markers",
         "text": "echocardiogram",
         "textposition": "top center",
         "type": "scatter",
         "x": [
          1.2060457081386333
         ],
         "y": [
          -0.9788924896588901
         ]
        },
        {
         "mode": "markers",
         "text": "edema",
         "textposition": "top center",
         "type": "scatter",
         "x": [
          1.951206915281983
         ],
         "y": [
          -0.7001499824624813
         ]
        },
        {
         "mode": "markers",
         "text": "effects",
         "textposition": "top center",
         "type": "scatter",
         "x": [
          -0.20509378029902794
         ],
         "y": [
          0.42627989554386747
         ]
        },
        {
         "mode": "markers",
         "text": "effexor",
         "textposition": "top center",
         "type": "scatter",
         "x": [
          0.4750571714986994
         ],
         "y": [
          1.7765947657235737
         ]
        },
        {
         "mode": "markers",
         "text": "elevated",
         "textposition": "top center",
         "type": "scatter",
         "x": [
          -0.44608102640124253
         ],
         "y": [
          -0.4448331150955091
         ]
        },
        {
         "mode": "markers",
         "text": "encephalopathy",
         "textposition": "top center",
         "type": "scatter",
         "x": [
          1.3582521824111702
         ],
         "y": [
          -0.2455171864823575
         ]
        },
        {
         "mode": "markers",
         "text": "endometriosis",
         "textposition": "top center",
         "type": "scatter",
         "x": [
          1.6650982098482707
         ],
         "y": [
          -0.46595716430441914
         ]
        },
        {
         "mode": "markers",
         "text": "endorsed",
         "textposition": "top center",
         "type": "scatter",
         "x": [
          -1.0649854034266155
         ],
         "y": [
          -0.3403341863170133
         ]
        },
        {
         "mode": "markers",
         "text": "epilepsy",
         "textposition": "top center",
         "type": "scatter",
         "x": [
          1.036458949205999
         ],
         "y": [
          0.17698691336265246
         ]
        },
        {
         "mode": "markers",
         "text": "erythromycin",
         "textposition": "top center",
         "type": "scatter",
         "x": [
          1.9070906296549104
         ],
         "y": [
          1.0576161249009504
         ]
        },
        {
         "mode": "markers",
         "text": "esophageal",
         "textposition": "top center",
         "type": "scatter",
         "x": [
          1.5580231242290288
         ],
         "y": [
          -0.9995591375650925
         ]
        },
        {
         "mode": "markers",
         "text": "esophagitis",
         "textposition": "top center",
         "type": "scatter",
         "x": [
          1.1428379674217477
         ],
         "y": [
          -0.22356662151784548
         ]
        },
        {
         "mode": "markers",
         "text": "esophagus",
         "textposition": "top center",
         "type": "scatter",
         "x": [
          1.5033109605117065
         ],
         "y": [
          -1.1251216292700574
         ]
        },
        {
         "mode": "markers",
         "text": "estimated",
         "textposition": "top center",
         "type": "scatter",
         "x": [
          -0.8489075979585915
         ],
         "y": [
          -0.26655591542607204
         ]
        },
        {
         "mode": "markers",
         "text": "ethanol",
         "textposition": "top center",
         "type": "scatter",
         "x": [
          -0.3525640738996161
         ],
         "y": [
          0.5855362449196954
         ]
        },
        {
         "mode": "markers",
         "text": "ethylene",
         "textposition": "top center",
         "type": "scatter",
         "x": [
          0.3026681119177526
         ],
         "y": [
          0.24037524726338888
         ]
        },
        {
         "mode": "markers",
         "text": "etiology",
         "textposition": "top center",
         "type": "scatter",
         "x": [
          1.282781302249595
         ],
         "y": [
          -0.6768572046239071
         ]
        },
        {
         "mode": "markers",
         "text": "eval",
         "textposition": "top center",
         "type": "scatter",
         "x": [
          -0.2612270277650212
         ],
         "y": [
          0.34020721044326674
         ]
        },
        {
         "mode": "markers",
         "text": "evaluated",
         "textposition": "top center",
         "type": "scatter",
         "x": [
          -0.5146089801962779
         ],
         "y": [
          -0.4858652739338318
         ]
        },
        {
         "mode": "markers",
         "text": "exam",
         "textposition": "top center",
         "type": "scatter",
         "x": [
          -0.09547030216342836
         ],
         "y": [
          -0.14863067887922554
         ]
        },
        {
         "mode": "markers",
         "text": "expired",
         "textposition": "top center",
         "type": "scatter",
         "x": [
          -1.0631202374577586
         ],
         "y": [
          0.11513929216105619
         ]
        },
        {
         "mode": "markers",
         "text": "expressed",
         "textposition": "top center",
         "type": "scatter",
         "x": [
          -1.1118066590411597
         ],
         "y": [
          -0.35640863321804567
         ]
        },
        {
         "mode": "markers",
         "text": "extended",
         "textposition": "top center",
         "type": "scatter",
         "x": [
          -1.0487086356517423
         ],
         "y": [
          -0.21877998235651036
         ]
        },
        {
         "mode": "markers",
         "text": "extubated",
         "textposition": "top center",
         "type": "scatter",
         "x": [
          0.16724041845986393
         ],
         "y": [
          -0.25237717563853596
         ]
        },
        {
         "mode": "markers",
         "text": "facial",
         "textposition": "top center",
         "type": "scatter",
         "x": [
          0.13364543390627615
         ],
         "y": [
          -0.5968920402643605
         ]
        },
        {
         "mode": "markers",
         "text": "feeds",
         "textposition": "top center",
         "type": "scatter",
         "x": [
          -0.7614551990353056
         ],
         "y": [
          0.05589453743762914
         ]
        },
        {
         "mode": "markers",
         "text": "feels",
         "textposition": "top center",
         "type": "scatter",
         "x": [
          -0.9033023027011897
         ],
         "y": [
          -0.23735560562932004
         ]
        },
        {
         "mode": "markers",
         "text": "felt",
         "textposition": "top center",
         "type": "scatter",
         "x": [
          -0.8945988609743419
         ],
         "y": [
          -0.19839113130411024
         ]
        },
        {
         "mode": "markers",
         "text": "fever",
         "textposition": "top center",
         "type": "scatter",
         "x": [
          0.13768413902042073
         ],
         "y": [
          0.09530890272928177
         ]
        },
        {
         "mode": "markers",
         "text": "fevers",
         "textposition": "top center",
         "type": "scatter",
         "x": [
          0.9250930867286814
         ],
         "y": [
          0.2754901106865115
         ]
        },
        {
         "mode": "markers",
         "text": "fibrillation",
         "textposition": "top center",
         "type": "scatter",
         "x": [
          1.420375437130309
         ],
         "y": [
          -0.6584646329719613
         ]
        },
        {
         "mode": "markers",
         "text": "filter",
         "textposition": "top center",
         "type": "scatter",
         "x": [
          -0.4688890033121845
         ],
         "y": [
          -0.024958478539358814
         ]
        },
        {
         "mode": "markers",
         "text": "findings",
         "textposition": "top center",
         "type": "scatter",
         "x": [
          -0.46853744454677876
         ],
         "y": [
          -0.3025579999598421
         ]
        },
        {
         "mode": "markers",
         "text": "flexeril",
         "textposition": "top center",
         "type": "scatter",
         "x": [
          -0.1952457144607455
         ],
         "y": [
          0.7235765867924193
         ]
        },
        {
         "mode": "markers",
         "text": "fluid",
         "textposition": "top center",
         "type": "scatter",
         "x": [
          0.06718732566059508
         ],
         "y": [
          -0.2814697820717184
         ]
        },
        {
         "mode": "markers",
         "text": "fluids",
         "textposition": "top center",
         "type": "scatter",
         "x": [
          0.5466208867048422
         ],
         "y": [
          0.11652225966620083
         ]
        },
        {
         "mode": "markers",
         "text": "folate",
         "textposition": "top center",
         "type": "scatter",
         "x": [
          1.5855200678916033
         ],
         "y": [
          0.5512733284492147
         ]
        },
        {
         "mode": "markers",
         "text": "followed",
         "textposition": "top center",
         "type": "scatter",
         "x": [
          -0.9109423287222257
         ],
         "y": [
          -0.3016556339868933
         ]
        },
        {
         "mode": "markers",
         "text": "followup",
         "textposition": "top center",
         "type": "scatter",
         "x": [
          -0.3353382770275314
         ],
         "y": [
          -0.32472777886179555
         ]
        },
        {
         "mode": "markers",
         "text": "fracture",
         "textposition": "top center",
         "type": "scatter",
         "x": [
          0.689622628600154
         ],
         "y": [
          -0.9382310567380894
         ]
        },
        {
         "mode": "markers",
         "text": "friends",
         "textposition": "top center",
         "type": "scatter",
         "x": [
          -0.8817017571074977
         ],
         "y": [
          0.16684193990409546
         ]
        },
        {
         "mode": "markers",
         "text": "further",
         "textposition": "top center",
         "type": "scatter",
         "x": [
          -0.7327664315905423
         ],
         "y": [
          -0.36808889207858997
         ]
        },
        {
         "mode": "markers",
         "text": "gastric",
         "textposition": "top center",
         "type": "scatter",
         "x": [
          1.2329783340971714
         ],
         "y": [
          -0.5609671224457179
         ]
        },
        {
         "mode": "markers",
         "text": "gastritis",
         "textposition": "top center",
         "type": "scatter",
         "x": [
          1.156013945053563
         ],
         "y": [
          -0.17814355983663346
         ]
        },
        {
         "mode": "markers",
         "text": "gastrointestinal",
         "textposition": "top center",
         "type": "scatter",
         "x": [
          1.3543638309578412
         ],
         "y": [
          -0.30767822527583627
         ]
        },
        {
         "mode": "markers",
         "text": "glycol",
         "textposition": "top center",
         "type": "scatter",
         "x": [
          0.2415164992435333
         ],
         "y": [
          0.6410216876701401
         ]
        },
        {
         "mode": "markers",
         "text": "going",
         "textposition": "top center",
         "type": "scatter",
         "x": [
          -1.0386115845112414
         ],
         "y": [
          -0.06959992412877614
         ]
        },
        {
         "mode": "markers",
         "text": "gout",
         "textposition": "top center",
         "type": "scatter",
         "x": [
          1.4020495368616381
         ],
         "y": [
          0.07178070917108077
         ]
        },
        {
         "mode": "markers",
         "text": "graft",
         "textposition": "top center",
         "type": "scatter",
         "x": [
          0.08619412274267958
         ],
         "y": [
          -0.6000144292719879
         ]
        },
        {
         "mode": "markers",
         "text": "hallucinations",
         "textposition": "top center",
         "type": "scatter",
         "x": [
          0.7822543279558568
         ],
         "y": [
          1.056467853006735
         ]
        },
        {
         "mode": "markers",
         "text": "hanging",
         "textposition": "top center",
         "type": "scatter",
         "x": [
          -1.0264699049878696
         ],
         "y": [
          -0.2114290358629612
         ]
        },
        {
         "mode": "markers",
         "text": "harm",
         "textposition": "top center",
         "type": "scatter",
         "x": [
          -0.6013858085427356
         ],
         "y": [
          0.10191346927145642
         ]
        },
        {
         "mode": "markers",
         "text": "held",
         "textposition": "top center",
         "type": "scatter",
         "x": [
          -1.1326048920662706
         ],
         "y": [
          -0.3633582237732736
         ]
        },
        {
         "mode": "markers",
         "text": "hematocrit",
         "textposition": "top center",
         "type": "scatter",
         "x": [
          1.7146887690442687
         ],
         "y": [
          -0.4319292685329463
         ]
        },
        {
         "mode": "markers",
         "text": "hemodynamically",
         "textposition": "top center",
         "type": "scatter",
         "x": [
          0.044725318631923375
         ],
         "y": [
          -0.3098896979223208
         ]
        },
        {
         "mode": "markers",
         "text": "hepatic",
         "textposition": "top center",
         "type": "scatter",
         "x": [
          1.8788152302377383
         ],
         "y": [
          -0.6657840722843057
         ]
        },
        {
         "mode": "markers",
         "text": "hepatitis",
         "textposition": "top center",
         "type": "scatter",
         "x": [
          0.5485137896209621
         ],
         "y": [
          0.20486335902794042
         ]
        },
        {
         "mode": "markers",
         "text": "hepatology",
         "textposition": "top center",
         "type": "scatter",
         "x": [
          0.5915884020530493
         ],
         "y": [
          -0.5932595168035785
         ]
        },
        {
         "mode": "markers",
         "text": "hernia",
         "textposition": "top center",
         "type": "scatter",
         "x": [
          0.7148072443560194
         ],
         "y": [
          -0.9758657944400772
         ]
        },
        {
         "mode": "markers",
         "text": "heroin",
         "textposition": "top center",
         "type": "scatter",
         "x": [
          -0.0933930543710674
         ],
         "y": [
          1.6836371184852184
         ]
        },
        {
         "mode": "markers",
         "text": "hospitalization",
         "textposition": "top center",
         "type": "scatter",
         "x": [
          0.680658551509422
         ],
         "y": [
          -0.290998049744216
         ]
        },
        {
         "mode": "markers",
         "text": "hospitalizations",
         "textposition": "top center",
         "type": "scatter",
         "x": [
          1.0395300385806188
         ],
         "y": [
          0.0185504172031806
         ]
        },
        {
         "mode": "markers",
         "text": "hospitalized",
         "textposition": "top center",
         "type": "scatter",
         "x": [
          0.04289595448885319
         ],
         "y": [
          -0.3725318367760028
         ]
        },
        {
         "mode": "markers",
         "text": "hours",
         "textposition": "top center",
         "type": "scatter",
         "x": [
          -0.7463411640781992
         ],
         "y": [
          -0.023027546939169974
         ]
        },
        {
         "mode": "markers",
         "text": "hypercholesterolemia",
         "textposition": "top center",
         "type": "scatter",
         "x": [
          1.682510605254002
         ],
         "y": [
          -0.14091786807778925
         ]
        },
        {
         "mode": "markers",
         "text": "hyperlipidemia",
         "textposition": "top center",
         "type": "scatter",
         "x": [
          1.3628189640251132
         ],
         "y": [
          -0.08868205522418844
         ]
        },
        {
         "mode": "markers",
         "text": "hypertension",
         "textposition": "top center",
         "type": "scatter",
         "x": [
          1.623975225176101
         ],
         "y": [
          -0.06592946184512787
         ]
        },
        {
         "mode": "markers",
         "text": "hypotension",
         "textposition": "top center",
         "type": "scatter",
         "x": [
          2.433379325563454
         ],
         "y": [
          -0.10392740134446939
         ]
        },
        {
         "mode": "markers",
         "text": "hypothyroid",
         "textposition": "top center",
         "type": "scatter",
         "x": [
          1.184941381626685
         ],
         "y": [
          -0.10373257820005265
         ]
        },
        {
         "mode": "markers",
         "text": "hypothyroidism",
         "textposition": "top center",
         "type": "scatter",
         "x": [
          1.817973464057899
         ],
         "y": [
          0.020187619027198636
         ]
        },
        {
         "mode": "markers",
         "text": "ibuprofen",
         "textposition": "top center",
         "type": "scatter",
         "x": [
          1.2583394145228175
         ],
         "y": [
          1.3095295963573477
         ]
        },
        {
         "mode": "markers",
         "text": "ideation",
         "textposition": "top center",
         "type": "scatter",
         "x": [
          -0.1331179496370111
         ],
         "y": [
          0.1513380054502899
         ]
        },
        {
         "mode": "markers",
         "text": "ideations",
         "textposition": "top center",
         "type": "scatter",
         "x": [
          -0.4854889491094223
         ],
         "y": [
          0.23101387598904294
         ]
        },
        {
         "mode": "markers",
         "text": "illicits",
         "textposition": "top center",
         "type": "scatter",
         "x": [
          -0.6379888255332596
         ],
         "y": [
          0.05842784026892216
         ]
        },
        {
         "mode": "markers",
         "text": "imaging",
         "textposition": "top center",
         "type": "scatter",
         "x": [
          0.11056550482398551
         ],
         "y": [
          -0.7486220274365836
         ]
        },
        {
         "mode": "markers",
         "text": "improved",
         "textposition": "top center",
         "type": "scatter",
         "x": [
          -0.8686719584830837
         ],
         "y": [
          -0.4864971126812793
         ]
        },
        {
         "mode": "markers",
         "text": "incarceration",
         "textposition": "top center",
         "type": "scatter",
         "x": [
          -0.22055163099893307
         ],
         "y": [
          0.24421604958964896
         ]
        },
        {
         "mode": "markers",
         "text": "indicated",
         "textposition": "top center",
         "type": "scatter",
         "x": [
          -0.9727454776261556
         ],
         "y": [
          -0.34842077351836614
         ]
        },
        {
         "mode": "markers",
         "text": "indomethacin",
         "textposition": "top center",
         "type": "scatter",
         "x": [
          1.5453384002328598
         ],
         "y": [
          0.44345544580541213
         ]
        },
        {
         "mode": "markers",
         "text": "induced",
         "textposition": "top center",
         "type": "scatter",
         "x": [
          -0.1431531462171772
         ],
         "y": [
          0.10871552696797616
         ]
        },
        {
         "mode": "markers",
         "text": "inflicted",
         "textposition": "top center",
         "type": "scatter",
         "x": [
          -0.8969597756599065
         ],
         "y": [
          -0.2529956226957551
         ]
        },
        {
         "mode": "markers",
         "text": "ingested",
         "textposition": "top center",
         "type": "scatter",
         "x": [
          0.31793281456571787
         ],
         "y": [
          0.9100507676884595
         ]
        },
        {
         "mode": "markers",
         "text": "ingesting",
         "textposition": "top center",
         "type": "scatter",
         "x": [
          0.24584106858593646
         ],
         "y": [
          0.9439260402255452
         ]
        },
        {
         "mode": "markers",
         "text": "ingestion",
         "textposition": "top center",
         "type": "scatter",
         "x": [
          0.7147206264588138
         ],
         "y": [
          0.548706720015216
         ]
        },
        {
         "mode": "markers",
         "text": "initiated",
         "textposition": "top center",
         "type": "scatter",
         "x": [
          -1.0309139807890473
         ],
         "y": [
          -0.3172969340468838
         ]
        },
        {
         "mode": "markers",
         "text": "injuries",
         "textposition": "top center",
         "type": "scatter",
         "x": [
          -0.06206571589968273
         ],
         "y": [
          -0.5644407528125545
         ]
        },
        {
         "mode": "markers",
         "text": "inpatient",
         "textposition": "top center",
         "type": "scatter",
         "x": [
          0.28567487568100575
         ],
         "y": [
          -0.08119965615554633
         ]
        },
        {
         "mode": "markers",
         "text": "instructions",
         "textposition": "top center",
         "type": "scatter",
         "x": [
          -0.8003334476632931
         ],
         "y": [
          0.09998901427161605
         ]
        },
        {
         "mode": "markers",
         "text": "insufficiency",
         "textposition": "top center",
         "type": "scatter",
         "x": [
          0.3765867888441231
         ],
         "y": [
          -0.48189814910461076
         ]
        },
        {
         "mode": "markers",
         "text": "insulin",
         "textposition": "top center",
         "type": "scatter",
         "x": [
          1.3783558345273896
         ],
         "y": [
          0.7499204276192776
         ]
        },
        {
         "mode": "markers",
         "text": "intake",
         "textposition": "top center",
         "type": "scatter",
         "x": [
          0.306526096831355
         ],
         "y": [
          0.08194750287642541
         ]
        },
        {
         "mode": "markers",
         "text": "intensive",
         "textposition": "top center",
         "type": "scatter",
         "x": [
          -0.6740725844147262
         ],
         "y": [
          -0.3244531636813189
         ]
        },
        {
         "mode": "markers",
         "text": "intentional",
         "textposition": "top center",
         "type": "scatter",
         "x": [
          -0.5862365578084252
         ],
         "y": [
          -0.09846773606916123
         ]
        },
        {
         "mode": "markers",
         "text": "intoxicated",
         "textposition": "top center",
         "type": "scatter",
         "x": [
          -0.16726186398537024
         ],
         "y": [
          0.6913422596256181
         ]
        },
        {
         "mode": "markers",
         "text": "intoxication",
         "textposition": "top center",
         "type": "scatter",
         "x": [
          0.3922356127354825
         ],
         "y": [
          0.910518969747531
         ]
        },
        {
         "mode": "markers",
         "text": "intubated",
         "textposition": "top center",
         "type": "scatter",
         "x": [
          1.1496137914139142
         ],
         "y": [
          -0.4183454148405842
         ]
        },
        {
         "mode": "markers",
         "text": "intubation",
         "textposition": "top center",
         "type": "scatter",
         "x": [
          1.4222996592820605
         ],
         "y": [
          -0.5027207364776182
         ]
        },
        {
         "mode": "markers",
         "text": "invasive",
         "textposition": "top center",
         "type": "scatter",
         "x": [
          0.32533252905842835
         ],
         "y": [
          -0.5966609963595452
         ]
        },
        {
         "mode": "markers",
         "text": "iodine",
         "textposition": "top center",
         "type": "scatter",
         "x": [
          0.5960948074727406
         ],
         "y": [
          0.9561719124175347
         ]
        },
        {
         "mode": "markers",
         "text": "ischemic",
         "textposition": "top center",
         "type": "scatter",
         "x": [
          2.317597193496351
         ],
         "y": [
          -1.3883187489840267
         ]
        },
        {
         "mode": "markers",
         "text": "issues",
         "textposition": "top center",
         "type": "scatter",
         "x": [
          -0.8787233873146574
         ],
         "y": [
          -0.31491181234127236
         ]
        },
        {
         "mode": "markers",
         "text": "kept",
         "textposition": "top center",
         "type": "scatter",
         "x": [
          -1.172797103227764
         ],
         "y": [
          -0.13892568571778105
         ]
        },
        {
         "mode": "markers",
         "text": "ketoacidosis",
         "textposition": "top center",
         "type": "scatter",
         "x": [
          1.1601723382941889
         ],
         "y": [
          0.05193510119075407
         ]
        },
        {
         "mode": "markers",
         "text": "kidney",
         "textposition": "top center",
         "type": "scatter",
         "x": [
          0.8893351142074776
         ],
         "y": [
          -0.527018756123535
         ]
        },
        {
         "mode": "markers",
         "text": "klonopin",
         "textposition": "top center",
         "type": "scatter",
         "x": [
          0.2353948717848511
         ],
         "y": [
          1.082248881495644
         ]
        },
        {
         "mode": "markers",
         "text": "known",
         "textposition": "top center",
         "type": "scatter",
         "x": [
          -0.8498901320250086
         ],
         "y": [
          0.019031990821581427
         ]
        },
        {
         "mode": "markers",
         "text": "labs",
         "textposition": "top center",
         "type": "scatter",
         "x": [
          -0.6828233544438373
         ],
         "y": [
          0.25650855702103287
         ]
        },
        {
         "mode": "markers",
         "text": "laceration",
         "textposition": "top center",
         "type": "scatter",
         "x": [
          0.36424375441366125
         ],
         "y": [
          -0.8824766819530787
         ]
        },
        {
         "mode": "markers",
         "text": "lamictal",
         "textposition": "top center",
         "type": "scatter",
         "x": [
          0.11047500004497518
         ],
         "y": [
          0.3793263706732051
         ]
        },
        {
         "mode": "markers",
         "text": "lexapro",
         "textposition": "top center",
         "type": "scatter",
         "x": [
          0.6519393705359783
         ],
         "y": [
          2.192086307637931
         ]
        },
        {
         "mode": "markers",
         "text": "lithium",
         "textposition": "top center",
         "type": "scatter",
         "x": [
          0.2170628794414746
         ],
         "y": [
          0.7944664288343616
         ]
        },
        {
         "mode": "markers",
         "text": "lived",
         "textposition": "top center",
         "type": "scatter",
         "x": [
          -0.9178667636885106
         ],
         "y": [
          -0.03259022076121418
         ]
        },
        {
         "mode": "markers",
         "text": "liver",
         "textposition": "top center",
         "type": "scatter",
         "x": [
          1.3055090047786275
         ],
         "y": [
          -0.35227451947658206
         ]
        },
        {
         "mode": "markers",
         "text": "lives",
         "textposition": "top center",
         "type": "scatter",
         "x": [
          -0.7287664289645096
         ],
         "y": [
          -0.012321798898462483
         ]
        },
        {
         "mode": "markers",
         "text": "longer",
         "textposition": "top center",
         "type": "scatter",
         "x": [
          -0.7980020613830427
         ],
         "y": [
          -0.030879337480809742
         ]
        },
        {
         "mode": "markers",
         "text": "made",
         "textposition": "top center",
         "type": "scatter",
         "x": [
          -1.1372856649043392
         ],
         "y": [
          -0.16028277237402053
         ]
        },
        {
         "mode": "markers",
         "text": "maintained",
         "textposition": "top center",
         "type": "scatter",
         "x": [
          -1.1321739540304727
         ],
         "y": [
          -0.2947718697043902
         ]
        },
        {
         "mode": "markers",
         "text": "managed",
         "textposition": "top center",
         "type": "scatter",
         "x": [
          -1.2012736236906374
         ],
         "y": [
          -0.21121053494431977
         ]
        },
        {
         "mode": "markers",
         "text": "marijuana",
         "textposition": "top center",
         "type": "scatter",
         "x": [
          -0.23891311759184855
         ],
         "y": [
          1.3158430877559883
         ]
        },
        {
         "mode": "markers",
         "text": "maternal",
         "textposition": "top center",
         "type": "scatter",
         "x": [
          0.17346724640856556
         ],
         "y": [
          -0.13368040849499113
         ]
        },
        {
         "mode": "markers",
         "text": "means",
         "textposition": "top center",
         "type": "scatter",
         "x": [
          -0.9141068156901107
         ],
         "y": [
          -0.1183008022539087
         ]
        },
        {
         "mode": "markers",
         "text": "mechanical",
         "textposition": "top center",
         "type": "scatter",
         "x": [
          -0.17758987049527647
         ],
         "y": [
          -0.6310460323406294
         ]
        },
        {
         "mode": "markers",
         "text": "medically",
         "textposition": "top center",
         "type": "scatter",
         "x": [
          0.3603174262511997
         ],
         "y": [
          -0.12061342091058669
         ]
        },
        {
         "mode": "markers",
         "text": "medications",
         "textposition": "top center",
         "type": "scatter",
         "x": [
          0.9695335398958346
         ],
         "y": [
          1.445487626942233
         ]
        },
        {
         "mode": "markers",
         "text": "meds",
         "textposition": "top center",
         "type": "scatter",
         "x": [
          0.6568314515694003
         ],
         "y": [
          1.903148919174068
         ]
        },
        {
         "mode": "markers",
         "text": "mellitus",
         "textposition": "top center",
         "type": "scatter",
         "x": [
          -0.15116138535965387
         ],
         "y": [
          -0.09580247353312583
         ]
        },
        {
         "mode": "markers",
         "text": "metabolic",
         "textposition": "top center",
         "type": "scatter",
         "x": [
          1.202802031379384
         ],
         "y": [
          -0.31270272621313067
         ]
        },
        {
         "mode": "markers",
         "text": "methadone",
         "textposition": "top center",
         "type": "scatter",
         "x": [
          0.5842386804560059
         ],
         "y": [
          1.9375916431353697
         ]
        },
        {
         "mode": "markers",
         "text": "migraines",
         "textposition": "top center",
         "type": "scatter",
         "x": [
          1.2255726402160263
         ],
         "y": [
          0.1839498323501349
         ]
        },
        {
         "mode": "markers",
         "text": "mild",
         "textposition": "top center",
         "type": "scatter",
         "x": [
          -0.06490391487945121
         ],
         "y": [
          0.08456888963049615
         ]
        },
        {
         "mode": "markers",
         "text": "mildly",
         "textposition": "top center",
         "type": "scatter",
         "x": [
          -0.59402758215049
         ],
         "y": [
          0.028746290229283714
         ]
        },
        {
         "mode": "markers",
         "text": "mitral",
         "textposition": "top center",
         "type": "scatter",
         "x": [
          1.0128810650874633
         ],
         "y": [
          -1.1336783933776984
         ]
        },
        {
         "mode": "markers",
         "text": "moderately",
         "textposition": "top center",
         "type": "scatter",
         "x": [
          -0.3129776548302498
         ],
         "y": [
          -0.1612012633580136
         ]
        },
        {
         "mode": "markers",
         "text": "monitored",
         "textposition": "top center",
         "type": "scatter",
         "x": [
          -0.7486040963066265
         ],
         "y": [
          -0.2513142095036369
         ]
        },
        {
         "mode": "markers",
         "text": "monitoring",
         "textposition": "top center",
         "type": "scatter",
         "x": [
          -0.7036317460876442
         ],
         "y": [
          -0.3141483895914957
         ]
        },
        {
         "mode": "markers",
         "text": "months",
         "textposition": "top center",
         "type": "scatter",
         "x": [
          -0.8768149855355151
         ],
         "y": [
          -0.18333784866535074
         ]
        },
        {
         "mode": "markers",
         "text": "morbid",
         "textposition": "top center",
         "type": "scatter",
         "x": [
          -0.24896464017547487
         ],
         "y": [
          0.23228051325848695
         ]
        },
        {
         "mode": "markers",
         "text": "morphine",
         "textposition": "top center",
         "type": "scatter",
         "x": [
          0.9351557860925293
         ],
         "y": [
          1.6627983021712878
         ]
        },
        {
         "mode": "markers",
         "text": "motrin",
         "textposition": "top center",
         "type": "scatter",
         "x": [
          -0.20536991250741302
         ],
         "y": [
          0.31727683969534115
         ]
        },
        {
         "mode": "markers",
         "text": "moved",
         "textposition": "top center",
         "type": "scatter",
         "x": [
          -1.1806119195389053
         ],
         "y": [
          -0.411862763677146
         ]
        },
        {
         "mode": "markers",
         "text": "movements",
         "textposition": "top center",
         "type": "scatter",
         "x": [
          -0.5944585087735369
         ],
         "y": [
          -0.2260870668808215
         ]
        },
        {
         "mode": "markers",
         "text": "myocardial",
         "textposition": "top center",
         "type": "scatter",
         "x": [
          1.9084680456124905
         ],
         "y": [
          -1.2557215058670357
         ]
        },
        {
         "mode": "markers",
         "text": "narcotic",
         "textposition": "top center",
         "type": "scatter",
         "x": [
          0.24255972176247845
         ],
         "y": [
          1.5151044862950163
         ]
        },
        {
         "mode": "markers",
         "text": "needed",
         "textposition": "top center",
         "type": "scatter",
         "x": [
          -0.9091734137543026
         ],
         "y": [
          -0.20843373944593804
         ]
        },
        {
         "mode": "markers",
         "text": "needs",
         "textposition": "top center",
         "type": "scatter",
         "x": [
          -0.9602761680919147
         ],
         "y": [
          -0.17732725367479182
         ]
        },
        {
         "mode": "markers",
         "text": "nephropathy",
         "textposition": "top center",
         "type": "scatter",
         "x": [
          1.6209037736382585
         ],
         "y": [
          -0.37027567214248175
         ]
        },
        {
         "mode": "markers",
         "text": "neurology",
         "textposition": "top center",
         "type": "scatter",
         "x": [
          0.6629772121503165
         ],
         "y": [
          -0.5348040799040741
         ]
        },
        {
         "mode": "markers",
         "text": "neurontin",
         "textposition": "top center",
         "type": "scatter",
         "x": [
          0.18234067263383333
         ],
         "y": [
          1.6087995296274198
         ]
        },
        {
         "mode": "markers",
         "text": "neuropathy",
         "textposition": "top center",
         "type": "scatter",
         "x": [
          1.8352977355152844
         ],
         "y": [
          -0.5310747639721467
         ]
        },
        {
         "mode": "markers",
         "text": "neurosurgery",
         "textposition": "top center",
         "type": "scatter",
         "x": [
          0.5743346801288537
         ],
         "y": [
          -0.9573898478738551
         ]
        },
        {
         "mode": "markers",
         "text": "nodule",
         "textposition": "top center",
         "type": "scatter",
         "x": [
          1.0816675413420351
         ],
         "y": [
          -0.8795513719735712
         ]
        },
        {
         "mode": "markers",
         "text": "noncontributory",
         "textposition": "top center",
         "type": "scatter",
         "x": [
          -0.5348532146721199
         ],
         "y": [
          -0.12227358098424834
         ]
        },
        {
         "mode": "markers",
         "text": "notable",
         "textposition": "top center",
         "type": "scatter",
         "x": [
          -0.8267200962365036
         ],
         "y": [
          -0.30566051208133505
         ]
        },
        {
         "mode": "markers",
         "text": "noted",
         "textposition": "top center",
         "type": "scatter",
         "x": [
          -1.0079530311712244
         ],
         "y": [
          -0.31071251586605647
         ]
        },
        {
         "mode": "markers",
         "text": "notes",
         "textposition": "top center",
         "type": "scatter",
         "x": [
          -0.7803818196862742
         ],
         "y": [
          0.06787977395222873
         ]
        },
        {
         "mode": "markers",
         "text": "nutrition",
         "textposition": "top center",
         "type": "scatter",
         "x": [
          -0.05901663822190044
         ],
         "y": [
          0.11621082933336559
         ]
        },
        {
         "mode": "markers",
         "text": "obesity",
         "textposition": "top center",
         "type": "scatter",
         "x": [
          0.6789166012662329
         ],
         "y": [
          -0.07527743049426008
         ]
        },
        {
         "mode": "markers",
         "text": "observed",
         "textposition": "top center",
         "type": "scatter",
         "x": [
          -0.5750899398071713
         ],
         "y": [
          -0.14985988588565285
         ]
        },
        {
         "mode": "markers",
         "text": "obstructive",
         "textposition": "top center",
         "type": "scatter",
         "x": [
          -0.060884897115415296
         ],
         "y": [
          -0.5248895968610355
         ]
        },
        {
         "mode": "markers",
         "text": "obtained",
         "textposition": "top center",
         "type": "scatter",
         "x": [
          -0.9763799621155556
         ],
         "y": [
          -0.17021448866572433
         ]
        },
        {
         "mode": "markers",
         "text": "occasional",
         "textposition": "top center",
         "type": "scatter",
         "x": [
          -0.7463057161398472
         ],
         "y": [
          0.24600515487266236
         ]
        },
        {
         "mode": "markers",
         "text": "opiates",
         "textposition": "top center",
         "type": "scatter",
         "x": [
          0.6775329234485935
         ],
         "y": [
          1.5948131594927208
         ]
        },
        {
         "mode": "markers",
         "text": "oral",
         "textposition": "top center",
         "type": "scatter",
         "x": [
          0.22858874331845302
         ],
         "y": [
          0.1742066829439417
         ]
        },
        {
         "mode": "markers",
         "text": "osteoarthritis",
         "textposition": "top center",
         "type": "scatter",
         "x": [
          1.764685874364455
         ],
         "y": [
          -0.4600889485875917
         ]
        },
        {
         "mode": "markers",
         "text": "outpatient",
         "textposition": "top center",
         "type": "scatter",
         "x": [
          0.27433624656788314
         ],
         "y": [
          -0.19287421725251172
         ]
        },
        {
         "mode": "markers",
         "text": "overdose",
         "textposition": "top center",
         "type": "scatter",
         "x": [
          0.6328499160524673
         ],
         "y": [
          1.4610535389750163
         ]
        },
        {
         "mode": "markers",
         "text": "overdosed",
         "textposition": "top center",
         "type": "scatter",
         "x": [
          -0.022590979054147305
         ],
         "y": [
          1.4534897891892362
         ]
        },
        {
         "mode": "markers",
         "text": "overdoses",
         "textposition": "top center",
         "type": "scatter",
         "x": [
          0.6435944956622521
         ],
         "y": [
          1.4392369067619495
         ]
        },
        {
         "mode": "markers",
         "text": "overnight",
         "textposition": "top center",
         "type": "scatter",
         "x": [
          -0.7433223190616167
         ],
         "y": [
          0.005859930800831609
         ]
        },
        {
         "mode": "markers",
         "text": "oxycodone",
         "textposition": "top center",
         "type": "scatter",
         "x": [
          0.6906790039079166
         ],
         "y": [
          1.9824167837996212
         ]
        },
        {
         "mode": "markers",
         "text": "oxygen",
         "textposition": "top center",
         "type": "scatter",
         "x": [
          0.6295925088626044
         ],
         "y": [
          0.22501990717018078
         ]
        },
        {
         "mode": "markers",
         "text": "pancreatitis",
         "textposition": "top center",
         "type": "scatter",
         "x": [
          1.4618961652198756
         ],
         "y": [
          -0.20496123193047514
         ]
        },
        {
         "mode": "markers",
         "text": "panic",
         "textposition": "top center",
         "type": "scatter",
         "x": [
          -0.5562771266124853
         ],
         "y": [
          0.30766665138571914
         ]
        },
        {
         "mode": "markers",
         "text": "parents",
         "textposition": "top center",
         "type": "scatter",
         "x": [
          -0.6244575364672007
         ],
         "y": [
          0.17373379486632937
         ]
        },
        {
         "mode": "markers",
         "text": "partial",
         "textposition": "top center",
         "type": "scatter",
         "x": [
          -0.6031032843827516
         ],
         "y": [
          -0.25314815844352884
         ]
        },
        {
         "mode": "markers",
         "text": "paxil",
         "textposition": "top center",
         "type": "scatter",
         "x": [
          0.31121302765342607
         ],
         "y": [
          1.765594890484431
         ]
        },
        {
         "mode": "markers",
         "text": "peaked",
         "textposition": "top center",
         "type": "scatter",
         "x": [
          -0.9007885109565777
         ],
         "y": [
          -0.1605338739167373
         ]
        },
        {
         "mode": "markers",
         "text": "pending",
         "textposition": "top center",
         "type": "scatter",
         "x": [
          -0.9656654654989766
         ],
         "y": [
          -0.2827906799453211
         ]
        },
        {
         "mode": "markers",
         "text": "penicillins",
         "textposition": "top center",
         "type": "scatter",
         "x": [
          0.7858068920238148
         ],
         "y": [
          0.41352467610358734
         ]
        },
        {
         "mode": "markers",
         "text": "percocet",
         "textposition": "top center",
         "type": "scatter",
         "x": [
          0.14282214882229322
         ],
         "y": [
          1.331495749672049
         ]
        },
        {
         "mode": "markers",
         "text": "performed",
         "textposition": "top center",
         "type": "scatter",
         "x": [
          -0.6585068458496102
         ],
         "y": [
          -0.6466032541559638
         ]
        },
        {
         "mode": "markers",
         "text": "peripheral",
         "textposition": "top center",
         "type": "scatter",
         "x": [
          -0.18566052205727673
         ],
         "y": [
          -0.5482992544922162
         ]
        },
        {
         "mode": "markers",
         "text": "persistent",
         "textposition": "top center",
         "type": "scatter",
         "x": [
          -0.6501520557950237
         ],
         "y": [
          -0.06740096713252482
         ]
        },
        {
         "mode": "markers",
         "text": "phenobarbital",
         "textposition": "top center",
         "type": "scatter",
         "x": [
          1.0050237696702142
         ],
         "y": [
          1.1056070217035148
         ]
        },
        {
         "mode": "markers",
         "text": "pill",
         "textposition": "top center",
         "type": "scatter",
         "x": [
          0.4918816520562493
         ],
         "y": [
          1.6334898567017806
         ]
        },
        {
         "mode": "markers",
         "text": "pills",
         "textposition": "top center",
         "type": "scatter",
         "x": [
          0.40023506954083204
         ],
         "y": [
          1.9955493385452723
         ]
        },
        {
         "mode": "markers",
         "text": "placed",
         "textposition": "top center",
         "type": "scatter",
         "x": [
          -0.9983033682155742
         ],
         "y": [
          -0.30595911906929646
         ]
        },
        {
         "mode": "markers",
         "text": "placement",
         "textposition": "top center",
         "type": "scatter",
         "x": [
          -0.5685684201953665
         ],
         "y": [
          -0.29229338111082565
         ]
        },
        {
         "mode": "markers",
         "text": "pneumonia",
         "textposition": "top center",
         "type": "scatter",
         "x": [
          0.9544042012436744
         ],
         "y": [
          -0.28063741302078277
         ]
        },
        {
         "mode": "markers",
         "text": "poly",
         "textposition": "top center",
         "type": "scatter",
         "x": [
          -0.15375919793724674
         ],
         "y": [
          0.5413265908912355
         ]
        },
        {
         "mode": "markers",
         "text": "polysubstance",
         "textposition": "top center",
         "type": "scatter",
         "x": [
          -0.4926333892579959
         ],
         "y": [
          0.20351062832231684
         ]
        },
        {
         "mode": "markers",
         "text": "postoperative",
         "textposition": "top center",
         "type": "scatter",
         "x": [
          1.669033275118349
         ],
         "y": [
          -0.868695327244415
         ]
        },
        {
         "mode": "markers",
         "text": "precautions",
         "textposition": "top center",
         "type": "scatter",
         "x": [
          -0.557137281060168
         ],
         "y": [
          0.13487453694597176
         ]
        },
        {
         "mode": "markers",
         "text": "premature",
         "textposition": "top center",
         "type": "scatter",
         "x": [
          -0.36750305003692724
         ],
         "y": [
          -0.5182927496982139
         ]
        },
        {
         "mode": "markers",
         "text": "presented",
         "textposition": "top center",
         "type": "scatter",
         "x": [
          -0.8977524749079222
         ],
         "y": [
          -0.47734131988879447
         ]
        },
        {
         "mode": "markers",
         "text": "presenting",
         "textposition": "top center",
         "type": "scatter",
         "x": [
          -0.8537641294493014
         ],
         "y": [
          -0.36682039076643413
         ]
        },
        {
         "mode": "markers",
         "text": "presents",
         "textposition": "top center",
         "type": "scatter",
         "x": [
          -0.8217537639394819
         ],
         "y": [
          -0.21414188983473798
         ]
        },
        {
         "mode": "markers",
         "text": "problems",
         "textposition": "top center",
         "type": "scatter",
         "x": [
          -0.6165748341628083
         ],
         "y": [
          -0.2382421605956166
         ]
        },
        {
         "mode": "markers",
         "text": "provided",
         "textposition": "top center",
         "type": "scatter",
         "x": [
          -1.1330147631698366
         ],
         "y": [
          -0.2454045671210247
         ]
        },
        {
         "mode": "markers",
         "text": "providers",
         "textposition": "top center",
         "type": "scatter",
         "x": [
          -0.5533649492002903
         ],
         "y": [
          0.04662395132835122
         ]
        },
        {
         "mode": "markers",
         "text": "prozac",
         "textposition": "top center",
         "type": "scatter",
         "x": [
          0.19834921518931645
         ],
         "y": [
          1.5442722710149857
         ]
        },
        {
         "mode": "markers",
         "text": "psych",
         "textposition": "top center",
         "type": "scatter",
         "x": [
          -0.2457542822139123
         ],
         "y": [
          0.4800059317888118
         ]
        },
        {
         "mode": "markers",
         "text": "psychiatric",
         "textposition": "top center",
         "type": "scatter",
         "x": [
          0.19122782765694446
         ],
         "y": [
          0.43077421368235636
         ]
        },
        {
         "mode": "markers",
         "text": "psychiatrist",
         "textposition": "top center",
         "type": "scatter",
         "x": [
          0.07666568563114577
         ],
         "y": [
          0.5948308083319456
         ]
        },
        {
         "mode": "markers",
         "text": "psychiatrists",
         "textposition": "top center",
         "type": "scatter",
         "x": [
          -0.026905021423928803
         ],
         "y": [
          0.5128098471435096
         ]
        },
        {
         "mode": "markers",
         "text": "psychiatry",
         "textposition": "top center",
         "type": "scatter",
         "x": [
          0.32612899363990444
         ],
         "y": [
          0.43163370078226393
         ]
        },
        {
         "mode": "markers",
         "text": "pulmonary",
         "textposition": "top center",
         "type": "scatter",
         "x": [
          1.3132423364408603
         ],
         "y": [
          -0.7180028104472567
         ]
        },
        {
         "mode": "markers",
         "text": "pulse",
         "textposition": "top center",
         "type": "scatter",
         "x": [
          -0.10812026175775351
         ],
         "y": [
          -0.2041790671216862
         ]
        },
        {
         "mode": "markers",
         "text": "questionable",
         "textposition": "top center",
         "type": "scatter",
         "x": [
          -0.9981737343505029
         ],
         "y": [
          -0.2731869286337824
         ]
        },
        {
         "mode": "markers",
         "text": "raised",
         "textposition": "top center",
         "type": "scatter",
         "x": [
          -1.0673955230642742
         ],
         "y": [
          -0.5091639867348077
         ]
        },
        {
         "mode": "markers",
         "text": "reactions",
         "textposition": "top center",
         "type": "scatter",
         "x": [
          -0.20808267076152945
         ],
         "y": [
          0.28175695684639046
         ]
        },
        {
         "mode": "markers",
         "text": "received",
         "textposition": "top center",
         "type": "scatter",
         "x": [
          -1.1100419904033316
         ],
         "y": [
          -0.40576256497211066
         ]
        },
        {
         "mode": "markers",
         "text": "recommendations",
         "textposition": "top center",
         "type": "scatter",
         "x": [
          -0.7884126241099569
         ],
         "y": [
          -0.06541117793736753
         ]
        },
        {
         "mode": "markers",
         "text": "recommended",
         "textposition": "top center",
         "type": "scatter",
         "x": [
          -0.7252032363391023
         ],
         "y": [
          -0.04176993480295207
         ]
        },
        {
         "mode": "markers",
         "text": "records",
         "textposition": "top center",
         "type": "scatter",
         "x": [
          -0.9399419820504017
         ],
         "y": [
          -0.021767321858239003
         ]
        },
        {
         "mode": "markers",
         "text": "recurrent",
         "textposition": "top center",
         "type": "scatter",
         "x": [
          0.24603185754567922
         ],
         "y": [
          -0.6385487975658793
         ]
        },
        {
         "mode": "markers",
         "text": "refused",
         "textposition": "top center",
         "type": "scatter",
         "x": [
          -1.2141701254568253
         ],
         "y": [
          -0.3546759072250758
         ]
        },
        {
         "mode": "markers",
         "text": "regimen",
         "textposition": "top center",
         "type": "scatter",
         "x": [
          0.37129482458327473
         ],
         "y": [
          0.32674901757877334
         ]
        },
        {
         "mode": "markers",
         "text": "rehab",
         "textposition": "top center",
         "type": "scatter",
         "x": [
          -0.31118573953400713
         ],
         "y": [
          0.269397548604651
         ]
        },
        {
         "mode": "markers",
         "text": "rehabilitation",
         "textposition": "top center",
         "type": "scatter",
         "x": [
          -0.50762359938824
         ],
         "y": [
          -0.3252963903314576
         ]
        },
        {
         "mode": "markers",
         "text": "related",
         "textposition": "top center",
         "type": "scatter",
         "x": [
          -0.7899674622722408
         ],
         "y": [
          -0.18575305637724265
         ]
        },
        {
         "mode": "markers",
         "text": "remainder",
         "textposition": "top center",
         "type": "scatter",
         "x": [
          -0.9479503636402892
         ],
         "y": [
          -0.35915038864756554
         ]
        },
        {
         "mode": "markers",
         "text": "remained",
         "textposition": "top center",
         "type": "scatter",
         "x": [
          -1.1054710540033228
         ],
         "y": [
          -0.4362653840219512
         ]
        },
        {
         "mode": "markers",
         "text": "removal",
         "textposition": "top center",
         "type": "scatter",
         "x": [
          -0.6902876210115702
         ],
         "y": [
          -0.606616199952346
         ]
        },
        {
         "mode": "markers",
         "text": "removed",
         "textposition": "top center",
         "type": "scatter",
         "x": [
          -0.9744288817977804
         ],
         "y": [
          -0.5152358743173389
         ]
        },
        {
         "mode": "markers",
         "text": "renal",
         "textposition": "top center",
         "type": "scatter",
         "x": [
          1.308741293529956
         ],
         "y": [
          -0.7683123427237544
         ]
        },
        {
         "mode": "markers",
         "text": "repair",
         "textposition": "top center",
         "type": "scatter",
         "x": [
          -0.7228289711583604
         ],
         "y": [
          -0.7512660516079358
         ]
        },
        {
         "mode": "markers",
         "text": "replacement",
         "textposition": "top center",
         "type": "scatter",
         "x": [
          -0.6949154853533418
         ],
         "y": [
          -0.5308276480953062
         ]
        },
        {
         "mode": "markers",
         "text": "reported",
         "textposition": "top center",
         "type": "scatter",
         "x": [
          -0.9783235550416255
         ],
         "y": [
          -0.1734404515327711
         ]
        },
        {
         "mode": "markers",
         "text": "reportedly",
         "textposition": "top center",
         "type": "scatter",
         "x": [
          -1.0743705847723286
         ],
         "y": [
          -0.15342555295942653
         ]
        },
        {
         "mode": "markers",
         "text": "reports",
         "textposition": "top center",
         "type": "scatter",
         "x": [
          -0.9636538770186186
         ],
         "y": [
          -0.1629726007357511
         ]
        },
        {
         "mode": "markers",
         "text": "required",
         "textposition": "top center",
         "type": "scatter",
         "x": [
          -0.9144225005376345
         ],
         "y": [
          -0.2052196580412428
         ]
        },
        {
         "mode": "markers",
         "text": "requiring",
         "textposition": "top center",
         "type": "scatter",
         "x": [
          -0.8352600730088845
         ],
         "y": [
          -0.19277114659335087
         ]
        },
        {
         "mode": "markers",
         "text": "resection",
         "textposition": "top center",
         "type": "scatter",
         "x": [
          1.6236376022687058
         ],
         "y": [
          -1.7947048610842946
         ]
        },
        {
         "mode": "markers",
         "text": "resolved",
         "textposition": "top center",
         "type": "scatter",
         "x": [
          -1.0373888735414145
         ],
         "y": [
          -0.5383455251226782
         ]
        },
        {
         "mode": "markers",
         "text": "resp",
         "textposition": "top center",
         "type": "scatter",
         "x": [
          -0.31936108009971553
         ],
         "y": [
          0.14428018722494293
         ]
        },
        {
         "mode": "markers",
         "text": "respiratory",
         "textposition": "top center",
         "type": "scatter",
         "x": [
          1.0080570007415208
         ],
         "y": [
          -0.2795018033469074
         ]
        },
        {
         "mode": "markers",
         "text": "restarted",
         "textposition": "top center",
         "type": "scatter",
         "x": [
          -0.9678690618247762
         ],
         "y": [
          -0.34201689529927
         ]
        },
        {
         "mode": "markers",
         "text": "restarting",
         "textposition": "top center",
         "type": "scatter",
         "x": [
          -0.903463810310808
         ],
         "y": [
          -0.28725590911000815
         ]
        },
        {
         "mode": "markers",
         "text": "resume",
         "textposition": "top center",
         "type": "scatter",
         "x": [
          -1.1108663917466917
         ],
         "y": [
          -0.34606534376198284
         ]
        },
        {
         "mode": "markers",
         "text": "retired",
         "textposition": "top center",
         "type": "scatter",
         "x": [
          -1.0773409880095612
         ],
         "y": [
          -0.3991997202007999
         ]
        },
        {
         "mode": "markers",
         "text": "revealed",
         "textposition": "top center",
         "type": "scatter",
         "x": [
          -1.0440383977854737
         ],
         "y": [
          -0.3341900301825921
         ]
        },
        {
         "mode": "markers",
         "text": "rhabdomyolysis",
         "textposition": "top center",
         "type": "scatter",
         "x": [
          1.6618102586364016
         ],
         "y": [
          0.14518809111703204
         ]
        },
        {
         "mode": "markers",
         "text": "said",
         "textposition": "top center",
         "type": "scatter",
         "x": [
          -1.1065172081650385
         ],
         "y": [
          -0.32002463645171775
         ]
        },
        {
         "mode": "markers",
         "text": "says",
         "textposition": "top center",
         "type": "scatter",
         "x": [
          -1.006127220491033
         ],
         "y": [
          -0.09290588452203759
         ]
        },
        {
         "mode": "markers",
         "text": "schizoaffective",
         "textposition": "top center",
         "type": "scatter",
         "x": [
          -0.008777382501416516
         ],
         "y": [
          0.0638803522081317
         ]
        },
        {
         "mode": "markers",
         "text": "schizophrenia",
         "textposition": "top center",
         "type": "scatter",
         "x": [
          0.9541918938735762
         ],
         "y": [
          0.46573126985604946
         ]
        },
        {
         "mode": "markers",
         "text": "secondary",
         "textposition": "top center",
         "type": "scatter",
         "x": [
          -0.6187391533387331
         ],
         "y": [
          -0.26312140680990015
         ]
        },
        {
         "mode": "markers",
         "text": "sectioned",
         "textposition": "top center",
         "type": "scatter",
         "x": [
          -0.4872175367450244
         ],
         "y": [
          -0.021947865756125902
         ]
        },
        {
         "mode": "markers",
         "text": "sedation",
         "textposition": "top center",
         "type": "scatter",
         "x": [
          1.3520267401000838
         ],
         "y": [
          0.17506780486087992
         ]
        },
        {
         "mode": "markers",
         "text": "seeking",
         "textposition": "top center",
         "type": "scatter",
         "x": [
          -1.0666640486727585
         ],
         "y": [
          -0.3050543245591889
         ]
        },
        {
         "mode": "markers",
         "text": "seen",
         "textposition": "top center",
         "type": "scatter",
         "x": [
          -1.0016008906016236
         ],
         "y": [
          -0.08446663118642918
         ]
        },
        {
         "mode": "markers",
         "text": "seizure",
         "textposition": "top center",
         "type": "scatter",
         "x": [
          -0.12146542598529929
         ],
         "y": [
          0.17934624974575597
         ]
        },
        {
         "mode": "markers",
         "text": "seizures",
         "textposition": "top center",
         "type": "scatter",
         "x": [
          0.42945728607353634
         ],
         "y": [
          0.5118973390217192
         ]
        },
        {
         "mode": "markers",
         "text": "sent",
         "textposition": "top center",
         "type": "scatter",
         "x": [
          -1.2481517922517136
         ],
         "y": [
          -0.20908746907075026
         ]
        },
        {
         "mode": "markers",
         "text": "serial",
         "textposition": "top center",
         "type": "scatter",
         "x": [
          -0.6213603045984559
         ],
         "y": [
          -0.04778810339660094
         ]
        },
        {
         "mode": "markers",
         "text": "seroquel",
         "textposition": "top center",
         "type": "scatter",
         "x": [
          -0.18614988213513103
         ],
         "y": [
          0.8815369330377297
         ]
        },
        {
         "mode": "markers",
         "text": "serotonin",
         "textposition": "top center",
         "type": "scatter",
         "x": [
          1.5237771982158363
         ],
         "y": [
          1.0594709837590996
         ]
        },
        {
         "mode": "markers",
         "text": "serum",
         "textposition": "top center",
         "type": "scatter",
         "x": [
          0.9607703078387185
         ],
         "y": [
          0.22692158948148602
         ]
        },
        {
         "mode": "markers",
         "text": "services",
         "textposition": "top center",
         "type": "scatter",
         "x": [
          -0.8452181738029704
         ],
         "y": [
          -0.10839280857420479
         ]
        },
        {
         "mode": "markers",
         "text": "showed",
         "textposition": "top center",
         "type": "scatter",
         "x": [
          -0.9393335898540814
         ],
         "y": [
          -0.23087174587172124
         ]
        },
        {
         "mode": "markers",
         "text": "signs",
         "textposition": "top center",
         "type": "scatter",
         "x": [
          -0.7109872235401513
         ],
         "y": [
          -0.239462776364688
         ]
        },
        {
         "mode": "markers",
         "text": "sinus",
         "textposition": "top center",
         "type": "scatter",
         "x": [
          1.0794618846933122
         ],
         "y": [
          -0.4012544165865235
         ]
        },
        {
         "mode": "markers",
         "text": "sitter",
         "textposition": "top center",
         "type": "scatter",
         "x": [
          -0.49325760603130386
         ],
         "y": [
          0.28282430115185975
         ]
        },
        {
         "mode": "markers",
         "text": "smoker",
         "textposition": "top center",
         "type": "scatter",
         "x": [
          0.08298523118197744
         ],
         "y": [
          0.2966766137195294
         ]
        },
        {
         "mode": "markers",
         "text": "smokes",
         "textposition": "top center",
         "type": "scatter",
         "x": [
          -0.4602987767544643
         ],
         "y": [
          0.9043819586500164
         ]
        },
        {
         "mode": "markers",
         "text": "smoking",
         "textposition": "top center",
         "type": "scatter",
         "x": [
          -0.16888547056349915
         ],
         "y": [
          0.3973964726473315
         ]
        },
        {
         "mode": "markers",
         "text": "sober",
         "textposition": "top center",
         "type": "scatter",
         "x": [
          -0.801924448636083
         ],
         "y": [
          0.5934025000453149
         ]
        },
        {
         "mode": "markers",
         "text": "sobriety",
         "textposition": "top center",
         "type": "scatter",
         "x": [
          -0.4920613339227173
         ],
         "y": [
          0.5873633854027498
         ]
        },
        {
         "mode": "markers",
         "text": "softener",
         "textposition": "top center",
         "type": "scatter",
         "x": [
          -0.007075653933653519
         ],
         "y": [
          0.29210886061051533
         ]
        },
        {
         "mode": "markers",
         "text": "soma",
         "textposition": "top center",
         "type": "scatter",
         "x": [
          0.2333122847943517
         ],
         "y": [
          2.02224506344591
         ]
        },
        {
         "mode": "markers",
         "text": "somnolent",
         "textposition": "top center",
         "type": "scatter",
         "x": [
          -0.6774135151350419
         ],
         "y": [
          0.1784873460213402
         ]
        },
        {
         "mode": "markers",
         "text": "spinal",
         "textposition": "top center",
         "type": "scatter",
         "x": [
          0.6432602282053776
         ],
         "y": [
          -1.1553651789532935
         ]
        },
        {
         "mode": "markers",
         "text": "spine",
         "textposition": "top center",
         "type": "scatter",
         "x": [
          0.2651929906564316
         ],
         "y": [
          -0.9235148394210005
         ]
        },
        {
         "mode": "markers",
         "text": "stab",
         "textposition": "top center",
         "type": "scatter",
         "x": [
          -0.7140445915608405
         ],
         "y": [
          0.003369672440378752
         ]
        },
        {
         "mode": "markers",
         "text": "stabilized",
         "textposition": "top center",
         "type": "scatter",
         "x": [
          -0.6702424153969153
         ],
         "y": [
          -0.34382941105893944
         ]
        },
        {
         "mode": "markers",
         "text": "standpoint",
         "textposition": "top center",
         "type": "scatter",
         "x": [
          -1.0615483966313257
         ],
         "y": [
          -0.2798766177529625
         ]
        },
        {
         "mode": "markers",
         "text": "started",
         "textposition": "top center",
         "type": "scatter",
         "x": [
          -1.190132934534227
         ],
         "y": [
          -0.17361433824269265
         ]
        },
        {
         "mode": "markers",
         "text": "starting",
         "textposition": "top center",
         "type": "scatter",
         "x": [
          -0.9776030215576725
         ],
         "y": [
          -0.18157185312608032
         ]
        },
        {
         "mode": "markers",
         "text": "stated",
         "textposition": "top center",
         "type": "scatter",
         "x": [
          -0.9611498437807845
         ],
         "y": [
          -0.23418113505451899
         ]
        },
        {
         "mode": "markers",
         "text": "states",
         "textposition": "top center",
         "type": "scatter",
         "x": [
          -0.8540677876561487
         ],
         "y": [
          0.12255731546836425
         ]
        },
        {
         "mode": "markers",
         "text": "stenosis",
         "textposition": "top center",
         "type": "scatter",
         "x": [
          2.104943557942054
         ],
         "y": [
          -1.6346180139049769
         ]
        },
        {
         "mode": "markers",
         "text": "stent",
         "textposition": "top center",
         "type": "scatter",
         "x": [
          1.5043272535527092
         ],
         "y": [
          -0.9562272770330354
         ]
        },
        {
         "mode": "markers",
         "text": "stents",
         "textposition": "top center",
         "type": "scatter",
         "x": [
          1.4706711556690564
         ],
         "y": [
          -0.6452448739412763
         ]
        },
        {
         "mode": "markers",
         "text": "stones",
         "textposition": "top center",
         "type": "scatter",
         "x": [
          -0.5789310908039133
         ],
         "y": [
          0.14277637486881078
         ]
        },
        {
         "mode": "markers",
         "text": "stopped",
         "textposition": "top center",
         "type": "scatter",
         "x": [
          -1.1418850678976795
         ],
         "y": [
          -0.016855866191976505
         ]
        },
        {
         "mode": "markers",
         "text": "subsequently",
         "textposition": "top center",
         "type": "scatter",
         "x": [
          -0.8445115886435522
         ],
         "y": [
          -0.23262479184063334
         ]
        },
        {
         "mode": "markers",
         "text": "suicidal",
         "textposition": "top center",
         "type": "scatter",
         "x": [
          -0.3118558647001797
         ],
         "y": [
          0.5491553507777964
         ]
        },
        {
         "mode": "markers",
         "text": "suicidality",
         "textposition": "top center",
         "type": "scatter",
         "x": [
          1.3246337344821655
         ],
         "y": [
          0.6755098379676989
         ]
        },
        {
         "mode": "markers",
         "text": "suicide",
         "textposition": "top center",
         "type": "scatter",
         "x": [
          -0.30160922891133457
         ],
         "y": [
          0.35305624772365357
         ]
        },
        {
         "mode": "markers",
         "text": "sulfa",
         "textposition": "top center",
         "type": "scatter",
         "x": [
          0.4331094991117139
         ],
         "y": [
          0.7704333680677298
         ]
        },
        {
         "mode": "markers",
         "text": "sulfonamides",
         "textposition": "top center",
         "type": "scatter",
         "x": [
          0.4040106850154263
         ],
         "y": [
          0.32827723534661385
         ]
        },
        {
         "mode": "markers",
         "text": "summary",
         "textposition": "top center",
         "type": "scatter",
         "x": [
          -0.7065353520987856
         ],
         "y": [
          -0.12398778935579957
         ]
        },
        {
         "mode": "markers",
         "text": "supportive",
         "textposition": "top center",
         "type": "scatter",
         "x": [
          -0.9535765477572342
         ],
         "y": [
          -0.23522410069754765
         ]
        },
        {
         "mode": "markers",
         "text": "surgical",
         "textposition": "top center",
         "type": "scatter",
         "x": [
          0.4875556721081965
         ],
         "y": [
          -0.8873171678867482
         ]
        },
        {
         "mode": "markers",
         "text": "suspected",
         "textposition": "top center",
         "type": "scatter",
         "x": [
          -0.8197622041347139
         ],
         "y": [
          -0.03843596337287706
         ]
        },
        {
         "mode": "markers",
         "text": "suspicion",
         "textposition": "top center",
         "type": "scatter",
         "x": [
          -0.9869641103979654
         ],
         "y": [
          0.20282486971274025
         ]
        },
        {
         "mode": "markers",
         "text": "symptoms",
         "textposition": "top center",
         "type": "scatter",
         "x": [
          1.1234752481585222
         ],
         "y": [
          0.053204653197794195
         ]
        },
        {
         "mode": "markers",
         "text": "syndrome",
         "textposition": "top center",
         "type": "scatter",
         "x": [
          0.5381802768399733
         ],
         "y": [
          -0.1599252729823443
         ]
        },
        {
         "mode": "markers",
         "text": "systems",
         "textposition": "top center",
         "type": "scatter",
         "x": [
          -0.7171580131765483
         ],
         "y": [
          -0.17820664880591372
         ]
        },
        {
         "mode": "markers",
         "text": "systolic",
         "textposition": "top center",
         "type": "scatter",
         "x": [
          2.099626495848253
         ],
         "y": [
          -0.9494724452618245
         ]
        },
        {
         "mode": "markers",
         "text": "tablets",
         "textposition": "top center",
         "type": "scatter",
         "x": [
          0.17709197201917753
         ],
         "y": [
          1.4065918808007074
         ]
        },
        {
         "mode": "markers",
         "text": "tabs",
         "textposition": "top center",
         "type": "scatter",
         "x": [
          -0.8530032809313345
         ],
         "y": [
          0.2889917618927914
         ]
        },
        {
         "mode": "markers",
         "text": "tachycardia",
         "textposition": "top center",
         "type": "scatter",
         "x": [
          2.007381172803724
         ],
         "y": [
          -0.05262414995620162
         ]
        },
        {
         "mode": "markers",
         "text": "taken",
         "textposition": "top center",
         "type": "scatter",
         "x": [
          -1.1143695350314395
         ],
         "y": [
          -0.20389015938682226
         ]
        },
        {
         "mode": "markers",
         "text": "taking",
         "textposition": "top center",
         "type": "scatter",
         "x": [
          -0.9953272422372659
         ],
         "y": [
          0.022551631616637494
         ]
        },
        {
         "mode": "markers",
         "text": "therapist",
         "textposition": "top center",
         "type": "scatter",
         "x": [
          0.002591864760440297
         ],
         "y": [
          0.3817510920262815
         ]
        },
        {
         "mode": "markers",
         "text": "thiamine",
         "textposition": "top center",
         "type": "scatter",
         "x": [
          1.3600787035457953
         ],
         "y": [
          0.6932604243665459
         ]
        },
        {
         "mode": "markers",
         "text": "thoughts",
         "textposition": "top center",
         "type": "scatter",
         "x": [
          -0.8059718582328489
         ],
         "y": [
          0.02392388730617507
         ]
        },
        {
         "mode": "markers",
         "text": "times",
         "textposition": "top center",
         "type": "scatter",
         "x": [
          -0.7892849166777557
         ],
         "y": [
          0.03229977276076499
         ]
        },
        {
         "mode": "markers",
         "text": "titles",
         "textposition": "top center",
         "type": "scatter",
         "x": [
          -0.6824808775598328
         ],
         "y": [
          -0.1343620012739556
         ]
        },
        {
         "mode": "markers",
         "text": "told",
         "textposition": "top center",
         "type": "scatter",
         "x": [
          -1.1150136308312202
         ],
         "y": [
          -0.17261826899952204
         ]
        },
        {
         "mode": "markers",
         "text": "tolerate",
         "textposition": "top center",
         "type": "scatter",
         "x": [
          -0.6297856509308676
         ],
         "y": [
          -0.012775256010870773
         ]
        },
        {
         "mode": "markers",
         "text": "tolerating",
         "textposition": "top center",
         "type": "scatter",
         "x": [
          -0.5790399033900382
         ],
         "y": [
          0.0722026640966994
         ]
        },
        {
         "mode": "markers",
         "text": "took",
         "textposition": "top center",
         "type": "scatter",
         "x": [
          -1.179670488279565
         ],
         "y": [
          -0.18685101611868823
         ]
        },
        {
         "mode": "markers",
         "text": "toxicity",
         "textposition": "top center",
         "type": "scatter",
         "x": [
          1.0464339460924614
         ],
         "y": [
          0.33248275333051047
         ]
        },
        {
         "mode": "markers",
         "text": "toxicology",
         "textposition": "top center",
         "type": "scatter",
         "x": [
          0.44900911506985514
         ],
         "y": [
          0.5049950218546624
         ]
        },
        {
         "mode": "markers",
         "text": "trach",
         "textposition": "top center",
         "type": "scatter",
         "x": [
          0.3747110289167706
         ],
         "y": [
          -0.16231895195447443
         ]
        },
        {
         "mode": "markers",
         "text": "tracheostomy",
         "textposition": "top center",
         "type": "scatter",
         "x": [
          1.1192802165800135
         ],
         "y": [
          -1.0815782107123484
         ]
        },
        {
         "mode": "markers",
         "text": "tracing",
         "textposition": "top center",
         "type": "scatter",
         "x": [
          -0.8282866246811232
         ],
         "y": [
          -0.2832573769216442
         ]
        },
        {
         "mode": "markers",
         "text": "transfered",
         "textposition": "top center",
         "type": "scatter",
         "x": [
          -1.0467093084913324
         ],
         "y": [
          -0.3754461065101934
         ]
        },
        {
         "mode": "markers",
         "text": "transferred",
         "textposition": "top center",
         "type": "scatter",
         "x": [
          -1.0501700410398331
         ],
         "y": [
          -0.544320141347257
         ]
        },
        {
         "mode": "markers",
         "text": "transitional",
         "textposition": "top center",
         "type": "scatter",
         "x": [
          -0.7795736295205292
         ],
         "y": [
          -0.0640554316071987
         ]
        },
        {
         "mode": "markers",
         "text": "transitioned",
         "textposition": "top center",
         "type": "scatter",
         "x": [
          -0.9756900723384354
         ],
         "y": [
          -0.25925168924647135
         ]
        },
        {
         "mode": "markers",
         "text": "transplant",
         "textposition": "top center",
         "type": "scatter",
         "x": [
          0.5764572722667279
         ],
         "y": [
          -0.8773026615954084
         ]
        },
        {
         "mode": "markers",
         "text": "transported",
         "textposition": "top center",
         "type": "scatter",
         "x": [
          -0.743239649942283
         ],
         "y": [
          -0.18004192223861687
         ]
        },
        {
         "mode": "markers",
         "text": "trauma",
         "textposition": "top center",
         "type": "scatter",
         "x": [
          0.19530237190885816
         ],
         "y": [
          -0.4341477188389629
         ]
        },
        {
         "mode": "markers",
         "text": "treated",
         "textposition": "top center",
         "type": "scatter",
         "x": [
          -0.31994960186859084
         ],
         "y": [
          -0.18470767234108754
         ]
        },
        {
         "mode": "markers",
         "text": "treaters",
         "textposition": "top center",
         "type": "scatter",
         "x": [
          -0.2372560613701805
         ],
         "y": [
          0.37752860525119974
         ]
        },
        {
         "mode": "markers",
         "text": "trending",
         "textposition": "top center",
         "type": "scatter",
         "x": [
          -0.6965926913846554
         ],
         "y": [
          -0.33045313042631497
         ]
        },
        {
         "mode": "markers",
         "text": "tried",
         "textposition": "top center",
         "type": "scatter",
         "x": [
          -1.1418274072742036
         ],
         "y": [
          0.03537520087161342
         ]
        },
        {
         "mode": "markers",
         "text": "tylenol",
         "textposition": "top center",
         "type": "scatter",
         "x": [
          0.4835251102520478
         ],
         "y": [
          1.1626978219133295
         ]
        },
        {
         "mode": "markers",
         "text": "ulcer",
         "textposition": "top center",
         "type": "scatter",
         "x": [
          1.3939906396304185
         ],
         "y": [
          -0.3804332351594634
         ]
        },
        {
         "mode": "markers",
         "text": "ulcers",
         "textposition": "top center",
         "type": "scatter",
         "x": [
          1.3765938327951237
         ],
         "y": [
          -0.4425717069356383
         ]
        },
        {
         "mode": "markers",
         "text": "unclear",
         "textposition": "top center",
         "type": "scatter",
         "x": [
          -1.111413789131014
         ],
         "y": [
          -0.2662045427273248
         ]
        },
        {
         "mode": "markers",
         "text": "underwent",
         "textposition": "top center",
         "type": "scatter",
         "x": [
          -0.3324615771788145
         ],
         "y": [
          -1.1798542296059242
         ]
        },
        {
         "mode": "markers",
         "text": "unemployed",
         "textposition": "top center",
         "type": "scatter",
         "x": [
          -0.6446927653419512
         ],
         "y": [
          0.04902108240640407
         ]
        },
        {
         "mode": "markers",
         "text": "unremarkable",
         "textposition": "top center",
         "type": "scatter",
         "x": [
          -0.7833481323783543
         ],
         "y": [
          -0.18777393311386564
         ]
        },
        {
         "mode": "markers",
         "text": "unresponsive",
         "textposition": "top center",
         "type": "scatter",
         "x": [
          -0.2850469754072285
         ],
         "y": [
          0.11897016055913433
         ]
        },
        {
         "mode": "markers",
         "text": "urinary",
         "textposition": "top center",
         "type": "scatter",
         "x": [
          1.5402709224911957
         ],
         "y": [
          -0.3613831256454366
         ]
        },
        {
         "mode": "markers",
         "text": "urine",
         "textposition": "top center",
         "type": "scatter",
         "x": [
          0.4689222762529629
         ],
         "y": [
          0.41842938736972973
         ]
        },
        {
         "mode": "markers",
         "text": "using",
         "textposition": "top center",
         "type": "scatter",
         "x": [
          -0.9382775848133965
         ],
         "y": [
          0.048308468588228265
         ]
        },
        {
         "mode": "markers",
         "text": "valium",
         "textposition": "top center",
         "type": "scatter",
         "x": [
          0.30998170627018246
         ],
         "y": [
          2.0283263888109646
         ]
        },
        {
         "mode": "markers",
         "text": "valve",
         "textposition": "top center",
         "type": "scatter",
         "x": [
          0.44913655010717796
         ],
         "y": [
          -0.9695925663420347
         ]
        },
        {
         "mode": "markers",
         "text": "vancomycin",
         "textposition": "top center",
         "type": "scatter",
         "x": [
          1.7271921230772536
         ],
         "y": [
          0.4012824786608573
         ]
        },
        {
         "mode": "markers",
         "text": "vascular",
         "textposition": "top center",
         "type": "scatter",
         "x": [
          1.4970200298431091
         ],
         "y": [
          -1.218740546198505
         ]
        },
        {
         "mode": "markers",
         "text": "vein",
         "textposition": "top center",
         "type": "scatter",
         "x": [
          0.08548861606343007
         ],
         "y": [
          -0.76343488710558
         ]
        },
        {
         "mode": "markers",
         "text": "vent",
         "textposition": "top center",
         "type": "scatter",
         "x": [
          -0.5028579606681193
         ],
         "y": [
          -0.293974000833839
         ]
        },
        {
         "mode": "markers",
         "text": "ventricle",
         "textposition": "top center",
         "type": "scatter",
         "x": [
          1.8769374138105253
         ],
         "y": [
          -1.5778641391164745
         ]
        },
        {
         "mode": "markers",
         "text": "ventricular",
         "textposition": "top center",
         "type": "scatter",
         "x": [
          2.3086819733360766
         ],
         "y": [
          -1.731241270598712
         ]
        },
        {
         "mode": "markers",
         "text": "vicodin",
         "textposition": "top center",
         "type": "scatter",
         "x": [
          0.4559013415620175
         ],
         "y": [
          2.0475086800398175
         ]
        },
        {
         "mode": "markers",
         "text": "vitals",
         "textposition": "top center",
         "type": "scatter",
         "x": [
          0.012569452856990992
         ],
         "y": [
          -0.1998587523761204
         ]
        },
        {
         "mode": "markers",
         "text": "vodka",
         "textposition": "top center",
         "type": "scatter",
         "x": [
          -0.36935419334871716
         ],
         "y": [
          1.1730420013455491
         ]
        },
        {
         "mode": "markers",
         "text": "vomiting",
         "textposition": "top center",
         "type": "scatter",
         "x": [
          0.7384749970062877
         ],
         "y": [
          0.40965867439045195
         ]
        },
        {
         "mode": "markers",
         "text": "walker",
         "textposition": "top center",
         "type": "scatter",
         "x": [
          -0.26960860922182345
         ],
         "y": [
          0.20835644460708336
         ]
        },
        {
         "mode": "markers",
         "text": "wanted",
         "textposition": "top center",
         "type": "scatter",
         "x": [
          -1.0990731834262593
         ],
         "y": [
          -0.15773094932900625
         ]
        },
        {
         "mode": "markers",
         "text": "ward",
         "textposition": "top center",
         "type": "scatter",
         "x": [
          -0.4556282203371537
         ],
         "y": [
          -0.03899731308756609
         ]
        },
        {
         "mode": "markers",
         "text": "weakness",
         "textposition": "top center",
         "type": "scatter",
         "x": [
          -0.41512245513523777
         ],
         "y": [
          -0.3247379630089282
         ]
        },
        {
         "mode": "markers",
         "text": "weeks",
         "textposition": "top center",
         "type": "scatter",
         "x": [
          -0.872100947502293
         ],
         "y": [
          -0.28611716015573374
         ]
        },
        {
         "mode": "markers",
         "text": "wellbutrin",
         "textposition": "top center",
         "type": "scatter",
         "x": [
          0.42064235671381384
         ],
         "y": [
          2.005550651117929
         ]
        },
        {
         "mode": "markers",
         "text": "went",
         "textposition": "top center",
         "type": "scatter",
         "x": [
          -1.0774795199775875
         ],
         "y": [
          -0.14887430456261896
         ]
        },
        {
         "mode": "markers",
         "text": "were",
         "textposition": "top center",
         "type": "scatter",
         "x": [
          -0.959811559093717
         ],
         "y": [
          -0.21844014772009118
         ]
        },
        {
         "mode": "markers",
         "text": "widowed",
         "textposition": "top center",
         "type": "scatter",
         "x": [
          -0.5233562583307833
         ],
         "y": [
          -0.09228829918447073
         ]
        },
        {
         "mode": "markers",
         "text": "withdrawal",
         "textposition": "top center",
         "type": "scatter",
         "x": [
          -0.5026689645903102
         ],
         "y": [
          0.05425732238842115
         ]
        },
        {
         "mode": "markers",
         "text": "withdrawl",
         "textposition": "top center",
         "type": "scatter",
         "x": [
          -0.544952558343473
         ],
         "y": [
          0.5533830993138722
         ]
        },
        {
         "mode": "markers",
         "text": "worked",
         "textposition": "top center",
         "type": "scatter",
         "x": [
          -1.2029524884921488
         ],
         "y": [
          -0.26400020827460674
         ]
        },
        {
         "mode": "markers",
         "text": "worsening",
         "textposition": "top center",
         "type": "scatter",
         "x": [
          -0.4452528512766198
         ],
         "y": [
          -0.127158649290251
         ]
        },
        {
         "mode": "markers",
         "text": "wrist",
         "textposition": "top center",
         "type": "scatter",
         "x": [
          -0.12321637002982543
         ],
         "y": [
          -0.49132479931878625
         ]
        },
        {
         "mode": "markers",
         "text": "wrists",
         "textposition": "top center",
         "type": "scatter",
         "x": [
          -0.233058080694818
         ],
         "y": [
          0.03576077868816028
         ]
        },
        {
         "mode": "markers",
         "text": "xanax",
         "textposition": "top center",
         "type": "scatter",
         "x": [
          0.18928988915482942
         ],
         "y": [
          2.2185690131813174
         ]
        },
        {
         "mode": "markers",
         "text": "years",
         "textposition": "top center",
         "type": "scatter",
         "x": [
          -0.9544421776275388
         ],
         "y": [
          -0.20761972333770023
         ]
        },
        {
         "mode": "markers",
         "text": "zoloft",
         "textposition": "top center",
         "type": "scatter",
         "x": [
          0.2510421275524638
         ],
         "y": [
          1.613723017174955
         ]
        },
        {
         "mode": "markers",
         "text": "zyprexa",
         "textposition": "top center",
         "type": "scatter",
         "x": [
          0.2625260370304881
         ],
         "y": [
          0.4382597169723339
         ]
        }
       ],
       "layout": {
        "showlegend": false,
        "title": "PCA for Google embedded vectors 510 words"
       }
      },
      "text/html": [
       "<div id=\"ce908b51-da5d-45ed-8522-67a42fd2a40b\" style=\"height: 525px; width: 100%;\" class=\"plotly-graph-div\"></div><script type=\"text/javascript\">require([\"plotly\"], function(Plotly) { window.PLOTLYENV=window.PLOTLYENV || {};window.PLOTLYENV.BASE_URL=\"https://plot.ly\";Plotly.newPlot(\"ce908b51-da5d-45ed-8522-67a42fd2a40b\", [{\"type\": \"scatter\", \"x\": [0.8851514888680846], \"y\": [-1.1959316072211712], \"mode\": \"markers\", \"text\": \"abdominal\", \"textposition\": \"top center\"}, {\"type\": \"scatter\", \"x\": [1.766650088277753], \"y\": [1.3696017942327647], \"mode\": \"markers\", \"text\": \"acetaminophen\", \"textposition\": \"top center\"}, {\"type\": \"scatter\", \"x\": [-0.7164692933013475], \"y\": [-0.25084892583060386], \"mode\": \"markers\", \"text\": \"activated\", \"textposition\": \"top center\"}, {\"type\": \"scatter\", \"x\": [-0.8876867478118547], \"y\": [-0.24769121257438537], \"mode\": \"markers\", \"text\": \"actively\", \"textposition\": \"top center\"}, {\"type\": \"scatter\", \"x\": [0.24498335416720302], \"y\": [-0.25239121163997086], \"mode\": \"markers\", \"text\": \"acute\", \"textposition\": \"top center\"}, {\"type\": \"scatter\", \"x\": [-0.3705177730791827], \"y\": [-0.15036832733077926], \"mode\": \"markers\", \"text\": \"acutely\", \"textposition\": \"top center\"}, {\"type\": \"scatter\", \"x\": [0.4104477151008231], \"y\": [0.5902070445401992], \"mode\": \"markers\", \"text\": \"adhd\", \"textposition\": \"top center\"}, {\"type\": \"scatter\", \"x\": [-0.16324976720328624], \"y\": [0.031082845288954507], \"mode\": \"markers\", \"text\": \"admissions\", \"textposition\": \"top center\"}, {\"type\": \"scatter\", \"x\": [-0.9916070851927817], \"y\": [-0.05527977947088284], \"mode\": \"markers\", \"text\": \"admitted\", \"textposition\": \"top center\"}, {\"type\": \"scatter\", \"x\": [1.3406623191365965], \"y\": [-0.022787407632517978], \"mode\": \"markers\", \"text\": \"adrenal\", \"textposition\": \"top center\"}, {\"type\": \"scatter\", \"x\": [0.12355416763296788], \"y\": [-0.05620529821034215], \"mode\": \"markers\", \"text\": \"adverse\", \"textposition\": \"top center\"}, {\"type\": \"scatter\", \"x\": [-0.10523534765644336], \"y\": [0.34967346612536043], \"mode\": \"markers\", \"text\": \"agitation\", \"textposition\": \"top center\"}, {\"type\": \"scatter\", \"x\": [-1.1471765258763658], \"y\": [-0.38555864147938923], \"mode\": \"markers\", \"text\": \"agreed\", \"textposition\": \"top center\"}, {\"type\": \"scatter\", \"x\": [1.5485043395830644], \"y\": [-0.7567900893638836], \"mode\": \"markers\", \"text\": \"airway\", \"textposition\": \"top center\"}, {\"type\": \"scatter\", \"x\": [-0.02643668800528831], \"y\": [0.7886685283151499], \"mode\": \"markers\", \"text\": \"alcoholic\", \"textposition\": \"top center\"}, {\"type\": \"scatter\", \"x\": [0.22176505151407605], \"y\": [0.666157255177724], \"mode\": \"markers\", \"text\": \"alcoholism\", \"textposition\": \"top center\"}, {\"type\": \"scatter\", \"x\": [-0.740985749635582], \"y\": [0.03304859321669735], \"mode\": \"markers\", \"text\": \"alert\", \"textposition\": \"top center\"}, {\"type\": \"scatter\", \"x\": [0.9435499648957253], \"y\": [0.31108949940143626], \"mode\": \"markers\", \"text\": \"allergies\", \"textposition\": \"top center\"}, {\"type\": \"scatter\", \"x\": [0.8928885510136466], \"y\": [0.4428044642594427], \"mode\": \"markers\", \"text\": \"allergy\", \"textposition\": \"top center\"}, {\"type\": \"scatter\", \"x\": [-0.8633852932932348], \"y\": [-0.1878081718137665], \"mode\": \"markers\", \"text\": \"altered\", \"textposition\": \"top center\"}, {\"type\": \"scatter\", \"x\": [0.27227034345853857], \"y\": [2.0731903178576276], \"mode\": \"markers\", \"text\": \"ambien\", \"textposition\": \"top center\"}, {\"type\": \"scatter\", \"x\": [-0.1708139768718544], \"y\": [-0.29784271676821966], \"mode\": \"markers\", \"text\": \"ambulating\", \"textposition\": \"top center\"}, {\"type\": \"scatter\", \"x\": [1.3039903851168606], \"y\": [-0.050338348495582066], \"mode\": \"markers\", \"text\": \"anemia\", \"textposition\": \"top center\"}, {\"type\": \"scatter\", \"x\": [2.0105112397982925], \"y\": [-0.2597160333706024], \"mode\": \"markers\", \"text\": \"apnea\", \"textposition\": \"top center\"}, {\"type\": \"scatter\", \"x\": [-1.0188299924084816], \"y\": [-0.1509392763815282], \"mode\": \"markers\", \"text\": \"appears\", \"textposition\": \"top center\"}, {\"type\": \"scatter\", \"x\": [0.4865804983049902], \"y\": [-0.9618489937222422], \"mode\": \"markers\", \"text\": \"appendectomy\", \"textposition\": \"top center\"}, {\"type\": \"scatter\", \"x\": [-0.2612357095344545], \"y\": [0.09875881129636488], \"mode\": \"markers\", \"text\": \"appetite\", \"textposition\": \"top center\"}, {\"type\": \"scatter\", \"x\": [-0.5853449131599662], \"y\": [0.02273741055746033], \"mode\": \"markers\", \"text\": \"approx\", \"textposition\": \"top center\"}, {\"type\": \"scatter\", \"x\": [1.1004253801903092], \"y\": [-1.0411856488639284], \"mode\": \"markers\", \"text\": \"artery\", \"textposition\": \"top center\"}, {\"type\": \"scatter\", \"x\": [-0.3480648222384941], \"y\": [-0.21323425713032074], \"mode\": \"markers\", \"text\": \"aspiration\", \"textposition\": \"top center\"}, {\"type\": \"scatter\", \"x\": [1.4298874636233125], \"y\": [1.0374311200005224], \"mode\": \"markers\", \"text\": \"aspirin\", \"textposition\": \"top center\"}, {\"type\": \"scatter\", \"x\": [1.0829352662533178], \"y\": [0.11163594905114117], \"mode\": \"markers\", \"text\": \"asthma\", \"textposition\": \"top center\"}, {\"type\": \"scatter\", \"x\": [0.2416488430203075], \"y\": [1.7331912401561593], \"mode\": \"markers\", \"text\": \"ativan\", \"textposition\": \"top center\"}, {\"type\": \"scatter\", \"x\": [2.055262264374121], \"y\": [-1.2515499655570002], \"mode\": \"markers\", \"text\": \"atrial\", \"textposition\": \"top center\"}, {\"type\": \"scatter\", \"x\": [-1.0792817766490719], \"y\": [-0.11249734725212246], \"mode\": \"markers\", \"text\": \"attempted\", \"textposition\": \"top center\"}, {\"type\": \"scatter\", \"x\": [-0.9025978158456425], \"y\": [-0.05861726794231841], \"mode\": \"markers\", \"text\": \"attempts\", \"textposition\": \"top center\"}, {\"type\": \"scatter\", \"x\": [-0.8864981199603944], \"y\": [-0.2662025285731498], \"mode\": \"markers\", \"text\": \"attending\", \"textposition\": \"top center\"}, {\"type\": \"scatter\", \"x\": [-0.2463904031979183], \"y\": [0.3774888851401513], \"mode\": \"markers\", \"text\": \"awake\", \"textposition\": \"top center\"}, {\"type\": \"scatter\", \"x\": [-0.3020886622956207], \"y\": [-0.4334475871860263], \"mode\": \"markers\", \"text\": \"axis\", \"textposition\": \"top center\"}, {\"type\": \"scatter\", \"x\": [0.6440675547584281], \"y\": [1.8011911818068365], \"mode\": \"markers\", \"text\": \"barbiturates\", \"textposition\": \"top center\"}, {\"type\": \"scatter\", \"x\": [-0.07998122668503298], \"y\": [-0.351693261150349], \"mode\": \"markers\", \"text\": \"baseline\", \"textposition\": \"top center\"}, {\"type\": \"scatter\", \"x\": [-1.0668731537880742], \"y\": [-0.24779405207108265], \"mode\": \"markers\", \"text\": \"been\", \"textposition\": \"top center\"}, {\"type\": \"scatter\", \"x\": [-1.200151083223108], \"y\": [-0.16004415562988952], \"mode\": \"markers\", \"text\": \"began\", \"textposition\": \"top center\"}, {\"type\": \"scatter\", \"x\": [-1.0362678675488508], \"y\": [-0.2062604228073262], \"mode\": \"markers\", \"text\": \"believed\", \"textposition\": \"top center\"}, {\"type\": \"scatter\", \"x\": [0.19682819665203977], \"y\": [0.8298011074759667], \"mode\": \"markers\", \"text\": \"benadryl\", \"textposition\": \"top center\"}, {\"type\": \"scatter\", \"x\": [0.45479394008642704], \"y\": [0.9691696856727597], \"mode\": \"markers\", \"text\": \"benzo\", \"textposition\": \"top center\"}, {\"type\": \"scatter\", \"x\": [1.4679802964503321], \"y\": [1.7577690402746653], \"mode\": \"markers\", \"text\": \"benzodiazepine\", \"textposition\": \"top center\"}, {\"type\": \"scatter\", \"x\": [1.5482007959270352], \"y\": [1.7484883402958897], \"mode\": \"markers\", \"text\": \"benzodiazepines\", \"textposition\": \"top center\"}, {\"type\": \"scatter\", \"x\": [0.1784763679434348], \"y\": [0.9520681013098791], \"mode\": \"markers\", \"text\": \"benzos\", \"textposition\": \"top center\"}, {\"type\": \"scatter\", \"x\": [1.297155264321631], \"y\": [-1.1552901506337725], \"mode\": \"markers\", \"text\": \"biopsy\", \"textposition\": \"top center\"}, {\"type\": \"scatter\", \"x\": [0.317577940915009], \"y\": [0.47325773478808936], \"mode\": \"markers\", \"text\": \"bipolar\", \"textposition\": \"top center\"}, {\"type\": \"scatter\", \"x\": [0.4146702380829309], \"y\": [-0.3009902541568029], \"mode\": \"markers\", \"text\": \"bleeding\", \"textposition\": \"top center\"}, {\"type\": \"scatter\", \"x\": [-0.43719623308384786], \"y\": [-0.16847209723985257], \"mode\": \"markers\", \"text\": \"borderline\", \"textposition\": \"top center\"}, {\"type\": \"scatter\", \"x\": [-0.5088925454475277], \"y\": [0.8301650387427355], \"mode\": \"markers\", \"text\": \"bottles\", \"textposition\": \"top center\"}, {\"type\": \"scatter\", \"x\": [1.501046652646325], \"y\": [-0.6642115056446417], \"mode\": \"markers\", \"text\": \"bowel\", \"textposition\": \"top center\"}, {\"type\": \"scatter\", \"x\": [0.09552380443723367], \"y\": [-0.16460701893679883], \"mode\": \"markers\", \"text\": \"breathing\", \"textposition\": \"top center\"}, {\"type\": \"scatter\", \"x\": [-1.1498082700676722], \"y\": [-0.281574192599332], \"mode\": \"markers\", \"text\": \"brought\", \"textposition\": \"top center\"}, {\"type\": \"scatter\", \"x\": [-0.4559660555504302], \"y\": [-0.665649461174959], \"mode\": \"markers\", \"text\": \"bypass\", \"textposition\": \"top center\"}, {\"type\": \"scatter\", \"x\": [-0.002833427527670892], \"y\": [-0.5996819029852444], \"mode\": \"markers\", \"text\": \"calf\", \"textposition\": \"top center\"}, {\"type\": \"scatter\", \"x\": [-0.9633302917097374], \"y\": [-0.10844209887261204], \"mode\": \"markers\", \"text\": \"called\", \"textposition\": \"top center\"}, {\"type\": \"scatter\", \"x\": [-1.1410412436171915], \"y\": [-0.2623355058129464], \"mode\": \"markers\", \"text\": \"came\", \"textposition\": \"top center\"}, {\"type\": \"scatter\", \"x\": [1.320365525656791], \"y\": [-1.0627007456730455], \"mode\": \"markers\", \"text\": \"cardiac\", \"textposition\": \"top center\"}, {\"type\": \"scatter\", \"x\": [0.5583513396620293], \"y\": [-0.9136486393627931], \"mode\": \"markers\", \"text\": \"cardiology\", \"textposition\": \"top center\"}, {\"type\": \"scatter\", \"x\": [0.4109090914005849], \"y\": [-1.056672266449303], \"mode\": \"markers\", \"text\": \"cardiothoracic\", \"textposition\": \"top center\"}, {\"type\": \"scatter\", \"x\": [1.4652353554977342], \"y\": [-0.6137171604261803], \"mode\": \"markers\", \"text\": \"cardiovascular\", \"textposition\": \"top center\"}, {\"type\": \"scatter\", \"x\": [0.3704089415364539], \"y\": [-0.2454995022857603], \"mode\": \"markers\", \"text\": \"cath\", \"textposition\": \"top center\"}, {\"type\": \"scatter\", \"x\": [0.9788681347994227], \"y\": [-1.1555037007365008], \"mode\": \"markers\", \"text\": \"cervical\", \"textposition\": \"top center\"}, {\"type\": \"scatter\", \"x\": [-0.852017571809567], \"y\": [-0.22191505254002605], \"mode\": \"markers\", \"text\": \"changes\", \"textposition\": \"top center\"}, {\"type\": \"scatter\", \"x\": [-0.4761896756259201], \"y\": [0.32390303672723125], \"mode\": \"markers\", \"text\": \"charcoal\", \"textposition\": \"top center\"}, {\"type\": \"scatter\", \"x\": [-0.5206361486868856], \"y\": [0.04061909076590124], \"mode\": \"markers\", \"text\": \"children\", \"textposition\": \"top center\"}, {\"type\": \"scatter\", \"x\": [1.3403530960974446], \"y\": [-1.0476773526217191], \"mode\": \"markers\", \"text\": \"cholecystectomy\", \"textposition\": \"top center\"}, {\"type\": \"scatter\", \"x\": [0.33896209097745283], \"y\": [-0.15620161616741582], \"mode\": \"markers\", \"text\": \"chronic\", \"textposition\": \"top center\"}, {\"type\": \"scatter\", \"x\": [1.29038852218439], \"y\": [-0.3706442159945486], \"mode\": \"markers\", \"text\": \"cirrhosis\", \"textposition\": \"top center\"}, {\"type\": \"scatter\", \"x\": [-1.113971834774736], \"y\": [-0.45785927989239067], \"mode\": \"markers\", \"text\": \"cleared\", \"textposition\": \"top center\"}, {\"type\": \"scatter\", \"x\": [0.975710871446101], \"y\": [1.7541355837253165], \"mode\": \"markers\", \"text\": \"clonazepam\", \"textposition\": \"top center\"}, {\"type\": \"scatter\", \"x\": [-0.15488869847306086], \"y\": [1.4710420973934024], \"mode\": \"markers\", \"text\": \"cocaine\", \"textposition\": \"top center\"}, {\"type\": \"scatter\", \"x\": [0.5637461219168834], \"y\": [2.0222526046543545], \"mode\": \"markers\", \"text\": \"codeine\", \"textposition\": \"top center\"}, {\"type\": \"scatter\", \"x\": [-0.6401608342206672], \"y\": [0.1343406438200418], \"mode\": \"markers\", \"text\": \"coherent\", \"textposition\": \"top center\"}, {\"type\": \"scatter\", \"x\": [1.460343199426421], \"y\": [-0.8588900555149027], \"mode\": \"markers\", \"text\": \"colectomy\", \"textposition\": \"top center\"}, {\"type\": \"scatter\", \"x\": [1.0367003875605654], \"y\": [-0.6594163368885403], \"mode\": \"markers\", \"text\": \"colon\", \"textposition\": \"top center\"}, {\"type\": \"scatter\", \"x\": [1.1025694019403507], \"y\": [-0.20371874858447575], \"mode\": \"markers\", \"text\": \"colonic\", \"textposition\": \"top center\"}, {\"type\": \"scatter\", \"x\": [-0.1738827777306395], \"y\": [-0.3517257740638173], \"mode\": \"markers\", \"text\": \"compartment\", \"textposition\": \"top center\"}, {\"type\": \"scatter\", \"x\": [0.4228055810633027], \"y\": [-0.701572874231554], \"mode\": \"markers\", \"text\": \"complications\", \"textposition\": \"top center\"}, {\"type\": \"scatter\", \"x\": [-0.9827296080861183], \"y\": [-0.26002082880970845], \"mode\": \"markers\", \"text\": \"concerning\", \"textposition\": \"top center\"}, {\"type\": \"scatter\", \"x\": [-1.1308689265480882], \"y\": [-0.40627287268768747], \"mode\": \"markers\", \"text\": \"confirmed\", \"textposition\": \"top center\"}, {\"type\": \"scatter\", \"x\": [-0.7188106170483917], \"y\": [-0.0774640441029254], \"mode\": \"markers\", \"text\": \"consult\", \"textposition\": \"top center\"}, {\"type\": \"scatter\", \"x\": [-0.9911211812583133], \"y\": [-0.28091880676217446], \"mode\": \"markers\", \"text\": \"consulted\", \"textposition\": \"top center\"}, {\"type\": \"scatter\", \"x\": [-0.9716483245986116], \"y\": [-0.23720292796620446], \"mode\": \"markers\", \"text\": \"continuing\", \"textposition\": \"top center\"}, {\"type\": \"scatter\", \"x\": [-0.31223659679049376], \"y\": [0.16964673061642752], \"mode\": \"markers\", \"text\": \"contributory\", \"textposition\": \"top center\"}, {\"type\": \"scatter\", \"x\": [-0.9241401580298888], \"y\": [-0.05496915250994073], \"mode\": \"markers\", \"text\": \"controlled\", \"textposition\": \"top center\"}, {\"type\": \"scatter\", \"x\": [-0.2624727403335194], \"y\": [-0.3637564440307721], \"mode\": \"markers\", \"text\": \"cord\", \"textposition\": \"top center\"}, {\"type\": \"scatter\", \"x\": [1.4791351010182505], \"y\": [-1.1727911814201257], \"mode\": \"markers\", \"text\": \"coronary\", \"textposition\": \"top center\"}, {\"type\": \"scatter\", \"x\": [0.03224885836408856], \"y\": [0.4446854616499868], \"mode\": \"markers\", \"text\": \"cough\", \"textposition\": \"top center\"}, {\"type\": \"scatter\", \"x\": [0.43722769573917153], \"y\": [0.34608978750367964], \"mode\": \"markers\", \"text\": \"coumadin\", \"textposition\": \"top center\"}, {\"type\": \"scatter\", \"x\": [-0.5445711459937489], \"y\": [0.380425565637972], \"mode\": \"markers\", \"text\": \"counseling\", \"textposition\": \"top center\"}, {\"type\": \"scatter\", \"x\": [1.6305073160133863], \"y\": [-0.32357912266368466], \"mode\": \"markers\", \"text\": \"creatinine\", \"textposition\": \"top center\"}, {\"type\": \"scatter\", \"x\": [-0.929133204664065], \"y\": [-0.36399815829137794], \"mode\": \"markers\", \"text\": \"cutting\", \"textposition\": \"top center\"}, {\"type\": \"scatter\", \"x\": [1.2766333900904858], \"y\": [-1.0014011817169128], \"mode\": \"markers\", \"text\": \"cyst\", \"textposition\": \"top center\"}, {\"type\": \"scatter\", \"x\": [-0.958774114179539], \"y\": [-0.06149063718738519], \"mode\": \"markers\", \"text\": \"days\", \"textposition\": \"top center\"}, {\"type\": \"scatter\", \"x\": [-0.6227935136417614], \"y\": [-0.05424232431826446], \"mode\": \"markers\", \"text\": \"deceased\", \"textposition\": \"top center\"}, {\"type\": \"scatter\", \"x\": [-1.1597919378270756], \"y\": [-0.27495558356269845], \"mode\": \"markers\", \"text\": \"decided\", \"textposition\": \"top center\"}, {\"type\": \"scatter\", \"x\": [-0.39066618289207017], \"y\": [-0.2260060557956579], \"mode\": \"markers\", \"text\": \"decreased\", \"textposition\": \"top center\"}, {\"type\": \"scatter\", \"x\": [-0.9574133999211819], \"y\": [-0.3619529825341479], \"mode\": \"markers\", \"text\": \"deemed\", \"textposition\": \"top center\"}, {\"type\": \"scatter\", \"x\": [-0.028083808118963195], \"y\": [-0.8631069562603508], \"mode\": \"markers\", \"text\": \"defect\", \"textposition\": \"top center\"}, {\"type\": \"scatter\", \"x\": [0.09318580841180592], \"y\": [-0.39767180284817427], \"mode\": \"markers\", \"text\": \"deficiency\", \"textposition\": \"top center\"}, {\"type\": \"scatter\", \"x\": [-1.2552885436707573], \"y\": [-0.37897513791447884], \"mode\": \"markers\", \"text\": \"denied\", \"textposition\": \"top center\"}, {\"type\": \"scatter\", \"x\": [-1.3658623987527703], \"y\": [-0.1628870932257066], \"mode\": \"markers\", \"text\": \"denies\", \"textposition\": \"top center\"}, {\"type\": \"scatter\", \"x\": [-0.20573515858702393], \"y\": [0.46786704444105853], \"mode\": \"markers\", \"text\": \"depakote\", \"textposition\": \"top center\"}, {\"type\": \"scatter\", \"x\": [-0.454002622700627], \"y\": [0.36969281091798506], \"mode\": \"markers\", \"text\": \"dependence\", \"textposition\": \"top center\"}, {\"type\": \"scatter\", \"x\": [-0.35086266636688634], \"y\": [0.3114217454449972], \"mode\": \"markers\", \"text\": \"depressed\", \"textposition\": \"top center\"}, {\"type\": \"scatter\", \"x\": [-1.018820782253719], \"y\": [-0.14356584894707403], \"mode\": \"markers\", \"text\": \"details\", \"textposition\": \"top center\"}, {\"type\": \"scatter\", \"x\": [-1.042718715841192], \"y\": [-0.2285429510345333], \"mode\": \"markers\", \"text\": \"determined\", \"textposition\": \"top center\"}, {\"type\": \"scatter\", \"x\": [0.10288287073365143], \"y\": [0.9819247439733035], \"mode\": \"markers\", \"text\": \"detox\", \"textposition\": \"top center\"}, {\"type\": \"scatter\", \"x\": [1.1601265925004793], \"y\": [-0.23949834817039567], \"mode\": \"markers\", \"text\": \"diabetes\", \"textposition\": \"top center\"}, {\"type\": \"scatter\", \"x\": [0.4082496321747566], \"y\": [-0.7061503489512444], \"mode\": \"markers\", \"text\": \"diagnosed\", \"textposition\": \"top center\"}, {\"type\": \"scatter\", \"x\": [0.4785966700775189], \"y\": [-0.2002913425105521], \"mode\": \"markers\", \"text\": \"diagnoses\", \"textposition\": \"top center\"}, {\"type\": \"scatter\", \"x\": [0.6199482314359984], \"y\": [-0.6477929847681647], \"mode\": \"markers\", \"text\": \"diagnosis\", \"textposition\": \"top center\"}, {\"type\": \"scatter\", \"x\": [1.831667403906695], \"y\": [-0.790504333983848], \"mode\": \"markers\", \"text\": \"diastolic\", \"textposition\": \"top center\"}, {\"type\": \"scatter\", \"x\": [0.691640965561291], \"y\": [1.9246857462225209], \"mode\": \"markers\", \"text\": \"diazepam\", \"textposition\": \"top center\"}, {\"type\": \"scatter\", \"x\": [-0.5849537329460911], \"y\": [-0.22707962886894914], \"mode\": \"markers\", \"text\": \"died\", \"textposition\": \"top center\"}, {\"type\": \"scatter\", \"x\": [0.9309185897237146], \"y\": [-0.7006679906664206], \"mode\": \"markers\", \"text\": \"dilated\", \"textposition\": \"top center\"}, {\"type\": \"scatter\", \"x\": [-0.5190379027588357], \"y\": [-0.17808084927975956], \"mode\": \"markers\", \"text\": \"discharged\", \"textposition\": \"top center\"}, {\"type\": \"scatter\", \"x\": [-0.5297734246777045], \"y\": [-0.03686437669646655], \"mode\": \"markers\", \"text\": \"discontinued\", \"textposition\": \"top center\"}, {\"type\": \"scatter\", \"x\": [-1.0584980069656953], \"y\": [-0.3429076166664147], \"mode\": \"markers\", \"text\": \"discussed\", \"textposition\": \"top center\"}, {\"type\": \"scatter\", \"x\": [-0.5643107299700847], \"y\": [-0.05663397194211777], \"mode\": \"markers\", \"text\": \"disposition\", \"textposition\": \"top center\"}, {\"type\": \"scatter\", \"x\": [1.2002118805909394], \"y\": [-1.5925750028546153], \"mode\": \"markers\", \"text\": \"distal\", \"textposition\": \"top center\"}, {\"type\": \"scatter\", \"x\": [-0.7322067991230361], \"y\": [0.08856698003713107], \"mode\": \"markers\", \"text\": \"divorced\", \"textposition\": \"top center\"}, {\"type\": \"scatter\", \"x\": [-1.0297242204170427], \"y\": [-0.07556577129324102], \"mode\": \"markers\", \"text\": \"does\", \"textposition\": \"top center\"}, {\"type\": \"scatter\", \"x\": [-1.0599531429377476], \"y\": [-0.32153530937189007], \"mode\": \"markers\", \"text\": \"done\", \"textposition\": \"top center\"}, {\"type\": \"scatter\", \"x\": [0.6053900222149748], \"y\": [0.7032719445452534], \"mode\": \"markers\", \"text\": \"dose\", \"textposition\": \"top center\"}, {\"type\": \"scatter\", \"x\": [-0.2712718262013195], \"y\": [0.7966947283393951], \"mode\": \"markers\", \"text\": \"drinking\", \"textposition\": \"top center\"}, {\"type\": \"scatter\", \"x\": [-0.34309268820927863], \"y\": [0.8593290058433073], \"mode\": \"markers\", \"text\": \"drinks\", \"textposition\": \"top center\"}, {\"type\": \"scatter\", \"x\": [-0.11694197098038925], \"y\": [0.2513026687829725], \"mode\": \"markers\", \"text\": \"drip\", \"textposition\": \"top center\"}, {\"type\": \"scatter\", \"x\": [0.15161956494496737], \"y\": [1.4241519995410632], \"mode\": \"markers\", \"text\": \"drugs\", \"textposition\": \"top center\"}, {\"type\": \"scatter\", \"x\": [1.7799496769733794], \"y\": [-0.22480985890576813], \"mode\": \"markers\", \"text\": \"dyslipidemia\", \"textposition\": \"top center\"}, {\"type\": \"scatter\", \"x\": [-0.37617164756899407], \"y\": [0.20071055690231232], \"mode\": \"markers\", \"text\": \"eating\", \"textposition\": \"top center\"}, {\"type\": \"scatter\", \"x\": [-0.7661127596767505], \"y\": [-0.22097670987229928], \"mode\": \"markers\", \"text\": \"echo\", \"textposition\": \"top center\"}, {\"type\": \"scatter\", \"x\": [1.2060457081386333], \"y\": [-0.9788924896588901], \"mode\": \"markers\", \"text\": \"echocardiogram\", \"textposition\": \"top center\"}, {\"type\": \"scatter\", \"x\": [1.951206915281983], \"y\": [-0.7001499824624813], \"mode\": \"markers\", \"text\": \"edema\", \"textposition\": \"top center\"}, {\"type\": \"scatter\", \"x\": [-0.20509378029902794], \"y\": [0.42627989554386747], \"mode\": \"markers\", \"text\": \"effects\", \"textposition\": \"top center\"}, {\"type\": \"scatter\", \"x\": [0.4750571714986994], \"y\": [1.7765947657235737], \"mode\": \"markers\", \"text\": \"effexor\", \"textposition\": \"top center\"}, {\"type\": \"scatter\", \"x\": [-0.44608102640124253], \"y\": [-0.4448331150955091], \"mode\": \"markers\", \"text\": \"elevated\", \"textposition\": \"top center\"}, {\"type\": \"scatter\", \"x\": [1.3582521824111702], \"y\": [-0.2455171864823575], \"mode\": \"markers\", \"text\": \"encephalopathy\", \"textposition\": \"top center\"}, {\"type\": \"scatter\", \"x\": [1.6650982098482707], \"y\": [-0.46595716430441914], \"mode\": \"markers\", \"text\": \"endometriosis\", \"textposition\": \"top center\"}, {\"type\": \"scatter\", \"x\": [-1.0649854034266155], \"y\": [-0.3403341863170133], \"mode\": \"markers\", \"text\": \"endorsed\", \"textposition\": \"top center\"}, {\"type\": \"scatter\", \"x\": [1.036458949205999], \"y\": [0.17698691336265246], \"mode\": \"markers\", \"text\": \"epilepsy\", \"textposition\": \"top center\"}, {\"type\": \"scatter\", \"x\": [1.9070906296549104], \"y\": [1.0576161249009504], \"mode\": \"markers\", \"text\": \"erythromycin\", \"textposition\": \"top center\"}, {\"type\": \"scatter\", \"x\": [1.5580231242290288], \"y\": [-0.9995591375650925], \"mode\": \"markers\", \"text\": \"esophageal\", \"textposition\": \"top center\"}, {\"type\": \"scatter\", \"x\": [1.1428379674217477], \"y\": [-0.22356662151784548], \"mode\": \"markers\", \"text\": \"esophagitis\", \"textposition\": \"top center\"}, {\"type\": \"scatter\", \"x\": [1.5033109605117065], \"y\": [-1.1251216292700574], \"mode\": \"markers\", \"text\": \"esophagus\", \"textposition\": \"top center\"}, {\"type\": \"scatter\", \"x\": [-0.8489075979585915], \"y\": [-0.26655591542607204], \"mode\": \"markers\", \"text\": \"estimated\", \"textposition\": \"top center\"}, {\"type\": \"scatter\", \"x\": [-0.3525640738996161], \"y\": [0.5855362449196954], \"mode\": \"markers\", \"text\": \"ethanol\", \"textposition\": \"top center\"}, {\"type\": \"scatter\", \"x\": [0.3026681119177526], \"y\": [0.24037524726338888], \"mode\": \"markers\", \"text\": \"ethylene\", \"textposition\": \"top center\"}, {\"type\": \"scatter\", \"x\": [1.282781302249595], \"y\": [-0.6768572046239071], \"mode\": \"markers\", \"text\": \"etiology\", \"textposition\": \"top center\"}, {\"type\": \"scatter\", \"x\": [-0.2612270277650212], \"y\": [0.34020721044326674], \"mode\": \"markers\", \"text\": \"eval\", \"textposition\": \"top center\"}, {\"type\": \"scatter\", \"x\": [-0.5146089801962779], \"y\": [-0.4858652739338318], \"mode\": \"markers\", \"text\": \"evaluated\", \"textposition\": \"top center\"}, {\"type\": \"scatter\", \"x\": [-0.09547030216342836], \"y\": [-0.14863067887922554], \"mode\": \"markers\", \"text\": \"exam\", \"textposition\": \"top center\"}, {\"type\": \"scatter\", \"x\": [-1.0631202374577586], \"y\": [0.11513929216105619], \"mode\": \"markers\", \"text\": \"expired\", \"textposition\": \"top center\"}, {\"type\": \"scatter\", \"x\": [-1.1118066590411597], \"y\": [-0.35640863321804567], \"mode\": \"markers\", \"text\": \"expressed\", \"textposition\": \"top center\"}, {\"type\": \"scatter\", \"x\": [-1.0487086356517423], \"y\": [-0.21877998235651036], \"mode\": \"markers\", \"text\": \"extended\", \"textposition\": \"top center\"}, {\"type\": \"scatter\", \"x\": [0.16724041845986393], \"y\": [-0.25237717563853596], \"mode\": \"markers\", \"text\": \"extubated\", \"textposition\": \"top center\"}, {\"type\": \"scatter\", \"x\": [0.13364543390627615], \"y\": [-0.5968920402643605], \"mode\": \"markers\", \"text\": \"facial\", \"textposition\": \"top center\"}, {\"type\": \"scatter\", \"x\": [-0.7614551990353056], \"y\": [0.05589453743762914], \"mode\": \"markers\", \"text\": \"feeds\", \"textposition\": \"top center\"}, {\"type\": \"scatter\", \"x\": [-0.9033023027011897], \"y\": [-0.23735560562932004], \"mode\": \"markers\", \"text\": \"feels\", \"textposition\": \"top center\"}, {\"type\": \"scatter\", \"x\": [-0.8945988609743419], \"y\": [-0.19839113130411024], \"mode\": \"markers\", \"text\": \"felt\", \"textposition\": \"top center\"}, {\"type\": \"scatter\", \"x\": [0.13768413902042073], \"y\": [0.09530890272928177], \"mode\": \"markers\", \"text\": \"fever\", \"textposition\": \"top center\"}, {\"type\": \"scatter\", \"x\": [0.9250930867286814], \"y\": [0.2754901106865115], \"mode\": \"markers\", \"text\": \"fevers\", \"textposition\": \"top center\"}, {\"type\": \"scatter\", \"x\": [1.420375437130309], \"y\": [-0.6584646329719613], \"mode\": \"markers\", \"text\": \"fibrillation\", \"textposition\": \"top center\"}, {\"type\": \"scatter\", \"x\": [-0.4688890033121845], \"y\": [-0.024958478539358814], \"mode\": \"markers\", \"text\": \"filter\", \"textposition\": \"top center\"}, {\"type\": \"scatter\", \"x\": [-0.46853744454677876], \"y\": [-0.3025579999598421], \"mode\": \"markers\", \"text\": \"findings\", \"textposition\": \"top center\"}, {\"type\": \"scatter\", \"x\": [-0.1952457144607455], \"y\": [0.7235765867924193], \"mode\": \"markers\", \"text\": \"flexeril\", \"textposition\": \"top center\"}, {\"type\": \"scatter\", \"x\": [0.06718732566059508], \"y\": [-0.2814697820717184], \"mode\": \"markers\", \"text\": \"fluid\", \"textposition\": \"top center\"}, {\"type\": \"scatter\", \"x\": [0.5466208867048422], \"y\": [0.11652225966620083], \"mode\": \"markers\", \"text\": \"fluids\", \"textposition\": \"top center\"}, {\"type\": \"scatter\", \"x\": [1.5855200678916033], \"y\": [0.5512733284492147], \"mode\": \"markers\", \"text\": \"folate\", \"textposition\": \"top center\"}, {\"type\": \"scatter\", \"x\": [-0.9109423287222257], \"y\": [-0.3016556339868933], \"mode\": \"markers\", \"text\": \"followed\", \"textposition\": \"top center\"}, {\"type\": \"scatter\", \"x\": [-0.3353382770275314], \"y\": [-0.32472777886179555], \"mode\": \"markers\", \"text\": \"followup\", \"textposition\": \"top center\"}, {\"type\": \"scatter\", \"x\": [0.689622628600154], \"y\": [-0.9382310567380894], \"mode\": \"markers\", \"text\": \"fracture\", \"textposition\": \"top center\"}, {\"type\": \"scatter\", \"x\": [-0.8817017571074977], \"y\": [0.16684193990409546], \"mode\": \"markers\", \"text\": \"friends\", \"textposition\": \"top center\"}, {\"type\": \"scatter\", \"x\": [-0.7327664315905423], \"y\": [-0.36808889207858997], \"mode\": \"markers\", \"text\": \"further\", \"textposition\": \"top center\"}, {\"type\": \"scatter\", \"x\": [1.2329783340971714], \"y\": [-0.5609671224457179], \"mode\": \"markers\", \"text\": \"gastric\", \"textposition\": \"top center\"}, {\"type\": \"scatter\", \"x\": [1.156013945053563], \"y\": [-0.17814355983663346], \"mode\": \"markers\", \"text\": \"gastritis\", \"textposition\": \"top center\"}, {\"type\": \"scatter\", \"x\": [1.3543638309578412], \"y\": [-0.30767822527583627], \"mode\": \"markers\", \"text\": \"gastrointestinal\", \"textposition\": \"top center\"}, {\"type\": \"scatter\", \"x\": [0.2415164992435333], \"y\": [0.6410216876701401], \"mode\": \"markers\", \"text\": \"glycol\", \"textposition\": \"top center\"}, {\"type\": \"scatter\", \"x\": [-1.0386115845112414], \"y\": [-0.06959992412877614], \"mode\": \"markers\", \"text\": \"going\", \"textposition\": \"top center\"}, {\"type\": \"scatter\", \"x\": [1.4020495368616381], \"y\": [0.07178070917108077], \"mode\": \"markers\", \"text\": \"gout\", \"textposition\": \"top center\"}, {\"type\": \"scatter\", \"x\": [0.08619412274267958], \"y\": [-0.6000144292719879], \"mode\": \"markers\", \"text\": \"graft\", \"textposition\": \"top center\"}, {\"type\": \"scatter\", \"x\": [0.7822543279558568], \"y\": [1.056467853006735], \"mode\": \"markers\", \"text\": \"hallucinations\", \"textposition\": \"top center\"}, {\"type\": \"scatter\", \"x\": [-1.0264699049878696], \"y\": [-0.2114290358629612], \"mode\": \"markers\", \"text\": \"hanging\", \"textposition\": \"top center\"}, {\"type\": \"scatter\", \"x\": [-0.6013858085427356], \"y\": [0.10191346927145642], \"mode\": \"markers\", \"text\": \"harm\", \"textposition\": \"top center\"}, {\"type\": \"scatter\", \"x\": [-1.1326048920662706], \"y\": [-0.3633582237732736], \"mode\": \"markers\", \"text\": \"held\", \"textposition\": \"top center\"}, {\"type\": \"scatter\", \"x\": [1.7146887690442687], \"y\": [-0.4319292685329463], \"mode\": \"markers\", \"text\": \"hematocrit\", \"textposition\": \"top center\"}, {\"type\": \"scatter\", \"x\": [0.044725318631923375], \"y\": [-0.3098896979223208], \"mode\": \"markers\", \"text\": \"hemodynamically\", \"textposition\": \"top center\"}, {\"type\": \"scatter\", \"x\": [1.8788152302377383], \"y\": [-0.6657840722843057], \"mode\": \"markers\", \"text\": \"hepatic\", \"textposition\": \"top center\"}, {\"type\": \"scatter\", \"x\": [0.5485137896209621], \"y\": [0.20486335902794042], \"mode\": \"markers\", \"text\": \"hepatitis\", \"textposition\": \"top center\"}, {\"type\": \"scatter\", \"x\": [0.5915884020530493], \"y\": [-0.5932595168035785], \"mode\": \"markers\", \"text\": \"hepatology\", \"textposition\": \"top center\"}, {\"type\": \"scatter\", \"x\": [0.7148072443560194], \"y\": [-0.9758657944400772], \"mode\": \"markers\", \"text\": \"hernia\", \"textposition\": \"top center\"}, {\"type\": \"scatter\", \"x\": [-0.0933930543710674], \"y\": [1.6836371184852184], \"mode\": \"markers\", \"text\": \"heroin\", \"textposition\": \"top center\"}, {\"type\": \"scatter\", \"x\": [0.680658551509422], \"y\": [-0.290998049744216], \"mode\": \"markers\", \"text\": \"hospitalization\", \"textposition\": \"top center\"}, {\"type\": \"scatter\", \"x\": [1.0395300385806188], \"y\": [0.0185504172031806], \"mode\": \"markers\", \"text\": \"hospitalizations\", \"textposition\": \"top center\"}, {\"type\": \"scatter\", \"x\": [0.04289595448885319], \"y\": [-0.3725318367760028], \"mode\": \"markers\", \"text\": \"hospitalized\", \"textposition\": \"top center\"}, {\"type\": \"scatter\", \"x\": [-0.7463411640781992], \"y\": [-0.023027546939169974], \"mode\": \"markers\", \"text\": \"hours\", \"textposition\": \"top center\"}, {\"type\": \"scatter\", \"x\": [1.682510605254002], \"y\": [-0.14091786807778925], \"mode\": \"markers\", \"text\": \"hypercholesterolemia\", \"textposition\": \"top center\"}, {\"type\": \"scatter\", \"x\": [1.3628189640251132], \"y\": [-0.08868205522418844], \"mode\": \"markers\", \"text\": \"hyperlipidemia\", \"textposition\": \"top center\"}, {\"type\": \"scatter\", \"x\": [1.623975225176101], \"y\": [-0.06592946184512787], \"mode\": \"markers\", \"text\": \"hypertension\", \"textposition\": \"top center\"}, {\"type\": \"scatter\", \"x\": [2.433379325563454], \"y\": [-0.10392740134446939], \"mode\": \"markers\", \"text\": \"hypotension\", \"textposition\": \"top center\"}, {\"type\": \"scatter\", \"x\": [1.184941381626685], \"y\": [-0.10373257820005265], \"mode\": \"markers\", \"text\": \"hypothyroid\", \"textposition\": \"top center\"}, {\"type\": \"scatter\", \"x\": [1.817973464057899], \"y\": [0.020187619027198636], \"mode\": \"markers\", \"text\": \"hypothyroidism\", \"textposition\": \"top center\"}, {\"type\": \"scatter\", \"x\": [1.2583394145228175], \"y\": [1.3095295963573477], \"mode\": \"markers\", \"text\": \"ibuprofen\", \"textposition\": \"top center\"}, {\"type\": \"scatter\", \"x\": [-0.1331179496370111], \"y\": [0.1513380054502899], \"mode\": \"markers\", \"text\": \"ideation\", \"textposition\": \"top center\"}, {\"type\": \"scatter\", \"x\": [-0.4854889491094223], \"y\": [0.23101387598904294], \"mode\": \"markers\", \"text\": \"ideations\", \"textposition\": \"top center\"}, {\"type\": \"scatter\", \"x\": [-0.6379888255332596], \"y\": [0.05842784026892216], \"mode\": \"markers\", \"text\": \"illicits\", \"textposition\": \"top center\"}, {\"type\": \"scatter\", \"x\": [0.11056550482398551], \"y\": [-0.7486220274365836], \"mode\": \"markers\", \"text\": \"imaging\", \"textposition\": \"top center\"}, {\"type\": \"scatter\", \"x\": [-0.8686719584830837], \"y\": [-0.4864971126812793], \"mode\": \"markers\", \"text\": \"improved\", \"textposition\": \"top center\"}, {\"type\": \"scatter\", \"x\": [-0.22055163099893307], \"y\": [0.24421604958964896], \"mode\": \"markers\", \"text\": \"incarceration\", \"textposition\": \"top center\"}, {\"type\": \"scatter\", \"x\": [-0.9727454776261556], \"y\": [-0.34842077351836614], \"mode\": \"markers\", \"text\": \"indicated\", \"textposition\": \"top center\"}, {\"type\": \"scatter\", \"x\": [1.5453384002328598], \"y\": [0.44345544580541213], \"mode\": \"markers\", \"text\": \"indomethacin\", \"textposition\": \"top center\"}, {\"type\": \"scatter\", \"x\": [-0.1431531462171772], \"y\": [0.10871552696797616], \"mode\": \"markers\", \"text\": \"induced\", \"textposition\": \"top center\"}, {\"type\": \"scatter\", \"x\": [-0.8969597756599065], \"y\": [-0.2529956226957551], \"mode\": \"markers\", \"text\": \"inflicted\", \"textposition\": \"top center\"}, {\"type\": \"scatter\", \"x\": [0.31793281456571787], \"y\": [0.9100507676884595], \"mode\": \"markers\", \"text\": \"ingested\", \"textposition\": \"top center\"}, {\"type\": \"scatter\", \"x\": [0.24584106858593646], \"y\": [0.9439260402255452], \"mode\": \"markers\", \"text\": \"ingesting\", \"textposition\": \"top center\"}, {\"type\": \"scatter\", \"x\": [0.7147206264588138], \"y\": [0.548706720015216], \"mode\": \"markers\", \"text\": \"ingestion\", \"textposition\": \"top center\"}, {\"type\": \"scatter\", \"x\": [-1.0309139807890473], \"y\": [-0.3172969340468838], \"mode\": \"markers\", \"text\": \"initiated\", \"textposition\": \"top center\"}, {\"type\": \"scatter\", \"x\": [-0.06206571589968273], \"y\": [-0.5644407528125545], \"mode\": \"markers\", \"text\": \"injuries\", \"textposition\": \"top center\"}, {\"type\": \"scatter\", \"x\": [0.28567487568100575], \"y\": [-0.08119965615554633], \"mode\": \"markers\", \"text\": \"inpatient\", \"textposition\": \"top center\"}, {\"type\": \"scatter\", \"x\": [-0.8003334476632931], \"y\": [0.09998901427161605], \"mode\": \"markers\", \"text\": \"instructions\", \"textposition\": \"top center\"}, {\"type\": \"scatter\", \"x\": [0.3765867888441231], \"y\": [-0.48189814910461076], \"mode\": \"markers\", \"text\": \"insufficiency\", \"textposition\": \"top center\"}, {\"type\": \"scatter\", \"x\": [1.3783558345273896], \"y\": [0.7499204276192776], \"mode\": \"markers\", \"text\": \"insulin\", \"textposition\": \"top center\"}, {\"type\": \"scatter\", \"x\": [0.306526096831355], \"y\": [0.08194750287642541], \"mode\": \"markers\", \"text\": \"intake\", \"textposition\": \"top center\"}, {\"type\": \"scatter\", \"x\": [-0.6740725844147262], \"y\": [-0.3244531636813189], \"mode\": \"markers\", \"text\": \"intensive\", \"textposition\": \"top center\"}, {\"type\": \"scatter\", \"x\": [-0.5862365578084252], \"y\": [-0.09846773606916123], \"mode\": \"markers\", \"text\": \"intentional\", \"textposition\": \"top center\"}, {\"type\": \"scatter\", \"x\": [-0.16726186398537024], \"y\": [0.6913422596256181], \"mode\": \"markers\", \"text\": \"intoxicated\", \"textposition\": \"top center\"}, {\"type\": \"scatter\", \"x\": [0.3922356127354825], \"y\": [0.910518969747531], \"mode\": \"markers\", \"text\": \"intoxication\", \"textposition\": \"top center\"}, {\"type\": \"scatter\", \"x\": [1.1496137914139142], \"y\": [-0.4183454148405842], \"mode\": \"markers\", \"text\": \"intubated\", \"textposition\": \"top center\"}, {\"type\": \"scatter\", \"x\": [1.4222996592820605], \"y\": [-0.5027207364776182], \"mode\": \"markers\", \"text\": \"intubation\", \"textposition\": \"top center\"}, {\"type\": \"scatter\", \"x\": [0.32533252905842835], \"y\": [-0.5966609963595452], \"mode\": \"markers\", \"text\": \"invasive\", \"textposition\": \"top center\"}, {\"type\": \"scatter\", \"x\": [0.5960948074727406], \"y\": [0.9561719124175347], \"mode\": \"markers\", \"text\": \"iodine\", \"textposition\": \"top center\"}, {\"type\": \"scatter\", \"x\": [2.317597193496351], \"y\": [-1.3883187489840267], \"mode\": \"markers\", \"text\": \"ischemic\", \"textposition\": \"top center\"}, {\"type\": \"scatter\", \"x\": [-0.8787233873146574], \"y\": [-0.31491181234127236], \"mode\": \"markers\", \"text\": \"issues\", \"textposition\": \"top center\"}, {\"type\": \"scatter\", \"x\": [-1.172797103227764], \"y\": [-0.13892568571778105], \"mode\": \"markers\", \"text\": \"kept\", \"textposition\": \"top center\"}, {\"type\": \"scatter\", \"x\": [1.1601723382941889], \"y\": [0.05193510119075407], \"mode\": \"markers\", \"text\": \"ketoacidosis\", \"textposition\": \"top center\"}, {\"type\": \"scatter\", \"x\": [0.8893351142074776], \"y\": [-0.527018756123535], \"mode\": \"markers\", \"text\": \"kidney\", \"textposition\": \"top center\"}, {\"type\": \"scatter\", \"x\": [0.2353948717848511], \"y\": [1.082248881495644], \"mode\": \"markers\", \"text\": \"klonopin\", \"textposition\": \"top center\"}, {\"type\": \"scatter\", \"x\": [-0.8498901320250086], \"y\": [0.019031990821581427], \"mode\": \"markers\", \"text\": \"known\", \"textposition\": \"top center\"}, {\"type\": \"scatter\", \"x\": [-0.6828233544438373], \"y\": [0.25650855702103287], \"mode\": \"markers\", \"text\": \"labs\", \"textposition\": \"top center\"}, {\"type\": \"scatter\", \"x\": [0.36424375441366125], \"y\": [-0.8824766819530787], \"mode\": \"markers\", \"text\": \"laceration\", \"textposition\": \"top center\"}, {\"type\": \"scatter\", \"x\": [0.11047500004497518], \"y\": [0.3793263706732051], \"mode\": \"markers\", \"text\": \"lamictal\", \"textposition\": \"top center\"}, {\"type\": \"scatter\", \"x\": [0.6519393705359783], \"y\": [2.192086307637931], \"mode\": \"markers\", \"text\": \"lexapro\", \"textposition\": \"top center\"}, {\"type\": \"scatter\", \"x\": [0.2170628794414746], \"y\": [0.7944664288343616], \"mode\": \"markers\", \"text\": \"lithium\", \"textposition\": \"top center\"}, {\"type\": \"scatter\", \"x\": [-0.9178667636885106], \"y\": [-0.03259022076121418], \"mode\": \"markers\", \"text\": \"lived\", \"textposition\": \"top center\"}, {\"type\": \"scatter\", \"x\": [1.3055090047786275], \"y\": [-0.35227451947658206], \"mode\": \"markers\", \"text\": \"liver\", \"textposition\": \"top center\"}, {\"type\": \"scatter\", \"x\": [-0.7287664289645096], \"y\": [-0.012321798898462483], \"mode\": \"markers\", \"text\": \"lives\", \"textposition\": \"top center\"}, {\"type\": \"scatter\", \"x\": [-0.7980020613830427], \"y\": [-0.030879337480809742], \"mode\": \"markers\", \"text\": \"longer\", \"textposition\": \"top center\"}, {\"type\": \"scatter\", \"x\": [-1.1372856649043392], \"y\": [-0.16028277237402053], \"mode\": \"markers\", \"text\": \"made\", \"textposition\": \"top center\"}, {\"type\": \"scatter\", \"x\": [-1.1321739540304727], \"y\": [-0.2947718697043902], \"mode\": \"markers\", \"text\": \"maintained\", \"textposition\": \"top center\"}, {\"type\": \"scatter\", \"x\": [-1.2012736236906374], \"y\": [-0.21121053494431977], \"mode\": \"markers\", \"text\": \"managed\", \"textposition\": \"top center\"}, {\"type\": \"scatter\", \"x\": [-0.23891311759184855], \"y\": [1.3158430877559883], \"mode\": \"markers\", \"text\": \"marijuana\", \"textposition\": \"top center\"}, {\"type\": \"scatter\", \"x\": [0.17346724640856556], \"y\": [-0.13368040849499113], \"mode\": \"markers\", \"text\": \"maternal\", \"textposition\": \"top center\"}, {\"type\": \"scatter\", \"x\": [-0.9141068156901107], \"y\": [-0.1183008022539087], \"mode\": \"markers\", \"text\": \"means\", \"textposition\": \"top center\"}, {\"type\": \"scatter\", \"x\": [-0.17758987049527647], \"y\": [-0.6310460323406294], \"mode\": \"markers\", \"text\": \"mechanical\", \"textposition\": \"top center\"}, {\"type\": \"scatter\", \"x\": [0.3603174262511997], \"y\": [-0.12061342091058669], \"mode\": \"markers\", \"text\": \"medically\", \"textposition\": \"top center\"}, {\"type\": \"scatter\", \"x\": [0.9695335398958346], \"y\": [1.445487626942233], \"mode\": \"markers\", \"text\": \"medications\", \"textposition\": \"top center\"}, {\"type\": \"scatter\", \"x\": [0.6568314515694003], \"y\": [1.903148919174068], \"mode\": \"markers\", \"text\": \"meds\", \"textposition\": \"top center\"}, {\"type\": \"scatter\", \"x\": [-0.15116138535965387], \"y\": [-0.09580247353312583], \"mode\": \"markers\", \"text\": \"mellitus\", \"textposition\": \"top center\"}, {\"type\": \"scatter\", \"x\": [1.202802031379384], \"y\": [-0.31270272621313067], \"mode\": \"markers\", \"text\": \"metabolic\", \"textposition\": \"top center\"}, {\"type\": \"scatter\", \"x\": [0.5842386804560059], \"y\": [1.9375916431353697], \"mode\": \"markers\", \"text\": \"methadone\", \"textposition\": \"top center\"}, {\"type\": \"scatter\", \"x\": [1.2255726402160263], \"y\": [0.1839498323501349], \"mode\": \"markers\", \"text\": \"migraines\", \"textposition\": \"top center\"}, {\"type\": \"scatter\", \"x\": [-0.06490391487945121], \"y\": [0.08456888963049615], \"mode\": \"markers\", \"text\": \"mild\", \"textposition\": \"top center\"}, {\"type\": \"scatter\", \"x\": [-0.59402758215049], \"y\": [0.028746290229283714], \"mode\": \"markers\", \"text\": \"mildly\", \"textposition\": \"top center\"}, {\"type\": \"scatter\", \"x\": [1.0128810650874633], \"y\": [-1.1336783933776984], \"mode\": \"markers\", \"text\": \"mitral\", \"textposition\": \"top center\"}, {\"type\": \"scatter\", \"x\": [-0.3129776548302498], \"y\": [-0.1612012633580136], \"mode\": \"markers\", \"text\": \"moderately\", \"textposition\": \"top center\"}, {\"type\": \"scatter\", \"x\": [-0.7486040963066265], \"y\": [-0.2513142095036369], \"mode\": \"markers\", \"text\": \"monitored\", \"textposition\": \"top center\"}, {\"type\": \"scatter\", \"x\": [-0.7036317460876442], \"y\": [-0.3141483895914957], \"mode\": \"markers\", \"text\": \"monitoring\", \"textposition\": \"top center\"}, {\"type\": \"scatter\", \"x\": [-0.8768149855355151], \"y\": [-0.18333784866535074], \"mode\": \"markers\", \"text\": \"months\", \"textposition\": \"top center\"}, {\"type\": \"scatter\", \"x\": [-0.24896464017547487], \"y\": [0.23228051325848695], \"mode\": \"markers\", \"text\": \"morbid\", \"textposition\": \"top center\"}, {\"type\": \"scatter\", \"x\": [0.9351557860925293], \"y\": [1.6627983021712878], \"mode\": \"markers\", \"text\": \"morphine\", \"textposition\": \"top center\"}, {\"type\": \"scatter\", \"x\": [-0.20536991250741302], \"y\": [0.31727683969534115], \"mode\": \"markers\", \"text\": \"motrin\", \"textposition\": \"top center\"}, {\"type\": \"scatter\", \"x\": [-1.1806119195389053], \"y\": [-0.411862763677146], \"mode\": \"markers\", \"text\": \"moved\", \"textposition\": \"top center\"}, {\"type\": \"scatter\", \"x\": [-0.5944585087735369], \"y\": [-0.2260870668808215], \"mode\": \"markers\", \"text\": \"movements\", \"textposition\": \"top center\"}, {\"type\": \"scatter\", \"x\": [1.9084680456124905], \"y\": [-1.2557215058670357], \"mode\": \"markers\", \"text\": \"myocardial\", \"textposition\": \"top center\"}, {\"type\": \"scatter\", \"x\": [0.24255972176247845], \"y\": [1.5151044862950163], \"mode\": \"markers\", \"text\": \"narcotic\", \"textposition\": \"top center\"}, {\"type\": \"scatter\", \"x\": [-0.9091734137543026], \"y\": [-0.20843373944593804], \"mode\": \"markers\", \"text\": \"needed\", \"textposition\": \"top center\"}, {\"type\": \"scatter\", \"x\": [-0.9602761680919147], \"y\": [-0.17732725367479182], \"mode\": \"markers\", \"text\": \"needs\", \"textposition\": \"top center\"}, {\"type\": \"scatter\", \"x\": [1.6209037736382585], \"y\": [-0.37027567214248175], \"mode\": \"markers\", \"text\": \"nephropathy\", \"textposition\": \"top center\"}, {\"type\": \"scatter\", \"x\": [0.6629772121503165], \"y\": [-0.5348040799040741], \"mode\": \"markers\", \"text\": \"neurology\", \"textposition\": \"top center\"}, {\"type\": \"scatter\", \"x\": [0.18234067263383333], \"y\": [1.6087995296274198], \"mode\": \"markers\", \"text\": \"neurontin\", \"textposition\": \"top center\"}, {\"type\": \"scatter\", \"x\": [1.8352977355152844], \"y\": [-0.5310747639721467], \"mode\": \"markers\", \"text\": \"neuropathy\", \"textposition\": \"top center\"}, {\"type\": \"scatter\", \"x\": [0.5743346801288537], \"y\": [-0.9573898478738551], \"mode\": \"markers\", \"text\": \"neurosurgery\", \"textposition\": \"top center\"}, {\"type\": \"scatter\", \"x\": [1.0816675413420351], \"y\": [-0.8795513719735712], \"mode\": \"markers\", \"text\": \"nodule\", \"textposition\": \"top center\"}, {\"type\": \"scatter\", \"x\": [-0.5348532146721199], \"y\": [-0.12227358098424834], \"mode\": \"markers\", \"text\": \"noncontributory\", \"textposition\": \"top center\"}, {\"type\": \"scatter\", \"x\": [-0.8267200962365036], \"y\": [-0.30566051208133505], \"mode\": \"markers\", \"text\": \"notable\", \"textposition\": \"top center\"}, {\"type\": \"scatter\", \"x\": [-1.0079530311712244], \"y\": [-0.31071251586605647], \"mode\": \"markers\", \"text\": \"noted\", \"textposition\": \"top center\"}, {\"type\": \"scatter\", \"x\": [-0.7803818196862742], \"y\": [0.06787977395222873], \"mode\": \"markers\", \"text\": \"notes\", \"textposition\": \"top center\"}, {\"type\": \"scatter\", \"x\": [-0.05901663822190044], \"y\": [0.11621082933336559], \"mode\": \"markers\", \"text\": \"nutrition\", \"textposition\": \"top center\"}, {\"type\": \"scatter\", \"x\": [0.6789166012662329], \"y\": [-0.07527743049426008], \"mode\": \"markers\", \"text\": \"obesity\", \"textposition\": \"top center\"}, {\"type\": \"scatter\", \"x\": [-0.5750899398071713], \"y\": [-0.14985988588565285], \"mode\": \"markers\", \"text\": \"observed\", \"textposition\": \"top center\"}, {\"type\": \"scatter\", \"x\": [-0.060884897115415296], \"y\": [-0.5248895968610355], \"mode\": \"markers\", \"text\": \"obstructive\", \"textposition\": \"top center\"}, {\"type\": \"scatter\", \"x\": [-0.9763799621155556], \"y\": [-0.17021448866572433], \"mode\": \"markers\", \"text\": \"obtained\", \"textposition\": \"top center\"}, {\"type\": \"scatter\", \"x\": [-0.7463057161398472], \"y\": [0.24600515487266236], \"mode\": \"markers\", \"text\": \"occasional\", \"textposition\": \"top center\"}, {\"type\": \"scatter\", \"x\": [0.6775329234485935], \"y\": [1.5948131594927208], \"mode\": \"markers\", \"text\": \"opiates\", \"textposition\": \"top center\"}, {\"type\": \"scatter\", \"x\": [0.22858874331845302], \"y\": [0.1742066829439417], \"mode\": \"markers\", \"text\": \"oral\", \"textposition\": \"top center\"}, {\"type\": \"scatter\", \"x\": [1.764685874364455], \"y\": [-0.4600889485875917], \"mode\": \"markers\", \"text\": \"osteoarthritis\", \"textposition\": \"top center\"}, {\"type\": \"scatter\", \"x\": [0.27433624656788314], \"y\": [-0.19287421725251172], \"mode\": \"markers\", \"text\": \"outpatient\", \"textposition\": \"top center\"}, {\"type\": \"scatter\", \"x\": [0.6328499160524673], \"y\": [1.4610535389750163], \"mode\": \"markers\", \"text\": \"overdose\", \"textposition\": \"top center\"}, {\"type\": \"scatter\", \"x\": [-0.022590979054147305], \"y\": [1.4534897891892362], \"mode\": \"markers\", \"text\": \"overdosed\", \"textposition\": \"top center\"}, {\"type\": \"scatter\", \"x\": [0.6435944956622521], \"y\": [1.4392369067619495], \"mode\": \"markers\", \"text\": \"overdoses\", \"textposition\": \"top center\"}, {\"type\": \"scatter\", \"x\": [-0.7433223190616167], \"y\": [0.005859930800831609], \"mode\": \"markers\", \"text\": \"overnight\", \"textposition\": \"top center\"}, {\"type\": \"scatter\", \"x\": [0.6906790039079166], \"y\": [1.9824167837996212], \"mode\": \"markers\", \"text\": \"oxycodone\", \"textposition\": \"top center\"}, {\"type\": \"scatter\", \"x\": [0.6295925088626044], \"y\": [0.22501990717018078], \"mode\": \"markers\", \"text\": \"oxygen\", \"textposition\": \"top center\"}, {\"type\": \"scatter\", \"x\": [1.4618961652198756], \"y\": [-0.20496123193047514], \"mode\": \"markers\", \"text\": \"pancreatitis\", \"textposition\": \"top center\"}, {\"type\": \"scatter\", \"x\": [-0.5562771266124853], \"y\": [0.30766665138571914], \"mode\": \"markers\", \"text\": \"panic\", \"textposition\": \"top center\"}, {\"type\": \"scatter\", \"x\": [-0.6244575364672007], \"y\": [0.17373379486632937], \"mode\": \"markers\", \"text\": \"parents\", \"textposition\": \"top center\"}, {\"type\": \"scatter\", \"x\": [-0.6031032843827516], \"y\": [-0.25314815844352884], \"mode\": \"markers\", \"text\": \"partial\", \"textposition\": \"top center\"}, {\"type\": \"scatter\", \"x\": [0.31121302765342607], \"y\": [1.765594890484431], \"mode\": \"markers\", \"text\": \"paxil\", \"textposition\": \"top center\"}, {\"type\": \"scatter\", \"x\": [-0.9007885109565777], \"y\": [-0.1605338739167373], \"mode\": \"markers\", \"text\": \"peaked\", \"textposition\": \"top center\"}, {\"type\": \"scatter\", \"x\": [-0.9656654654989766], \"y\": [-0.2827906799453211], \"mode\": \"markers\", \"text\": \"pending\", \"textposition\": \"top center\"}, {\"type\": \"scatter\", \"x\": [0.7858068920238148], \"y\": [0.41352467610358734], \"mode\": \"markers\", \"text\": \"penicillins\", \"textposition\": \"top center\"}, {\"type\": \"scatter\", \"x\": [0.14282214882229322], \"y\": [1.331495749672049], \"mode\": \"markers\", \"text\": \"percocet\", \"textposition\": \"top center\"}, {\"type\": \"scatter\", \"x\": [-0.6585068458496102], \"y\": [-0.6466032541559638], \"mode\": \"markers\", \"text\": \"performed\", \"textposition\": \"top center\"}, {\"type\": \"scatter\", \"x\": [-0.18566052205727673], \"y\": [-0.5482992544922162], \"mode\": \"markers\", \"text\": \"peripheral\", \"textposition\": \"top center\"}, {\"type\": \"scatter\", \"x\": [-0.6501520557950237], \"y\": [-0.06740096713252482], \"mode\": \"markers\", \"text\": \"persistent\", \"textposition\": \"top center\"}, {\"type\": \"scatter\", \"x\": [1.0050237696702142], \"y\": [1.1056070217035148], \"mode\": \"markers\", \"text\": \"phenobarbital\", \"textposition\": \"top center\"}, {\"type\": \"scatter\", \"x\": [0.4918816520562493], \"y\": [1.6334898567017806], \"mode\": \"markers\", \"text\": \"pill\", \"textposition\": \"top center\"}, {\"type\": \"scatter\", \"x\": [0.40023506954083204], \"y\": [1.9955493385452723], \"mode\": \"markers\", \"text\": \"pills\", \"textposition\": \"top center\"}, {\"type\": \"scatter\", \"x\": [-0.9983033682155742], \"y\": [-0.30595911906929646], \"mode\": \"markers\", \"text\": \"placed\", \"textposition\": \"top center\"}, {\"type\": \"scatter\", \"x\": [-0.5685684201953665], \"y\": [-0.29229338111082565], \"mode\": \"markers\", \"text\": \"placement\", \"textposition\": \"top center\"}, {\"type\": \"scatter\", \"x\": [0.9544042012436744], \"y\": [-0.28063741302078277], \"mode\": \"markers\", \"text\": \"pneumonia\", \"textposition\": \"top center\"}, {\"type\": \"scatter\", \"x\": [-0.15375919793724674], \"y\": [0.5413265908912355], \"mode\": \"markers\", \"text\": \"poly\", \"textposition\": \"top center\"}, {\"type\": \"scatter\", \"x\": [-0.4926333892579959], \"y\": [0.20351062832231684], \"mode\": \"markers\", \"text\": \"polysubstance\", \"textposition\": \"top center\"}, {\"type\": \"scatter\", \"x\": [1.669033275118349], \"y\": [-0.868695327244415], \"mode\": \"markers\", \"text\": \"postoperative\", \"textposition\": \"top center\"}, {\"type\": \"scatter\", \"x\": [-0.557137281060168], \"y\": [0.13487453694597176], \"mode\": \"markers\", \"text\": \"precautions\", \"textposition\": \"top center\"}, {\"type\": \"scatter\", \"x\": [-0.36750305003692724], \"y\": [-0.5182927496982139], \"mode\": \"markers\", \"text\": \"premature\", \"textposition\": \"top center\"}, {\"type\": \"scatter\", \"x\": [-0.8977524749079222], \"y\": [-0.47734131988879447], \"mode\": \"markers\", \"text\": \"presented\", \"textposition\": \"top center\"}, {\"type\": \"scatter\", \"x\": [-0.8537641294493014], \"y\": [-0.36682039076643413], \"mode\": \"markers\", \"text\": \"presenting\", \"textposition\": \"top center\"}, {\"type\": \"scatter\", \"x\": [-0.8217537639394819], \"y\": [-0.21414188983473798], \"mode\": \"markers\", \"text\": \"presents\", \"textposition\": \"top center\"}, {\"type\": \"scatter\", \"x\": [-0.6165748341628083], \"y\": [-0.2382421605956166], \"mode\": \"markers\", \"text\": \"problems\", \"textposition\": \"top center\"}, {\"type\": \"scatter\", \"x\": [-1.1330147631698366], \"y\": [-0.2454045671210247], \"mode\": \"markers\", \"text\": \"provided\", \"textposition\": \"top center\"}, {\"type\": \"scatter\", \"x\": [-0.5533649492002903], \"y\": [0.04662395132835122], \"mode\": \"markers\", \"text\": \"providers\", \"textposition\": \"top center\"}, {\"type\": \"scatter\", \"x\": [0.19834921518931645], \"y\": [1.5442722710149857], \"mode\": \"markers\", \"text\": \"prozac\", \"textposition\": \"top center\"}, {\"type\": \"scatter\", \"x\": [-0.2457542822139123], \"y\": [0.4800059317888118], \"mode\": \"markers\", \"text\": \"psych\", \"textposition\": \"top center\"}, {\"type\": \"scatter\", \"x\": [0.19122782765694446], \"y\": [0.43077421368235636], \"mode\": \"markers\", \"text\": \"psychiatric\", \"textposition\": \"top center\"}, {\"type\": \"scatter\", \"x\": [0.07666568563114577], \"y\": [0.5948308083319456], \"mode\": \"markers\", \"text\": \"psychiatrist\", \"textposition\": \"top center\"}, {\"type\": \"scatter\", \"x\": [-0.026905021423928803], \"y\": [0.5128098471435096], \"mode\": \"markers\", \"text\": \"psychiatrists\", \"textposition\": \"top center\"}, {\"type\": \"scatter\", \"x\": [0.32612899363990444], \"y\": [0.43163370078226393], \"mode\": \"markers\", \"text\": \"psychiatry\", \"textposition\": \"top center\"}, {\"type\": \"scatter\", \"x\": [1.3132423364408603], \"y\": [-0.7180028104472567], \"mode\": \"markers\", \"text\": \"pulmonary\", \"textposition\": \"top center\"}, {\"type\": \"scatter\", \"x\": [-0.10812026175775351], \"y\": [-0.2041790671216862], \"mode\": \"markers\", \"text\": \"pulse\", \"textposition\": \"top center\"}, {\"type\": \"scatter\", \"x\": [-0.9981737343505029], \"y\": [-0.2731869286337824], \"mode\": \"markers\", \"text\": \"questionable\", \"textposition\": \"top center\"}, {\"type\": \"scatter\", \"x\": [-1.0673955230642742], \"y\": [-0.5091639867348077], \"mode\": \"markers\", \"text\": \"raised\", \"textposition\": \"top center\"}, {\"type\": \"scatter\", \"x\": [-0.20808267076152945], \"y\": [0.28175695684639046], \"mode\": \"markers\", \"text\": \"reactions\", \"textposition\": \"top center\"}, {\"type\": \"scatter\", \"x\": [-1.1100419904033316], \"y\": [-0.40576256497211066], \"mode\": \"markers\", \"text\": \"received\", \"textposition\": \"top center\"}, {\"type\": \"scatter\", \"x\": [-0.7884126241099569], \"y\": [-0.06541117793736753], \"mode\": \"markers\", \"text\": \"recommendations\", \"textposition\": \"top center\"}, {\"type\": \"scatter\", \"x\": [-0.7252032363391023], \"y\": [-0.04176993480295207], \"mode\": \"markers\", \"text\": \"recommended\", \"textposition\": \"top center\"}, {\"type\": \"scatter\", \"x\": [-0.9399419820504017], \"y\": [-0.021767321858239003], \"mode\": \"markers\", \"text\": \"records\", \"textposition\": \"top center\"}, {\"type\": \"scatter\", \"x\": [0.24603185754567922], \"y\": [-0.6385487975658793], \"mode\": \"markers\", \"text\": \"recurrent\", \"textposition\": \"top center\"}, {\"type\": \"scatter\", \"x\": [-1.2141701254568253], \"y\": [-0.3546759072250758], \"mode\": \"markers\", \"text\": \"refused\", \"textposition\": \"top center\"}, {\"type\": \"scatter\", \"x\": [0.37129482458327473], \"y\": [0.32674901757877334], \"mode\": \"markers\", \"text\": \"regimen\", \"textposition\": \"top center\"}, {\"type\": \"scatter\", \"x\": [-0.31118573953400713], \"y\": [0.269397548604651], \"mode\": \"markers\", \"text\": \"rehab\", \"textposition\": \"top center\"}, {\"type\": \"scatter\", \"x\": [-0.50762359938824], \"y\": [-0.3252963903314576], \"mode\": \"markers\", \"text\": \"rehabilitation\", \"textposition\": \"top center\"}, {\"type\": \"scatter\", \"x\": [-0.7899674622722408], \"y\": [-0.18575305637724265], \"mode\": \"markers\", \"text\": \"related\", \"textposition\": \"top center\"}, {\"type\": \"scatter\", \"x\": [-0.9479503636402892], \"y\": [-0.35915038864756554], \"mode\": \"markers\", \"text\": \"remainder\", \"textposition\": \"top center\"}, {\"type\": \"scatter\", \"x\": [-1.1054710540033228], \"y\": [-0.4362653840219512], \"mode\": \"markers\", \"text\": \"remained\", \"textposition\": \"top center\"}, {\"type\": \"scatter\", \"x\": [-0.6902876210115702], \"y\": [-0.606616199952346], \"mode\": \"markers\", \"text\": \"removal\", \"textposition\": \"top center\"}, {\"type\": \"scatter\", \"x\": [-0.9744288817977804], \"y\": [-0.5152358743173389], \"mode\": \"markers\", \"text\": \"removed\", \"textposition\": \"top center\"}, {\"type\": \"scatter\", \"x\": [1.308741293529956], \"y\": [-0.7683123427237544], \"mode\": \"markers\", \"text\": \"renal\", \"textposition\": \"top center\"}, {\"type\": \"scatter\", \"x\": [-0.7228289711583604], \"y\": [-0.7512660516079358], \"mode\": \"markers\", \"text\": \"repair\", \"textposition\": \"top center\"}, {\"type\": \"scatter\", \"x\": [-0.6949154853533418], \"y\": [-0.5308276480953062], \"mode\": \"markers\", \"text\": \"replacement\", \"textposition\": \"top center\"}, {\"type\": \"scatter\", \"x\": [-0.9783235550416255], \"y\": [-0.1734404515327711], \"mode\": \"markers\", \"text\": \"reported\", \"textposition\": \"top center\"}, {\"type\": \"scatter\", \"x\": [-1.0743705847723286], \"y\": [-0.15342555295942653], \"mode\": \"markers\", \"text\": \"reportedly\", \"textposition\": \"top center\"}, {\"type\": \"scatter\", \"x\": [-0.9636538770186186], \"y\": [-0.1629726007357511], \"mode\": \"markers\", \"text\": \"reports\", \"textposition\": \"top center\"}, {\"type\": \"scatter\", \"x\": [-0.9144225005376345], \"y\": [-0.2052196580412428], \"mode\": \"markers\", \"text\": \"required\", \"textposition\": \"top center\"}, {\"type\": \"scatter\", \"x\": [-0.8352600730088845], \"y\": [-0.19277114659335087], \"mode\": \"markers\", \"text\": \"requiring\", \"textposition\": \"top center\"}, {\"type\": \"scatter\", \"x\": [1.6236376022687058], \"y\": [-1.7947048610842946], \"mode\": \"markers\", \"text\": \"resection\", \"textposition\": \"top center\"}, {\"type\": \"scatter\", \"x\": [-1.0373888735414145], \"y\": [-0.5383455251226782], \"mode\": \"markers\", \"text\": \"resolved\", \"textposition\": \"top center\"}, {\"type\": \"scatter\", \"x\": [-0.31936108009971553], \"y\": [0.14428018722494293], \"mode\": \"markers\", \"text\": \"resp\", \"textposition\": \"top center\"}, {\"type\": \"scatter\", \"x\": [1.0080570007415208], \"y\": [-0.2795018033469074], \"mode\": \"markers\", \"text\": \"respiratory\", \"textposition\": \"top center\"}, {\"type\": \"scatter\", \"x\": [-0.9678690618247762], \"y\": [-0.34201689529927], \"mode\": \"markers\", \"text\": \"restarted\", \"textposition\": \"top center\"}, {\"type\": \"scatter\", \"x\": [-0.903463810310808], \"y\": [-0.28725590911000815], \"mode\": \"markers\", \"text\": \"restarting\", \"textposition\": \"top center\"}, {\"type\": \"scatter\", \"x\": [-1.1108663917466917], \"y\": [-0.34606534376198284], \"mode\": \"markers\", \"text\": \"resume\", \"textposition\": \"top center\"}, {\"type\": \"scatter\", \"x\": [-1.0773409880095612], \"y\": [-0.3991997202007999], \"mode\": \"markers\", \"text\": \"retired\", \"textposition\": \"top center\"}, {\"type\": \"scatter\", \"x\": [-1.0440383977854737], \"y\": [-0.3341900301825921], \"mode\": \"markers\", \"text\": \"revealed\", \"textposition\": \"top center\"}, {\"type\": \"scatter\", \"x\": [1.6618102586364016], \"y\": [0.14518809111703204], \"mode\": \"markers\", \"text\": \"rhabdomyolysis\", \"textposition\": \"top center\"}, {\"type\": \"scatter\", \"x\": [-1.1065172081650385], \"y\": [-0.32002463645171775], \"mode\": \"markers\", \"text\": \"said\", \"textposition\": \"top center\"}, {\"type\": \"scatter\", \"x\": [-1.006127220491033], \"y\": [-0.09290588452203759], \"mode\": \"markers\", \"text\": \"says\", \"textposition\": \"top center\"}, {\"type\": \"scatter\", \"x\": [-0.008777382501416516], \"y\": [0.0638803522081317], \"mode\": \"markers\", \"text\": \"schizoaffective\", \"textposition\": \"top center\"}, {\"type\": \"scatter\", \"x\": [0.9541918938735762], \"y\": [0.46573126985604946], \"mode\": \"markers\", \"text\": \"schizophrenia\", \"textposition\": \"top center\"}, {\"type\": \"scatter\", \"x\": [-0.6187391533387331], \"y\": [-0.26312140680990015], \"mode\": \"markers\", \"text\": \"secondary\", \"textposition\": \"top center\"}, {\"type\": \"scatter\", \"x\": [-0.4872175367450244], \"y\": [-0.021947865756125902], \"mode\": \"markers\", \"text\": \"sectioned\", \"textposition\": \"top center\"}, {\"type\": \"scatter\", \"x\": [1.3520267401000838], \"y\": [0.17506780486087992], \"mode\": \"markers\", \"text\": \"sedation\", \"textposition\": \"top center\"}, {\"type\": \"scatter\", \"x\": [-1.0666640486727585], \"y\": [-0.3050543245591889], \"mode\": \"markers\", \"text\": \"seeking\", \"textposition\": \"top center\"}, {\"type\": \"scatter\", \"x\": [-1.0016008906016236], \"y\": [-0.08446663118642918], \"mode\": \"markers\", \"text\": \"seen\", \"textposition\": \"top center\"}, {\"type\": \"scatter\", \"x\": [-0.12146542598529929], \"y\": [0.17934624974575597], \"mode\": \"markers\", \"text\": \"seizure\", \"textposition\": \"top center\"}, {\"type\": \"scatter\", \"x\": [0.42945728607353634], \"y\": [0.5118973390217192], \"mode\": \"markers\", \"text\": \"seizures\", \"textposition\": \"top center\"}, {\"type\": \"scatter\", \"x\": [-1.2481517922517136], \"y\": [-0.20908746907075026], \"mode\": \"markers\", \"text\": \"sent\", \"textposition\": \"top center\"}, {\"type\": \"scatter\", \"x\": [-0.6213603045984559], \"y\": [-0.04778810339660094], \"mode\": \"markers\", \"text\": \"serial\", \"textposition\": \"top center\"}, {\"type\": \"scatter\", \"x\": [-0.18614988213513103], \"y\": [0.8815369330377297], \"mode\": \"markers\", \"text\": \"seroquel\", \"textposition\": \"top center\"}, {\"type\": \"scatter\", \"x\": [1.5237771982158363], \"y\": [1.0594709837590996], \"mode\": \"markers\", \"text\": \"serotonin\", \"textposition\": \"top center\"}, {\"type\": \"scatter\", \"x\": [0.9607703078387185], \"y\": [0.22692158948148602], \"mode\": \"markers\", \"text\": \"serum\", \"textposition\": \"top center\"}, {\"type\": \"scatter\", \"x\": [-0.8452181738029704], \"y\": [-0.10839280857420479], \"mode\": \"markers\", \"text\": \"services\", \"textposition\": \"top center\"}, {\"type\": \"scatter\", \"x\": [-0.9393335898540814], \"y\": [-0.23087174587172124], \"mode\": \"markers\", \"text\": \"showed\", \"textposition\": \"top center\"}, {\"type\": \"scatter\", \"x\": [-0.7109872235401513], \"y\": [-0.239462776364688], \"mode\": \"markers\", \"text\": \"signs\", \"textposition\": \"top center\"}, {\"type\": \"scatter\", \"x\": [1.0794618846933122], \"y\": [-0.4012544165865235], \"mode\": \"markers\", \"text\": \"sinus\", \"textposition\": \"top center\"}, {\"type\": \"scatter\", \"x\": [-0.49325760603130386], \"y\": [0.28282430115185975], \"mode\": \"markers\", \"text\": \"sitter\", \"textposition\": \"top center\"}, {\"type\": \"scatter\", \"x\": [0.08298523118197744], \"y\": [0.2966766137195294], \"mode\": \"markers\", \"text\": \"smoker\", \"textposition\": \"top center\"}, {\"type\": \"scatter\", \"x\": [-0.4602987767544643], \"y\": [0.9043819586500164], \"mode\": \"markers\", \"text\": \"smokes\", \"textposition\": \"top center\"}, {\"type\": \"scatter\", \"x\": [-0.16888547056349915], \"y\": [0.3973964726473315], \"mode\": \"markers\", \"text\": \"smoking\", \"textposition\": \"top center\"}, {\"type\": \"scatter\", \"x\": [-0.801924448636083], \"y\": [0.5934025000453149], \"mode\": \"markers\", \"text\": \"sober\", \"textposition\": \"top center\"}, {\"type\": \"scatter\", \"x\": [-0.4920613339227173], \"y\": [0.5873633854027498], \"mode\": \"markers\", \"text\": \"sobriety\", \"textposition\": \"top center\"}, {\"type\": \"scatter\", \"x\": [-0.007075653933653519], \"y\": [0.29210886061051533], \"mode\": \"markers\", \"text\": \"softener\", \"textposition\": \"top center\"}, {\"type\": \"scatter\", \"x\": [0.2333122847943517], \"y\": [2.02224506344591], \"mode\": \"markers\", \"text\": \"soma\", \"textposition\": \"top center\"}, {\"type\": \"scatter\", \"x\": [-0.6774135151350419], \"y\": [0.1784873460213402], \"mode\": \"markers\", \"text\": \"somnolent\", \"textposition\": \"top center\"}, {\"type\": \"scatter\", \"x\": [0.6432602282053776], \"y\": [-1.1553651789532935], \"mode\": \"markers\", \"text\": \"spinal\", \"textposition\": \"top center\"}, {\"type\": \"scatter\", \"x\": [0.2651929906564316], \"y\": [-0.9235148394210005], \"mode\": \"markers\", \"text\": \"spine\", \"textposition\": \"top center\"}, {\"type\": \"scatter\", \"x\": [-0.7140445915608405], \"y\": [0.003369672440378752], \"mode\": \"markers\", \"text\": \"stab\", \"textposition\": \"top center\"}, {\"type\": \"scatter\", \"x\": [-0.6702424153969153], \"y\": [-0.34382941105893944], \"mode\": \"markers\", \"text\": \"stabilized\", \"textposition\": \"top center\"}, {\"type\": \"scatter\", \"x\": [-1.0615483966313257], \"y\": [-0.2798766177529625], \"mode\": \"markers\", \"text\": \"standpoint\", \"textposition\": \"top center\"}, {\"type\": \"scatter\", \"x\": [-1.190132934534227], \"y\": [-0.17361433824269265], \"mode\": \"markers\", \"text\": \"started\", \"textposition\": \"top center\"}, {\"type\": \"scatter\", \"x\": [-0.9776030215576725], \"y\": [-0.18157185312608032], \"mode\": \"markers\", \"text\": \"starting\", \"textposition\": \"top center\"}, {\"type\": \"scatter\", \"x\": [-0.9611498437807845], \"y\": [-0.23418113505451899], \"mode\": \"markers\", \"text\": \"stated\", \"textposition\": \"top center\"}, {\"type\": \"scatter\", \"x\": [-0.8540677876561487], \"y\": [0.12255731546836425], \"mode\": \"markers\", \"text\": \"states\", \"textposition\": \"top center\"}, {\"type\": \"scatter\", \"x\": [2.104943557942054], \"y\": [-1.6346180139049769], \"mode\": \"markers\", \"text\": \"stenosis\", \"textposition\": \"top center\"}, {\"type\": \"scatter\", \"x\": [1.5043272535527092], \"y\": [-0.9562272770330354], \"mode\": \"markers\", \"text\": \"stent\", \"textposition\": \"top center\"}, {\"type\": \"scatter\", \"x\": [1.4706711556690564], \"y\": [-0.6452448739412763], \"mode\": \"markers\", \"text\": \"stents\", \"textposition\": \"top center\"}, {\"type\": \"scatter\", \"x\": [-0.5789310908039133], \"y\": [0.14277637486881078], \"mode\": \"markers\", \"text\": \"stones\", \"textposition\": \"top center\"}, {\"type\": \"scatter\", \"x\": [-1.1418850678976795], \"y\": [-0.016855866191976505], \"mode\": \"markers\", \"text\": \"stopped\", \"textposition\": \"top center\"}, {\"type\": \"scatter\", \"x\": [-0.8445115886435522], \"y\": [-0.23262479184063334], \"mode\": \"markers\", \"text\": \"subsequently\", \"textposition\": \"top center\"}, {\"type\": \"scatter\", \"x\": [-0.3118558647001797], \"y\": [0.5491553507777964], \"mode\": \"markers\", \"text\": \"suicidal\", \"textposition\": \"top center\"}, {\"type\": \"scatter\", \"x\": [1.3246337344821655], \"y\": [0.6755098379676989], \"mode\": \"markers\", \"text\": \"suicidality\", \"textposition\": \"top center\"}, {\"type\": \"scatter\", \"x\": [-0.30160922891133457], \"y\": [0.35305624772365357], \"mode\": \"markers\", \"text\": \"suicide\", \"textposition\": \"top center\"}, {\"type\": \"scatter\", \"x\": [0.4331094991117139], \"y\": [0.7704333680677298], \"mode\": \"markers\", \"text\": \"sulfa\", \"textposition\": \"top center\"}, {\"type\": \"scatter\", \"x\": [0.4040106850154263], \"y\": [0.32827723534661385], \"mode\": \"markers\", \"text\": \"sulfonamides\", \"textposition\": \"top center\"}, {\"type\": \"scatter\", \"x\": [-0.7065353520987856], \"y\": [-0.12398778935579957], \"mode\": \"markers\", \"text\": \"summary\", \"textposition\": \"top center\"}, {\"type\": \"scatter\", \"x\": [-0.9535765477572342], \"y\": [-0.23522410069754765], \"mode\": \"markers\", \"text\": \"supportive\", \"textposition\": \"top center\"}, {\"type\": \"scatter\", \"x\": [0.4875556721081965], \"y\": [-0.8873171678867482], \"mode\": \"markers\", \"text\": \"surgical\", \"textposition\": \"top center\"}, {\"type\": \"scatter\", \"x\": [-0.8197622041347139], \"y\": [-0.03843596337287706], \"mode\": \"markers\", \"text\": \"suspected\", \"textposition\": \"top center\"}, {\"type\": \"scatter\", \"x\": [-0.9869641103979654], \"y\": [0.20282486971274025], \"mode\": \"markers\", \"text\": \"suspicion\", \"textposition\": \"top center\"}, {\"type\": \"scatter\", \"x\": [1.1234752481585222], \"y\": [0.053204653197794195], \"mode\": \"markers\", \"text\": \"symptoms\", \"textposition\": \"top center\"}, {\"type\": \"scatter\", \"x\": [0.5381802768399733], \"y\": [-0.1599252729823443], \"mode\": \"markers\", \"text\": \"syndrome\", \"textposition\": \"top center\"}, {\"type\": \"scatter\", \"x\": [-0.7171580131765483], \"y\": [-0.17820664880591372], \"mode\": \"markers\", \"text\": \"systems\", \"textposition\": \"top center\"}, {\"type\": \"scatter\", \"x\": [2.099626495848253], \"y\": [-0.9494724452618245], \"mode\": \"markers\", \"text\": \"systolic\", \"textposition\": \"top center\"}, {\"type\": \"scatter\", \"x\": [0.17709197201917753], \"y\": [1.4065918808007074], \"mode\": \"markers\", \"text\": \"tablets\", \"textposition\": \"top center\"}, {\"type\": \"scatter\", \"x\": [-0.8530032809313345], \"y\": [0.2889917618927914], \"mode\": \"markers\", \"text\": \"tabs\", \"textposition\": \"top center\"}, {\"type\": \"scatter\", \"x\": [2.007381172803724], \"y\": [-0.05262414995620162], \"mode\": \"markers\", \"text\": \"tachycardia\", \"textposition\": \"top center\"}, {\"type\": \"scatter\", \"x\": [-1.1143695350314395], \"y\": [-0.20389015938682226], \"mode\": \"markers\", \"text\": \"taken\", \"textposition\": \"top center\"}, {\"type\": \"scatter\", \"x\": [-0.9953272422372659], \"y\": [0.022551631616637494], \"mode\": \"markers\", \"text\": \"taking\", \"textposition\": \"top center\"}, {\"type\": \"scatter\", \"x\": [0.002591864760440297], \"y\": [0.3817510920262815], \"mode\": \"markers\", \"text\": \"therapist\", \"textposition\": \"top center\"}, {\"type\": \"scatter\", \"x\": [1.3600787035457953], \"y\": [0.6932604243665459], \"mode\": \"markers\", \"text\": \"thiamine\", \"textposition\": \"top center\"}, {\"type\": \"scatter\", \"x\": [-0.8059718582328489], \"y\": [0.02392388730617507], \"mode\": \"markers\", \"text\": \"thoughts\", \"textposition\": \"top center\"}, {\"type\": \"scatter\", \"x\": [-0.7892849166777557], \"y\": [0.03229977276076499], \"mode\": \"markers\", \"text\": \"times\", \"textposition\": \"top center\"}, {\"type\": \"scatter\", \"x\": [-0.6824808775598328], \"y\": [-0.1343620012739556], \"mode\": \"markers\", \"text\": \"titles\", \"textposition\": \"top center\"}, {\"type\": \"scatter\", \"x\": [-1.1150136308312202], \"y\": [-0.17261826899952204], \"mode\": \"markers\", \"text\": \"told\", \"textposition\": \"top center\"}, {\"type\": \"scatter\", \"x\": [-0.6297856509308676], \"y\": [-0.012775256010870773], \"mode\": \"markers\", \"text\": \"tolerate\", \"textposition\": \"top center\"}, {\"type\": \"scatter\", \"x\": [-0.5790399033900382], \"y\": [0.0722026640966994], \"mode\": \"markers\", \"text\": \"tolerating\", \"textposition\": \"top center\"}, {\"type\": \"scatter\", \"x\": [-1.179670488279565], \"y\": [-0.18685101611868823], \"mode\": \"markers\", \"text\": \"took\", \"textposition\": \"top center\"}, {\"type\": \"scatter\", \"x\": [1.0464339460924614], \"y\": [0.33248275333051047], \"mode\": \"markers\", \"text\": \"toxicity\", \"textposition\": \"top center\"}, {\"type\": \"scatter\", \"x\": [0.44900911506985514], \"y\": [0.5049950218546624], \"mode\": \"markers\", \"text\": \"toxicology\", \"textposition\": \"top center\"}, {\"type\": \"scatter\", \"x\": [0.3747110289167706], \"y\": [-0.16231895195447443], \"mode\": \"markers\", \"text\": \"trach\", \"textposition\": \"top center\"}, {\"type\": \"scatter\", \"x\": [1.1192802165800135], \"y\": [-1.0815782107123484], \"mode\": \"markers\", \"text\": \"tracheostomy\", \"textposition\": \"top center\"}, {\"type\": \"scatter\", \"x\": [-0.8282866246811232], \"y\": [-0.2832573769216442], \"mode\": \"markers\", \"text\": \"tracing\", \"textposition\": \"top center\"}, {\"type\": \"scatter\", \"x\": [-1.0467093084913324], \"y\": [-0.3754461065101934], \"mode\": \"markers\", \"text\": \"transfered\", \"textposition\": \"top center\"}, {\"type\": \"scatter\", \"x\": [-1.0501700410398331], \"y\": [-0.544320141347257], \"mode\": \"markers\", \"text\": \"transferred\", \"textposition\": \"top center\"}, {\"type\": \"scatter\", \"x\": [-0.7795736295205292], \"y\": [-0.0640554316071987], \"mode\": \"markers\", \"text\": \"transitional\", \"textposition\": \"top center\"}, {\"type\": \"scatter\", \"x\": [-0.9756900723384354], \"y\": [-0.25925168924647135], \"mode\": \"markers\", \"text\": \"transitioned\", \"textposition\": \"top center\"}, {\"type\": \"scatter\", \"x\": [0.5764572722667279], \"y\": [-0.8773026615954084], \"mode\": \"markers\", \"text\": \"transplant\", \"textposition\": \"top center\"}, {\"type\": \"scatter\", \"x\": [-0.743239649942283], \"y\": [-0.18004192223861687], \"mode\": \"markers\", \"text\": \"transported\", \"textposition\": \"top center\"}, {\"type\": \"scatter\", \"x\": [0.19530237190885816], \"y\": [-0.4341477188389629], \"mode\": \"markers\", \"text\": \"trauma\", \"textposition\": \"top center\"}, {\"type\": \"scatter\", \"x\": [-0.31994960186859084], \"y\": [-0.18470767234108754], \"mode\": \"markers\", \"text\": \"treated\", \"textposition\": \"top center\"}, {\"type\": \"scatter\", \"x\": [-0.2372560613701805], \"y\": [0.37752860525119974], \"mode\": \"markers\", \"text\": \"treaters\", \"textposition\": \"top center\"}, {\"type\": \"scatter\", \"x\": [-0.6965926913846554], \"y\": [-0.33045313042631497], \"mode\": \"markers\", \"text\": \"trending\", \"textposition\": \"top center\"}, {\"type\": \"scatter\", \"x\": [-1.1418274072742036], \"y\": [0.03537520087161342], \"mode\": \"markers\", \"text\": \"tried\", \"textposition\": \"top center\"}, {\"type\": \"scatter\", \"x\": [0.4835251102520478], \"y\": [1.1626978219133295], \"mode\": \"markers\", \"text\": \"tylenol\", \"textposition\": \"top center\"}, {\"type\": \"scatter\", \"x\": [1.3939906396304185], \"y\": [-0.3804332351594634], \"mode\": \"markers\", \"text\": \"ulcer\", \"textposition\": \"top center\"}, {\"type\": \"scatter\", \"x\": [1.3765938327951237], \"y\": [-0.4425717069356383], \"mode\": \"markers\", \"text\": \"ulcers\", \"textposition\": \"top center\"}, {\"type\": \"scatter\", \"x\": [-1.111413789131014], \"y\": [-0.2662045427273248], \"mode\": \"markers\", \"text\": \"unclear\", \"textposition\": \"top center\"}, {\"type\": \"scatter\", \"x\": [-0.3324615771788145], \"y\": [-1.1798542296059242], \"mode\": \"markers\", \"text\": \"underwent\", \"textposition\": \"top center\"}, {\"type\": \"scatter\", \"x\": [-0.6446927653419512], \"y\": [0.04902108240640407], \"mode\": \"markers\", \"text\": \"unemployed\", \"textposition\": \"top center\"}, {\"type\": \"scatter\", \"x\": [-0.7833481323783543], \"y\": [-0.18777393311386564], \"mode\": \"markers\", \"text\": \"unremarkable\", \"textposition\": \"top center\"}, {\"type\": \"scatter\", \"x\": [-0.2850469754072285], \"y\": [0.11897016055913433], \"mode\": \"markers\", \"text\": \"unresponsive\", \"textposition\": \"top center\"}, {\"type\": \"scatter\", \"x\": [1.5402709224911957], \"y\": [-0.3613831256454366], \"mode\": \"markers\", \"text\": \"urinary\", \"textposition\": \"top center\"}, {\"type\": \"scatter\", \"x\": [0.4689222762529629], \"y\": [0.41842938736972973], \"mode\": \"markers\", \"text\": \"urine\", \"textposition\": \"top center\"}, {\"type\": \"scatter\", \"x\": [-0.9382775848133965], \"y\": [0.048308468588228265], \"mode\": \"markers\", \"text\": \"using\", \"textposition\": \"top center\"}, {\"type\": \"scatter\", \"x\": [0.30998170627018246], \"y\": [2.0283263888109646], \"mode\": \"markers\", \"text\": \"valium\", \"textposition\": \"top center\"}, {\"type\": \"scatter\", \"x\": [0.44913655010717796], \"y\": [-0.9695925663420347], \"mode\": \"markers\", \"text\": \"valve\", \"textposition\": \"top center\"}, {\"type\": \"scatter\", \"x\": [1.7271921230772536], \"y\": [0.4012824786608573], \"mode\": \"markers\", \"text\": \"vancomycin\", \"textposition\": \"top center\"}, {\"type\": \"scatter\", \"x\": [1.4970200298431091], \"y\": [-1.218740546198505], \"mode\": \"markers\", \"text\": \"vascular\", \"textposition\": \"top center\"}, {\"type\": \"scatter\", \"x\": [0.08548861606343007], \"y\": [-0.76343488710558], \"mode\": \"markers\", \"text\": \"vein\", \"textposition\": \"top center\"}, {\"type\": \"scatter\", \"x\": [-0.5028579606681193], \"y\": [-0.293974000833839], \"mode\": \"markers\", \"text\": \"vent\", \"textposition\": \"top center\"}, {\"type\": \"scatter\", \"x\": [1.8769374138105253], \"y\": [-1.5778641391164745], \"mode\": \"markers\", \"text\": \"ventricle\", \"textposition\": \"top center\"}, {\"type\": \"scatter\", \"x\": [2.3086819733360766], \"y\": [-1.731241270598712], \"mode\": \"markers\", \"text\": \"ventricular\", \"textposition\": \"top center\"}, {\"type\": \"scatter\", \"x\": [0.4559013415620175], \"y\": [2.0475086800398175], \"mode\": \"markers\", \"text\": \"vicodin\", \"textposition\": \"top center\"}, {\"type\": \"scatter\", \"x\": [0.012569452856990992], \"y\": [-0.1998587523761204], \"mode\": \"markers\", \"text\": \"vitals\", \"textposition\": \"top center\"}, {\"type\": \"scatter\", \"x\": [-0.36935419334871716], \"y\": [1.1730420013455491], \"mode\": \"markers\", \"text\": \"vodka\", \"textposition\": \"top center\"}, {\"type\": \"scatter\", \"x\": [0.7384749970062877], \"y\": [0.40965867439045195], \"mode\": \"markers\", \"text\": \"vomiting\", \"textposition\": \"top center\"}, {\"type\": \"scatter\", \"x\": [-0.26960860922182345], \"y\": [0.20835644460708336], \"mode\": \"markers\", \"text\": \"walker\", \"textposition\": \"top center\"}, {\"type\": \"scatter\", \"x\": [-1.0990731834262593], \"y\": [-0.15773094932900625], \"mode\": \"markers\", \"text\": \"wanted\", \"textposition\": \"top center\"}, {\"type\": \"scatter\", \"x\": [-0.4556282203371537], \"y\": [-0.03899731308756609], \"mode\": \"markers\", \"text\": \"ward\", \"textposition\": \"top center\"}, {\"type\": \"scatter\", \"x\": [-0.41512245513523777], \"y\": [-0.3247379630089282], \"mode\": \"markers\", \"text\": \"weakness\", \"textposition\": \"top center\"}, {\"type\": \"scatter\", \"x\": [-0.872100947502293], \"y\": [-0.28611716015573374], \"mode\": \"markers\", \"text\": \"weeks\", \"textposition\": \"top center\"}, {\"type\": \"scatter\", \"x\": [0.42064235671381384], \"y\": [2.005550651117929], \"mode\": \"markers\", \"text\": \"wellbutrin\", \"textposition\": \"top center\"}, {\"type\": \"scatter\", \"x\": [-1.0774795199775875], \"y\": [-0.14887430456261896], \"mode\": \"markers\", \"text\": \"went\", \"textposition\": \"top center\"}, {\"type\": \"scatter\", \"x\": [-0.959811559093717], \"y\": [-0.21844014772009118], \"mode\": \"markers\", \"text\": \"were\", \"textposition\": \"top center\"}, {\"type\": \"scatter\", \"x\": [-0.5233562583307833], \"y\": [-0.09228829918447073], \"mode\": \"markers\", \"text\": \"widowed\", \"textposition\": \"top center\"}, {\"type\": \"scatter\", \"x\": [-0.5026689645903102], \"y\": [0.05425732238842115], \"mode\": \"markers\", \"text\": \"withdrawal\", \"textposition\": \"top center\"}, {\"type\": \"scatter\", \"x\": [-0.544952558343473], \"y\": [0.5533830993138722], \"mode\": \"markers\", \"text\": \"withdrawl\", \"textposition\": \"top center\"}, {\"type\": \"scatter\", \"x\": [-1.2029524884921488], \"y\": [-0.26400020827460674], \"mode\": \"markers\", \"text\": \"worked\", \"textposition\": \"top center\"}, {\"type\": \"scatter\", \"x\": [-0.4452528512766198], \"y\": [-0.127158649290251], \"mode\": \"markers\", \"text\": \"worsening\", \"textposition\": \"top center\"}, {\"type\": \"scatter\", \"x\": [-0.12321637002982543], \"y\": [-0.49132479931878625], \"mode\": \"markers\", \"text\": \"wrist\", \"textposition\": \"top center\"}, {\"type\": \"scatter\", \"x\": [-0.233058080694818], \"y\": [0.03576077868816028], \"mode\": \"markers\", \"text\": \"wrists\", \"textposition\": \"top center\"}, {\"type\": \"scatter\", \"x\": [0.18928988915482942], \"y\": [2.2185690131813174], \"mode\": \"markers\", \"text\": \"xanax\", \"textposition\": \"top center\"}, {\"type\": \"scatter\", \"x\": [-0.9544421776275388], \"y\": [-0.20761972333770023], \"mode\": \"markers\", \"text\": \"years\", \"textposition\": \"top center\"}, {\"type\": \"scatter\", \"x\": [0.2510421275524638], \"y\": [1.613723017174955], \"mode\": \"markers\", \"text\": \"zoloft\", \"textposition\": \"top center\"}, {\"type\": \"scatter\", \"x\": [0.2625260370304881], \"y\": [0.4382597169723339], \"mode\": \"markers\", \"text\": \"zyprexa\", \"textposition\": \"top center\"}], {\"title\": \"PCA for Google embedded vectors 510 words\", \"showlegend\": false}, {\"showLink\": true, \"linkText\": \"Export to plot.ly\"})});</script>"
      ],
      "text/vnd.plotly.v1+html": [
       "<div id=\"ce908b51-da5d-45ed-8522-67a42fd2a40b\" style=\"height: 525px; width: 100%;\" class=\"plotly-graph-div\"></div><script type=\"text/javascript\">require([\"plotly\"], function(Plotly) { window.PLOTLYENV=window.PLOTLYENV || {};window.PLOTLYENV.BASE_URL=\"https://plot.ly\";Plotly.newPlot(\"ce908b51-da5d-45ed-8522-67a42fd2a40b\", [{\"type\": \"scatter\", \"x\": [0.8851514888680846], \"y\": [-1.1959316072211712], \"mode\": \"markers\", \"text\": \"abdominal\", \"textposition\": \"top center\"}, {\"type\": \"scatter\", \"x\": [1.766650088277753], \"y\": [1.3696017942327647], \"mode\": \"markers\", \"text\": \"acetaminophen\", \"textposition\": \"top center\"}, {\"type\": \"scatter\", \"x\": [-0.7164692933013475], \"y\": [-0.25084892583060386], \"mode\": \"markers\", \"text\": \"activated\", \"textposition\": \"top center\"}, {\"type\": \"scatter\", \"x\": [-0.8876867478118547], \"y\": [-0.24769121257438537], \"mode\": \"markers\", \"text\": \"actively\", \"textposition\": \"top center\"}, {\"type\": \"scatter\", \"x\": [0.24498335416720302], \"y\": [-0.25239121163997086], \"mode\": \"markers\", \"text\": \"acute\", \"textposition\": \"top center\"}, {\"type\": \"scatter\", \"x\": [-0.3705177730791827], \"y\": [-0.15036832733077926], \"mode\": \"markers\", \"text\": \"acutely\", \"textposition\": \"top center\"}, {\"type\": \"scatter\", \"x\": [0.4104477151008231], \"y\": [0.5902070445401992], \"mode\": \"markers\", \"text\": \"adhd\", \"textposition\": \"top center\"}, {\"type\": \"scatter\", \"x\": [-0.16324976720328624], \"y\": [0.031082845288954507], \"mode\": \"markers\", \"text\": \"admissions\", \"textposition\": \"top center\"}, {\"type\": \"scatter\", \"x\": [-0.9916070851927817], \"y\": [-0.05527977947088284], \"mode\": \"markers\", \"text\": \"admitted\", \"textposition\": \"top center\"}, {\"type\": \"scatter\", \"x\": [1.3406623191365965], \"y\": [-0.022787407632517978], \"mode\": \"markers\", \"text\": \"adrenal\", \"textposition\": \"top center\"}, {\"type\": \"scatter\", \"x\": [0.12355416763296788], \"y\": [-0.05620529821034215], \"mode\": \"markers\", \"text\": \"adverse\", \"textposition\": \"top center\"}, {\"type\": \"scatter\", \"x\": [-0.10523534765644336], \"y\": [0.34967346612536043], \"mode\": \"markers\", \"text\": \"agitation\", \"textposition\": \"top center\"}, {\"type\": \"scatter\", \"x\": [-1.1471765258763658], \"y\": [-0.38555864147938923], \"mode\": \"markers\", \"text\": \"agreed\", \"textposition\": \"top center\"}, {\"type\": \"scatter\", \"x\": [1.5485043395830644], \"y\": [-0.7567900893638836], \"mode\": \"markers\", \"text\": \"airway\", \"textposition\": \"top center\"}, {\"type\": \"scatter\", \"x\": [-0.02643668800528831], \"y\": [0.7886685283151499], \"mode\": \"markers\", \"text\": \"alcoholic\", \"textposition\": \"top center\"}, {\"type\": \"scatter\", \"x\": [0.22176505151407605], \"y\": [0.666157255177724], \"mode\": \"markers\", \"text\": \"alcoholism\", \"textposition\": \"top center\"}, {\"type\": \"scatter\", \"x\": [-0.740985749635582], \"y\": [0.03304859321669735], \"mode\": \"markers\", \"text\": \"alert\", \"textposition\": \"top center\"}, {\"type\": \"scatter\", \"x\": [0.9435499648957253], \"y\": [0.31108949940143626], \"mode\": \"markers\", \"text\": \"allergies\", \"textposition\": \"top center\"}, {\"type\": \"scatter\", \"x\": [0.8928885510136466], \"y\": [0.4428044642594427], \"mode\": \"markers\", \"text\": \"allergy\", \"textposition\": \"top center\"}, {\"type\": \"scatter\", \"x\": [-0.8633852932932348], \"y\": [-0.1878081718137665], \"mode\": \"markers\", \"text\": \"altered\", \"textposition\": \"top center\"}, {\"type\": \"scatter\", \"x\": [0.27227034345853857], \"y\": [2.0731903178576276], \"mode\": \"markers\", \"text\": \"ambien\", \"textposition\": \"top center\"}, {\"type\": \"scatter\", \"x\": [-0.1708139768718544], \"y\": [-0.29784271676821966], \"mode\": \"markers\", \"text\": \"ambulating\", \"textposition\": \"top center\"}, {\"type\": \"scatter\", \"x\": [1.3039903851168606], \"y\": [-0.050338348495582066], \"mode\": \"markers\", \"text\": \"anemia\", \"textposition\": \"top center\"}, {\"type\": \"scatter\", \"x\": [2.0105112397982925], \"y\": [-0.2597160333706024], \"mode\": \"markers\", \"text\": \"apnea\", \"textposition\": \"top center\"}, {\"type\": \"scatter\", \"x\": [-1.0188299924084816], \"y\": [-0.1509392763815282], \"mode\": \"markers\", \"text\": \"appears\", \"textposition\": \"top center\"}, {\"type\": \"scatter\", \"x\": [0.4865804983049902], \"y\": [-0.9618489937222422], \"mode\": \"markers\", \"text\": \"appendectomy\", \"textposition\": \"top center\"}, {\"type\": \"scatter\", \"x\": [-0.2612357095344545], \"y\": [0.09875881129636488], \"mode\": \"markers\", \"text\": \"appetite\", \"textposition\": \"top center\"}, {\"type\": \"scatter\", \"x\": [-0.5853449131599662], \"y\": [0.02273741055746033], \"mode\": \"markers\", \"text\": \"approx\", \"textposition\": \"top center\"}, {\"type\": \"scatter\", \"x\": [1.1004253801903092], \"y\": [-1.0411856488639284], \"mode\": \"markers\", \"text\": \"artery\", \"textposition\": \"top center\"}, {\"type\": \"scatter\", \"x\": [-0.3480648222384941], \"y\": [-0.21323425713032074], \"mode\": \"markers\", \"text\": \"aspiration\", \"textposition\": \"top center\"}, {\"type\": \"scatter\", \"x\": [1.4298874636233125], \"y\": [1.0374311200005224], \"mode\": \"markers\", \"text\": \"aspirin\", \"textposition\": \"top center\"}, {\"type\": \"scatter\", \"x\": [1.0829352662533178], \"y\": [0.11163594905114117], \"mode\": \"markers\", \"text\": \"asthma\", \"textposition\": \"top center\"}, {\"type\": \"scatter\", \"x\": [0.2416488430203075], \"y\": [1.7331912401561593], \"mode\": \"markers\", \"text\": \"ativan\", \"textposition\": \"top center\"}, {\"type\": \"scatter\", \"x\": [2.055262264374121], \"y\": [-1.2515499655570002], \"mode\": \"markers\", \"text\": \"atrial\", \"textposition\": \"top center\"}, {\"type\": \"scatter\", \"x\": [-1.0792817766490719], \"y\": [-0.11249734725212246], \"mode\": \"markers\", \"text\": \"attempted\", \"textposition\": \"top center\"}, {\"type\": \"scatter\", \"x\": [-0.9025978158456425], \"y\": [-0.05861726794231841], \"mode\": \"markers\", \"text\": \"attempts\", \"textposition\": \"top center\"}, {\"type\": \"scatter\", \"x\": [-0.8864981199603944], \"y\": [-0.2662025285731498], \"mode\": \"markers\", \"text\": \"attending\", \"textposition\": \"top center\"}, {\"type\": \"scatter\", \"x\": [-0.2463904031979183], \"y\": [0.3774888851401513], \"mode\": \"markers\", \"text\": \"awake\", \"textposition\": \"top center\"}, {\"type\": \"scatter\", \"x\": [-0.3020886622956207], \"y\": [-0.4334475871860263], \"mode\": \"markers\", \"text\": \"axis\", \"textposition\": \"top center\"}, {\"type\": \"scatter\", \"x\": [0.6440675547584281], \"y\": [1.8011911818068365], \"mode\": \"markers\", \"text\": \"barbiturates\", \"textposition\": \"top center\"}, {\"type\": \"scatter\", \"x\": [-0.07998122668503298], \"y\": [-0.351693261150349], \"mode\": \"markers\", \"text\": \"baseline\", \"textposition\": \"top center\"}, {\"type\": \"scatter\", \"x\": [-1.0668731537880742], \"y\": [-0.24779405207108265], \"mode\": \"markers\", \"text\": \"been\", \"textposition\": \"top center\"}, {\"type\": \"scatter\", \"x\": [-1.200151083223108], \"y\": [-0.16004415562988952], \"mode\": \"markers\", \"text\": \"began\", \"textposition\": \"top center\"}, {\"type\": \"scatter\", \"x\": [-1.0362678675488508], \"y\": [-0.2062604228073262], \"mode\": \"markers\", \"text\": \"believed\", \"textposition\": \"top center\"}, {\"type\": \"scatter\", \"x\": [0.19682819665203977], \"y\": [0.8298011074759667], \"mode\": \"markers\", \"text\": \"benadryl\", \"textposition\": \"top center\"}, {\"type\": \"scatter\", \"x\": [0.45479394008642704], \"y\": [0.9691696856727597], \"mode\": \"markers\", \"text\": \"benzo\", \"textposition\": \"top center\"}, {\"type\": \"scatter\", \"x\": [1.4679802964503321], \"y\": [1.7577690402746653], \"mode\": \"markers\", \"text\": \"benzodiazepine\", \"textposition\": \"top center\"}, {\"type\": \"scatter\", \"x\": [1.5482007959270352], \"y\": [1.7484883402958897], \"mode\": \"markers\", \"text\": \"benzodiazepines\", \"textposition\": \"top center\"}, {\"type\": \"scatter\", \"x\": [0.1784763679434348], \"y\": [0.9520681013098791], \"mode\": \"markers\", \"text\": \"benzos\", \"textposition\": \"top center\"}, {\"type\": \"scatter\", \"x\": [1.297155264321631], \"y\": [-1.1552901506337725], \"mode\": \"markers\", \"text\": \"biopsy\", \"textposition\": \"top center\"}, {\"type\": \"scatter\", \"x\": [0.317577940915009], \"y\": [0.47325773478808936], \"mode\": \"markers\", \"text\": \"bipolar\", \"textposition\": \"top center\"}, {\"type\": \"scatter\", \"x\": [0.4146702380829309], \"y\": [-0.3009902541568029], \"mode\": \"markers\", \"text\": \"bleeding\", \"textposition\": \"top center\"}, {\"type\": \"scatter\", \"x\": [-0.43719623308384786], \"y\": [-0.16847209723985257], \"mode\": \"markers\", \"text\": \"borderline\", \"textposition\": \"top center\"}, {\"type\": \"scatter\", \"x\": [-0.5088925454475277], \"y\": [0.8301650387427355], \"mode\": \"markers\", \"text\": \"bottles\", \"textposition\": \"top center\"}, {\"type\": \"scatter\", \"x\": [1.501046652646325], \"y\": [-0.6642115056446417], \"mode\": \"markers\", \"text\": \"bowel\", \"textposition\": \"top center\"}, {\"type\": \"scatter\", \"x\": [0.09552380443723367], \"y\": [-0.16460701893679883], \"mode\": \"markers\", \"text\": \"breathing\", \"textposition\": \"top center\"}, {\"type\": \"scatter\", \"x\": [-1.1498082700676722], \"y\": [-0.281574192599332], \"mode\": \"markers\", \"text\": \"brought\", \"textposition\": \"top center\"}, {\"type\": \"scatter\", \"x\": [-0.4559660555504302], \"y\": [-0.665649461174959], \"mode\": \"markers\", \"text\": \"bypass\", \"textposition\": \"top center\"}, {\"type\": \"scatter\", \"x\": [-0.002833427527670892], \"y\": [-0.5996819029852444], \"mode\": \"markers\", \"text\": \"calf\", \"textposition\": \"top center\"}, {\"type\": \"scatter\", \"x\": [-0.9633302917097374], \"y\": [-0.10844209887261204], \"mode\": \"markers\", \"text\": \"called\", \"textposition\": \"top center\"}, {\"type\": \"scatter\", \"x\": [-1.1410412436171915], \"y\": [-0.2623355058129464], \"mode\": \"markers\", \"text\": \"came\", \"textposition\": \"top center\"}, {\"type\": \"scatter\", \"x\": [1.320365525656791], \"y\": [-1.0627007456730455], \"mode\": \"markers\", \"text\": \"cardiac\", \"textposition\": \"top center\"}, {\"type\": \"scatter\", \"x\": [0.5583513396620293], \"y\": [-0.9136486393627931], \"mode\": \"markers\", \"text\": \"cardiology\", \"textposition\": \"top center\"}, {\"type\": \"scatter\", \"x\": [0.4109090914005849], \"y\": [-1.056672266449303], \"mode\": \"markers\", \"text\": \"cardiothoracic\", \"textposition\": \"top center\"}, {\"type\": \"scatter\", \"x\": [1.4652353554977342], \"y\": [-0.6137171604261803], \"mode\": \"markers\", \"text\": \"cardiovascular\", \"textposition\": \"top center\"}, {\"type\": \"scatter\", \"x\": [0.3704089415364539], \"y\": [-0.2454995022857603], \"mode\": \"markers\", \"text\": \"cath\", \"textposition\": \"top center\"}, {\"type\": \"scatter\", \"x\": [0.9788681347994227], \"y\": [-1.1555037007365008], \"mode\": \"markers\", \"text\": \"cervical\", \"textposition\": \"top center\"}, {\"type\": \"scatter\", \"x\": [-0.852017571809567], \"y\": [-0.22191505254002605], \"mode\": \"markers\", \"text\": \"changes\", \"textposition\": \"top center\"}, {\"type\": \"scatter\", \"x\": [-0.4761896756259201], \"y\": [0.32390303672723125], \"mode\": \"markers\", \"text\": \"charcoal\", \"textposition\": \"top center\"}, {\"type\": \"scatter\", \"x\": [-0.5206361486868856], \"y\": [0.04061909076590124], \"mode\": \"markers\", \"text\": \"children\", \"textposition\": \"top center\"}, {\"type\": \"scatter\", \"x\": [1.3403530960974446], \"y\": [-1.0476773526217191], \"mode\": \"markers\", \"text\": \"cholecystectomy\", \"textposition\": \"top center\"}, {\"type\": \"scatter\", \"x\": [0.33896209097745283], \"y\": [-0.15620161616741582], \"mode\": \"markers\", \"text\": \"chronic\", \"textposition\": \"top center\"}, {\"type\": \"scatter\", \"x\": [1.29038852218439], \"y\": [-0.3706442159945486], \"mode\": \"markers\", \"text\": \"cirrhosis\", \"textposition\": \"top center\"}, {\"type\": \"scatter\", \"x\": [-1.113971834774736], \"y\": [-0.45785927989239067], \"mode\": \"markers\", \"text\": \"cleared\", \"textposition\": \"top center\"}, {\"type\": \"scatter\", \"x\": [0.975710871446101], \"y\": [1.7541355837253165], \"mode\": \"markers\", \"text\": \"clonazepam\", \"textposition\": \"top center\"}, {\"type\": \"scatter\", \"x\": [-0.15488869847306086], \"y\": [1.4710420973934024], \"mode\": \"markers\", \"text\": \"cocaine\", \"textposition\": \"top center\"}, {\"type\": \"scatter\", \"x\": [0.5637461219168834], \"y\": [2.0222526046543545], \"mode\": \"markers\", \"text\": \"codeine\", \"textposition\": \"top center\"}, {\"type\": \"scatter\", \"x\": [-0.6401608342206672], \"y\": [0.1343406438200418], \"mode\": \"markers\", \"text\": \"coherent\", \"textposition\": \"top center\"}, {\"type\": \"scatter\", \"x\": [1.460343199426421], \"y\": [-0.8588900555149027], \"mode\": \"markers\", \"text\": \"colectomy\", \"textposition\": \"top center\"}, {\"type\": \"scatter\", \"x\": [1.0367003875605654], \"y\": [-0.6594163368885403], \"mode\": \"markers\", \"text\": \"colon\", \"textposition\": \"top center\"}, {\"type\": \"scatter\", \"x\": [1.1025694019403507], \"y\": [-0.20371874858447575], \"mode\": \"markers\", \"text\": \"colonic\", \"textposition\": \"top center\"}, {\"type\": \"scatter\", \"x\": [-0.1738827777306395], \"y\": [-0.3517257740638173], \"mode\": \"markers\", \"text\": \"compartment\", \"textposition\": \"top center\"}, {\"type\": \"scatter\", \"x\": [0.4228055810633027], \"y\": [-0.701572874231554], \"mode\": \"markers\", \"text\": \"complications\", \"textposition\": \"top center\"}, {\"type\": \"scatter\", \"x\": [-0.9827296080861183], \"y\": [-0.26002082880970845], \"mode\": \"markers\", \"text\": \"concerning\", \"textposition\": \"top center\"}, {\"type\": \"scatter\", \"x\": [-1.1308689265480882], \"y\": [-0.40627287268768747], \"mode\": \"markers\", \"text\": \"confirmed\", \"textposition\": \"top center\"}, {\"type\": \"scatter\", \"x\": [-0.7188106170483917], \"y\": [-0.0774640441029254], \"mode\": \"markers\", \"text\": \"consult\", \"textposition\": \"top center\"}, {\"type\": \"scatter\", \"x\": [-0.9911211812583133], \"y\": [-0.28091880676217446], \"mode\": \"markers\", \"text\": \"consulted\", \"textposition\": \"top center\"}, {\"type\": \"scatter\", \"x\": [-0.9716483245986116], \"y\": [-0.23720292796620446], \"mode\": \"markers\", \"text\": \"continuing\", \"textposition\": \"top center\"}, {\"type\": \"scatter\", \"x\": [-0.31223659679049376], \"y\": [0.16964673061642752], \"mode\": \"markers\", \"text\": \"contributory\", \"textposition\": \"top center\"}, {\"type\": \"scatter\", \"x\": [-0.9241401580298888], \"y\": [-0.05496915250994073], \"mode\": \"markers\", \"text\": \"controlled\", \"textposition\": \"top center\"}, {\"type\": \"scatter\", \"x\": [-0.2624727403335194], \"y\": [-0.3637564440307721], \"mode\": \"markers\", \"text\": \"cord\", \"textposition\": \"top center\"}, {\"type\": \"scatter\", \"x\": [1.4791351010182505], \"y\": [-1.1727911814201257], \"mode\": \"markers\", \"text\": \"coronary\", \"textposition\": \"top center\"}, {\"type\": \"scatter\", \"x\": [0.03224885836408856], \"y\": [0.4446854616499868], \"mode\": \"markers\", \"text\": \"cough\", \"textposition\": \"top center\"}, {\"type\": \"scatter\", \"x\": [0.43722769573917153], \"y\": [0.34608978750367964], \"mode\": \"markers\", \"text\": \"coumadin\", \"textposition\": \"top center\"}, {\"type\": \"scatter\", \"x\": [-0.5445711459937489], \"y\": [0.380425565637972], \"mode\": \"markers\", \"text\": \"counseling\", \"textposition\": \"top center\"}, {\"type\": \"scatter\", \"x\": [1.6305073160133863], \"y\": [-0.32357912266368466], \"mode\": \"markers\", \"text\": \"creatinine\", \"textposition\": \"top center\"}, {\"type\": \"scatter\", \"x\": [-0.929133204664065], \"y\": [-0.36399815829137794], \"mode\": \"markers\", \"text\": \"cutting\", \"textposition\": \"top center\"}, {\"type\": \"scatter\", \"x\": [1.2766333900904858], \"y\": [-1.0014011817169128], \"mode\": \"markers\", \"text\": \"cyst\", \"textposition\": \"top center\"}, {\"type\": \"scatter\", \"x\": [-0.958774114179539], \"y\": [-0.06149063718738519], \"mode\": \"markers\", \"text\": \"days\", \"textposition\": \"top center\"}, {\"type\": \"scatter\", \"x\": [-0.6227935136417614], \"y\": [-0.05424232431826446], \"mode\": \"markers\", \"text\": \"deceased\", \"textposition\": \"top center\"}, {\"type\": \"scatter\", \"x\": [-1.1597919378270756], \"y\": [-0.27495558356269845], \"mode\": \"markers\", \"text\": \"decided\", \"textposition\": \"top center\"}, {\"type\": \"scatter\", \"x\": [-0.39066618289207017], \"y\": [-0.2260060557956579], \"mode\": \"markers\", \"text\": \"decreased\", \"textposition\": \"top center\"}, {\"type\": \"scatter\", \"x\": [-0.9574133999211819], \"y\": [-0.3619529825341479], \"mode\": \"markers\", \"text\": \"deemed\", \"textposition\": \"top center\"}, {\"type\": \"scatter\", \"x\": [-0.028083808118963195], \"y\": [-0.8631069562603508], \"mode\": \"markers\", \"text\": \"defect\", \"textposition\": \"top center\"}, {\"type\": \"scatter\", \"x\": [0.09318580841180592], \"y\": [-0.39767180284817427], \"mode\": \"markers\", \"text\": \"deficiency\", \"textposition\": \"top center\"}, {\"type\": \"scatter\", \"x\": [-1.2552885436707573], \"y\": [-0.37897513791447884], \"mode\": \"markers\", \"text\": \"denied\", \"textposition\": \"top center\"}, {\"type\": \"scatter\", \"x\": [-1.3658623987527703], \"y\": [-0.1628870932257066], \"mode\": \"markers\", \"text\": \"denies\", \"textposition\": \"top center\"}, {\"type\": \"scatter\", \"x\": [-0.20573515858702393], \"y\": [0.46786704444105853], \"mode\": \"markers\", \"text\": \"depakote\", \"textposition\": \"top center\"}, {\"type\": \"scatter\", \"x\": [-0.454002622700627], \"y\": [0.36969281091798506], \"mode\": \"markers\", \"text\": \"dependence\", \"textposition\": \"top center\"}, {\"type\": \"scatter\", \"x\": [-0.35086266636688634], \"y\": [0.3114217454449972], \"mode\": \"markers\", \"text\": \"depressed\", \"textposition\": \"top center\"}, {\"type\": \"scatter\", \"x\": [-1.018820782253719], \"y\": [-0.14356584894707403], \"mode\": \"markers\", \"text\": \"details\", \"textposition\": \"top center\"}, {\"type\": \"scatter\", \"x\": [-1.042718715841192], \"y\": [-0.2285429510345333], \"mode\": \"markers\", \"text\": \"determined\", \"textposition\": \"top center\"}, {\"type\": \"scatter\", \"x\": [0.10288287073365143], \"y\": [0.9819247439733035], \"mode\": \"markers\", \"text\": \"detox\", \"textposition\": \"top center\"}, {\"type\": \"scatter\", \"x\": [1.1601265925004793], \"y\": [-0.23949834817039567], \"mode\": \"markers\", \"text\": \"diabetes\", \"textposition\": \"top center\"}, {\"type\": \"scatter\", \"x\": [0.4082496321747566], \"y\": [-0.7061503489512444], \"mode\": \"markers\", \"text\": \"diagnosed\", \"textposition\": \"top center\"}, {\"type\": \"scatter\", \"x\": [0.4785966700775189], \"y\": [-0.2002913425105521], \"mode\": \"markers\", \"text\": \"diagnoses\", \"textposition\": \"top center\"}, {\"type\": \"scatter\", \"x\": [0.6199482314359984], \"y\": [-0.6477929847681647], \"mode\": \"markers\", \"text\": \"diagnosis\", \"textposition\": \"top center\"}, {\"type\": \"scatter\", \"x\": [1.831667403906695], \"y\": [-0.790504333983848], \"mode\": \"markers\", \"text\": \"diastolic\", \"textposition\": \"top center\"}, {\"type\": \"scatter\", \"x\": [0.691640965561291], \"y\": [1.9246857462225209], \"mode\": \"markers\", \"text\": \"diazepam\", \"textposition\": \"top center\"}, {\"type\": \"scatter\", \"x\": [-0.5849537329460911], \"y\": [-0.22707962886894914], \"mode\": \"markers\", \"text\": \"died\", \"textposition\": \"top center\"}, {\"type\": \"scatter\", \"x\": [0.9309185897237146], \"y\": [-0.7006679906664206], \"mode\": \"markers\", \"text\": \"dilated\", \"textposition\": \"top center\"}, {\"type\": \"scatter\", \"x\": [-0.5190379027588357], \"y\": [-0.17808084927975956], \"mode\": \"markers\", \"text\": \"discharged\", \"textposition\": \"top center\"}, {\"type\": \"scatter\", \"x\": [-0.5297734246777045], \"y\": [-0.03686437669646655], \"mode\": \"markers\", \"text\": \"discontinued\", \"textposition\": \"top center\"}, {\"type\": \"scatter\", \"x\": [-1.0584980069656953], \"y\": [-0.3429076166664147], \"mode\": \"markers\", \"text\": \"discussed\", \"textposition\": \"top center\"}, {\"type\": \"scatter\", \"x\": [-0.5643107299700847], \"y\": [-0.05663397194211777], \"mode\": \"markers\", \"text\": \"disposition\", \"textposition\": \"top center\"}, {\"type\": \"scatter\", \"x\": [1.2002118805909394], \"y\": [-1.5925750028546153], \"mode\": \"markers\", \"text\": \"distal\", \"textposition\": \"top center\"}, {\"type\": \"scatter\", \"x\": [-0.7322067991230361], \"y\": [0.08856698003713107], \"mode\": \"markers\", \"text\": \"divorced\", \"textposition\": \"top center\"}, {\"type\": \"scatter\", \"x\": [-1.0297242204170427], \"y\": [-0.07556577129324102], \"mode\": \"markers\", \"text\": \"does\", \"textposition\": \"top center\"}, {\"type\": \"scatter\", \"x\": [-1.0599531429377476], \"y\": [-0.32153530937189007], \"mode\": \"markers\", \"text\": \"done\", \"textposition\": \"top center\"}, {\"type\": \"scatter\", \"x\": [0.6053900222149748], \"y\": [0.7032719445452534], \"mode\": \"markers\", \"text\": \"dose\", \"textposition\": \"top center\"}, {\"type\": \"scatter\", \"x\": [-0.2712718262013195], \"y\": [0.7966947283393951], \"mode\": \"markers\", \"text\": \"drinking\", \"textposition\": \"top center\"}, {\"type\": \"scatter\", \"x\": [-0.34309268820927863], \"y\": [0.8593290058433073], \"mode\": \"markers\", \"text\": \"drinks\", \"textposition\": \"top center\"}, {\"type\": \"scatter\", \"x\": [-0.11694197098038925], \"y\": [0.2513026687829725], \"mode\": \"markers\", \"text\": \"drip\", \"textposition\": \"top center\"}, {\"type\": \"scatter\", \"x\": [0.15161956494496737], \"y\": [1.4241519995410632], \"mode\": \"markers\", \"text\": \"drugs\", \"textposition\": \"top center\"}, {\"type\": \"scatter\", \"x\": [1.7799496769733794], \"y\": [-0.22480985890576813], \"mode\": \"markers\", \"text\": \"dyslipidemia\", \"textposition\": \"top center\"}, {\"type\": \"scatter\", \"x\": [-0.37617164756899407], \"y\": [0.20071055690231232], \"mode\": \"markers\", \"text\": \"eating\", \"textposition\": \"top center\"}, {\"type\": \"scatter\", \"x\": [-0.7661127596767505], \"y\": [-0.22097670987229928], \"mode\": \"markers\", \"text\": \"echo\", \"textposition\": \"top center\"}, {\"type\": \"scatter\", \"x\": [1.2060457081386333], \"y\": [-0.9788924896588901], \"mode\": \"markers\", \"text\": \"echocardiogram\", \"textposition\": \"top center\"}, {\"type\": \"scatter\", \"x\": [1.951206915281983], \"y\": [-0.7001499824624813], \"mode\": \"markers\", \"text\": \"edema\", \"textposition\": \"top center\"}, {\"type\": \"scatter\", \"x\": [-0.20509378029902794], \"y\": [0.42627989554386747], \"mode\": \"markers\", \"text\": \"effects\", \"textposition\": \"top center\"}, {\"type\": \"scatter\", \"x\": [0.4750571714986994], \"y\": [1.7765947657235737], \"mode\": \"markers\", \"text\": \"effexor\", \"textposition\": \"top center\"}, {\"type\": \"scatter\", \"x\": [-0.44608102640124253], \"y\": [-0.4448331150955091], \"mode\": \"markers\", \"text\": \"elevated\", \"textposition\": \"top center\"}, {\"type\": \"scatter\", \"x\": [1.3582521824111702], \"y\": [-0.2455171864823575], \"mode\": \"markers\", \"text\": \"encephalopathy\", \"textposition\": \"top center\"}, {\"type\": \"scatter\", \"x\": [1.6650982098482707], \"y\": [-0.46595716430441914], \"mode\": \"markers\", \"text\": \"endometriosis\", \"textposition\": \"top center\"}, {\"type\": \"scatter\", \"x\": [-1.0649854034266155], \"y\": [-0.3403341863170133], \"mode\": \"markers\", \"text\": \"endorsed\", \"textposition\": \"top center\"}, {\"type\": \"scatter\", \"x\": [1.036458949205999], \"y\": [0.17698691336265246], \"mode\": \"markers\", \"text\": \"epilepsy\", \"textposition\": \"top center\"}, {\"type\": \"scatter\", \"x\": [1.9070906296549104], \"y\": [1.0576161249009504], \"mode\": \"markers\", \"text\": \"erythromycin\", \"textposition\": \"top center\"}, {\"type\": \"scatter\", \"x\": [1.5580231242290288], \"y\": [-0.9995591375650925], \"mode\": \"markers\", \"text\": \"esophageal\", \"textposition\": \"top center\"}, {\"type\": \"scatter\", \"x\": [1.1428379674217477], \"y\": [-0.22356662151784548], \"mode\": \"markers\", \"text\": \"esophagitis\", \"textposition\": \"top center\"}, {\"type\": \"scatter\", \"x\": [1.5033109605117065], \"y\": [-1.1251216292700574], \"mode\": \"markers\", \"text\": \"esophagus\", \"textposition\": \"top center\"}, {\"type\": \"scatter\", \"x\": [-0.8489075979585915], \"y\": [-0.26655591542607204], \"mode\": \"markers\", \"text\": \"estimated\", \"textposition\": \"top center\"}, {\"type\": \"scatter\", \"x\": [-0.3525640738996161], \"y\": [0.5855362449196954], \"mode\": \"markers\", \"text\": \"ethanol\", \"textposition\": \"top center\"}, {\"type\": \"scatter\", \"x\": [0.3026681119177526], \"y\": [0.24037524726338888], \"mode\": \"markers\", \"text\": \"ethylene\", \"textposition\": \"top center\"}, {\"type\": \"scatter\", \"x\": [1.282781302249595], \"y\": [-0.6768572046239071], \"mode\": \"markers\", \"text\": \"etiology\", \"textposition\": \"top center\"}, {\"type\": \"scatter\", \"x\": [-0.2612270277650212], \"y\": [0.34020721044326674], \"mode\": \"markers\", \"text\": \"eval\", \"textposition\": \"top center\"}, {\"type\": \"scatter\", \"x\": [-0.5146089801962779], \"y\": [-0.4858652739338318], \"mode\": \"markers\", \"text\": \"evaluated\", \"textposition\": \"top center\"}, {\"type\": \"scatter\", \"x\": [-0.09547030216342836], \"y\": [-0.14863067887922554], \"mode\": \"markers\", \"text\": \"exam\", \"textposition\": \"top center\"}, {\"type\": \"scatter\", \"x\": [-1.0631202374577586], \"y\": [0.11513929216105619], \"mode\": \"markers\", \"text\": \"expired\", \"textposition\": \"top center\"}, {\"type\": \"scatter\", \"x\": [-1.1118066590411597], \"y\": [-0.35640863321804567], \"mode\": \"markers\", \"text\": \"expressed\", \"textposition\": \"top center\"}, {\"type\": \"scatter\", \"x\": [-1.0487086356517423], \"y\": [-0.21877998235651036], \"mode\": \"markers\", \"text\": \"extended\", \"textposition\": \"top center\"}, {\"type\": \"scatter\", \"x\": [0.16724041845986393], \"y\": [-0.25237717563853596], \"mode\": \"markers\", \"text\": \"extubated\", \"textposition\": \"top center\"}, {\"type\": \"scatter\", \"x\": [0.13364543390627615], \"y\": [-0.5968920402643605], \"mode\": \"markers\", \"text\": \"facial\", \"textposition\": \"top center\"}, {\"type\": \"scatter\", \"x\": [-0.7614551990353056], \"y\": [0.05589453743762914], \"mode\": \"markers\", \"text\": \"feeds\", \"textposition\": \"top center\"}, {\"type\": \"scatter\", \"x\": [-0.9033023027011897], \"y\": [-0.23735560562932004], \"mode\": \"markers\", \"text\": \"feels\", \"textposition\": \"top center\"}, {\"type\": \"scatter\", \"x\": [-0.8945988609743419], \"y\": [-0.19839113130411024], \"mode\": \"markers\", \"text\": \"felt\", \"textposition\": \"top center\"}, {\"type\": \"scatter\", \"x\": [0.13768413902042073], \"y\": [0.09530890272928177], \"mode\": \"markers\", \"text\": \"fever\", \"textposition\": \"top center\"}, {\"type\": \"scatter\", \"x\": [0.9250930867286814], \"y\": [0.2754901106865115], \"mode\": \"markers\", \"text\": \"fevers\", \"textposition\": \"top center\"}, {\"type\": \"scatter\", \"x\": [1.420375437130309], \"y\": [-0.6584646329719613], \"mode\": \"markers\", \"text\": \"fibrillation\", \"textposition\": \"top center\"}, {\"type\": \"scatter\", \"x\": [-0.4688890033121845], \"y\": [-0.024958478539358814], \"mode\": \"markers\", \"text\": \"filter\", \"textposition\": \"top center\"}, {\"type\": \"scatter\", \"x\": [-0.46853744454677876], \"y\": [-0.3025579999598421], \"mode\": \"markers\", \"text\": \"findings\", \"textposition\": \"top center\"}, {\"type\": \"scatter\", \"x\": [-0.1952457144607455], \"y\": [0.7235765867924193], \"mode\": \"markers\", \"text\": \"flexeril\", \"textposition\": \"top center\"}, {\"type\": \"scatter\", \"x\": [0.06718732566059508], \"y\": [-0.2814697820717184], \"mode\": \"markers\", \"text\": \"fluid\", \"textposition\": \"top center\"}, {\"type\": \"scatter\", \"x\": [0.5466208867048422], \"y\": [0.11652225966620083], \"mode\": \"markers\", \"text\": \"fluids\", \"textposition\": \"top center\"}, {\"type\": \"scatter\", \"x\": [1.5855200678916033], \"y\": [0.5512733284492147], \"mode\": \"markers\", \"text\": \"folate\", \"textposition\": \"top center\"}, {\"type\": \"scatter\", \"x\": [-0.9109423287222257], \"y\": [-0.3016556339868933], \"mode\": \"markers\", \"text\": \"followed\", \"textposition\": \"top center\"}, {\"type\": \"scatter\", \"x\": [-0.3353382770275314], \"y\": [-0.32472777886179555], \"mode\": \"markers\", \"text\": \"followup\", \"textposition\": \"top center\"}, {\"type\": \"scatter\", \"x\": [0.689622628600154], \"y\": [-0.9382310567380894], \"mode\": \"markers\", \"text\": \"fracture\", \"textposition\": \"top center\"}, {\"type\": \"scatter\", \"x\": [-0.8817017571074977], \"y\": [0.16684193990409546], \"mode\": \"markers\", \"text\": \"friends\", \"textposition\": \"top center\"}, {\"type\": \"scatter\", \"x\": [-0.7327664315905423], \"y\": [-0.36808889207858997], \"mode\": \"markers\", \"text\": \"further\", \"textposition\": \"top center\"}, {\"type\": \"scatter\", \"x\": [1.2329783340971714], \"y\": [-0.5609671224457179], \"mode\": \"markers\", \"text\": \"gastric\", \"textposition\": \"top center\"}, {\"type\": \"scatter\", \"x\": [1.156013945053563], \"y\": [-0.17814355983663346], \"mode\": \"markers\", \"text\": \"gastritis\", \"textposition\": \"top center\"}, {\"type\": \"scatter\", \"x\": [1.3543638309578412], \"y\": [-0.30767822527583627], \"mode\": \"markers\", \"text\": \"gastrointestinal\", \"textposition\": \"top center\"}, {\"type\": \"scatter\", \"x\": [0.2415164992435333], \"y\": [0.6410216876701401], \"mode\": \"markers\", \"text\": \"glycol\", \"textposition\": \"top center\"}, {\"type\": \"scatter\", \"x\": [-1.0386115845112414], \"y\": [-0.06959992412877614], \"mode\": \"markers\", \"text\": \"going\", \"textposition\": \"top center\"}, {\"type\": \"scatter\", \"x\": [1.4020495368616381], \"y\": [0.07178070917108077], \"mode\": \"markers\", \"text\": \"gout\", \"textposition\": \"top center\"}, {\"type\": \"scatter\", \"x\": [0.08619412274267958], \"y\": [-0.6000144292719879], \"mode\": \"markers\", \"text\": \"graft\", \"textposition\": \"top center\"}, {\"type\": \"scatter\", \"x\": [0.7822543279558568], \"y\": [1.056467853006735], \"mode\": \"markers\", \"text\": \"hallucinations\", \"textposition\": \"top center\"}, {\"type\": \"scatter\", \"x\": [-1.0264699049878696], \"y\": [-0.2114290358629612], \"mode\": \"markers\", \"text\": \"hanging\", \"textposition\": \"top center\"}, {\"type\": \"scatter\", \"x\": [-0.6013858085427356], \"y\": [0.10191346927145642], \"mode\": \"markers\", \"text\": \"harm\", \"textposition\": \"top center\"}, {\"type\": \"scatter\", \"x\": [-1.1326048920662706], \"y\": [-0.3633582237732736], \"mode\": \"markers\", \"text\": \"held\", \"textposition\": \"top center\"}, {\"type\": \"scatter\", \"x\": [1.7146887690442687], \"y\": [-0.4319292685329463], \"mode\": \"markers\", \"text\": \"hematocrit\", \"textposition\": \"top center\"}, {\"type\": \"scatter\", \"x\": [0.044725318631923375], \"y\": [-0.3098896979223208], \"mode\": \"markers\", \"text\": \"hemodynamically\", \"textposition\": \"top center\"}, {\"type\": \"scatter\", \"x\": [1.8788152302377383], \"y\": [-0.6657840722843057], \"mode\": \"markers\", \"text\": \"hepatic\", \"textposition\": \"top center\"}, {\"type\": \"scatter\", \"x\": [0.5485137896209621], \"y\": [0.20486335902794042], \"mode\": \"markers\", \"text\": \"hepatitis\", \"textposition\": \"top center\"}, {\"type\": \"scatter\", \"x\": [0.5915884020530493], \"y\": [-0.5932595168035785], \"mode\": \"markers\", \"text\": \"hepatology\", \"textposition\": \"top center\"}, {\"type\": \"scatter\", \"x\": [0.7148072443560194], \"y\": [-0.9758657944400772], \"mode\": \"markers\", \"text\": \"hernia\", \"textposition\": \"top center\"}, {\"type\": \"scatter\", \"x\": [-0.0933930543710674], \"y\": [1.6836371184852184], \"mode\": \"markers\", \"text\": \"heroin\", \"textposition\": \"top center\"}, {\"type\": \"scatter\", \"x\": [0.680658551509422], \"y\": [-0.290998049744216], \"mode\": \"markers\", \"text\": \"hospitalization\", \"textposition\": \"top center\"}, {\"type\": \"scatter\", \"x\": [1.0395300385806188], \"y\": [0.0185504172031806], \"mode\": \"markers\", \"text\": \"hospitalizations\", \"textposition\": \"top center\"}, {\"type\": \"scatter\", \"x\": [0.04289595448885319], \"y\": [-0.3725318367760028], \"mode\": \"markers\", \"text\": \"hospitalized\", \"textposition\": \"top center\"}, {\"type\": \"scatter\", \"x\": [-0.7463411640781992], \"y\": [-0.023027546939169974], \"mode\": \"markers\", \"text\": \"hours\", \"textposition\": \"top center\"}, {\"type\": \"scatter\", \"x\": [1.682510605254002], \"y\": [-0.14091786807778925], \"mode\": \"markers\", \"text\": \"hypercholesterolemia\", \"textposition\": \"top center\"}, {\"type\": \"scatter\", \"x\": [1.3628189640251132], \"y\": [-0.08868205522418844], \"mode\": \"markers\", \"text\": \"hyperlipidemia\", \"textposition\": \"top center\"}, {\"type\": \"scatter\", \"x\": [1.623975225176101], \"y\": [-0.06592946184512787], \"mode\": \"markers\", \"text\": \"hypertension\", \"textposition\": \"top center\"}, {\"type\": \"scatter\", \"x\": [2.433379325563454], \"y\": [-0.10392740134446939], \"mode\": \"markers\", \"text\": \"hypotension\", \"textposition\": \"top center\"}, {\"type\": \"scatter\", \"x\": [1.184941381626685], \"y\": [-0.10373257820005265], \"mode\": \"markers\", \"text\": \"hypothyroid\", \"textposition\": \"top center\"}, {\"type\": \"scatter\", \"x\": [1.817973464057899], \"y\": [0.020187619027198636], \"mode\": \"markers\", \"text\": \"hypothyroidism\", \"textposition\": \"top center\"}, {\"type\": \"scatter\", \"x\": [1.2583394145228175], \"y\": [1.3095295963573477], \"mode\": \"markers\", \"text\": \"ibuprofen\", \"textposition\": \"top center\"}, {\"type\": \"scatter\", \"x\": [-0.1331179496370111], \"y\": [0.1513380054502899], \"mode\": \"markers\", \"text\": \"ideation\", \"textposition\": \"top center\"}, {\"type\": \"scatter\", \"x\": [-0.4854889491094223], \"y\": [0.23101387598904294], \"mode\": \"markers\", \"text\": \"ideations\", \"textposition\": \"top center\"}, {\"type\": \"scatter\", \"x\": [-0.6379888255332596], \"y\": [0.05842784026892216], \"mode\": \"markers\", \"text\": \"illicits\", \"textposition\": \"top center\"}, {\"type\": \"scatter\", \"x\": [0.11056550482398551], \"y\": [-0.7486220274365836], \"mode\": \"markers\", \"text\": \"imaging\", \"textposition\": \"top center\"}, {\"type\": \"scatter\", \"x\": [-0.8686719584830837], \"y\": [-0.4864971126812793], \"mode\": \"markers\", \"text\": \"improved\", \"textposition\": \"top center\"}, {\"type\": \"scatter\", \"x\": [-0.22055163099893307], \"y\": [0.24421604958964896], \"mode\": \"markers\", \"text\": \"incarceration\", \"textposition\": \"top center\"}, {\"type\": \"scatter\", \"x\": [-0.9727454776261556], \"y\": [-0.34842077351836614], \"mode\": \"markers\", \"text\": \"indicated\", \"textposition\": \"top center\"}, {\"type\": \"scatter\", \"x\": [1.5453384002328598], \"y\": [0.44345544580541213], \"mode\": \"markers\", \"text\": \"indomethacin\", \"textposition\": \"top center\"}, {\"type\": \"scatter\", \"x\": [-0.1431531462171772], \"y\": [0.10871552696797616], \"mode\": \"markers\", \"text\": \"induced\", \"textposition\": \"top center\"}, {\"type\": \"scatter\", \"x\": [-0.8969597756599065], \"y\": [-0.2529956226957551], \"mode\": \"markers\", \"text\": \"inflicted\", \"textposition\": \"top center\"}, {\"type\": \"scatter\", \"x\": [0.31793281456571787], \"y\": [0.9100507676884595], \"mode\": \"markers\", \"text\": \"ingested\", \"textposition\": \"top center\"}, {\"type\": \"scatter\", \"x\": [0.24584106858593646], \"y\": [0.9439260402255452], \"mode\": \"markers\", \"text\": \"ingesting\", \"textposition\": \"top center\"}, {\"type\": \"scatter\", \"x\": [0.7147206264588138], \"y\": [0.548706720015216], \"mode\": \"markers\", \"text\": \"ingestion\", \"textposition\": \"top center\"}, {\"type\": \"scatter\", \"x\": [-1.0309139807890473], \"y\": [-0.3172969340468838], \"mode\": \"markers\", \"text\": \"initiated\", \"textposition\": \"top center\"}, {\"type\": \"scatter\", \"x\": [-0.06206571589968273], \"y\": [-0.5644407528125545], \"mode\": \"markers\", \"text\": \"injuries\", \"textposition\": \"top center\"}, {\"type\": \"scatter\", \"x\": [0.28567487568100575], \"y\": [-0.08119965615554633], \"mode\": \"markers\", \"text\": \"inpatient\", \"textposition\": \"top center\"}, {\"type\": \"scatter\", \"x\": [-0.8003334476632931], \"y\": [0.09998901427161605], \"mode\": \"markers\", \"text\": \"instructions\", \"textposition\": \"top center\"}, {\"type\": \"scatter\", \"x\": [0.3765867888441231], \"y\": [-0.48189814910461076], \"mode\": \"markers\", \"text\": \"insufficiency\", \"textposition\": \"top center\"}, {\"type\": \"scatter\", \"x\": [1.3783558345273896], \"y\": [0.7499204276192776], \"mode\": \"markers\", \"text\": \"insulin\", \"textposition\": \"top center\"}, {\"type\": \"scatter\", \"x\": [0.306526096831355], \"y\": [0.08194750287642541], \"mode\": \"markers\", \"text\": \"intake\", \"textposition\": \"top center\"}, {\"type\": \"scatter\", \"x\": [-0.6740725844147262], \"y\": [-0.3244531636813189], \"mode\": \"markers\", \"text\": \"intensive\", \"textposition\": \"top center\"}, {\"type\": \"scatter\", \"x\": [-0.5862365578084252], \"y\": [-0.09846773606916123], \"mode\": \"markers\", \"text\": \"intentional\", \"textposition\": \"top center\"}, {\"type\": \"scatter\", \"x\": [-0.16726186398537024], \"y\": [0.6913422596256181], \"mode\": \"markers\", \"text\": \"intoxicated\", \"textposition\": \"top center\"}, {\"type\": \"scatter\", \"x\": [0.3922356127354825], \"y\": [0.910518969747531], \"mode\": \"markers\", \"text\": \"intoxication\", \"textposition\": \"top center\"}, {\"type\": \"scatter\", \"x\": [1.1496137914139142], \"y\": [-0.4183454148405842], \"mode\": \"markers\", \"text\": \"intubated\", \"textposition\": \"top center\"}, {\"type\": \"scatter\", \"x\": [1.4222996592820605], \"y\": [-0.5027207364776182], \"mode\": \"markers\", \"text\": \"intubation\", \"textposition\": \"top center\"}, {\"type\": \"scatter\", \"x\": [0.32533252905842835], \"y\": [-0.5966609963595452], \"mode\": \"markers\", \"text\": \"invasive\", \"textposition\": \"top center\"}, {\"type\": \"scatter\", \"x\": [0.5960948074727406], \"y\": [0.9561719124175347], \"mode\": \"markers\", \"text\": \"iodine\", \"textposition\": \"top center\"}, {\"type\": \"scatter\", \"x\": [2.317597193496351], \"y\": [-1.3883187489840267], \"mode\": \"markers\", \"text\": \"ischemic\", \"textposition\": \"top center\"}, {\"type\": \"scatter\", \"x\": [-0.8787233873146574], \"y\": [-0.31491181234127236], \"mode\": \"markers\", \"text\": \"issues\", \"textposition\": \"top center\"}, {\"type\": \"scatter\", \"x\": [-1.172797103227764], \"y\": [-0.13892568571778105], \"mode\": \"markers\", \"text\": \"kept\", \"textposition\": \"top center\"}, {\"type\": \"scatter\", \"x\": [1.1601723382941889], \"y\": [0.05193510119075407], \"mode\": \"markers\", \"text\": \"ketoacidosis\", \"textposition\": \"top center\"}, {\"type\": \"scatter\", \"x\": [0.8893351142074776], \"y\": [-0.527018756123535], \"mode\": \"markers\", \"text\": \"kidney\", \"textposition\": \"top center\"}, {\"type\": \"scatter\", \"x\": [0.2353948717848511], \"y\": [1.082248881495644], \"mode\": \"markers\", \"text\": \"klonopin\", \"textposition\": \"top center\"}, {\"type\": \"scatter\", \"x\": [-0.8498901320250086], \"y\": [0.019031990821581427], \"mode\": \"markers\", \"text\": \"known\", \"textposition\": \"top center\"}, {\"type\": \"scatter\", \"x\": [-0.6828233544438373], \"y\": [0.25650855702103287], \"mode\": \"markers\", \"text\": \"labs\", \"textposition\": \"top center\"}, {\"type\": \"scatter\", \"x\": [0.36424375441366125], \"y\": [-0.8824766819530787], \"mode\": \"markers\", \"text\": \"laceration\", \"textposition\": \"top center\"}, {\"type\": \"scatter\", \"x\": [0.11047500004497518], \"y\": [0.3793263706732051], \"mode\": \"markers\", \"text\": \"lamictal\", \"textposition\": \"top center\"}, {\"type\": \"scatter\", \"x\": [0.6519393705359783], \"y\": [2.192086307637931], \"mode\": \"markers\", \"text\": \"lexapro\", \"textposition\": \"top center\"}, {\"type\": \"scatter\", \"x\": [0.2170628794414746], \"y\": [0.7944664288343616], \"mode\": \"markers\", \"text\": \"lithium\", \"textposition\": \"top center\"}, {\"type\": \"scatter\", \"x\": [-0.9178667636885106], \"y\": [-0.03259022076121418], \"mode\": \"markers\", \"text\": \"lived\", \"textposition\": \"top center\"}, {\"type\": \"scatter\", \"x\": [1.3055090047786275], \"y\": [-0.35227451947658206], \"mode\": \"markers\", \"text\": \"liver\", \"textposition\": \"top center\"}, {\"type\": \"scatter\", \"x\": [-0.7287664289645096], \"y\": [-0.012321798898462483], \"mode\": \"markers\", \"text\": \"lives\", \"textposition\": \"top center\"}, {\"type\": \"scatter\", \"x\": [-0.7980020613830427], \"y\": [-0.030879337480809742], \"mode\": \"markers\", \"text\": \"longer\", \"textposition\": \"top center\"}, {\"type\": \"scatter\", \"x\": [-1.1372856649043392], \"y\": [-0.16028277237402053], \"mode\": \"markers\", \"text\": \"made\", \"textposition\": \"top center\"}, {\"type\": \"scatter\", \"x\": [-1.1321739540304727], \"y\": [-0.2947718697043902], \"mode\": \"markers\", \"text\": \"maintained\", \"textposition\": \"top center\"}, {\"type\": \"scatter\", \"x\": [-1.2012736236906374], \"y\": [-0.21121053494431977], \"mode\": \"markers\", \"text\": \"managed\", \"textposition\": \"top center\"}, {\"type\": \"scatter\", \"x\": [-0.23891311759184855], \"y\": [1.3158430877559883], \"mode\": \"markers\", \"text\": \"marijuana\", \"textposition\": \"top center\"}, {\"type\": \"scatter\", \"x\": [0.17346724640856556], \"y\": [-0.13368040849499113], \"mode\": \"markers\", \"text\": \"maternal\", \"textposition\": \"top center\"}, {\"type\": \"scatter\", \"x\": [-0.9141068156901107], \"y\": [-0.1183008022539087], \"mode\": \"markers\", \"text\": \"means\", \"textposition\": \"top center\"}, {\"type\": \"scatter\", \"x\": [-0.17758987049527647], \"y\": [-0.6310460323406294], \"mode\": \"markers\", \"text\": \"mechanical\", \"textposition\": \"top center\"}, {\"type\": \"scatter\", \"x\": [0.3603174262511997], \"y\": [-0.12061342091058669], \"mode\": \"markers\", \"text\": \"medically\", \"textposition\": \"top center\"}, {\"type\": \"scatter\", \"x\": [0.9695335398958346], \"y\": [1.445487626942233], \"mode\": \"markers\", \"text\": \"medications\", \"textposition\": \"top center\"}, {\"type\": \"scatter\", \"x\": [0.6568314515694003], \"y\": [1.903148919174068], \"mode\": \"markers\", \"text\": \"meds\", \"textposition\": \"top center\"}, {\"type\": \"scatter\", \"x\": [-0.15116138535965387], \"y\": [-0.09580247353312583], \"mode\": \"markers\", \"text\": \"mellitus\", \"textposition\": \"top center\"}, {\"type\": \"scatter\", \"x\": [1.202802031379384], \"y\": [-0.31270272621313067], \"mode\": \"markers\", \"text\": \"metabolic\", \"textposition\": \"top center\"}, {\"type\": \"scatter\", \"x\": [0.5842386804560059], \"y\": [1.9375916431353697], \"mode\": \"markers\", \"text\": \"methadone\", \"textposition\": \"top center\"}, {\"type\": \"scatter\", \"x\": [1.2255726402160263], \"y\": [0.1839498323501349], \"mode\": \"markers\", \"text\": \"migraines\", \"textposition\": \"top center\"}, {\"type\": \"scatter\", \"x\": [-0.06490391487945121], \"y\": [0.08456888963049615], \"mode\": \"markers\", \"text\": \"mild\", \"textposition\": \"top center\"}, {\"type\": \"scatter\", \"x\": [-0.59402758215049], \"y\": [0.028746290229283714], \"mode\": \"markers\", \"text\": \"mildly\", \"textposition\": \"top center\"}, {\"type\": \"scatter\", \"x\": [1.0128810650874633], \"y\": [-1.1336783933776984], \"mode\": \"markers\", \"text\": \"mitral\", \"textposition\": \"top center\"}, {\"type\": \"scatter\", \"x\": [-0.3129776548302498], \"y\": [-0.1612012633580136], \"mode\": \"markers\", \"text\": \"moderately\", \"textposition\": \"top center\"}, {\"type\": \"scatter\", \"x\": [-0.7486040963066265], \"y\": [-0.2513142095036369], \"mode\": \"markers\", \"text\": \"monitored\", \"textposition\": \"top center\"}, {\"type\": \"scatter\", \"x\": [-0.7036317460876442], \"y\": [-0.3141483895914957], \"mode\": \"markers\", \"text\": \"monitoring\", \"textposition\": \"top center\"}, {\"type\": \"scatter\", \"x\": [-0.8768149855355151], \"y\": [-0.18333784866535074], \"mode\": \"markers\", \"text\": \"months\", \"textposition\": \"top center\"}, {\"type\": \"scatter\", \"x\": [-0.24896464017547487], \"y\": [0.23228051325848695], \"mode\": \"markers\", \"text\": \"morbid\", \"textposition\": \"top center\"}, {\"type\": \"scatter\", \"x\": [0.9351557860925293], \"y\": [1.6627983021712878], \"mode\": \"markers\", \"text\": \"morphine\", \"textposition\": \"top center\"}, {\"type\": \"scatter\", \"x\": [-0.20536991250741302], \"y\": [0.31727683969534115], \"mode\": \"markers\", \"text\": \"motrin\", \"textposition\": \"top center\"}, {\"type\": \"scatter\", \"x\": [-1.1806119195389053], \"y\": [-0.411862763677146], \"mode\": \"markers\", \"text\": \"moved\", \"textposition\": \"top center\"}, {\"type\": \"scatter\", \"x\": [-0.5944585087735369], \"y\": [-0.2260870668808215], \"mode\": \"markers\", \"text\": \"movements\", \"textposition\": \"top center\"}, {\"type\": \"scatter\", \"x\": [1.9084680456124905], \"y\": [-1.2557215058670357], \"mode\": \"markers\", \"text\": \"myocardial\", \"textposition\": \"top center\"}, {\"type\": \"scatter\", \"x\": [0.24255972176247845], \"y\": [1.5151044862950163], \"mode\": \"markers\", \"text\": \"narcotic\", \"textposition\": \"top center\"}, {\"type\": \"scatter\", \"x\": [-0.9091734137543026], \"y\": [-0.20843373944593804], \"mode\": \"markers\", \"text\": \"needed\", \"textposition\": \"top center\"}, {\"type\": \"scatter\", \"x\": [-0.9602761680919147], \"y\": [-0.17732725367479182], \"mode\": \"markers\", \"text\": \"needs\", \"textposition\": \"top center\"}, {\"type\": \"scatter\", \"x\": [1.6209037736382585], \"y\": [-0.37027567214248175], \"mode\": \"markers\", \"text\": \"nephropathy\", \"textposition\": \"top center\"}, {\"type\": \"scatter\", \"x\": [0.6629772121503165], \"y\": [-0.5348040799040741], \"mode\": \"markers\", \"text\": \"neurology\", \"textposition\": \"top center\"}, {\"type\": \"scatter\", \"x\": [0.18234067263383333], \"y\": [1.6087995296274198], \"mode\": \"markers\", \"text\": \"neurontin\", \"textposition\": \"top center\"}, {\"type\": \"scatter\", \"x\": [1.8352977355152844], \"y\": [-0.5310747639721467], \"mode\": \"markers\", \"text\": \"neuropathy\", \"textposition\": \"top center\"}, {\"type\": \"scatter\", \"x\": [0.5743346801288537], \"y\": [-0.9573898478738551], \"mode\": \"markers\", \"text\": \"neurosurgery\", \"textposition\": \"top center\"}, {\"type\": \"scatter\", \"x\": [1.0816675413420351], \"y\": [-0.8795513719735712], \"mode\": \"markers\", \"text\": \"nodule\", \"textposition\": \"top center\"}, {\"type\": \"scatter\", \"x\": [-0.5348532146721199], \"y\": [-0.12227358098424834], \"mode\": \"markers\", \"text\": \"noncontributory\", \"textposition\": \"top center\"}, {\"type\": \"scatter\", \"x\": [-0.8267200962365036], \"y\": [-0.30566051208133505], \"mode\": \"markers\", \"text\": \"notable\", \"textposition\": \"top center\"}, {\"type\": \"scatter\", \"x\": [-1.0079530311712244], \"y\": [-0.31071251586605647], \"mode\": \"markers\", \"text\": \"noted\", \"textposition\": \"top center\"}, {\"type\": \"scatter\", \"x\": [-0.7803818196862742], \"y\": [0.06787977395222873], \"mode\": \"markers\", \"text\": \"notes\", \"textposition\": \"top center\"}, {\"type\": \"scatter\", \"x\": [-0.05901663822190044], \"y\": [0.11621082933336559], \"mode\": \"markers\", \"text\": \"nutrition\", \"textposition\": \"top center\"}, {\"type\": \"scatter\", \"x\": [0.6789166012662329], \"y\": [-0.07527743049426008], \"mode\": \"markers\", \"text\": \"obesity\", \"textposition\": \"top center\"}, {\"type\": \"scatter\", \"x\": [-0.5750899398071713], \"y\": [-0.14985988588565285], \"mode\": \"markers\", \"text\": \"observed\", \"textposition\": \"top center\"}, {\"type\": \"scatter\", \"x\": [-0.060884897115415296], \"y\": [-0.5248895968610355], \"mode\": \"markers\", \"text\": \"obstructive\", \"textposition\": \"top center\"}, {\"type\": \"scatter\", \"x\": [-0.9763799621155556], \"y\": [-0.17021448866572433], \"mode\": \"markers\", \"text\": \"obtained\", \"textposition\": \"top center\"}, {\"type\": \"scatter\", \"x\": [-0.7463057161398472], \"y\": [0.24600515487266236], \"mode\": \"markers\", \"text\": \"occasional\", \"textposition\": \"top center\"}, {\"type\": \"scatter\", \"x\": [0.6775329234485935], \"y\": [1.5948131594927208], \"mode\": \"markers\", \"text\": \"opiates\", \"textposition\": \"top center\"}, {\"type\": \"scatter\", \"x\": [0.22858874331845302], \"y\": [0.1742066829439417], \"mode\": \"markers\", \"text\": \"oral\", \"textposition\": \"top center\"}, {\"type\": \"scatter\", \"x\": [1.764685874364455], \"y\": [-0.4600889485875917], \"mode\": \"markers\", \"text\": \"osteoarthritis\", \"textposition\": \"top center\"}, {\"type\": \"scatter\", \"x\": [0.27433624656788314], \"y\": [-0.19287421725251172], \"mode\": \"markers\", \"text\": \"outpatient\", \"textposition\": \"top center\"}, {\"type\": \"scatter\", \"x\": [0.6328499160524673], \"y\": [1.4610535389750163], \"mode\": \"markers\", \"text\": \"overdose\", \"textposition\": \"top center\"}, {\"type\": \"scatter\", \"x\": [-0.022590979054147305], \"y\": [1.4534897891892362], \"mode\": \"markers\", \"text\": \"overdosed\", \"textposition\": \"top center\"}, {\"type\": \"scatter\", \"x\": [0.6435944956622521], \"y\": [1.4392369067619495], \"mode\": \"markers\", \"text\": \"overdoses\", \"textposition\": \"top center\"}, {\"type\": \"scatter\", \"x\": [-0.7433223190616167], \"y\": [0.005859930800831609], \"mode\": \"markers\", \"text\": \"overnight\", \"textposition\": \"top center\"}, {\"type\": \"scatter\", \"x\": [0.6906790039079166], \"y\": [1.9824167837996212], \"mode\": \"markers\", \"text\": \"oxycodone\", \"textposition\": \"top center\"}, {\"type\": \"scatter\", \"x\": [0.6295925088626044], \"y\": [0.22501990717018078], \"mode\": \"markers\", \"text\": \"oxygen\", \"textposition\": \"top center\"}, {\"type\": \"scatter\", \"x\": [1.4618961652198756], \"y\": [-0.20496123193047514], \"mode\": \"markers\", \"text\": \"pancreatitis\", \"textposition\": \"top center\"}, {\"type\": \"scatter\", \"x\": [-0.5562771266124853], \"y\": [0.30766665138571914], \"mode\": \"markers\", \"text\": \"panic\", \"textposition\": \"top center\"}, {\"type\": \"scatter\", \"x\": [-0.6244575364672007], \"y\": [0.17373379486632937], \"mode\": \"markers\", \"text\": \"parents\", \"textposition\": \"top center\"}, {\"type\": \"scatter\", \"x\": [-0.6031032843827516], \"y\": [-0.25314815844352884], \"mode\": \"markers\", \"text\": \"partial\", \"textposition\": \"top center\"}, {\"type\": \"scatter\", \"x\": [0.31121302765342607], \"y\": [1.765594890484431], \"mode\": \"markers\", \"text\": \"paxil\", \"textposition\": \"top center\"}, {\"type\": \"scatter\", \"x\": [-0.9007885109565777], \"y\": [-0.1605338739167373], \"mode\": \"markers\", \"text\": \"peaked\", \"textposition\": \"top center\"}, {\"type\": \"scatter\", \"x\": [-0.9656654654989766], \"y\": [-0.2827906799453211], \"mode\": \"markers\", \"text\": \"pending\", \"textposition\": \"top center\"}, {\"type\": \"scatter\", \"x\": [0.7858068920238148], \"y\": [0.41352467610358734], \"mode\": \"markers\", \"text\": \"penicillins\", \"textposition\": \"top center\"}, {\"type\": \"scatter\", \"x\": [0.14282214882229322], \"y\": [1.331495749672049], \"mode\": \"markers\", \"text\": \"percocet\", \"textposition\": \"top center\"}, {\"type\": \"scatter\", \"x\": [-0.6585068458496102], \"y\": [-0.6466032541559638], \"mode\": \"markers\", \"text\": \"performed\", \"textposition\": \"top center\"}, {\"type\": \"scatter\", \"x\": [-0.18566052205727673], \"y\": [-0.5482992544922162], \"mode\": \"markers\", \"text\": \"peripheral\", \"textposition\": \"top center\"}, {\"type\": \"scatter\", \"x\": [-0.6501520557950237], \"y\": [-0.06740096713252482], \"mode\": \"markers\", \"text\": \"persistent\", \"textposition\": \"top center\"}, {\"type\": \"scatter\", \"x\": [1.0050237696702142], \"y\": [1.1056070217035148], \"mode\": \"markers\", \"text\": \"phenobarbital\", \"textposition\": \"top center\"}, {\"type\": \"scatter\", \"x\": [0.4918816520562493], \"y\": [1.6334898567017806], \"mode\": \"markers\", \"text\": \"pill\", \"textposition\": \"top center\"}, {\"type\": \"scatter\", \"x\": [0.40023506954083204], \"y\": [1.9955493385452723], \"mode\": \"markers\", \"text\": \"pills\", \"textposition\": \"top center\"}, {\"type\": \"scatter\", \"x\": [-0.9983033682155742], \"y\": [-0.30595911906929646], \"mode\": \"markers\", \"text\": \"placed\", \"textposition\": \"top center\"}, {\"type\": \"scatter\", \"x\": [-0.5685684201953665], \"y\": [-0.29229338111082565], \"mode\": \"markers\", \"text\": \"placement\", \"textposition\": \"top center\"}, {\"type\": \"scatter\", \"x\": [0.9544042012436744], \"y\": [-0.28063741302078277], \"mode\": \"markers\", \"text\": \"pneumonia\", \"textposition\": \"top center\"}, {\"type\": \"scatter\", \"x\": [-0.15375919793724674], \"y\": [0.5413265908912355], \"mode\": \"markers\", \"text\": \"poly\", \"textposition\": \"top center\"}, {\"type\": \"scatter\", \"x\": [-0.4926333892579959], \"y\": [0.20351062832231684], \"mode\": \"markers\", \"text\": \"polysubstance\", \"textposition\": \"top center\"}, {\"type\": \"scatter\", \"x\": [1.669033275118349], \"y\": [-0.868695327244415], \"mode\": \"markers\", \"text\": \"postoperative\", \"textposition\": \"top center\"}, {\"type\": \"scatter\", \"x\": [-0.557137281060168], \"y\": [0.13487453694597176], \"mode\": \"markers\", \"text\": \"precautions\", \"textposition\": \"top center\"}, {\"type\": \"scatter\", \"x\": [-0.36750305003692724], \"y\": [-0.5182927496982139], \"mode\": \"markers\", \"text\": \"premature\", \"textposition\": \"top center\"}, {\"type\": \"scatter\", \"x\": [-0.8977524749079222], \"y\": [-0.47734131988879447], \"mode\": \"markers\", \"text\": \"presented\", \"textposition\": \"top center\"}, {\"type\": \"scatter\", \"x\": [-0.8537641294493014], \"y\": [-0.36682039076643413], \"mode\": \"markers\", \"text\": \"presenting\", \"textposition\": \"top center\"}, {\"type\": \"scatter\", \"x\": [-0.8217537639394819], \"y\": [-0.21414188983473798], \"mode\": \"markers\", \"text\": \"presents\", \"textposition\": \"top center\"}, {\"type\": \"scatter\", \"x\": [-0.6165748341628083], \"y\": [-0.2382421605956166], \"mode\": \"markers\", \"text\": \"problems\", \"textposition\": \"top center\"}, {\"type\": \"scatter\", \"x\": [-1.1330147631698366], \"y\": [-0.2454045671210247], \"mode\": \"markers\", \"text\": \"provided\", \"textposition\": \"top center\"}, {\"type\": \"scatter\", \"x\": [-0.5533649492002903], \"y\": [0.04662395132835122], \"mode\": \"markers\", \"text\": \"providers\", \"textposition\": \"top center\"}, {\"type\": \"scatter\", \"x\": [0.19834921518931645], \"y\": [1.5442722710149857], \"mode\": \"markers\", \"text\": \"prozac\", \"textposition\": \"top center\"}, {\"type\": \"scatter\", \"x\": [-0.2457542822139123], \"y\": [0.4800059317888118], \"mode\": \"markers\", \"text\": \"psych\", \"textposition\": \"top center\"}, {\"type\": \"scatter\", \"x\": [0.19122782765694446], \"y\": [0.43077421368235636], \"mode\": \"markers\", \"text\": \"psychiatric\", \"textposition\": \"top center\"}, {\"type\": \"scatter\", \"x\": [0.07666568563114577], \"y\": [0.5948308083319456], \"mode\": \"markers\", \"text\": \"psychiatrist\", \"textposition\": \"top center\"}, {\"type\": \"scatter\", \"x\": [-0.026905021423928803], \"y\": [0.5128098471435096], \"mode\": \"markers\", \"text\": \"psychiatrists\", \"textposition\": \"top center\"}, {\"type\": \"scatter\", \"x\": [0.32612899363990444], \"y\": [0.43163370078226393], \"mode\": \"markers\", \"text\": \"psychiatry\", \"textposition\": \"top center\"}, {\"type\": \"scatter\", \"x\": [1.3132423364408603], \"y\": [-0.7180028104472567], \"mode\": \"markers\", \"text\": \"pulmonary\", \"textposition\": \"top center\"}, {\"type\": \"scatter\", \"x\": [-0.10812026175775351], \"y\": [-0.2041790671216862], \"mode\": \"markers\", \"text\": \"pulse\", \"textposition\": \"top center\"}, {\"type\": \"scatter\", \"x\": [-0.9981737343505029], \"y\": [-0.2731869286337824], \"mode\": \"markers\", \"text\": \"questionable\", \"textposition\": \"top center\"}, {\"type\": \"scatter\", \"x\": [-1.0673955230642742], \"y\": [-0.5091639867348077], \"mode\": \"markers\", \"text\": \"raised\", \"textposition\": \"top center\"}, {\"type\": \"scatter\", \"x\": [-0.20808267076152945], \"y\": [0.28175695684639046], \"mode\": \"markers\", \"text\": \"reactions\", \"textposition\": \"top center\"}, {\"type\": \"scatter\", \"x\": [-1.1100419904033316], \"y\": [-0.40576256497211066], \"mode\": \"markers\", \"text\": \"received\", \"textposition\": \"top center\"}, {\"type\": \"scatter\", \"x\": [-0.7884126241099569], \"y\": [-0.06541117793736753], \"mode\": \"markers\", \"text\": \"recommendations\", \"textposition\": \"top center\"}, {\"type\": \"scatter\", \"x\": [-0.7252032363391023], \"y\": [-0.04176993480295207], \"mode\": \"markers\", \"text\": \"recommended\", \"textposition\": \"top center\"}, {\"type\": \"scatter\", \"x\": [-0.9399419820504017], \"y\": [-0.021767321858239003], \"mode\": \"markers\", \"text\": \"records\", \"textposition\": \"top center\"}, {\"type\": \"scatter\", \"x\": [0.24603185754567922], \"y\": [-0.6385487975658793], \"mode\": \"markers\", \"text\": \"recurrent\", \"textposition\": \"top center\"}, {\"type\": \"scatter\", \"x\": [-1.2141701254568253], \"y\": [-0.3546759072250758], \"mode\": \"markers\", \"text\": \"refused\", \"textposition\": \"top center\"}, {\"type\": \"scatter\", \"x\": [0.37129482458327473], \"y\": [0.32674901757877334], \"mode\": \"markers\", \"text\": \"regimen\", \"textposition\": \"top center\"}, {\"type\": \"scatter\", \"x\": [-0.31118573953400713], \"y\": [0.269397548604651], \"mode\": \"markers\", \"text\": \"rehab\", \"textposition\": \"top center\"}, {\"type\": \"scatter\", \"x\": [-0.50762359938824], \"y\": [-0.3252963903314576], \"mode\": \"markers\", \"text\": \"rehabilitation\", \"textposition\": \"top center\"}, {\"type\": \"scatter\", \"x\": [-0.7899674622722408], \"y\": [-0.18575305637724265], \"mode\": \"markers\", \"text\": \"related\", \"textposition\": \"top center\"}, {\"type\": \"scatter\", \"x\": [-0.9479503636402892], \"y\": [-0.35915038864756554], \"mode\": \"markers\", \"text\": \"remainder\", \"textposition\": \"top center\"}, {\"type\": \"scatter\", \"x\": [-1.1054710540033228], \"y\": [-0.4362653840219512], \"mode\": \"markers\", \"text\": \"remained\", \"textposition\": \"top center\"}, {\"type\": \"scatter\", \"x\": [-0.6902876210115702], \"y\": [-0.606616199952346], \"mode\": \"markers\", \"text\": \"removal\", \"textposition\": \"top center\"}, {\"type\": \"scatter\", \"x\": [-0.9744288817977804], \"y\": [-0.5152358743173389], \"mode\": \"markers\", \"text\": \"removed\", \"textposition\": \"top center\"}, {\"type\": \"scatter\", \"x\": [1.308741293529956], \"y\": [-0.7683123427237544], \"mode\": \"markers\", \"text\": \"renal\", \"textposition\": \"top center\"}, {\"type\": \"scatter\", \"x\": [-0.7228289711583604], \"y\": [-0.7512660516079358], \"mode\": \"markers\", \"text\": \"repair\", \"textposition\": \"top center\"}, {\"type\": \"scatter\", \"x\": [-0.6949154853533418], \"y\": [-0.5308276480953062], \"mode\": \"markers\", \"text\": \"replacement\", \"textposition\": \"top center\"}, {\"type\": \"scatter\", \"x\": [-0.9783235550416255], \"y\": [-0.1734404515327711], \"mode\": \"markers\", \"text\": \"reported\", \"textposition\": \"top center\"}, {\"type\": \"scatter\", \"x\": [-1.0743705847723286], \"y\": [-0.15342555295942653], \"mode\": \"markers\", \"text\": \"reportedly\", \"textposition\": \"top center\"}, {\"type\": \"scatter\", \"x\": [-0.9636538770186186], \"y\": [-0.1629726007357511], \"mode\": \"markers\", \"text\": \"reports\", \"textposition\": \"top center\"}, {\"type\": \"scatter\", \"x\": [-0.9144225005376345], \"y\": [-0.2052196580412428], \"mode\": \"markers\", \"text\": \"required\", \"textposition\": \"top center\"}, {\"type\": \"scatter\", \"x\": [-0.8352600730088845], \"y\": [-0.19277114659335087], \"mode\": \"markers\", \"text\": \"requiring\", \"textposition\": \"top center\"}, {\"type\": \"scatter\", \"x\": [1.6236376022687058], \"y\": [-1.7947048610842946], \"mode\": \"markers\", \"text\": \"resection\", \"textposition\": \"top center\"}, {\"type\": \"scatter\", \"x\": [-1.0373888735414145], \"y\": [-0.5383455251226782], \"mode\": \"markers\", \"text\": \"resolved\", \"textposition\": \"top center\"}, {\"type\": \"scatter\", \"x\": [-0.31936108009971553], \"y\": [0.14428018722494293], \"mode\": \"markers\", \"text\": \"resp\", \"textposition\": \"top center\"}, {\"type\": \"scatter\", \"x\": [1.0080570007415208], \"y\": [-0.2795018033469074], \"mode\": \"markers\", \"text\": \"respiratory\", \"textposition\": \"top center\"}, {\"type\": \"scatter\", \"x\": [-0.9678690618247762], \"y\": [-0.34201689529927], \"mode\": \"markers\", \"text\": \"restarted\", \"textposition\": \"top center\"}, {\"type\": \"scatter\", \"x\": [-0.903463810310808], \"y\": [-0.28725590911000815], \"mode\": \"markers\", \"text\": \"restarting\", \"textposition\": \"top center\"}, {\"type\": \"scatter\", \"x\": [-1.1108663917466917], \"y\": [-0.34606534376198284], \"mode\": \"markers\", \"text\": \"resume\", \"textposition\": \"top center\"}, {\"type\": \"scatter\", \"x\": [-1.0773409880095612], \"y\": [-0.3991997202007999], \"mode\": \"markers\", \"text\": \"retired\", \"textposition\": \"top center\"}, {\"type\": \"scatter\", \"x\": [-1.0440383977854737], \"y\": [-0.3341900301825921], \"mode\": \"markers\", \"text\": \"revealed\", \"textposition\": \"top center\"}, {\"type\": \"scatter\", \"x\": [1.6618102586364016], \"y\": [0.14518809111703204], \"mode\": \"markers\", \"text\": \"rhabdomyolysis\", \"textposition\": \"top center\"}, {\"type\": \"scatter\", \"x\": [-1.1065172081650385], \"y\": [-0.32002463645171775], \"mode\": \"markers\", \"text\": \"said\", \"textposition\": \"top center\"}, {\"type\": \"scatter\", \"x\": [-1.006127220491033], \"y\": [-0.09290588452203759], \"mode\": \"markers\", \"text\": \"says\", \"textposition\": \"top center\"}, {\"type\": \"scatter\", \"x\": [-0.008777382501416516], \"y\": [0.0638803522081317], \"mode\": \"markers\", \"text\": \"schizoaffective\", \"textposition\": \"top center\"}, {\"type\": \"scatter\", \"x\": [0.9541918938735762], \"y\": [0.46573126985604946], \"mode\": \"markers\", \"text\": \"schizophrenia\", \"textposition\": \"top center\"}, {\"type\": \"scatter\", \"x\": [-0.6187391533387331], \"y\": [-0.26312140680990015], \"mode\": \"markers\", \"text\": \"secondary\", \"textposition\": \"top center\"}, {\"type\": \"scatter\", \"x\": [-0.4872175367450244], \"y\": [-0.021947865756125902], \"mode\": \"markers\", \"text\": \"sectioned\", \"textposition\": \"top center\"}, {\"type\": \"scatter\", \"x\": [1.3520267401000838], \"y\": [0.17506780486087992], \"mode\": \"markers\", \"text\": \"sedation\", \"textposition\": \"top center\"}, {\"type\": \"scatter\", \"x\": [-1.0666640486727585], \"y\": [-0.3050543245591889], \"mode\": \"markers\", \"text\": \"seeking\", \"textposition\": \"top center\"}, {\"type\": \"scatter\", \"x\": [-1.0016008906016236], \"y\": [-0.08446663118642918], \"mode\": \"markers\", \"text\": \"seen\", \"textposition\": \"top center\"}, {\"type\": \"scatter\", \"x\": [-0.12146542598529929], \"y\": [0.17934624974575597], \"mode\": \"markers\", \"text\": \"seizure\", \"textposition\": \"top center\"}, {\"type\": \"scatter\", \"x\": [0.42945728607353634], \"y\": [0.5118973390217192], \"mode\": \"markers\", \"text\": \"seizures\", \"textposition\": \"top center\"}, {\"type\": \"scatter\", \"x\": [-1.2481517922517136], \"y\": [-0.20908746907075026], \"mode\": \"markers\", \"text\": \"sent\", \"textposition\": \"top center\"}, {\"type\": \"scatter\", \"x\": [-0.6213603045984559], \"y\": [-0.04778810339660094], \"mode\": \"markers\", \"text\": \"serial\", \"textposition\": \"top center\"}, {\"type\": \"scatter\", \"x\": [-0.18614988213513103], \"y\": [0.8815369330377297], \"mode\": \"markers\", \"text\": \"seroquel\", \"textposition\": \"top center\"}, {\"type\": \"scatter\", \"x\": [1.5237771982158363], \"y\": [1.0594709837590996], \"mode\": \"markers\", \"text\": \"serotonin\", \"textposition\": \"top center\"}, {\"type\": \"scatter\", \"x\": [0.9607703078387185], \"y\": [0.22692158948148602], \"mode\": \"markers\", \"text\": \"serum\", \"textposition\": \"top center\"}, {\"type\": \"scatter\", \"x\": [-0.8452181738029704], \"y\": [-0.10839280857420479], \"mode\": \"markers\", \"text\": \"services\", \"textposition\": \"top center\"}, {\"type\": \"scatter\", \"x\": [-0.9393335898540814], \"y\": [-0.23087174587172124], \"mode\": \"markers\", \"text\": \"showed\", \"textposition\": \"top center\"}, {\"type\": \"scatter\", \"x\": [-0.7109872235401513], \"y\": [-0.239462776364688], \"mode\": \"markers\", \"text\": \"signs\", \"textposition\": \"top center\"}, {\"type\": \"scatter\", \"x\": [1.0794618846933122], \"y\": [-0.4012544165865235], \"mode\": \"markers\", \"text\": \"sinus\", \"textposition\": \"top center\"}, {\"type\": \"scatter\", \"x\": [-0.49325760603130386], \"y\": [0.28282430115185975], \"mode\": \"markers\", \"text\": \"sitter\", \"textposition\": \"top center\"}, {\"type\": \"scatter\", \"x\": [0.08298523118197744], \"y\": [0.2966766137195294], \"mode\": \"markers\", \"text\": \"smoker\", \"textposition\": \"top center\"}, {\"type\": \"scatter\", \"x\": [-0.4602987767544643], \"y\": [0.9043819586500164], \"mode\": \"markers\", \"text\": \"smokes\", \"textposition\": \"top center\"}, {\"type\": \"scatter\", \"x\": [-0.16888547056349915], \"y\": [0.3973964726473315], \"mode\": \"markers\", \"text\": \"smoking\", \"textposition\": \"top center\"}, {\"type\": \"scatter\", \"x\": [-0.801924448636083], \"y\": [0.5934025000453149], \"mode\": \"markers\", \"text\": \"sober\", \"textposition\": \"top center\"}, {\"type\": \"scatter\", \"x\": [-0.4920613339227173], \"y\": [0.5873633854027498], \"mode\": \"markers\", \"text\": \"sobriety\", \"textposition\": \"top center\"}, {\"type\": \"scatter\", \"x\": [-0.007075653933653519], \"y\": [0.29210886061051533], \"mode\": \"markers\", \"text\": \"softener\", \"textposition\": \"top center\"}, {\"type\": \"scatter\", \"x\": [0.2333122847943517], \"y\": [2.02224506344591], \"mode\": \"markers\", \"text\": \"soma\", \"textposition\": \"top center\"}, {\"type\": \"scatter\", \"x\": [-0.6774135151350419], \"y\": [0.1784873460213402], \"mode\": \"markers\", \"text\": \"somnolent\", \"textposition\": \"top center\"}, {\"type\": \"scatter\", \"x\": [0.6432602282053776], \"y\": [-1.1553651789532935], \"mode\": \"markers\", \"text\": \"spinal\", \"textposition\": \"top center\"}, {\"type\": \"scatter\", \"x\": [0.2651929906564316], \"y\": [-0.9235148394210005], \"mode\": \"markers\", \"text\": \"spine\", \"textposition\": \"top center\"}, {\"type\": \"scatter\", \"x\": [-0.7140445915608405], \"y\": [0.003369672440378752], \"mode\": \"markers\", \"text\": \"stab\", \"textposition\": \"top center\"}, {\"type\": \"scatter\", \"x\": [-0.6702424153969153], \"y\": [-0.34382941105893944], \"mode\": \"markers\", \"text\": \"stabilized\", \"textposition\": \"top center\"}, {\"type\": \"scatter\", \"x\": [-1.0615483966313257], \"y\": [-0.2798766177529625], \"mode\": \"markers\", \"text\": \"standpoint\", \"textposition\": \"top center\"}, {\"type\": \"scatter\", \"x\": [-1.190132934534227], \"y\": [-0.17361433824269265], \"mode\": \"markers\", \"text\": \"started\", \"textposition\": \"top center\"}, {\"type\": \"scatter\", \"x\": [-0.9776030215576725], \"y\": [-0.18157185312608032], \"mode\": \"markers\", \"text\": \"starting\", \"textposition\": \"top center\"}, {\"type\": \"scatter\", \"x\": [-0.9611498437807845], \"y\": [-0.23418113505451899], \"mode\": \"markers\", \"text\": \"stated\", \"textposition\": \"top center\"}, {\"type\": \"scatter\", \"x\": [-0.8540677876561487], \"y\": [0.12255731546836425], \"mode\": \"markers\", \"text\": \"states\", \"textposition\": \"top center\"}, {\"type\": \"scatter\", \"x\": [2.104943557942054], \"y\": [-1.6346180139049769], \"mode\": \"markers\", \"text\": \"stenosis\", \"textposition\": \"top center\"}, {\"type\": \"scatter\", \"x\": [1.5043272535527092], \"y\": [-0.9562272770330354], \"mode\": \"markers\", \"text\": \"stent\", \"textposition\": \"top center\"}, {\"type\": \"scatter\", \"x\": [1.4706711556690564], \"y\": [-0.6452448739412763], \"mode\": \"markers\", \"text\": \"stents\", \"textposition\": \"top center\"}, {\"type\": \"scatter\", \"x\": [-0.5789310908039133], \"y\": [0.14277637486881078], \"mode\": \"markers\", \"text\": \"stones\", \"textposition\": \"top center\"}, {\"type\": \"scatter\", \"x\": [-1.1418850678976795], \"y\": [-0.016855866191976505], \"mode\": \"markers\", \"text\": \"stopped\", \"textposition\": \"top center\"}, {\"type\": \"scatter\", \"x\": [-0.8445115886435522], \"y\": [-0.23262479184063334], \"mode\": \"markers\", \"text\": \"subsequently\", \"textposition\": \"top center\"}, {\"type\": \"scatter\", \"x\": [-0.3118558647001797], \"y\": [0.5491553507777964], \"mode\": \"markers\", \"text\": \"suicidal\", \"textposition\": \"top center\"}, {\"type\": \"scatter\", \"x\": [1.3246337344821655], \"y\": [0.6755098379676989], \"mode\": \"markers\", \"text\": \"suicidality\", \"textposition\": \"top center\"}, {\"type\": \"scatter\", \"x\": [-0.30160922891133457], \"y\": [0.35305624772365357], \"mode\": \"markers\", \"text\": \"suicide\", \"textposition\": \"top center\"}, {\"type\": \"scatter\", \"x\": [0.4331094991117139], \"y\": [0.7704333680677298], \"mode\": \"markers\", \"text\": \"sulfa\", \"textposition\": \"top center\"}, {\"type\": \"scatter\", \"x\": [0.4040106850154263], \"y\": [0.32827723534661385], \"mode\": \"markers\", \"text\": \"sulfonamides\", \"textposition\": \"top center\"}, {\"type\": \"scatter\", \"x\": [-0.7065353520987856], \"y\": [-0.12398778935579957], \"mode\": \"markers\", \"text\": \"summary\", \"textposition\": \"top center\"}, {\"type\": \"scatter\", \"x\": [-0.9535765477572342], \"y\": [-0.23522410069754765], \"mode\": \"markers\", \"text\": \"supportive\", \"textposition\": \"top center\"}, {\"type\": \"scatter\", \"x\": [0.4875556721081965], \"y\": [-0.8873171678867482], \"mode\": \"markers\", \"text\": \"surgical\", \"textposition\": \"top center\"}, {\"type\": \"scatter\", \"x\": [-0.8197622041347139], \"y\": [-0.03843596337287706], \"mode\": \"markers\", \"text\": \"suspected\", \"textposition\": \"top center\"}, {\"type\": \"scatter\", \"x\": [-0.9869641103979654], \"y\": [0.20282486971274025], \"mode\": \"markers\", \"text\": \"suspicion\", \"textposition\": \"top center\"}, {\"type\": \"scatter\", \"x\": [1.1234752481585222], \"y\": [0.053204653197794195], \"mode\": \"markers\", \"text\": \"symptoms\", \"textposition\": \"top center\"}, {\"type\": \"scatter\", \"x\": [0.5381802768399733], \"y\": [-0.1599252729823443], \"mode\": \"markers\", \"text\": \"syndrome\", \"textposition\": \"top center\"}, {\"type\": \"scatter\", \"x\": [-0.7171580131765483], \"y\": [-0.17820664880591372], \"mode\": \"markers\", \"text\": \"systems\", \"textposition\": \"top center\"}, {\"type\": \"scatter\", \"x\": [2.099626495848253], \"y\": [-0.9494724452618245], \"mode\": \"markers\", \"text\": \"systolic\", \"textposition\": \"top center\"}, {\"type\": \"scatter\", \"x\": [0.17709197201917753], \"y\": [1.4065918808007074], \"mode\": \"markers\", \"text\": \"tablets\", \"textposition\": \"top center\"}, {\"type\": \"scatter\", \"x\": [-0.8530032809313345], \"y\": [0.2889917618927914], \"mode\": \"markers\", \"text\": \"tabs\", \"textposition\": \"top center\"}, {\"type\": \"scatter\", \"x\": [2.007381172803724], \"y\": [-0.05262414995620162], \"mode\": \"markers\", \"text\": \"tachycardia\", \"textposition\": \"top center\"}, {\"type\": \"scatter\", \"x\": [-1.1143695350314395], \"y\": [-0.20389015938682226], \"mode\": \"markers\", \"text\": \"taken\", \"textposition\": \"top center\"}, {\"type\": \"scatter\", \"x\": [-0.9953272422372659], \"y\": [0.022551631616637494], \"mode\": \"markers\", \"text\": \"taking\", \"textposition\": \"top center\"}, {\"type\": \"scatter\", \"x\": [0.002591864760440297], \"y\": [0.3817510920262815], \"mode\": \"markers\", \"text\": \"therapist\", \"textposition\": \"top center\"}, {\"type\": \"scatter\", \"x\": [1.3600787035457953], \"y\": [0.6932604243665459], \"mode\": \"markers\", \"text\": \"thiamine\", \"textposition\": \"top center\"}, {\"type\": \"scatter\", \"x\": [-0.8059718582328489], \"y\": [0.02392388730617507], \"mode\": \"markers\", \"text\": \"thoughts\", \"textposition\": \"top center\"}, {\"type\": \"scatter\", \"x\": [-0.7892849166777557], \"y\": [0.03229977276076499], \"mode\": \"markers\", \"text\": \"times\", \"textposition\": \"top center\"}, {\"type\": \"scatter\", \"x\": [-0.6824808775598328], \"y\": [-0.1343620012739556], \"mode\": \"markers\", \"text\": \"titles\", \"textposition\": \"top center\"}, {\"type\": \"scatter\", \"x\": [-1.1150136308312202], \"y\": [-0.17261826899952204], \"mode\": \"markers\", \"text\": \"told\", \"textposition\": \"top center\"}, {\"type\": \"scatter\", \"x\": [-0.6297856509308676], \"y\": [-0.012775256010870773], \"mode\": \"markers\", \"text\": \"tolerate\", \"textposition\": \"top center\"}, {\"type\": \"scatter\", \"x\": [-0.5790399033900382], \"y\": [0.0722026640966994], \"mode\": \"markers\", \"text\": \"tolerating\", \"textposition\": \"top center\"}, {\"type\": \"scatter\", \"x\": [-1.179670488279565], \"y\": [-0.18685101611868823], \"mode\": \"markers\", \"text\": \"took\", \"textposition\": \"top center\"}, {\"type\": \"scatter\", \"x\": [1.0464339460924614], \"y\": [0.33248275333051047], \"mode\": \"markers\", \"text\": \"toxicity\", \"textposition\": \"top center\"}, {\"type\": \"scatter\", \"x\": [0.44900911506985514], \"y\": [0.5049950218546624], \"mode\": \"markers\", \"text\": \"toxicology\", \"textposition\": \"top center\"}, {\"type\": \"scatter\", \"x\": [0.3747110289167706], \"y\": [-0.16231895195447443], \"mode\": \"markers\", \"text\": \"trach\", \"textposition\": \"top center\"}, {\"type\": \"scatter\", \"x\": [1.1192802165800135], \"y\": [-1.0815782107123484], \"mode\": \"markers\", \"text\": \"tracheostomy\", \"textposition\": \"top center\"}, {\"type\": \"scatter\", \"x\": [-0.8282866246811232], \"y\": [-0.2832573769216442], \"mode\": \"markers\", \"text\": \"tracing\", \"textposition\": \"top center\"}, {\"type\": \"scatter\", \"x\": [-1.0467093084913324], \"y\": [-0.3754461065101934], \"mode\": \"markers\", \"text\": \"transfered\", \"textposition\": \"top center\"}, {\"type\": \"scatter\", \"x\": [-1.0501700410398331], \"y\": [-0.544320141347257], \"mode\": \"markers\", \"text\": \"transferred\", \"textposition\": \"top center\"}, {\"type\": \"scatter\", \"x\": [-0.7795736295205292], \"y\": [-0.0640554316071987], \"mode\": \"markers\", \"text\": \"transitional\", \"textposition\": \"top center\"}, {\"type\": \"scatter\", \"x\": [-0.9756900723384354], \"y\": [-0.25925168924647135], \"mode\": \"markers\", \"text\": \"transitioned\", \"textposition\": \"top center\"}, {\"type\": \"scatter\", \"x\": [0.5764572722667279], \"y\": [-0.8773026615954084], \"mode\": \"markers\", \"text\": \"transplant\", \"textposition\": \"top center\"}, {\"type\": \"scatter\", \"x\": [-0.743239649942283], \"y\": [-0.18004192223861687], \"mode\": \"markers\", \"text\": \"transported\", \"textposition\": \"top center\"}, {\"type\": \"scatter\", \"x\": [0.19530237190885816], \"y\": [-0.4341477188389629], \"mode\": \"markers\", \"text\": \"trauma\", \"textposition\": \"top center\"}, {\"type\": \"scatter\", \"x\": [-0.31994960186859084], \"y\": [-0.18470767234108754], \"mode\": \"markers\", \"text\": \"treated\", \"textposition\": \"top center\"}, {\"type\": \"scatter\", \"x\": [-0.2372560613701805], \"y\": [0.37752860525119974], \"mode\": \"markers\", \"text\": \"treaters\", \"textposition\": \"top center\"}, {\"type\": \"scatter\", \"x\": [-0.6965926913846554], \"y\": [-0.33045313042631497], \"mode\": \"markers\", \"text\": \"trending\", \"textposition\": \"top center\"}, {\"type\": \"scatter\", \"x\": [-1.1418274072742036], \"y\": [0.03537520087161342], \"mode\": \"markers\", \"text\": \"tried\", \"textposition\": \"top center\"}, {\"type\": \"scatter\", \"x\": [0.4835251102520478], \"y\": [1.1626978219133295], \"mode\": \"markers\", \"text\": \"tylenol\", \"textposition\": \"top center\"}, {\"type\": \"scatter\", \"x\": [1.3939906396304185], \"y\": [-0.3804332351594634], \"mode\": \"markers\", \"text\": \"ulcer\", \"textposition\": \"top center\"}, {\"type\": \"scatter\", \"x\": [1.3765938327951237], \"y\": [-0.4425717069356383], \"mode\": \"markers\", \"text\": \"ulcers\", \"textposition\": \"top center\"}, {\"type\": \"scatter\", \"x\": [-1.111413789131014], \"y\": [-0.2662045427273248], \"mode\": \"markers\", \"text\": \"unclear\", \"textposition\": \"top center\"}, {\"type\": \"scatter\", \"x\": [-0.3324615771788145], \"y\": [-1.1798542296059242], \"mode\": \"markers\", \"text\": \"underwent\", \"textposition\": \"top center\"}, {\"type\": \"scatter\", \"x\": [-0.6446927653419512], \"y\": [0.04902108240640407], \"mode\": \"markers\", \"text\": \"unemployed\", \"textposition\": \"top center\"}, {\"type\": \"scatter\", \"x\": [-0.7833481323783543], \"y\": [-0.18777393311386564], \"mode\": \"markers\", \"text\": \"unremarkable\", \"textposition\": \"top center\"}, {\"type\": \"scatter\", \"x\": [-0.2850469754072285], \"y\": [0.11897016055913433], \"mode\": \"markers\", \"text\": \"unresponsive\", \"textposition\": \"top center\"}, {\"type\": \"scatter\", \"x\": [1.5402709224911957], \"y\": [-0.3613831256454366], \"mode\": \"markers\", \"text\": \"urinary\", \"textposition\": \"top center\"}, {\"type\": \"scatter\", \"x\": [0.4689222762529629], \"y\": [0.41842938736972973], \"mode\": \"markers\", \"text\": \"urine\", \"textposition\": \"top center\"}, {\"type\": \"scatter\", \"x\": [-0.9382775848133965], \"y\": [0.048308468588228265], \"mode\": \"markers\", \"text\": \"using\", \"textposition\": \"top center\"}, {\"type\": \"scatter\", \"x\": [0.30998170627018246], \"y\": [2.0283263888109646], \"mode\": \"markers\", \"text\": \"valium\", \"textposition\": \"top center\"}, {\"type\": \"scatter\", \"x\": [0.44913655010717796], \"y\": [-0.9695925663420347], \"mode\": \"markers\", \"text\": \"valve\", \"textposition\": \"top center\"}, {\"type\": \"scatter\", \"x\": [1.7271921230772536], \"y\": [0.4012824786608573], \"mode\": \"markers\", \"text\": \"vancomycin\", \"textposition\": \"top center\"}, {\"type\": \"scatter\", \"x\": [1.4970200298431091], \"y\": [-1.218740546198505], \"mode\": \"markers\", \"text\": \"vascular\", \"textposition\": \"top center\"}, {\"type\": \"scatter\", \"x\": [0.08548861606343007], \"y\": [-0.76343488710558], \"mode\": \"markers\", \"text\": \"vein\", \"textposition\": \"top center\"}, {\"type\": \"scatter\", \"x\": [-0.5028579606681193], \"y\": [-0.293974000833839], \"mode\": \"markers\", \"text\": \"vent\", \"textposition\": \"top center\"}, {\"type\": \"scatter\", \"x\": [1.8769374138105253], \"y\": [-1.5778641391164745], \"mode\": \"markers\", \"text\": \"ventricle\", \"textposition\": \"top center\"}, {\"type\": \"scatter\", \"x\": [2.3086819733360766], \"y\": [-1.731241270598712], \"mode\": \"markers\", \"text\": \"ventricular\", \"textposition\": \"top center\"}, {\"type\": \"scatter\", \"x\": [0.4559013415620175], \"y\": [2.0475086800398175], \"mode\": \"markers\", \"text\": \"vicodin\", \"textposition\": \"top center\"}, {\"type\": \"scatter\", \"x\": [0.012569452856990992], \"y\": [-0.1998587523761204], \"mode\": \"markers\", \"text\": \"vitals\", \"textposition\": \"top center\"}, {\"type\": \"scatter\", \"x\": [-0.36935419334871716], \"y\": [1.1730420013455491], \"mode\": \"markers\", \"text\": \"vodka\", \"textposition\": \"top center\"}, {\"type\": \"scatter\", \"x\": [0.7384749970062877], \"y\": [0.40965867439045195], \"mode\": \"markers\", \"text\": \"vomiting\", \"textposition\": \"top center\"}, {\"type\": \"scatter\", \"x\": [-0.26960860922182345], \"y\": [0.20835644460708336], \"mode\": \"markers\", \"text\": \"walker\", \"textposition\": \"top center\"}, {\"type\": \"scatter\", \"x\": [-1.0990731834262593], \"y\": [-0.15773094932900625], \"mode\": \"markers\", \"text\": \"wanted\", \"textposition\": \"top center\"}, {\"type\": \"scatter\", \"x\": [-0.4556282203371537], \"y\": [-0.03899731308756609], \"mode\": \"markers\", \"text\": \"ward\", \"textposition\": \"top center\"}, {\"type\": \"scatter\", \"x\": [-0.41512245513523777], \"y\": [-0.3247379630089282], \"mode\": \"markers\", \"text\": \"weakness\", \"textposition\": \"top center\"}, {\"type\": \"scatter\", \"x\": [-0.872100947502293], \"y\": [-0.28611716015573374], \"mode\": \"markers\", \"text\": \"weeks\", \"textposition\": \"top center\"}, {\"type\": \"scatter\", \"x\": [0.42064235671381384], \"y\": [2.005550651117929], \"mode\": \"markers\", \"text\": \"wellbutrin\", \"textposition\": \"top center\"}, {\"type\": \"scatter\", \"x\": [-1.0774795199775875], \"y\": [-0.14887430456261896], \"mode\": \"markers\", \"text\": \"went\", \"textposition\": \"top center\"}, {\"type\": \"scatter\", \"x\": [-0.959811559093717], \"y\": [-0.21844014772009118], \"mode\": \"markers\", \"text\": \"were\", \"textposition\": \"top center\"}, {\"type\": \"scatter\", \"x\": [-0.5233562583307833], \"y\": [-0.09228829918447073], \"mode\": \"markers\", \"text\": \"widowed\", \"textposition\": \"top center\"}, {\"type\": \"scatter\", \"x\": [-0.5026689645903102], \"y\": [0.05425732238842115], \"mode\": \"markers\", \"text\": \"withdrawal\", \"textposition\": \"top center\"}, {\"type\": \"scatter\", \"x\": [-0.544952558343473], \"y\": [0.5533830993138722], \"mode\": \"markers\", \"text\": \"withdrawl\", \"textposition\": \"top center\"}, {\"type\": \"scatter\", \"x\": [-1.2029524884921488], \"y\": [-0.26400020827460674], \"mode\": \"markers\", \"text\": \"worked\", \"textposition\": \"top center\"}, {\"type\": \"scatter\", \"x\": [-0.4452528512766198], \"y\": [-0.127158649290251], \"mode\": \"markers\", \"text\": \"worsening\", \"textposition\": \"top center\"}, {\"type\": \"scatter\", \"x\": [-0.12321637002982543], \"y\": [-0.49132479931878625], \"mode\": \"markers\", \"text\": \"wrist\", \"textposition\": \"top center\"}, {\"type\": \"scatter\", \"x\": [-0.233058080694818], \"y\": [0.03576077868816028], \"mode\": \"markers\", \"text\": \"wrists\", \"textposition\": \"top center\"}, {\"type\": \"scatter\", \"x\": [0.18928988915482942], \"y\": [2.2185690131813174], \"mode\": \"markers\", \"text\": \"xanax\", \"textposition\": \"top center\"}, {\"type\": \"scatter\", \"x\": [-0.9544421776275388], \"y\": [-0.20761972333770023], \"mode\": \"markers\", \"text\": \"years\", \"textposition\": \"top center\"}, {\"type\": \"scatter\", \"x\": [0.2510421275524638], \"y\": [1.613723017174955], \"mode\": \"markers\", \"text\": \"zoloft\", \"textposition\": \"top center\"}, {\"type\": \"scatter\", \"x\": [0.2625260370304881], \"y\": [0.4382597169723339], \"mode\": \"markers\", \"text\": \"zyprexa\", \"textposition\": \"top center\"}], {\"title\": \"PCA for Google embedded vectors 510 words\", \"showlegend\": false}, {\"showLink\": true, \"linkText\": \"Export to plot.ly\"})});</script>"
      ]
     },
     "metadata": {},
     "output_type": "display_data"
    }
   ],
   "source": [
    "def pca_interactive_plot(save=False, show_labels=False):\n",
    "    \"Creates the PCA interactive plot\"\n",
    "    labels = []\n",
    "    data = []\n",
    "\n",
    "    x = []\n",
    "    y = []\n",
    "    \n",
    "    for i, word in enumerate(safe_words):\n",
    "        x.append(pca_result[i, 0])\n",
    "        y.append(pca_result[i, 1])\n",
    "        labels.append(word[0])\n",
    "\n",
    "    # Should we show markers / markers & text\n",
    "    if show_labels:\n",
    "        mode = \"markers+text\"\n",
    "    else:\n",
    "        mode = \"markers\"\n",
    "        \n",
    "    for i in range(len(x)):\n",
    "        trace0= go.Scatter(\n",
    "            x= [x[i]],\n",
    "            y= [y[i]],\n",
    "            mode= mode,\n",
    "            text= labels[i],\n",
    "            textposition='top center')\n",
    "        data.append(trace0);\n",
    "    \n",
    "    title = \"PCA for Google embedded vectors {} words\"\n",
    "    filename = \"output/google-pca-interactive-plot.html\"\n",
    "    # Save the html file \n",
    "    if save:\n",
    "        py.offline.plot({\n",
    "            \"data\": data, \n",
    "            \"layout\": go.Layout(title=title.format(len(safe_words)), \n",
    "                                showlegend=False)\n",
    "        }, auto_open=False, filename=filename)\n",
    "\n",
    "    py.offline.iplot({\n",
    "        \"data\": data, \n",
    "        \"layout\": go.Layout(title=title.format(len(safe_words)), \n",
    "                            showlegend=False)\n",
    "    })\n",
    "        \n",
    "\n",
    "pca_interactive_plot()"
   ]
  },
  {
   "cell_type": "markdown",
   "metadata": {},
   "source": [
    "### T-SNE:\n",
    "\n",
    "The same thing but now with T-SNE:"
   ]
  },
  {
   "cell_type": "code",
   "execution_count": 49,
   "metadata": {},
   "outputs": [],
   "source": [
    "def create_tsne(perplexity=40):\n",
    "    \"Create the t-SNE model\"\n",
    "    \n",
    "    tokens = [google_model[word[0]] for word in safe_words]\n",
    "    \n",
    "    tsne_model = TSNE(perplexity=perplexity, n_components=2, init='pca', n_iter=2500, random_state=23)\n",
    "    results = tsne_model.fit_transform(tokens)\n",
    "\n",
    "    return results\n",
    "\n",
    "tsne_result = create_tsne()"
   ]
  },
  {
   "cell_type": "code",
   "execution_count": 54,
   "metadata": {},
   "outputs": [
    {
     "data": {
      "application/vnd.plotly.v1+json": {
       "data": [
        {
         "mode": "markers",
         "text": "abdominal",
         "textposition": "top center",
         "type": "scatter",
         "x": [
          -3.048480987548828
         ],
         "y": [
          4.969440937042236
         ]
        },
        {
         "mode": "markers",
         "text": "acetaminophen",
         "textposition": "top center",
         "type": "scatter",
         "x": [
          -3.467879056930542
         ],
         "y": [
          -5.582307815551758
         ]
        },
        {
         "mode": "markers",
         "text": "activated",
         "textposition": "top center",
         "type": "scatter",
         "x": [
          3.5309088230133057
         ],
         "y": [
          6.066917419433594
         ]
        },
        {
         "mode": "markers",
         "text": "actively",
         "textposition": "top center",
         "type": "scatter",
         "x": [
          5.6870880126953125
         ],
         "y": [
          -1.0045024156570435
         ]
        },
        {
         "mode": "markers",
         "text": "acute",
         "textposition": "top center",
         "type": "scatter",
         "x": [
          -1.5187054872512817
         ],
         "y": [
          -0.2103167027235031
         ]
        },
        {
         "mode": "markers",
         "text": "acutely",
         "textposition": "top center",
         "type": "scatter",
         "x": [
          2.363182544708252
         ],
         "y": [
          -1.7676578760147095
         ]
        },
        {
         "mode": "markers",
         "text": "adhd",
         "textposition": "top center",
         "type": "scatter",
         "x": [
          -0.5048936009407043
         ],
         "y": [
          -2.396243095397949
         ]
        },
        {
         "mode": "markers",
         "text": "admissions",
         "textposition": "top center",
         "type": "scatter",
         "x": [
          1.4579402208328247
         ],
         "y": [
          4.741952419281006
         ]
        },
        {
         "mode": "markers",
         "text": "admitted",
         "textposition": "top center",
         "type": "scatter",
         "x": [
          8.719043731689453
         ],
         "y": [
          -0.5197963118553162
         ]
        },
        {
         "mode": "markers",
         "text": "adrenal",
         "textposition": "top center",
         "type": "scatter",
         "x": [
          -2.3511276245117188
         ],
         "y": [
          -1.9338667392730713
         ]
        },
        {
         "mode": "markers",
         "text": "adverse",
         "textposition": "top center",
         "type": "scatter",
         "x": [
          0.4475654065608978
         ],
         "y": [
          -1.2731887102127075
         ]
        },
        {
         "mode": "markers",
         "text": "agitation",
         "textposition": "top center",
         "type": "scatter",
         "x": [
          1.3923540115356445
         ],
         "y": [
          -2.4362456798553467
         ]
        },
        {
         "mode": "markers",
         "text": "agreed",
         "textposition": "top center",
         "type": "scatter",
         "x": [
          9.86614990234375
         ],
         "y": [
          0.7939206957817078
         ]
        },
        {
         "mode": "markers",
         "text": "airway",
         "textposition": "top center",
         "type": "scatter",
         "x": [
          -2.27215313911438
         ],
         "y": [
          2.727208137512207
         ]
        },
        {
         "mode": "markers",
         "text": "alcoholic",
         "textposition": "top center",
         "type": "scatter",
         "x": [
          4.955961227416992
         ],
         "y": [
          -7.755412578582764
         ]
        },
        {
         "mode": "markers",
         "text": "alcoholism",
         "textposition": "top center",
         "type": "scatter",
         "x": [
          5.084563255310059
         ],
         "y": [
          -7.709310054779053
         ]
        },
        {
         "mode": "markers",
         "text": "alert",
         "textposition": "top center",
         "type": "scatter",
         "x": [
          2.772470712661743
         ],
         "y": [
          6.695104122161865
         ]
        },
        {
         "mode": "markers",
         "text": "allergies",
         "textposition": "top center",
         "type": "scatter",
         "x": [
          -6.748377323150635
         ],
         "y": [
          -2.290092945098877
         ]
        },
        {
         "mode": "markers",
         "text": "allergy",
         "textposition": "top center",
         "type": "scatter",
         "x": [
          -6.761544227600098
         ],
         "y": [
          -2.283607006072998
         ]
        },
        {
         "mode": "markers",
         "text": "altered",
         "textposition": "top center",
         "type": "scatter",
         "x": [
          3.936767101287842
         ],
         "y": [
          2.166962146759033
         ]
        },
        {
         "mode": "markers",
         "text": "ambien",
         "textposition": "top center",
         "type": "scatter",
         "x": [
          -3.7796921730041504
         ],
         "y": [
          -9.445267677307129
         ]
        },
        {
         "mode": "markers",
         "text": "ambulating",
         "textposition": "top center",
         "type": "scatter",
         "x": [
          0.5111344456672668
         ],
         "y": [
          0.5497798919677734
         ]
        },
        {
         "mode": "markers",
         "text": "anemia",
         "textposition": "top center",
         "type": "scatter",
         "x": [
          -4.068596363067627
         ],
         "y": [
          -2.9337825775146484
         ]
        },
        {
         "mode": "markers",
         "text": "apnea",
         "textposition": "top center",
         "type": "scatter",
         "x": [
          -7.0478410720825195
         ],
         "y": [
          -1.4027857780456543
         ]
        },
        {
         "mode": "markers",
         "text": "appears",
         "textposition": "top center",
         "type": "scatter",
         "x": [
          6.822037696838379
         ],
         "y": [
          -0.5904185771942139
         ]
        },
        {
         "mode": "markers",
         "text": "appendectomy",
         "textposition": "top center",
         "type": "scatter",
         "x": [
          -2.459990978240967
         ],
         "y": [
          4.313032627105713
         ]
        },
        {
         "mode": "markers",
         "text": "appetite",
         "textposition": "top center",
         "type": "scatter",
         "x": [
          3.370971918106079
         ],
         "y": [
          -4.082556247711182
         ]
        },
        {
         "mode": "markers",
         "text": "approx",
         "textposition": "top center",
         "type": "scatter",
         "x": [
          1.8340492248535156
         ],
         "y": [
          -3.6636319160461426
         ]
        },
        {
         "mode": "markers",
         "text": "artery",
         "textposition": "top center",
         "type": "scatter",
         "x": [
          -2.2919294834136963
         ],
         "y": [
          6.104097366333008
         ]
        },
        {
         "mode": "markers",
         "text": "aspiration",
         "textposition": "top center",
         "type": "scatter",
         "x": [
          4.052406311035156
         ],
         "y": [
          -2.503065347671509
         ]
        },
        {
         "mode": "markers",
         "text": "aspirin",
         "textposition": "top center",
         "type": "scatter",
         "x": [
          -3.4401283264160156
         ],
         "y": [
          -5.502368927001953
         ]
        },
        {
         "mode": "markers",
         "text": "asthma",
         "textposition": "top center",
         "type": "scatter",
         "x": [
          -6.684579372406006
         ],
         "y": [
          -2.311809778213501
         ]
        },
        {
         "mode": "markers",
         "text": "ativan",
         "textposition": "top center",
         "type": "scatter",
         "x": [
          -3.972790479660034
         ],
         "y": [
          -9.24617862701416
         ]
        },
        {
         "mode": "markers",
         "text": "atrial",
         "textposition": "top center",
         "type": "scatter",
         "x": [
          -10.308608055114746
         ],
         "y": [
          2.252593517303467
         ]
        },
        {
         "mode": "markers",
         "text": "attempted",
         "textposition": "top center",
         "type": "scatter",
         "x": [
          10.662188529968262
         ],
         "y": [
          1.9862128496170044
         ]
        },
        {
         "mode": "markers",
         "text": "attempts",
         "textposition": "top center",
         "type": "scatter",
         "x": [
          10.981607437133789
         ],
         "y": [
          2.0957999229431152
         ]
        },
        {
         "mode": "markers",
         "text": "attending",
         "textposition": "top center",
         "type": "scatter",
         "x": [
          6.965225696563721
         ],
         "y": [
          4.2137603759765625
         ]
        },
        {
         "mode": "markers",
         "text": "awake",
         "textposition": "top center",
         "type": "scatter",
         "x": [
          -0.3327837586402893
         ],
         "y": [
          0.7388309240341187
         ]
        },
        {
         "mode": "markers",
         "text": "axis",
         "textposition": "top center",
         "type": "scatter",
         "x": [
          1.366903305053711
         ],
         "y": [
          -0.20634746551513672
         ]
        },
        {
         "mode": "markers",
         "text": "barbiturates",
         "textposition": "top center",
         "type": "scatter",
         "x": [
          -0.6206204295158386
         ],
         "y": [
          -6.088721752166748
         ]
        },
        {
         "mode": "markers",
         "text": "baseline",
         "textposition": "top center",
         "type": "scatter",
         "x": [
          1.4153062105178833
         ],
         "y": [
          0.8271965384483337
         ]
        },
        {
         "mode": "markers",
         "text": "been",
         "textposition": "top center",
         "type": "scatter",
         "x": [
          6.42653226852417
         ],
         "y": [
          2.0276198387145996
         ]
        },
        {
         "mode": "markers",
         "text": "began",
         "textposition": "top center",
         "type": "scatter",
         "x": [
          8.234856605529785
         ],
         "y": [
          4.030905723571777
         ]
        },
        {
         "mode": "markers",
         "text": "believed",
         "textposition": "top center",
         "type": "scatter",
         "x": [
          7.877133369445801
         ],
         "y": [
          -0.11074446886777878
         ]
        },
        {
         "mode": "markers",
         "text": "benadryl",
         "textposition": "top center",
         "type": "scatter",
         "x": [
          -0.6689338684082031
         ],
         "y": [
          -2.9050023555755615
         ]
        },
        {
         "mode": "markers",
         "text": "benzo",
         "textposition": "top center",
         "type": "scatter",
         "x": [
          -1.3894671201705933
         ],
         "y": [
          -4.369761943817139
         ]
        },
        {
         "mode": "markers",
         "text": "benzodiazepine",
         "textposition": "top center",
         "type": "scatter",
         "x": [
          -1.846784234046936
         ],
         "y": [
          -5.144673824310303
         ]
        },
        {
         "mode": "markers",
         "text": "benzodiazepines",
         "textposition": "top center",
         "type": "scatter",
         "x": [
          -1.9922066926956177
         ],
         "y": [
          -5.648524761199951
         ]
        },
        {
         "mode": "markers",
         "text": "benzos",
         "textposition": "top center",
         "type": "scatter",
         "x": [
          -0.6889421343803406
         ],
         "y": [
          -4.467636585235596
         ]
        },
        {
         "mode": "markers",
         "text": "biopsy",
         "textposition": "top center",
         "type": "scatter",
         "x": [
          -4.346619129180908
         ],
         "y": [
          3.604494333267212
         ]
        },
        {
         "mode": "markers",
         "text": "bipolar",
         "textposition": "top center",
         "type": "scatter",
         "x": [
          -0.4265488386154175
         ],
         "y": [
          -1.1514787673950195
         ]
        },
        {
         "mode": "markers",
         "text": "bleeding",
         "textposition": "top center",
         "type": "scatter",
         "x": [
          -1.1805533170700073
         ],
         "y": [
          2.683926582336426
         ]
        },
        {
         "mode": "markers",
         "text": "borderline",
         "textposition": "top center",
         "type": "scatter",
         "x": [
          3.456317186355591
         ],
         "y": [
          -2.5216076374053955
         ]
        },
        {
         "mode": "markers",
         "text": "bottles",
         "textposition": "top center",
         "type": "scatter",
         "x": [
          3.5991921424865723
         ],
         "y": [
          -8.149688720703125
         ]
        },
        {
         "mode": "markers",
         "text": "bowel",
         "textposition": "top center",
         "type": "scatter",
         "x": [
          -6.471023082733154
         ],
         "y": [
          1.805336833000183
         ]
        },
        {
         "mode": "markers",
         "text": "breathing",
         "textposition": "top center",
         "type": "scatter",
         "x": [
          -1.0728429555892944
         ],
         "y": [
          2.1150803565979004
         ]
        },
        {
         "mode": "markers",
         "text": "brought",
         "textposition": "top center",
         "type": "scatter",
         "x": [
          8.390009880065918
         ],
         "y": [
          2.652512550354004
         ]
        },
        {
         "mode": "markers",
         "text": "bypass",
         "textposition": "top center",
         "type": "scatter",
         "x": [
          0.5247703790664673
         ],
         "y": [
          4.9373860359191895
         ]
        },
        {
         "mode": "markers",
         "text": "calf",
         "textposition": "top center",
         "type": "scatter",
         "x": [
          -0.8005326390266418
         ],
         "y": [
          6.972685813903809
         ]
        },
        {
         "mode": "markers",
         "text": "called",
         "textposition": "top center",
         "type": "scatter",
         "x": [
          6.924108505249023
         ],
         "y": [
          0.5621026754379272
         ]
        },
        {
         "mode": "markers",
         "text": "came",
         "textposition": "top center",
         "type": "scatter",
         "x": [
          8.295515060424805
         ],
         "y": [
          2.677050828933716
         ]
        },
        {
         "mode": "markers",
         "text": "cardiac",
         "textposition": "top center",
         "type": "scatter",
         "x": [
          -8.2080659866333
         ],
         "y": [
          0.3009257912635803
         ]
        },
        {
         "mode": "markers",
         "text": "cardiology",
         "textposition": "top center",
         "type": "scatter",
         "x": [
          -5.9248456954956055
         ],
         "y": [
          7.206304550170898
         ]
        },
        {
         "mode": "markers",
         "text": "cardiothoracic",
         "textposition": "top center",
         "type": "scatter",
         "x": [
          -5.826488018035889
         ],
         "y": [
          7.010829925537109
         ]
        },
        {
         "mode": "markers",
         "text": "cardiovascular",
         "textposition": "top center",
         "type": "scatter",
         "x": [
          -8.282479286193848
         ],
         "y": [
          0.016257937997579575
         ]
        },
        {
         "mode": "markers",
         "text": "cath",
         "textposition": "top center",
         "type": "scatter",
         "x": [
          -1.6753464937210083
         ],
         "y": [
          1.368436574935913
         ]
        },
        {
         "mode": "markers",
         "text": "cervical",
         "textposition": "top center",
         "type": "scatter",
         "x": [
          -5.578903675079346
         ],
         "y": [
          4.84375
         ]
        },
        {
         "mode": "markers",
         "text": "changes",
         "textposition": "top center",
         "type": "scatter",
         "x": [
          3.9339025020599365
         ],
         "y": [
          1.9844083786010742
         ]
        },
        {
         "mode": "markers",
         "text": "charcoal",
         "textposition": "top center",
         "type": "scatter",
         "x": [
          2.0699024200439453
         ],
         "y": [
          -4.5100321769714355
         ]
        },
        {
         "mode": "markers",
         "text": "children",
         "textposition": "top center",
         "type": "scatter",
         "x": [
          6.204343318939209
         ],
         "y": [
          -5.256062984466553
         ]
        },
        {
         "mode": "markers",
         "text": "cholecystectomy",
         "textposition": "top center",
         "type": "scatter",
         "x": [
          -5.452110767364502
         ],
         "y": [
          3.12172269821167
         ]
        },
        {
         "mode": "markers",
         "text": "chronic",
         "textposition": "top center",
         "type": "scatter",
         "x": [
          -1.541403889656067
         ],
         "y": [
          -0.48547685146331787
         ]
        },
        {
         "mode": "markers",
         "text": "cirrhosis",
         "textposition": "top center",
         "type": "scatter",
         "x": [
          -8.21185302734375
         ],
         "y": [
          -2.4775454998016357
         ]
        },
        {
         "mode": "markers",
         "text": "cleared",
         "textposition": "top center",
         "type": "scatter",
         "x": [
          8.461471557617188
         ],
         "y": [
          5.907687187194824
         ]
        },
        {
         "mode": "markers",
         "text": "clonazepam",
         "textposition": "top center",
         "type": "scatter",
         "x": [
          -1.2664366960525513
         ],
         "y": [
          -5.264148712158203
         ]
        },
        {
         "mode": "markers",
         "text": "cocaine",
         "textposition": "top center",
         "type": "scatter",
         "x": [
          -0.42908820509910583
         ],
         "y": [
          -8.232780456542969
         ]
        },
        {
         "mode": "markers",
         "text": "codeine",
         "textposition": "top center",
         "type": "scatter",
         "x": [
          -0.883491039276123
         ],
         "y": [
          -5.581335544586182
         ]
        },
        {
         "mode": "markers",
         "text": "coherent",
         "textposition": "top center",
         "type": "scatter",
         "x": [
          3.0110244750976562
         ],
         "y": [
          -0.7988494634628296
         ]
        },
        {
         "mode": "markers",
         "text": "colectomy",
         "textposition": "top center",
         "type": "scatter",
         "x": [
          -5.4356794357299805
         ],
         "y": [
          3.0875236988067627
         ]
        },
        {
         "mode": "markers",
         "text": "colon",
         "textposition": "top center",
         "type": "scatter",
         "x": [
          -6.499961853027344
         ],
         "y": [
          1.971949577331543
         ]
        },
        {
         "mode": "markers",
         "text": "colonic",
         "textposition": "top center",
         "type": "scatter",
         "x": [
          -5.504199028015137
         ],
         "y": [
          1.3963640928268433
         ]
        },
        {
         "mode": "markers",
         "text": "compartment",
         "textposition": "top center",
         "type": "scatter",
         "x": [
          0.48514503240585327
         ],
         "y": [
          1.1026906967163086
         ]
        },
        {
         "mode": "markers",
         "text": "complications",
         "textposition": "top center",
         "type": "scatter",
         "x": [
          -3.0656487941741943
         ],
         "y": [
          0.5588881373405457
         ]
        },
        {
         "mode": "markers",
         "text": "concerning",
         "textposition": "top center",
         "type": "scatter",
         "x": [
          4.895175933837891
         ],
         "y": [
          -1.055813193321228
         ]
        },
        {
         "mode": "markers",
         "text": "confirmed",
         "textposition": "top center",
         "type": "scatter",
         "x": [
          9.11495304107666
         ],
         "y": [
          -0.8765605688095093
         ]
        },
        {
         "mode": "markers",
         "text": "consult",
         "textposition": "top center",
         "type": "scatter",
         "x": [
          12.484910011291504
         ],
         "y": [
          -1.5367223024368286
         ]
        },
        {
         "mode": "markers",
         "text": "consulted",
         "textposition": "top center",
         "type": "scatter",
         "x": [
          12.407301902770996
         ],
         "y": [
          -1.50917649269104
         ]
        },
        {
         "mode": "markers",
         "text": "continuing",
         "textposition": "top center",
         "type": "scatter",
         "x": [
          4.924956798553467
         ],
         "y": [
          0.7261924743652344
         ]
        },
        {
         "mode": "markers",
         "text": "contributory",
         "textposition": "top center",
         "type": "scatter",
         "x": [
          3.2421252727508545
         ],
         "y": [
          0.3662824034690857
         ]
        },
        {
         "mode": "markers",
         "text": "controlled",
         "textposition": "top center",
         "type": "scatter",
         "x": [
          2.679011106491089
         ],
         "y": [
          2.8440959453582764
         ]
        },
        {
         "mode": "markers",
         "text": "cord",
         "textposition": "top center",
         "type": "scatter",
         "x": [
          1.446759819984436
         ],
         "y": [
          2.705876588821411
         ]
        },
        {
         "mode": "markers",
         "text": "coronary",
         "textposition": "top center",
         "type": "scatter",
         "x": [
          -8.33226490020752
         ],
         "y": [
          0.3457675874233246
         ]
        },
        {
         "mode": "markers",
         "text": "cough",
         "textposition": "top center",
         "type": "scatter",
         "x": [
          -0.3296942412853241
         ],
         "y": [
          -3.09011173248291
         ]
        },
        {
         "mode": "markers",
         "text": "coumadin",
         "textposition": "top center",
         "type": "scatter",
         "x": [
          -1.0491598844528198
         ],
         "y": [
          -1.879313588142395
         ]
        },
        {
         "mode": "markers",
         "text": "counseling",
         "textposition": "top center",
         "type": "scatter",
         "x": [
          0.7251126170158386
         ],
         "y": [
          -0.5653488039970398
         ]
        },
        {
         "mode": "markers",
         "text": "creatinine",
         "textposition": "top center",
         "type": "scatter",
         "x": [
          -9.77646541595459
         ],
         "y": [
          -2.6750617027282715
         ]
        },
        {
         "mode": "markers",
         "text": "cutting",
         "textposition": "top center",
         "type": "scatter",
         "x": [
          5.441673755645752
         ],
         "y": [
          2.147075891494751
         ]
        },
        {
         "mode": "markers",
         "text": "cyst",
         "textposition": "top center",
         "type": "scatter",
         "x": [
          -4.301904201507568
         ],
         "y": [
          4.315168380737305
         ]
        },
        {
         "mode": "markers",
         "text": "days",
         "textposition": "top center",
         "type": "scatter",
         "x": [
          4.944244861602783
         ],
         "y": [
          3.391957998275757
         ]
        },
        {
         "mode": "markers",
         "text": "deceased",
         "textposition": "top center",
         "type": "scatter",
         "x": [
          3.082423210144043
         ],
         "y": [
          3.642699718475342
         ]
        },
        {
         "mode": "markers",
         "text": "decided",
         "textposition": "top center",
         "type": "scatter",
         "x": [
          9.75035285949707
         ],
         "y": [
          0.9459754824638367
         ]
        },
        {
         "mode": "markers",
         "text": "decreased",
         "textposition": "top center",
         "type": "scatter",
         "x": [
          4.8109822273254395
         ],
         "y": [
          5.5684494972229
         ]
        },
        {
         "mode": "markers",
         "text": "deemed",
         "textposition": "top center",
         "type": "scatter",
         "x": [
          7.458704948425293
         ],
         "y": [
          0.42213043570518494
         ]
        },
        {
         "mode": "markers",
         "text": "defect",
         "textposition": "top center",
         "type": "scatter",
         "x": [
          1.1117022037506104
         ],
         "y": [
          1.455190658569336
         ]
        },
        {
         "mode": "markers",
         "text": "deficiency",
         "textposition": "top center",
         "type": "scatter",
         "x": [
          1.1342586278915405
         ],
         "y": [
          6.319031238555908
         ]
        },
        {
         "mode": "markers",
         "text": "denied",
         "textposition": "top center",
         "type": "scatter",
         "x": [
          10.667569160461426
         ],
         "y": [
          -0.007529734168201685
         ]
        },
        {
         "mode": "markers",
         "text": "denies",
         "textposition": "top center",
         "type": "scatter",
         "x": [
          10.726176261901855
         ],
         "y": [
          -0.04817052185535431
         ]
        },
        {
         "mode": "markers",
         "text": "depakote",
         "textposition": "top center",
         "type": "scatter",
         "x": [
          1.9919602870941162
         ],
         "y": [
          -0.9217576384544373
         ]
        },
        {
         "mode": "markers",
         "text": "dependence",
         "textposition": "top center",
         "type": "scatter",
         "x": [
          3.929091691970825
         ],
         "y": [
          -3.443688154220581
         ]
        },
        {
         "mode": "markers",
         "text": "depressed",
         "textposition": "top center",
         "type": "scatter",
         "x": [
          2.1100354194641113
         ],
         "y": [
          -1.9962358474731445
         ]
        },
        {
         "mode": "markers",
         "text": "details",
         "textposition": "top center",
         "type": "scatter",
         "x": [
          8.507874488830566
         ],
         "y": [
          -3.607832193374634
         ]
        },
        {
         "mode": "markers",
         "text": "determined",
         "textposition": "top center",
         "type": "scatter",
         "x": [
          7.569871425628662
         ],
         "y": [
          0.36096152663230896
         ]
        },
        {
         "mode": "markers",
         "text": "detox",
         "textposition": "top center",
         "type": "scatter",
         "x": [
          7.160833358764648
         ],
         "y": [
          -9.575261116027832
         ]
        },
        {
         "mode": "markers",
         "text": "diabetes",
         "textposition": "top center",
         "type": "scatter",
         "x": [
          -6.8901567459106445
         ],
         "y": [
          -3.775817632675171
         ]
        },
        {
         "mode": "markers",
         "text": "diagnosed",
         "textposition": "top center",
         "type": "scatter",
         "x": [
          -3.802387237548828
         ],
         "y": [
          2.6449339389801025
         ]
        },
        {
         "mode": "markers",
         "text": "diagnoses",
         "textposition": "top center",
         "type": "scatter",
         "x": [
          -3.80952787399292
         ],
         "y": [
          2.6437180042266846
         ]
        },
        {
         "mode": "markers",
         "text": "diagnosis",
         "textposition": "top center",
         "type": "scatter",
         "x": [
          -3.845790386199951
         ],
         "y": [
          2.6895318031311035
         ]
        },
        {
         "mode": "markers",
         "text": "diastolic",
         "textposition": "top center",
         "type": "scatter",
         "x": [
          -10.920048713684082
         ],
         "y": [
          -0.9153570532798767
         ]
        },
        {
         "mode": "markers",
         "text": "diazepam",
         "textposition": "top center",
         "type": "scatter",
         "x": [
          -3.1331911087036133
         ],
         "y": [
          -8.612181663513184
         ]
        },
        {
         "mode": "markers",
         "text": "died",
         "textposition": "top center",
         "type": "scatter",
         "x": [
          3.8883230686187744
         ],
         "y": [
          8.090757369995117
         ]
        },
        {
         "mode": "markers",
         "text": "dilated",
         "textposition": "top center",
         "type": "scatter",
         "x": [
          -1.237639307975769
         ],
         "y": [
          1.1813571453094482
         ]
        },
        {
         "mode": "markers",
         "text": "discharged",
         "textposition": "top center",
         "type": "scatter",
         "x": [
          10.332596778869629
         ],
         "y": [
          6.866376876831055
         ]
        },
        {
         "mode": "markers",
         "text": "discontinued",
         "textposition": "top center",
         "type": "scatter",
         "x": [
          2.6401901245117188
         ],
         "y": [
          -4.0702338218688965
         ]
        },
        {
         "mode": "markers",
         "text": "discussed",
         "textposition": "top center",
         "type": "scatter",
         "x": [
          10.690508842468262
         ],
         "y": [
          -1.230330467224121
         ]
        },
        {
         "mode": "markers",
         "text": "disposition",
         "textposition": "top center",
         "type": "scatter",
         "x": [
          4.173826694488525
         ],
         "y": [
          -1.8976895809173584
         ]
        },
        {
         "mode": "markers",
         "text": "distal",
         "textposition": "top center",
         "type": "scatter",
         "x": [
          -6.361169815063477
         ],
         "y": [
          3.912872791290283
         ]
        },
        {
         "mode": "markers",
         "text": "divorced",
         "textposition": "top center",
         "type": "scatter",
         "x": [
          7.7234296798706055
         ],
         "y": [
          -6.120687961578369
         ]
        },
        {
         "mode": "markers",
         "text": "does",
         "textposition": "top center",
         "type": "scatter",
         "x": [
          6.332228660583496
         ],
         "y": [
          -0.3924122154712677
         ]
        },
        {
         "mode": "markers",
         "text": "done",
         "textposition": "top center",
         "type": "scatter",
         "x": [
          6.796245574951172
         ],
         "y": [
          1.357606053352356
         ]
        },
        {
         "mode": "markers",
         "text": "dose",
         "textposition": "top center",
         "type": "scatter",
         "x": [
          -0.09566934406757355
         ],
         "y": [
          -3.7484965324401855
         ]
        },
        {
         "mode": "markers",
         "text": "drinking",
         "textposition": "top center",
         "type": "scatter",
         "x": [
          4.1563520431518555
         ],
         "y": [
          -8.459765434265137
         ]
        },
        {
         "mode": "markers",
         "text": "drinks",
         "textposition": "top center",
         "type": "scatter",
         "x": [
          3.8973612785339355
         ],
         "y": [
          -8.328131675720215
         ]
        },
        {
         "mode": "markers",
         "text": "drip",
         "textposition": "top center",
         "type": "scatter",
         "x": [
          -0.38056546449661255
         ],
         "y": [
          -1.8546161651611328
         ]
        },
        {
         "mode": "markers",
         "text": "drugs",
         "textposition": "top center",
         "type": "scatter",
         "x": [
          -1.2629154920578003
         ],
         "y": [
          -7.045605182647705
         ]
        },
        {
         "mode": "markers",
         "text": "dyslipidemia",
         "textposition": "top center",
         "type": "scatter",
         "x": [
          -7.878088474273682
         ],
         "y": [
          -3.866199254989624
         ]
        },
        {
         "mode": "markers",
         "text": "eating",
         "textposition": "top center",
         "type": "scatter",
         "x": [
          2.9746572971343994
         ],
         "y": [
          -5.168137073516846
         ]
        },
        {
         "mode": "markers",
         "text": "echo",
         "textposition": "top center",
         "type": "scatter",
         "x": [
          3.704981565475464
         ],
         "y": [
          -1.0724953413009644
         ]
        },
        {
         "mode": "markers",
         "text": "echocardiogram",
         "textposition": "top center",
         "type": "scatter",
         "x": [
          -3.192129373550415
         ],
         "y": [
          3.317415475845337
         ]
        },
        {
         "mode": "markers",
         "text": "edema",
         "textposition": "top center",
         "type": "scatter",
         "x": [
          -4.918149948120117
         ],
         "y": [
          -0.5496914982795715
         ]
        },
        {
         "mode": "markers",
         "text": "effects",
         "textposition": "top center",
         "type": "scatter",
         "x": [
          0.7278667092323303
         ],
         "y": [
          -1.8986971378326416
         ]
        },
        {
         "mode": "markers",
         "text": "effexor",
         "textposition": "top center",
         "type": "scatter",
         "x": [
          -4.163724422454834
         ],
         "y": [
          -9.986867904663086
         ]
        },
        {
         "mode": "markers",
         "text": "elevated",
         "textposition": "top center",
         "type": "scatter",
         "x": [
          2.090127944946289
         ],
         "y": [
          -0.013359247706830502
         ]
        },
        {
         "mode": "markers",
         "text": "encephalopathy",
         "textposition": "top center",
         "type": "scatter",
         "x": [
          -3.560962438583374
         ],
         "y": [
          -2.240691661834717
         ]
        },
        {
         "mode": "markers",
         "text": "endometriosis",
         "textposition": "top center",
         "type": "scatter",
         "x": [
          -5.244112014770508
         ],
         "y": [
          -3.0578434467315674
         ]
        },
        {
         "mode": "markers",
         "text": "endorsed",
         "textposition": "top center",
         "type": "scatter",
         "x": [
          11.133817672729492
         ],
         "y": [
          -1.092272162437439
         ]
        },
        {
         "mode": "markers",
         "text": "epilepsy",
         "textposition": "top center",
         "type": "scatter",
         "x": [
          -5.386733531951904
         ],
         "y": [
          -3.3562705516815186
         ]
        },
        {
         "mode": "markers",
         "text": "erythromycin",
         "textposition": "top center",
         "type": "scatter",
         "x": [
          -3.0487542152404785
         ],
         "y": [
          -4.363471984863281
         ]
        },
        {
         "mode": "markers",
         "text": "esophageal",
         "textposition": "top center",
         "type": "scatter",
         "x": [
          -6.63637638092041
         ],
         "y": [
          2.0077898502349854
         ]
        },
        {
         "mode": "markers",
         "text": "esophagitis",
         "textposition": "top center",
         "type": "scatter",
         "x": [
          -4.537220478057861
         ],
         "y": [
          -0.8015003800392151
         ]
        },
        {
         "mode": "markers",
         "text": "esophagus",
         "textposition": "top center",
         "type": "scatter",
         "x": [
          -6.787516117095947
         ],
         "y": [
          2.088270425796509
         ]
        },
        {
         "mode": "markers",
         "text": "estimated",
         "textposition": "top center",
         "type": "scatter",
         "x": [
          8.173067092895508
         ],
         "y": [
          -0.2806074023246765
         ]
        },
        {
         "mode": "markers",
         "text": "ethanol",
         "textposition": "top center",
         "type": "scatter",
         "x": [
          4.137120246887207
         ],
         "y": [
          -4.314320087432861
         ]
        },
        {
         "mode": "markers",
         "text": "ethylene",
         "textposition": "top center",
         "type": "scatter",
         "x": [
          1.1319031715393066
         ],
         "y": [
          -4.596843719482422
         ]
        },
        {
         "mode": "markers",
         "text": "etiology",
         "textposition": "top center",
         "type": "scatter",
         "x": [
          -3.094728469848633
         ],
         "y": [
          -1.69965398311615
         ]
        },
        {
         "mode": "markers",
         "text": "eval",
         "textposition": "top center",
         "type": "scatter",
         "x": [
          0.5380035042762756
         ],
         "y": [
          -2.7245326042175293
         ]
        },
        {
         "mode": "markers",
         "text": "evaluated",
         "textposition": "top center",
         "type": "scatter",
         "x": [
          5.7647600173950195
         ],
         "y": [
          8.709148406982422
         ]
        },
        {
         "mode": "markers",
         "text": "exam",
         "textposition": "top center",
         "type": "scatter",
         "x": [
          0.9311885237693787
         ],
         "y": [
          3.946126937866211
         ]
        },
        {
         "mode": "markers",
         "text": "expired",
         "textposition": "top center",
         "type": "scatter",
         "x": [
          11.724296569824219
         ],
         "y": [
          4.225069522857666
         ]
        },
        {
         "mode": "markers",
         "text": "expressed",
         "textposition": "top center",
         "type": "scatter",
         "x": [
          9.609908103942871
         ],
         "y": [
          -1.4247469902038574
         ]
        },
        {
         "mode": "markers",
         "text": "extended",
         "textposition": "top center",
         "type": "scatter",
         "x": [
          4.949268817901611
         ],
         "y": [
          1.8395299911499023
         ]
        },
        {
         "mode": "markers",
         "text": "extubated",
         "textposition": "top center",
         "type": "scatter",
         "x": [
          -1.1504942178726196
         ],
         "y": [
          1.481734037399292
         ]
        },
        {
         "mode": "markers",
         "text": "facial",
         "textposition": "top center",
         "type": "scatter",
         "x": [
          0.043433934450149536
         ],
         "y": [
          0.030498601496219635
         ]
        },
        {
         "mode": "markers",
         "text": "feeds",
         "textposition": "top center",
         "type": "scatter",
         "x": [
          4.1451568603515625
         ],
         "y": [
          -0.6222827434539795
         ]
        },
        {
         "mode": "markers",
         "text": "feels",
         "textposition": "top center",
         "type": "scatter",
         "x": [
          7.111124038696289
         ],
         "y": [
          -1.178333044052124
         ]
        },
        {
         "mode": "markers",
         "text": "felt",
         "textposition": "top center",
         "type": "scatter",
         "x": [
          7.173312187194824
         ],
         "y": [
          -1.175037145614624
         ]
        },
        {
         "mode": "markers",
         "text": "fever",
         "textposition": "top center",
         "type": "scatter",
         "x": [
          -2.713468551635742
         ],
         "y": [
          -0.33230751752853394
         ]
        },
        {
         "mode": "markers",
         "text": "fevers",
         "textposition": "top center",
         "type": "scatter",
         "x": [
          -2.7864186763763428
         ],
         "y": [
          -0.3993152379989624
         ]
        },
        {
         "mode": "markers",
         "text": "fibrillation",
         "textposition": "top center",
         "type": "scatter",
         "x": [
          -4.4882025718688965
         ],
         "y": [
          1.0920639038085938
         ]
        },
        {
         "mode": "markers",
         "text": "filter",
         "textposition": "top center",
         "type": "scatter",
         "x": [
          1.9328217506408691
         ],
         "y": [
          1.4913240671157837
         ]
        },
        {
         "mode": "markers",
         "text": "findings",
         "textposition": "top center",
         "type": "scatter",
         "x": [
          11.13762092590332
         ],
         "y": [
          -2.999376058578491
         ]
        },
        {
         "mode": "markers",
         "text": "flexeril",
         "textposition": "top center",
         "type": "scatter",
         "x": [
          0.255080908536911
         ],
         "y": [
          -2.697652578353882
         ]
        },
        {
         "mode": "markers",
         "text": "fluid",
         "textposition": "top center",
         "type": "scatter",
         "x": [
          -0.1023649200797081
         ],
         "y": [
          2.0787642002105713
         ]
        },
        {
         "mode": "markers",
         "text": "fluids",
         "textposition": "top center",
         "type": "scatter",
         "x": [
          -0.1866077035665512
         ],
         "y": [
          2.1739425659179688
         ]
        },
        {
         "mode": "markers",
         "text": "folate",
         "textposition": "top center",
         "type": "scatter",
         "x": [
          -5.897453784942627
         ],
         "y": [
          -5.816973686218262
         ]
        },
        {
         "mode": "markers",
         "text": "followed",
         "textposition": "top center",
         "type": "scatter",
         "x": [
          7.980232238769531
         ],
         "y": [
          2.427772283554077
         ]
        },
        {
         "mode": "markers",
         "text": "followup",
         "textposition": "top center",
         "type": "scatter",
         "x": [
          1.9066728353500366
         ],
         "y": [
          0.9450433850288391
         ]
        },
        {
         "mode": "markers",
         "text": "fracture",
         "textposition": "top center",
         "type": "scatter",
         "x": [
          -1.9563229084014893
         ],
         "y": [
          4.765692710876465
         ]
        },
        {
         "mode": "markers",
         "text": "friends",
         "textposition": "top center",
         "type": "scatter",
         "x": [
          6.095189571380615
         ],
         "y": [
          -4.721320629119873
         ]
        },
        {
         "mode": "markers",
         "text": "further",
         "textposition": "top center",
         "type": "scatter",
         "x": [
          4.4555768966674805
         ],
         "y": [
          0.3571932911872864
         ]
        },
        {
         "mode": "markers",
         "text": "gastric",
         "textposition": "top center",
         "type": "scatter",
         "x": [
          -6.332003593444824
         ],
         "y": [
          1.347564935684204
         ]
        },
        {
         "mode": "markers",
         "text": "gastritis",
         "textposition": "top center",
         "type": "scatter",
         "x": [
          -4.166546821594238
         ],
         "y": [
          -1.0601354837417603
         ]
        },
        {
         "mode": "markers",
         "text": "gastrointestinal",
         "textposition": "top center",
         "type": "scatter",
         "x": [
          -6.312480449676514
         ],
         "y": [
          0.7919136881828308
         ]
        },
        {
         "mode": "markers",
         "text": "glycol",
         "textposition": "top center",
         "type": "scatter",
         "x": [
          -1.14558744430542
         ],
         "y": [
          -2.927492141723633
         ]
        },
        {
         "mode": "markers",
         "text": "going",
         "textposition": "top center",
         "type": "scatter",
         "x": [
          6.114387035369873
         ],
         "y": [
          0.9882263541221619
         ]
        },
        {
         "mode": "markers",
         "text": "gout",
         "textposition": "top center",
         "type": "scatter",
         "x": [
          -6.348517894744873
         ],
         "y": [
          -3.345818042755127
         ]
        },
        {
         "mode": "markers",
         "text": "graft",
         "textposition": "top center",
         "type": "scatter",
         "x": [
          1.0463918447494507
         ],
         "y": [
          0.6163224577903748
         ]
        },
        {
         "mode": "markers",
         "text": "hallucinations",
         "textposition": "top center",
         "type": "scatter",
         "x": [
          0.9953795075416565
         ],
         "y": [
          -6.330979824066162
         ]
        },
        {
         "mode": "markers",
         "text": "hanging",
         "textposition": "top center",
         "type": "scatter",
         "x": [
          6.162663459777832
         ],
         "y": [
          4.328118324279785
         ]
        },
        {
         "mode": "markers",
         "text": "harm",
         "textposition": "top center",
         "type": "scatter",
         "x": [
          4.650910377502441
         ],
         "y": [
          -3.0266425609588623
         ]
        },
        {
         "mode": "markers",
         "text": "held",
         "textposition": "top center",
         "type": "scatter",
         "x": [
          7.1951117515563965
         ],
         "y": [
          3.8544888496398926
         ]
        },
        {
         "mode": "markers",
         "text": "hematocrit",
         "textposition": "top center",
         "type": "scatter",
         "x": [
          -9.915576934814453
         ],
         "y": [
          -2.6966419219970703
         ]
        },
        {
         "mode": "markers",
         "text": "hemodynamically",
         "textposition": "top center",
         "type": "scatter",
         "x": [
          1.2202237844467163
         ],
         "y": [
          0.26045000553131104
         ]
        },
        {
         "mode": "markers",
         "text": "hepatic",
         "textposition": "top center",
         "type": "scatter",
         "x": [
          -9.46069049835205
         ],
         "y": [
          0.5498193502426147
         ]
        },
        {
         "mode": "markers",
         "text": "hepatitis",
         "textposition": "top center",
         "type": "scatter",
         "x": [
          -1.7141953706741333
         ],
         "y": [
          -1.2888226509094238
         ]
        },
        {
         "mode": "markers",
         "text": "hepatology",
         "textposition": "top center",
         "type": "scatter",
         "x": [
          -6.321677207946777
         ],
         "y": [
          7.261603355407715
         ]
        },
        {
         "mode": "markers",
         "text": "hernia",
         "textposition": "top center",
         "type": "scatter",
         "x": [
          -2.6885364055633545
         ],
         "y": [
          4.794887065887451
         ]
        },
        {
         "mode": "markers",
         "text": "heroin",
         "textposition": "top center",
         "type": "scatter",
         "x": [
          -0.47450655698776245
         ],
         "y": [
          -8.153215408325195
         ]
        },
        {
         "mode": "markers",
         "text": "hospitalization",
         "textposition": "top center",
         "type": "scatter",
         "x": [
          -3.508349657058716
         ],
         "y": [
          1.4397176504135132
         ]
        },
        {
         "mode": "markers",
         "text": "hospitalizations",
         "textposition": "top center",
         "type": "scatter",
         "x": [
          -3.6047403812408447
         ],
         "y": [
          1.4507954120635986
         ]
        },
        {
         "mode": "markers",
         "text": "hospitalized",
         "textposition": "top center",
         "type": "scatter",
         "x": [
          3.844782590866089
         ],
         "y": [
          8.087922096252441
         ]
        },
        {
         "mode": "markers",
         "text": "hours",
         "textposition": "top center",
         "type": "scatter",
         "x": [
          4.857083320617676
         ],
         "y": [
          3.520667552947998
         ]
        },
        {
         "mode": "markers",
         "text": "hypercholesterolemia",
         "textposition": "top center",
         "type": "scatter",
         "x": [
          -7.792226791381836
         ],
         "y": [
          -3.7179131507873535
         ]
        },
        {
         "mode": "markers",
         "text": "hyperlipidemia",
         "textposition": "top center",
         "type": "scatter",
         "x": [
          -7.89674711227417
         ],
         "y": [
          -3.773529291152954
         ]
        },
        {
         "mode": "markers",
         "text": "hypertension",
         "textposition": "top center",
         "type": "scatter",
         "x": [
          -7.001451015472412
         ],
         "y": [
          -3.5368874073028564
         ]
        },
        {
         "mode": "markers",
         "text": "hypotension",
         "textposition": "top center",
         "type": "scatter",
         "x": [
          -5.087426662445068
         ],
         "y": [
          -0.04825630784034729
         ]
        },
        {
         "mode": "markers",
         "text": "hypothyroid",
         "textposition": "top center",
         "type": "scatter",
         "x": [
          -4.594890117645264
         ],
         "y": [
          -2.1717567443847656
         ]
        },
        {
         "mode": "markers",
         "text": "hypothyroidism",
         "textposition": "top center",
         "type": "scatter",
         "x": [
          -4.983218193054199
         ],
         "y": [
          -2.440911054611206
         ]
        },
        {
         "mode": "markers",
         "text": "ibuprofen",
         "textposition": "top center",
         "type": "scatter",
         "x": [
          -3.392146587371826
         ],
         "y": [
          -5.533501625061035
         ]
        },
        {
         "mode": "markers",
         "text": "ideation",
         "textposition": "top center",
         "type": "scatter",
         "x": [
          1.667397379875183
         ],
         "y": [
          -1.902215838432312
         ]
        },
        {
         "mode": "markers",
         "text": "ideations",
         "textposition": "top center",
         "type": "scatter",
         "x": [
          2.71601939201355
         ],
         "y": [
          -1.239292860031128
         ]
        },
        {
         "mode": "markers",
         "text": "illicits",
         "textposition": "top center",
         "type": "scatter",
         "x": [
          3.507046699523926
         ],
         "y": [
          -0.7299551367759705
         ]
        },
        {
         "mode": "markers",
         "text": "imaging",
         "textposition": "top center",
         "type": "scatter",
         "x": [
          -0.5323327779769897
         ],
         "y": [
          1.1678745746612549
         ]
        },
        {
         "mode": "markers",
         "text": "improved",
         "textposition": "top center",
         "type": "scatter",
         "x": [
          4.929807186126709
         ],
         "y": [
          5.242514610290527
         ]
        },
        {
         "mode": "markers",
         "text": "incarceration",
         "textposition": "top center",
         "type": "scatter",
         "x": [
          3.353480339050293
         ],
         "y": [
          -0.841985821723938
         ]
        },
        {
         "mode": "markers",
         "text": "indicated",
         "textposition": "top center",
         "type": "scatter",
         "x": [
          8.876859664916992
         ],
         "y": [
          -0.9304161071777344
         ]
        },
        {
         "mode": "markers",
         "text": "indomethacin",
         "textposition": "top center",
         "type": "scatter",
         "x": [
          -3.200566530227661
         ],
         "y": [
          -3.872107744216919
         ]
        },
        {
         "mode": "markers",
         "text": "induced",
         "textposition": "top center",
         "type": "scatter",
         "x": [
          0.8050349354743958
         ],
         "y": [
          -1.8027911186218262
         ]
        },
        {
         "mode": "markers",
         "text": "inflicted",
         "textposition": "top center",
         "type": "scatter",
         "x": [
          12.551782608032227
         ],
         "y": [
          2.8261868953704834
         ]
        },
        {
         "mode": "markers",
         "text": "ingested",
         "textposition": "top center",
         "type": "scatter",
         "x": [
          1.9322646856307983
         ],
         "y": [
          -11.025379180908203
         ]
        },
        {
         "mode": "markers",
         "text": "ingesting",
         "textposition": "top center",
         "type": "scatter",
         "x": [
          1.9030029773712158
         ],
         "y": [
          -10.991508483886719
         ]
        },
        {
         "mode": "markers",
         "text": "ingestion",
         "textposition": "top center",
         "type": "scatter",
         "x": [
          1.9364018440246582
         ],
         "y": [
          -11.008709907531738
         ]
        },
        {
         "mode": "markers",
         "text": "initiated",
         "textposition": "top center",
         "type": "scatter",
         "x": [
          8.77286148071289
         ],
         "y": [
          4.237419128417969
         ]
        },
        {
         "mode": "markers",
         "text": "injuries",
         "textposition": "top center",
         "type": "scatter",
         "x": [
          -0.8828086853027344
         ],
         "y": [
          5.352853775024414
         ]
        },
        {
         "mode": "markers",
         "text": "inpatient",
         "textposition": "top center",
         "type": "scatter",
         "x": [
          -3.2304258346557617
         ],
         "y": [
          7.995635509490967
         ]
        },
        {
         "mode": "markers",
         "text": "instructions",
         "textposition": "top center",
         "type": "scatter",
         "x": [
          2.479785680770874
         ],
         "y": [
          4.6473870277404785
         ]
        },
        {
         "mode": "markers",
         "text": "insufficiency",
         "textposition": "top center",
         "type": "scatter",
         "x": [
          1.1119487285614014
         ],
         "y": [
          6.355849266052246
         ]
        },
        {
         "mode": "markers",
         "text": "insulin",
         "textposition": "top center",
         "type": "scatter",
         "x": [
          -4.73237943649292
         ],
         "y": [
          -5.6967854499816895
         ]
        },
        {
         "mode": "markers",
         "text": "intake",
         "textposition": "top center",
         "type": "scatter",
         "x": [
          1.8225258588790894
         ],
         "y": [
          -5.3884758949279785
         ]
        },
        {
         "mode": "markers",
         "text": "intensive",
         "textposition": "top center",
         "type": "scatter",
         "x": [
          3.3992016315460205
         ],
         "y": [
          2.7997448444366455
         ]
        },
        {
         "mode": "markers",
         "text": "intentional",
         "textposition": "top center",
         "type": "scatter",
         "x": [
          3.930558681488037
         ],
         "y": [
          -1.448818564414978
         ]
        },
        {
         "mode": "markers",
         "text": "intoxicated",
         "textposition": "top center",
         "type": "scatter",
         "x": [
          4.460499286651611
         ],
         "y": [
          -10.017142295837402
         ]
        },
        {
         "mode": "markers",
         "text": "intoxication",
         "textposition": "top center",
         "type": "scatter",
         "x": [
          4.446004867553711
         ],
         "y": [
          -10.036720275878906
         ]
        },
        {
         "mode": "markers",
         "text": "intubated",
         "textposition": "top center",
         "type": "scatter",
         "x": [
          -2.211240530014038
         ],
         "y": [
          2.049349308013916
         ]
        },
        {
         "mode": "markers",
         "text": "intubation",
         "textposition": "top center",
         "type": "scatter",
         "x": [
          -2.4855165481567383
         ],
         "y": [
          2.078754186630249
         ]
        },
        {
         "mode": "markers",
         "text": "invasive",
         "textposition": "top center",
         "type": "scatter",
         "x": [
          -0.19596216082572937
         ],
         "y": [
          3.9685587882995605
         ]
        },
        {
         "mode": "markers",
         "text": "iodine",
         "textposition": "top center",
         "type": "scatter",
         "x": [
          -1.7148758172988892
         ],
         "y": [
          -3.6348066329956055
         ]
        },
        {
         "mode": "markers",
         "text": "ischemic",
         "textposition": "top center",
         "type": "scatter",
         "x": [
          -9.577457427978516
         ],
         "y": [
          0.541142463684082
         ]
        },
        {
         "mode": "markers",
         "text": "issues",
         "textposition": "top center",
         "type": "scatter",
         "x": [
          5.687057971954346
         ],
         "y": [
          -2.305945873260498
         ]
        },
        {
         "mode": "markers",
         "text": "kept",
         "textposition": "top center",
         "type": "scatter",
         "x": [
          6.734087944030762
         ],
         "y": [
          3.0554378032684326
         ]
        },
        {
         "mode": "markers",
         "text": "ketoacidosis",
         "textposition": "top center",
         "type": "scatter",
         "x": [
          -4.262098789215088
         ],
         "y": [
          -1.8515268564224243
         ]
        },
        {
         "mode": "markers",
         "text": "kidney",
         "textposition": "top center",
         "type": "scatter",
         "x": [
          -8.205856323242188
         ],
         "y": [
          2.3425629138946533
         ]
        },
        {
         "mode": "markers",
         "text": "klonopin",
         "textposition": "top center",
         "type": "scatter",
         "x": [
          -0.9119939804077148
         ],
         "y": [
          -4.20617151260376
         ]
        },
        {
         "mode": "markers",
         "text": "known",
         "textposition": "top center",
         "type": "scatter",
         "x": [
          6.744058609008789
         ],
         "y": [
          0.179351806640625
         ]
        },
        {
         "mode": "markers",
         "text": "labs",
         "textposition": "top center",
         "type": "scatter",
         "x": [
          2.554170608520508
         ],
         "y": [
          2.147073268890381
         ]
        },
        {
         "mode": "markers",
         "text": "laceration",
         "textposition": "top center",
         "type": "scatter",
         "x": [
          -1.1093697547912598
         ],
         "y": [
          5.482428550720215
         ]
        },
        {
         "mode": "markers",
         "text": "lamictal",
         "textposition": "top center",
         "type": "scatter",
         "x": [
          0.1269313097000122
         ],
         "y": [
          -1.7657294273376465
         ]
        },
        {
         "mode": "markers",
         "text": "lexapro",
         "textposition": "top center",
         "type": "scatter",
         "x": [
          -4.269037246704102
         ],
         "y": [
          -9.816620826721191
         ]
        },
        {
         "mode": "markers",
         "text": "lithium",
         "textposition": "top center",
         "type": "scatter",
         "x": [
          0.6060469746589661
         ],
         "y": [
          -5.0368123054504395
         ]
        },
        {
         "mode": "markers",
         "text": "lived",
         "textposition": "top center",
         "type": "scatter",
         "x": [
          9.257723808288574
         ],
         "y": [
          3.2866673469543457
         ]
        },
        {
         "mode": "markers",
         "text": "liver",
         "textposition": "top center",
         "type": "scatter",
         "x": [
          -8.103302001953125
         ],
         "y": [
          2.154128313064575
         ]
        },
        {
         "mode": "markers",
         "text": "lives",
         "textposition": "top center",
         "type": "scatter",
         "x": [
          6.971602439880371
         ],
         "y": [
          -4.829901695251465
         ]
        },
        {
         "mode": "markers",
         "text": "longer",
         "textposition": "top center",
         "type": "scatter",
         "x": [
          4.6302595138549805
         ],
         "y": [
          0.25894439220428467
         ]
        },
        {
         "mode": "markers",
         "text": "made",
         "textposition": "top center",
         "type": "scatter",
         "x": [
          7.521259784698486
         ],
         "y": [
          1.6941068172454834
         ]
        },
        {
         "mode": "markers",
         "text": "maintained",
         "textposition": "top center",
         "type": "scatter",
         "x": [
          6.599743843078613
         ],
         "y": [
          2.833026647567749
         ]
        },
        {
         "mode": "markers",
         "text": "managed",
         "textposition": "top center",
         "type": "scatter",
         "x": [
          10.471288681030273
         ],
         "y": [
          2.069019317626953
         ]
        },
        {
         "mode": "markers",
         "text": "marijuana",
         "textposition": "top center",
         "type": "scatter",
         "x": [
          -0.3425872027873993
         ],
         "y": [
          -8.379422187805176
         ]
        },
        {
         "mode": "markers",
         "text": "maternal",
         "textposition": "top center",
         "type": "scatter",
         "x": [
          2.2925755977630615
         ],
         "y": [
          -1.0535012483596802
         ]
        },
        {
         "mode": "markers",
         "text": "means",
         "textposition": "top center",
         "type": "scatter",
         "x": [
          5.056099891662598
         ],
         "y": [
          -0.02558804117143154
         ]
        },
        {
         "mode": "markers",
         "text": "mechanical",
         "textposition": "top center",
         "type": "scatter",
         "x": [
          0.8929429650306702
         ],
         "y": [
          1.8532265424728394
         ]
        },
        {
         "mode": "markers",
         "text": "medically",
         "textposition": "top center",
         "type": "scatter",
         "x": [
          -0.8868882060050964
         ],
         "y": [
          0.39573538303375244
         ]
        },
        {
         "mode": "markers",
         "text": "medications",
         "textposition": "top center",
         "type": "scatter",
         "x": [
          -2.2959189414978027
         ],
         "y": [
          -6.392692565917969
         ]
        },
        {
         "mode": "markers",
         "text": "meds",
         "textposition": "top center",
         "type": "scatter",
         "x": [
          -2.345608711242676
         ],
         "y": [
          -6.526081562042236
         ]
        },
        {
         "mode": "markers",
         "text": "mellitus",
         "textposition": "top center",
         "type": "scatter",
         "x": [
          2.0769095420837402
         ],
         "y": [
          -0.6286928653717041
         ]
        },
        {
         "mode": "markers",
         "text": "metabolic",
         "textposition": "top center",
         "type": "scatter",
         "x": [
          -8.468259811401367
         ],
         "y": [
          -1.1901764869689941
         ]
        },
        {
         "mode": "markers",
         "text": "methadone",
         "textposition": "top center",
         "type": "scatter",
         "x": [
          -0.924500584602356
         ],
         "y": [
          -7.110907077789307
         ]
        },
        {
         "mode": "markers",
         "text": "migraines",
         "textposition": "top center",
         "type": "scatter",
         "x": [
          -5.921406269073486
         ],
         "y": [
          -2.7360715866088867
         ]
        },
        {
         "mode": "markers",
         "text": "mild",
         "textposition": "top center",
         "type": "scatter",
         "x": [
          0.9127029776573181
         ],
         "y": [
          -1.3243190050125122
         ]
        },
        {
         "mode": "markers",
         "text": "mildly",
         "textposition": "top center",
         "type": "scatter",
         "x": [
          3.159059762954712
         ],
         "y": [
          -2.952148914337158
         ]
        },
        {
         "mode": "markers",
         "text": "mitral",
         "textposition": "top center",
         "type": "scatter",
         "x": [
          -6.337070941925049
         ],
         "y": [
          3.610410451889038
         ]
        },
        {
         "mode": "markers",
         "text": "moderately",
         "textposition": "top center",
         "type": "scatter",
         "x": [
          3.063685178756714
         ],
         "y": [
          -3.051452398300171
         ]
        },
        {
         "mode": "markers",
         "text": "monitored",
         "textposition": "top center",
         "type": "scatter",
         "x": [
          5.646738529205322
         ],
         "y": [
          8.957131385803223
         ]
        },
        {
         "mode": "markers",
         "text": "monitoring",
         "textposition": "top center",
         "type": "scatter",
         "x": [
          5.607528209686279
         ],
         "y": [
          8.99055004119873
         ]
        },
        {
         "mode": "markers",
         "text": "months",
         "textposition": "top center",
         "type": "scatter",
         "x": [
          5.025656700134277
         ],
         "y": [
          3.4523844718933105
         ]
        },
        {
         "mode": "markers",
         "text": "morbid",
         "textposition": "top center",
         "type": "scatter",
         "x": [
          2.62813138961792
         ],
         "y": [
          -2.243837594985962
         ]
        },
        {
         "mode": "markers",
         "text": "morphine",
         "textposition": "top center",
         "type": "scatter",
         "x": [
          -0.9200984835624695
         ],
         "y": [
          -6.840901851654053
         ]
        },
        {
         "mode": "markers",
         "text": "motrin",
         "textposition": "top center",
         "type": "scatter",
         "x": [
          2.0195462703704834
         ],
         "y": [
          -0.7200449705123901
         ]
        },
        {
         "mode": "markers",
         "text": "moved",
         "textposition": "top center",
         "type": "scatter",
         "x": [
          8.805434226989746
         ],
         "y": [
          3.2286581993103027
         ]
        },
        {
         "mode": "markers",
         "text": "movements",
         "textposition": "top center",
         "type": "scatter",
         "x": [
          2.2117202281951904
         ],
         "y": [
          0.30329591035842896
         ]
        },
        {
         "mode": "markers",
         "text": "myocardial",
         "textposition": "top center",
         "type": "scatter",
         "x": [
          -9.615646362304688
         ],
         "y": [
          0.6043334603309631
         ]
        },
        {
         "mode": "markers",
         "text": "narcotic",
         "textposition": "top center",
         "type": "scatter",
         "x": [
          -0.8471437692642212
         ],
         "y": [
          -7.627740383148193
         ]
        },
        {
         "mode": "markers",
         "text": "needed",
         "textposition": "top center",
         "type": "scatter",
         "x": [
          5.988461971282959
         ],
         "y": [
          0.6038440465927124
         ]
        },
        {
         "mode": "markers",
         "text": "needs",
         "textposition": "top center",
         "type": "scatter",
         "x": [
          5.924853324890137
         ],
         "y": [
          0.2746380865573883
         ]
        },
        {
         "mode": "markers",
         "text": "nephropathy",
         "textposition": "top center",
         "type": "scatter",
         "x": [
          -8.087082862854004
         ],
         "y": [
          -2.9511044025421143
         ]
        },
        {
         "mode": "markers",
         "text": "neurology",
         "textposition": "top center",
         "type": "scatter",
         "x": [
          -5.647463321685791
         ],
         "y": [
          7.545616149902344
         ]
        },
        {
         "mode": "markers",
         "text": "neurontin",
         "textposition": "top center",
         "type": "scatter",
         "x": [
          -3.046225070953369
         ],
         "y": [
          -10.162449836730957
         ]
        },
        {
         "mode": "markers",
         "text": "neuropathy",
         "textposition": "top center",
         "type": "scatter",
         "x": [
          -5.637315273284912
         ],
         "y": [
          -1.3775315284729004
         ]
        },
        {
         "mode": "markers",
         "text": "neurosurgery",
         "textposition": "top center",
         "type": "scatter",
         "x": [
          -5.682069778442383
         ],
         "y": [
          7.2372941970825195
         ]
        },
        {
         "mode": "markers",
         "text": "nodule",
         "textposition": "top center",
         "type": "scatter",
         "x": [
          -4.39091157913208
         ],
         "y": [
          4.114182472229004
         ]
        },
        {
         "mode": "markers",
         "text": "noncontributory",
         "textposition": "top center",
         "type": "scatter",
         "x": [
          3.3702452182769775
         ],
         "y": [
          0.1503177136182785
         ]
        },
        {
         "mode": "markers",
         "text": "notable",
         "textposition": "top center",
         "type": "scatter",
         "x": [
          5.595905303955078
         ],
         "y": [
          -1.5311306715011597
         ]
        },
        {
         "mode": "markers",
         "text": "noted",
         "textposition": "top center",
         "type": "scatter",
         "x": [
          8.295496940612793
         ],
         "y": [
          -1.1888259649276733
         ]
        },
        {
         "mode": "markers",
         "text": "notes",
         "textposition": "top center",
         "type": "scatter",
         "x": [
          7.2046403884887695
         ],
         "y": [
          -2.0569608211517334
         ]
        },
        {
         "mode": "markers",
         "text": "nutrition",
         "textposition": "top center",
         "type": "scatter",
         "x": [
          2.9819490909576416
         ],
         "y": [
          -5.313473701477051
         ]
        },
        {
         "mode": "markers",
         "text": "obesity",
         "textposition": "top center",
         "type": "scatter",
         "x": [
          -6.982712745666504
         ],
         "y": [
          -4.313946723937988
         ]
        },
        {
         "mode": "markers",
         "text": "observed",
         "textposition": "top center",
         "type": "scatter",
         "x": [
          7.947625160217285
         ],
         "y": [
          -1.7437429428100586
         ]
        },
        {
         "mode": "markers",
         "text": "obstructive",
         "textposition": "top center",
         "type": "scatter",
         "x": [
          0.6563960313796997
         ],
         "y": [
          0.04374469444155693
         ]
        },
        {
         "mode": "markers",
         "text": "obtained",
         "textposition": "top center",
         "type": "scatter",
         "x": [
          8.815624237060547
         ],
         "y": [
          1.4340198040008545
         ]
        },
        {
         "mode": "markers",
         "text": "occasional",
         "textposition": "top center",
         "type": "scatter",
         "x": [
          2.90480637550354
         ],
         "y": [
          -1.3822650909423828
         ]
        },
        {
         "mode": "markers",
         "text": "opiates",
         "textposition": "top center",
         "type": "scatter",
         "x": [
          -0.7386105060577393
         ],
         "y": [
          -7.011404037475586
         ]
        },
        {
         "mode": "markers",
         "text": "oral",
         "textposition": "top center",
         "type": "scatter",
         "x": [
          1.6763014793395996
         ],
         "y": [
          8.060752868652344
         ]
        },
        {
         "mode": "markers",
         "text": "osteoarthritis",
         "textposition": "top center",
         "type": "scatter",
         "x": [
          -6.335535526275635
         ],
         "y": [
          -3.6383156776428223
         ]
        },
        {
         "mode": "markers",
         "text": "outpatient",
         "textposition": "top center",
         "type": "scatter",
         "x": [
          -3.231671094894409
         ],
         "y": [
          7.985025405883789
         ]
        },
        {
         "mode": "markers",
         "text": "overdose",
         "textposition": "top center",
         "type": "scatter",
         "x": [
          0.3546868860721588
         ],
         "y": [
          -10.126908302307129
         ]
        },
        {
         "mode": "markers",
         "text": "overdosed",
         "textposition": "top center",
         "type": "scatter",
         "x": [
          0.3973141610622406
         ],
         "y": [
          -10.159809112548828
         ]
        },
        {
         "mode": "markers",
         "text": "overdoses",
         "textposition": "top center",
         "type": "scatter",
         "x": [
          0.3107752203941345
         ],
         "y": [
          -10.11608600616455
         ]
        },
        {
         "mode": "markers",
         "text": "overnight",
         "textposition": "top center",
         "type": "scatter",
         "x": [
          4.05136251449585
         ],
         "y": [
          3.3671090602874756
         ]
        },
        {
         "mode": "markers",
         "text": "oxycodone",
         "textposition": "top center",
         "type": "scatter",
         "x": [
          -0.9349448084831238
         ],
         "y": [
          -7.409221172332764
         ]
        },
        {
         "mode": "markers",
         "text": "oxygen",
         "textposition": "top center",
         "type": "scatter",
         "x": [
          -0.8132463097572327
         ],
         "y": [
          2.009169101715088
         ]
        },
        {
         "mode": "markers",
         "text": "pancreatitis",
         "textposition": "top center",
         "type": "scatter",
         "x": [
          -4.380132675170898
         ],
         "y": [
          -1.2377870082855225
         ]
        },
        {
         "mode": "markers",
         "text": "panic",
         "textposition": "top center",
         "type": "scatter",
         "x": [
          2.4055981636047363
         ],
         "y": [
          -3.0774688720703125
         ]
        },
        {
         "mode": "markers",
         "text": "parents",
         "textposition": "top center",
         "type": "scatter",
         "x": [
          6.174081802368164
         ],
         "y": [
          -5.223505973815918
         ]
        },
        {
         "mode": "markers",
         "text": "partial",
         "textposition": "top center",
         "type": "scatter",
         "x": [
          2.959563970565796
         ],
         "y": [
          -0.09916601330041885
         ]
        },
        {
         "mode": "markers",
         "text": "paxil",
         "textposition": "top center",
         "type": "scatter",
         "x": [
          -4.4847002029418945
         ],
         "y": [
          -9.494951248168945
         ]
        },
        {
         "mode": "markers",
         "text": "peaked",
         "textposition": "top center",
         "type": "scatter",
         "x": [
          6.220512390136719
         ],
         "y": [
          5.29101037979126
         ]
        },
        {
         "mode": "markers",
         "text": "pending",
         "textposition": "top center",
         "type": "scatter",
         "x": [
          5.353298187255859
         ],
         "y": [
          -0.6671658158302307
         ]
        },
        {
         "mode": "markers",
         "text": "penicillins",
         "textposition": "top center",
         "type": "scatter",
         "x": [
          -2.8769562244415283
         ],
         "y": [
          -3.829989194869995
         ]
        },
        {
         "mode": "markers",
         "text": "percocet",
         "textposition": "top center",
         "type": "scatter",
         "x": [
          -2.621407985687256
         ],
         "y": [
          -7.853301525115967
         ]
        },
        {
         "mode": "markers",
         "text": "performed",
         "textposition": "top center",
         "type": "scatter",
         "x": [
          7.030961036682129
         ],
         "y": [
          1.5241212844848633
         ]
        },
        {
         "mode": "markers",
         "text": "peripheral",
         "textposition": "top center",
         "type": "scatter",
         "x": [
          1.438463807106018
         ],
         "y": [
          -0.2775309383869171
         ]
        },
        {
         "mode": "markers",
         "text": "persistent",
         "textposition": "top center",
         "type": "scatter",
         "x": [
          1.561394453048706
         ],
         "y": [
          -0.8516025543212891
         ]
        },
        {
         "mode": "markers",
         "text": "phenobarbital",
         "textposition": "top center",
         "type": "scatter",
         "x": [
          -1.7194154262542725
         ],
         "y": [
          -4.877470970153809
         ]
        },
        {
         "mode": "markers",
         "text": "pill",
         "textposition": "top center",
         "type": "scatter",
         "x": [
          -2.3541669845581055
         ],
         "y": [
          -6.889801502227783
         ]
        },
        {
         "mode": "markers",
         "text": "pills",
         "textposition": "top center",
         "type": "scatter",
         "x": [
          -2.234339475631714
         ],
         "y": [
          -6.838647842407227
         ]
        },
        {
         "mode": "markers",
         "text": "placed",
         "textposition": "top center",
         "type": "scatter",
         "x": [
          7.441921234130859
         ],
         "y": [
          4.963247776031494
         ]
        },
        {
         "mode": "markers",
         "text": "placement",
         "textposition": "top center",
         "type": "scatter",
         "x": [
          2.505143404006958
         ],
         "y": [
          0.8029975295066833
         ]
        },
        {
         "mode": "markers",
         "text": "pneumonia",
         "textposition": "top center",
         "type": "scatter",
         "x": [
          -3.706397294998169
         ],
         "y": [
          -0.07169733196496964
         ]
        },
        {
         "mode": "markers",
         "text": "poly",
         "textposition": "top center",
         "type": "scatter",
         "x": [
          0.7170236110687256
         ],
         "y": [
          -3.786302328109741
         ]
        },
        {
         "mode": "markers",
         "text": "polysubstance",
         "textposition": "top center",
         "type": "scatter",
         "x": [
          3.2520813941955566
         ],
         "y": [
          -0.2748817205429077
         ]
        },
        {
         "mode": "markers",
         "text": "postoperative",
         "textposition": "top center",
         "type": "scatter",
         "x": [
          -5.485329627990723
         ],
         "y": [
          2.9844698905944824
         ]
        },
        {
         "mode": "markers",
         "text": "precautions",
         "textposition": "top center",
         "type": "scatter",
         "x": [
          2.4592151641845703
         ],
         "y": [
          5.550148010253906
         ]
        },
        {
         "mode": "markers",
         "text": "premature",
         "textposition": "top center",
         "type": "scatter",
         "x": [
          4.448163986206055
         ],
         "y": [
          -0.35636237263679504
         ]
        },
        {
         "mode": "markers",
         "text": "presented",
         "textposition": "top center",
         "type": "scatter",
         "x": [
          11.860817909240723
         ],
         "y": [
          0.49087947607040405
         ]
        },
        {
         "mode": "markers",
         "text": "presenting",
         "textposition": "top center",
         "type": "scatter",
         "x": [
          11.919379234313965
         ],
         "y": [
          0.5172813534736633
         ]
        },
        {
         "mode": "markers",
         "text": "presents",
         "textposition": "top center",
         "type": "scatter",
         "x": [
          12.136354446411133
         ],
         "y": [
          0.5253313779830933
         ]
        },
        {
         "mode": "markers",
         "text": "problems",
         "textposition": "top center",
         "type": "scatter",
         "x": [
          5.599368572235107
         ],
         "y": [
          -2.316917657852173
         ]
        },
        {
         "mode": "markers",
         "text": "provided",
         "textposition": "top center",
         "type": "scatter",
         "x": [
          8.55150032043457
         ],
         "y": [
          1.5298196077346802
         ]
        },
        {
         "mode": "markers",
         "text": "providers",
         "textposition": "top center",
         "type": "scatter",
         "x": [
          3.0099523067474365
         ],
         "y": [
          1.7497013807296753
         ]
        },
        {
         "mode": "markers",
         "text": "prozac",
         "textposition": "top center",
         "type": "scatter",
         "x": [
          -4.01547908782959
         ],
         "y": [
          -9.30416488647461
         ]
        },
        {
         "mode": "markers",
         "text": "psych",
         "textposition": "top center",
         "type": "scatter",
         "x": [
          1.1904370784759521
         ],
         "y": [
          -3.4745736122131348
         ]
        },
        {
         "mode": "markers",
         "text": "psychiatric",
         "textposition": "top center",
         "type": "scatter",
         "x": [
          -4.1015448570251465
         ],
         "y": [
          8.671932220458984
         ]
        },
        {
         "mode": "markers",
         "text": "psychiatrist",
         "textposition": "top center",
         "type": "scatter",
         "x": [
          -4.309059143066406
         ],
         "y": [
          8.959421157836914
         ]
        },
        {
         "mode": "markers",
         "text": "psychiatrists",
         "textposition": "top center",
         "type": "scatter",
         "x": [
          -4.303915023803711
         ],
         "y": [
          8.87140941619873
         ]
        },
        {
         "mode": "markers",
         "text": "psychiatry",
         "textposition": "top center",
         "type": "scatter",
         "x": [
          -5.145477771759033
         ],
         "y": [
          8.125944137573242
         ]
        },
        {
         "mode": "markers",
         "text": "pulmonary",
         "textposition": "top center",
         "type": "scatter",
         "x": [
          -7.3004961013793945
         ],
         "y": [
          -0.027074290439486504
         ]
        },
        {
         "mode": "markers",
         "text": "pulse",
         "textposition": "top center",
         "type": "scatter",
         "x": [
          0.3889710605144501
         ],
         "y": [
          3.0074870586395264
         ]
        },
        {
         "mode": "markers",
         "text": "questionable",
         "textposition": "top center",
         "type": "scatter",
         "x": [
          4.620607852935791
         ],
         "y": [
          -1.4319270849227905
         ]
        },
        {
         "mode": "markers",
         "text": "raised",
         "textposition": "top center",
         "type": "scatter",
         "x": [
          10.072844505310059
         ],
         "y": [
          3.2354743480682373
         ]
        },
        {
         "mode": "markers",
         "text": "reactions",
         "textposition": "top center",
         "type": "scatter",
         "x": [
          1.9676188230514526
         ],
         "y": [
          -2.7522497177124023
         ]
        },
        {
         "mode": "markers",
         "text": "received",
         "textposition": "top center",
         "type": "scatter",
         "x": [
          8.742043495178223
         ],
         "y": [
          1.8719398975372314
         ]
        },
        {
         "mode": "markers",
         "text": "recommendations",
         "textposition": "top center",
         "type": "scatter",
         "x": [
          11.160691261291504
         ],
         "y": [
          -2.761650562286377
         ]
        },
        {
         "mode": "markers",
         "text": "recommended",
         "textposition": "top center",
         "type": "scatter",
         "x": [
          11.025419235229492
         ],
         "y": [
          -2.363832712173462
         ]
        },
        {
         "mode": "markers",
         "text": "records",
         "textposition": "top center",
         "type": "scatter",
         "x": [
          6.996778964996338
         ],
         "y": [
          -3.518568754196167
         ]
        },
        {
         "mode": "markers",
         "text": "recurrent",
         "textposition": "top center",
         "type": "scatter",
         "x": [
          -1.1248161792755127
         ],
         "y": [
          -0.2743997871875763
         ]
        },
        {
         "mode": "markers",
         "text": "refused",
         "textposition": "top center",
         "type": "scatter",
         "x": [
          10.196310997009277
         ],
         "y": [
          0.9302037954330444
         ]
        },
        {
         "mode": "markers",
         "text": "regimen",
         "textposition": "top center",
         "type": "scatter",
         "x": [
          0.2868320643901825
         ],
         "y": [
          -4.326464653015137
         ]
        },
        {
         "mode": "markers",
         "text": "rehab",
         "textposition": "top center",
         "type": "scatter",
         "x": [
          7.260631561279297
         ],
         "y": [
          -9.602751731872559
         ]
        },
        {
         "mode": "markers",
         "text": "rehabilitation",
         "textposition": "top center",
         "type": "scatter",
         "x": [
          7.285806179046631
         ],
         "y": [
          -9.602720260620117
         ]
        },
        {
         "mode": "markers",
         "text": "related",
         "textposition": "top center",
         "type": "scatter",
         "x": [
          4.6754584312438965
         ],
         "y": [
          -0.9551599621772766
         ]
        },
        {
         "mode": "markers",
         "text": "remainder",
         "textposition": "top center",
         "type": "scatter",
         "x": [
          4.842250823974609
         ],
         "y": [
          1.4603021144866943
         ]
        },
        {
         "mode": "markers",
         "text": "remained",
         "textposition": "top center",
         "type": "scatter",
         "x": [
          6.63238525390625
         ],
         "y": [
          2.9168100357055664
         ]
        },
        {
         "mode": "markers",
         "text": "removal",
         "textposition": "top center",
         "type": "scatter",
         "x": [
          7.846982479095459
         ],
         "y": [
          6.078415870666504
         ]
        },
        {
         "mode": "markers",
         "text": "removed",
         "textposition": "top center",
         "type": "scatter",
         "x": [
          7.981940269470215
         ],
         "y": [
          5.980204105377197
         ]
        },
        {
         "mode": "markers",
         "text": "renal",
         "textposition": "top center",
         "type": "scatter",
         "x": [
          -7.987375259399414
         ],
         "y": [
          0.8258190751075745
         ]
        },
        {
         "mode": "markers",
         "text": "repair",
         "textposition": "top center",
         "type": "scatter",
         "x": [
          3.6417109966278076
         ],
         "y": [
          4.687689781188965
         ]
        },
        {
         "mode": "markers",
         "text": "replacement",
         "textposition": "top center",
         "type": "scatter",
         "x": [
          3.672994375228882
         ],
         "y": [
          4.663057327270508
         ]
        },
        {
         "mode": "markers",
         "text": "reported",
         "textposition": "top center",
         "type": "scatter",
         "x": [
          9.104865074157715
         ],
         "y": [
          -2.207838296890259
         ]
        },
        {
         "mode": "markers",
         "text": "reportedly",
         "textposition": "top center",
         "type": "scatter",
         "x": [
          7.652820110321045
         ],
         "y": [
          -0.21948860585689545
         ]
        },
        {
         "mode": "markers",
         "text": "reports",
         "textposition": "top center",
         "type": "scatter",
         "x": [
          9.112138748168945
         ],
         "y": [
          -2.4207704067230225
         ]
        },
        {
         "mode": "markers",
         "text": "required",
         "textposition": "top center",
         "type": "scatter",
         "x": [
          5.735681056976318
         ],
         "y": [
          0.6338171362876892
         ]
        },
        {
         "mode": "markers",
         "text": "requiring",
         "textposition": "top center",
         "type": "scatter",
         "x": [
          5.636702060699463
         ],
         "y": [
          0.6483244895935059
         ]
        },
        {
         "mode": "markers",
         "text": "resection",
         "textposition": "top center",
         "type": "scatter",
         "x": [
          -5.825949192047119
         ],
         "y": [
          3.574248790740967
         ]
        },
        {
         "mode": "markers",
         "text": "resolved",
         "textposition": "top center",
         "type": "scatter",
         "x": [
          9.02863597869873
         ],
         "y": [
          5.735662937164307
         ]
        },
        {
         "mode": "markers",
         "text": "resp",
         "textposition": "top center",
         "type": "scatter",
         "x": [
          0.9903566241264343
         ],
         "y": [
          -2.950137138366699
         ]
        },
        {
         "mode": "markers",
         "text": "respiratory",
         "textposition": "top center",
         "type": "scatter",
         "x": [
          -7.0872273445129395
         ],
         "y": [
          -0.1554962396621704
         ]
        },
        {
         "mode": "markers",
         "text": "restarted",
         "textposition": "top center",
         "type": "scatter",
         "x": [
          8.56640625
         ],
         "y": [
          8.082362174987793
         ]
        },
        {
         "mode": "markers",
         "text": "restarting",
         "textposition": "top center",
         "type": "scatter",
         "x": [
          8.567228317260742
         ],
         "y": [
          8.112780570983887
         ]
        },
        {
         "mode": "markers",
         "text": "resume",
         "textposition": "top center",
         "type": "scatter",
         "x": [
          8.017481803894043
         ],
         "y": [
          7.462275981903076
         ]
        },
        {
         "mode": "markers",
         "text": "retired",
         "textposition": "top center",
         "type": "scatter",
         "x": [
          10.59726333618164
         ],
         "y": [
          4.127926826477051
         ]
        },
        {
         "mode": "markers",
         "text": "revealed",
         "textposition": "top center",
         "type": "scatter",
         "x": [
          9.14461898803711
         ],
         "y": [
          -0.840869128704071
         ]
        },
        {
         "mode": "markers",
         "text": "rhabdomyolysis",
         "textposition": "top center",
         "type": "scatter",
         "x": [
          -4.560375213623047
         ],
         "y": [
          -1.8558316230773926
         ]
        },
        {
         "mode": "markers",
         "text": "said",
         "textposition": "top center",
         "type": "scatter",
         "x": [
          7.981311321258545
         ],
         "y": [
          -0.9635967016220093
         ]
        },
        {
         "mode": "markers",
         "text": "says",
         "textposition": "top center",
         "type": "scatter",
         "x": [
          7.715114116668701
         ],
         "y": [
          -1.003464698791504
         ]
        },
        {
         "mode": "markers",
         "text": "schizoaffective",
         "textposition": "top center",
         "type": "scatter",
         "x": [
          0.1068727970123291
         ],
         "y": [
          -0.7375744581222534
         ]
        },
        {
         "mode": "markers",
         "text": "schizophrenia",
         "textposition": "top center",
         "type": "scatter",
         "x": [
          -5.176713466644287
         ],
         "y": [
          -3.7557625770568848
         ]
        },
        {
         "mode": "markers",
         "text": "secondary",
         "textposition": "top center",
         "type": "scatter",
         "x": [
          2.927478313446045
         ],
         "y": [
          0.31809020042419434
         ]
        },
        {
         "mode": "markers",
         "text": "sectioned",
         "textposition": "top center",
         "type": "scatter",
         "x": [
          -0.10212484002113342
         ],
         "y": [
          -0.4053287208080292
         ]
        },
        {
         "mode": "markers",
         "text": "sedation",
         "textposition": "top center",
         "type": "scatter",
         "x": [
          -2.0779836177825928
         ],
         "y": [
          0.9370654225349426
         ]
        },
        {
         "mode": "markers",
         "text": "seeking",
         "textposition": "top center",
         "type": "scatter",
         "x": [
          8.142532348632812
         ],
         "y": [
          1.0561012029647827
         ]
        },
        {
         "mode": "markers",
         "text": "seen",
         "textposition": "top center",
         "type": "scatter",
         "x": [
          6.8216118812561035
         ],
         "y": [
          1.0104068517684937
         ]
        },
        {
         "mode": "markers",
         "text": "seizure",
         "textposition": "top center",
         "type": "scatter",
         "x": [
          1.7149920463562012
         ],
         "y": [
          -8.099990844726562
         ]
        },
        {
         "mode": "markers",
         "text": "seizures",
         "textposition": "top center",
         "type": "scatter",
         "x": [
          1.6910840272903442
         ],
         "y": [
          -8.074783325195312
         ]
        },
        {
         "mode": "markers",
         "text": "sent",
         "textposition": "top center",
         "type": "scatter",
         "x": [
          8.689722061157227
         ],
         "y": [
          2.3405771255493164
         ]
        },
        {
         "mode": "markers",
         "text": "serial",
         "textposition": "top center",
         "type": "scatter",
         "x": [
          2.583707809448242
         ],
         "y": [
          -0.35486680269241333
         ]
        },
        {
         "mode": "markers",
         "text": "seroquel",
         "textposition": "top center",
         "type": "scatter",
         "x": [
          0.1223345696926117
         ],
         "y": [
          -2.9634687900543213
         ]
        },
        {
         "mode": "markers",
         "text": "serotonin",
         "textposition": "top center",
         "type": "scatter",
         "x": [
          -6.535429000854492
         ],
         "y": [
          -5.948206424713135
         ]
        },
        {
         "mode": "markers",
         "text": "serum",
         "textposition": "top center",
         "type": "scatter",
         "x": [
          -1.7405492067337036
         ],
         "y": [
          -2.6628177165985107
         ]
        },
        {
         "mode": "markers",
         "text": "services",
         "textposition": "top center",
         "type": "scatter",
         "x": [
          2.9895455837249756
         ],
         "y": [
          1.5058684349060059
         ]
        },
        {
         "mode": "markers",
         "text": "showed",
         "textposition": "top center",
         "type": "scatter",
         "x": [
          9.387789726257324
         ],
         "y": [
          -0.696830153465271
         ]
        },
        {
         "mode": "markers",
         "text": "signs",
         "textposition": "top center",
         "type": "scatter",
         "x": [
          5.962237358093262
         ],
         "y": [
          -3.564422607421875
         ]
        },
        {
         "mode": "markers",
         "text": "sinus",
         "textposition": "top center",
         "type": "scatter",
         "x": [
          -4.130488395690918
         ],
         "y": [
          -0.16097378730773926
         ]
        },
        {
         "mode": "markers",
         "text": "sitter",
         "textposition": "top center",
         "type": "scatter",
         "x": [
          5.109561920166016
         ],
         "y": [
          -5.2301411628723145
         ]
        },
        {
         "mode": "markers",
         "text": "smoker",
         "textposition": "top center",
         "type": "scatter",
         "x": [
          9.490532875061035
         ],
         "y": [
          -7.8865509033203125
         ]
        },
        {
         "mode": "markers",
         "text": "smokes",
         "textposition": "top center",
         "type": "scatter",
         "x": [
          9.481431007385254
         ],
         "y": [
          -7.88370943069458
         ]
        },
        {
         "mode": "markers",
         "text": "smoking",
         "textposition": "top center",
         "type": "scatter",
         "x": [
          9.482569694519043
         ],
         "y": [
          -7.886631011962891
         ]
        },
        {
         "mode": "markers",
         "text": "sober",
         "textposition": "top center",
         "type": "scatter",
         "x": [
          6.34771203994751
         ],
         "y": [
          -8.06881046295166
         ]
        },
        {
         "mode": "markers",
         "text": "sobriety",
         "textposition": "top center",
         "type": "scatter",
         "x": [
          6.369871139526367
         ],
         "y": [
          -8.106721878051758
         ]
        },
        {
         "mode": "markers",
         "text": "softener",
         "textposition": "top center",
         "type": "scatter",
         "x": [
          -0.9179679155349731
         ],
         "y": [
          -2.8172073364257812
         ]
        },
        {
         "mode": "markers",
         "text": "soma",
         "textposition": "top center",
         "type": "scatter",
         "x": [
          -3.753150224685669
         ],
         "y": [
          -9.26842975616455
         ]
        },
        {
         "mode": "markers",
         "text": "somnolent",
         "textposition": "top center",
         "type": "scatter",
         "x": [
          3.1228866577148438
         ],
         "y": [
          -1.996786117553711
         ]
        },
        {
         "mode": "markers",
         "text": "spinal",
         "textposition": "top center",
         "type": "scatter",
         "x": [
          -3.487093448638916
         ],
         "y": [
          5.605263710021973
         ]
        },
        {
         "mode": "markers",
         "text": "spine",
         "textposition": "top center",
         "type": "scatter",
         "x": [
          -3.445363759994507
         ],
         "y": [
          5.634276390075684
         ]
        },
        {
         "mode": "markers",
         "text": "stab",
         "textposition": "top center",
         "type": "scatter",
         "x": [
          2.368518829345703
         ],
         "y": [
          3.7047154903411865
         ]
        },
        {
         "mode": "markers",
         "text": "stabilized",
         "textposition": "top center",
         "type": "scatter",
         "x": [
          5.235055446624756
         ],
         "y": [
          5.342615127563477
         ]
        },
        {
         "mode": "markers",
         "text": "standpoint",
         "textposition": "top center",
         "type": "scatter",
         "x": [
          6.436273097991943
         ],
         "y": [
          -1.4915443658828735
         ]
        },
        {
         "mode": "markers",
         "text": "started",
         "textposition": "top center",
         "type": "scatter",
         "x": [
          8.229605674743652
         ],
         "y": [
          3.946375608444214
         ]
        },
        {
         "mode": "markers",
         "text": "starting",
         "textposition": "top center",
         "type": "scatter",
         "x": [
          5.4922776222229
         ],
         "y": [
          1.4242277145385742
         ]
        },
        {
         "mode": "markers",
         "text": "stated",
         "textposition": "top center",
         "type": "scatter",
         "x": [
          8.48846435546875
         ],
         "y": [
          -1.2208406925201416
         ]
        },
        {
         "mode": "markers",
         "text": "states",
         "textposition": "top center",
         "type": "scatter",
         "x": [
          3.7930212020874023
         ],
         "y": [
          -0.1875450313091278
         ]
        },
        {
         "mode": "markers",
         "text": "stenosis",
         "textposition": "top center",
         "type": "scatter",
         "x": [
          -6.525787353515625
         ],
         "y": [
          3.3292038440704346
         ]
        },
        {
         "mode": "markers",
         "text": "stent",
         "textposition": "top center",
         "type": "scatter",
         "x": [
          -8.821741104125977
         ],
         "y": [
          5.0092082023620605
         ]
        },
        {
         "mode": "markers",
         "text": "stents",
         "textposition": "top center",
         "type": "scatter",
         "x": [
          -8.82749080657959
         ],
         "y": [
          5.016419410705566
         ]
        },
        {
         "mode": "markers",
         "text": "stones",
         "textposition": "top center",
         "type": "scatter",
         "x": [
          4.10206937789917
         ],
         "y": [
          -5.118034839630127
         ]
        },
        {
         "mode": "markers",
         "text": "stopped",
         "textposition": "top center",
         "type": "scatter",
         "x": [
          8.16773796081543
         ],
         "y": [
          4.137333393096924
         ]
        },
        {
         "mode": "markers",
         "text": "subsequently",
         "textposition": "top center",
         "type": "scatter",
         "x": [
          4.768608570098877
         ],
         "y": [
          1.0769191980361938
         ]
        },
        {
         "mode": "markers",
         "text": "suicidal",
         "textposition": "top center",
         "type": "scatter",
         "x": [
          2.608544111251831
         ],
         "y": [
          -6.548058032989502
         ]
        },
        {
         "mode": "markers",
         "text": "suicidality",
         "textposition": "top center",
         "type": "scatter",
         "x": [
          -5.017653465270996
         ],
         "y": [
          -4.2379279136657715
         ]
        },
        {
         "mode": "markers",
         "text": "suicide",
         "textposition": "top center",
         "type": "scatter",
         "x": [
          2.663865327835083
         ],
         "y": [
          -6.6324896812438965
         ]
        },
        {
         "mode": "markers",
         "text": "sulfa",
         "textposition": "top center",
         "type": "scatter",
         "x": [
          -1.7364141941070557
         ],
         "y": [
          -3.536419630050659
         ]
        },
        {
         "mode": "markers",
         "text": "sulfonamides",
         "textposition": "top center",
         "type": "scatter",
         "x": [
          -2.0177321434020996
         ],
         "y": [
          -2.6258537769317627
         ]
        },
        {
         "mode": "markers",
         "text": "summary",
         "textposition": "top center",
         "type": "scatter",
         "x": [
          8.1108980178833
         ],
         "y": [
          -4.0707621574401855
         ]
        },
        {
         "mode": "markers",
         "text": "supportive",
         "textposition": "top center",
         "type": "scatter",
         "x": [
          7.57871150970459
         ],
         "y": [
          -2.8262853622436523
         ]
        },
        {
         "mode": "markers",
         "text": "surgical",
         "textposition": "top center",
         "type": "scatter",
         "x": [
          -5.506669044494629
         ],
         "y": [
          6.139910697937012
         ]
        },
        {
         "mode": "markers",
         "text": "suspected",
         "textposition": "top center",
         "type": "scatter",
         "x": [
          6.164020538330078
         ],
         "y": [
          6.752176761627197
         ]
        },
        {
         "mode": "markers",
         "text": "suspicion",
         "textposition": "top center",
         "type": "scatter",
         "x": [
          6.200457572937012
         ],
         "y": [
          6.827117919921875
         ]
        },
        {
         "mode": "markers",
         "text": "symptoms",
         "textposition": "top center",
         "type": "scatter",
         "x": [
          -3.1773746013641357
         ],
         "y": [
          -0.9641821980476379
         ]
        },
        {
         "mode": "markers",
         "text": "syndrome",
         "textposition": "top center",
         "type": "scatter",
         "x": [
          -0.7574755549430847
         ],
         "y": [
          -0.9628576040267944
         ]
        },
        {
         "mode": "markers",
         "text": "systems",
         "textposition": "top center",
         "type": "scatter",
         "x": [
          2.7524948120117188
         ],
         "y": [
          1.5702399015426636
         ]
        },
        {
         "mode": "markers",
         "text": "systolic",
         "textposition": "top center",
         "type": "scatter",
         "x": [
          -10.886836051940918
         ],
         "y": [
          -0.9231315851211548
         ]
        },
        {
         "mode": "markers",
         "text": "tablets",
         "textposition": "top center",
         "type": "scatter",
         "x": [
          -3.3543198108673096
         ],
         "y": [
          -6.70940637588501
         ]
        },
        {
         "mode": "markers",
         "text": "tabs",
         "textposition": "top center",
         "type": "scatter",
         "x": [
          4.9236321449279785
         ],
         "y": [
          -3.9774351119995117
         ]
        },
        {
         "mode": "markers",
         "text": "tachycardia",
         "textposition": "top center",
         "type": "scatter",
         "x": [
          -4.665874481201172
         ],
         "y": [
          0.34701573848724365
         ]
        },
        {
         "mode": "markers",
         "text": "taken",
         "textposition": "top center",
         "type": "scatter",
         "x": [
          7.5651679039001465
         ],
         "y": [
          3.1173341274261475
         ]
        },
        {
         "mode": "markers",
         "text": "taking",
         "textposition": "top center",
         "type": "scatter",
         "x": [
          7.443576335906982
         ],
         "y": [
          3.05395770072937
         ]
        },
        {
         "mode": "markers",
         "text": "therapist",
         "textposition": "top center",
         "type": "scatter",
         "x": [
          -4.248963356018066
         ],
         "y": [
          9.24269962310791
         ]
        },
        {
         "mode": "markers",
         "text": "thiamine",
         "textposition": "top center",
         "type": "scatter",
         "x": [
          -5.75731897354126
         ],
         "y": [
          -5.7940826416015625
         ]
        },
        {
         "mode": "markers",
         "text": "thoughts",
         "textposition": "top center",
         "type": "scatter",
         "x": [
          4.756207466125488
         ],
         "y": [
          -2.3420450687408447
         ]
        },
        {
         "mode": "markers",
         "text": "times",
         "textposition": "top center",
         "type": "scatter",
         "x": [
          4.761432647705078
         ],
         "y": [
          2.6954262256622314
         ]
        },
        {
         "mode": "markers",
         "text": "titles",
         "textposition": "top center",
         "type": "scatter",
         "x": [
          6.470697402954102
         ],
         "y": [
          -2.8733561038970947
         ]
        },
        {
         "mode": "markers",
         "text": "told",
         "textposition": "top center",
         "type": "scatter",
         "x": [
          8.539109230041504
         ],
         "y": [
          -1.4840692281723022
         ]
        },
        {
         "mode": "markers",
         "text": "tolerate",
         "textposition": "top center",
         "type": "scatter",
         "x": [
          9.579828262329102
         ],
         "y": [
          -5.278453826904297
         ]
        },
        {
         "mode": "markers",
         "text": "tolerating",
         "textposition": "top center",
         "type": "scatter",
         "x": [
          9.55936050415039
         ],
         "y": [
          -5.279706001281738
         ]
        },
        {
         "mode": "markers",
         "text": "took",
         "textposition": "top center",
         "type": "scatter",
         "x": [
          7.784994602203369
         ],
         "y": [
          3.042886257171631
         ]
        },
        {
         "mode": "markers",
         "text": "toxicity",
         "textposition": "top center",
         "type": "scatter",
         "x": [
          -2.5905344486236572
         ],
         "y": [
          -3.1364428997039795
         ]
        },
        {
         "mode": "markers",
         "text": "toxicology",
         "textposition": "top center",
         "type": "scatter",
         "x": [
          -2.591904640197754
         ],
         "y": [
          -3.1240296363830566
         ]
        },
        {
         "mode": "markers",
         "text": "trach",
         "textposition": "top center",
         "type": "scatter",
         "x": [
          -1.8723825216293335
         ],
         "y": [
          1.8643224239349365
         ]
        },
        {
         "mode": "markers",
         "text": "tracheostomy",
         "textposition": "top center",
         "type": "scatter",
         "x": [
          -2.2866482734680176
         ],
         "y": [
          2.082730293273926
         ]
        },
        {
         "mode": "markers",
         "text": "tracing",
         "textposition": "top center",
         "type": "scatter",
         "x": [
          3.4892616271972656
         ],
         "y": [
          0.8858820199966431
         ]
        },
        {
         "mode": "markers",
         "text": "transfered",
         "textposition": "top center",
         "type": "scatter",
         "x": [
          10.564257621765137
         ],
         "y": [
          6.179888725280762
         ]
        },
        {
         "mode": "markers",
         "text": "transferred",
         "textposition": "top center",
         "type": "scatter",
         "x": [
          10.536476135253906
         ],
         "y": [
          6.195711135864258
         ]
        },
        {
         "mode": "markers",
         "text": "transitional",
         "textposition": "top center",
         "type": "scatter",
         "x": [
          3.9783718585968018
         ],
         "y": [
          1.3196253776550293
         ]
        },
        {
         "mode": "markers",
         "text": "transitioned",
         "textposition": "top center",
         "type": "scatter",
         "x": [
          9.428681373596191
         ],
         "y": [
          4.288684368133545
         ]
        },
        {
         "mode": "markers",
         "text": "transplant",
         "textposition": "top center",
         "type": "scatter",
         "x": [
          -8.354601860046387
         ],
         "y": [
          2.6599419116973877
         ]
        },
        {
         "mode": "markers",
         "text": "transported",
         "textposition": "top center",
         "type": "scatter",
         "x": [
          10.640477180480957
         ],
         "y": [
          6.154436111450195
         ]
        },
        {
         "mode": "markers",
         "text": "trauma",
         "textposition": "top center",
         "type": "scatter",
         "x": [
          -0.8448326587677002
         ],
         "y": [
          5.1431193351745605
         ]
        },
        {
         "mode": "markers",
         "text": "treated",
         "textposition": "top center",
         "type": "scatter",
         "x": [
          4.422726631164551
         ],
         "y": [
          7.297223091125488
         ]
        },
        {
         "mode": "markers",
         "text": "treaters",
         "textposition": "top center",
         "type": "scatter",
         "x": [
          5.949483394622803
         ],
         "y": [
          -5.94552755355835
         ]
        },
        {
         "mode": "markers",
         "text": "trending",
         "textposition": "top center",
         "type": "scatter",
         "x": [
          5.321493148803711
         ],
         "y": [
          -3.249619245529175
         ]
        },
        {
         "mode": "markers",
         "text": "tried",
         "textposition": "top center",
         "type": "scatter",
         "x": [
          10.502036094665527
         ],
         "y": [
          1.9298310279846191
         ]
        },
        {
         "mode": "markers",
         "text": "tylenol",
         "textposition": "top center",
         "type": "scatter",
         "x": [
          -0.9975940585136414
         ],
         "y": [
          -4.008309841156006
         ]
        },
        {
         "mode": "markers",
         "text": "ulcer",
         "textposition": "top center",
         "type": "scatter",
         "x": [
          -5.723207950592041
         ],
         "y": [
          -0.8419167399406433
         ]
        },
        {
         "mode": "markers",
         "text": "ulcers",
         "textposition": "top center",
         "type": "scatter",
         "x": [
          -5.674675941467285
         ],
         "y": [
          -0.96224445104599
         ]
        },
        {
         "mode": "markers",
         "text": "unclear",
         "textposition": "top center",
         "type": "scatter",
         "x": [
          8.133905410766602
         ],
         "y": [
          0.0670916736125946
         ]
        },
        {
         "mode": "markers",
         "text": "underwent",
         "textposition": "top center",
         "type": "scatter",
         "x": [
          10.00313949584961
         ],
         "y": [
          -3.477705478668213
         ]
        },
        {
         "mode": "markers",
         "text": "unemployed",
         "textposition": "top center",
         "type": "scatter",
         "x": [
          3.838350296020508
         ],
         "y": [
          0.2719270884990692
         ]
        },
        {
         "mode": "markers",
         "text": "unremarkable",
         "textposition": "top center",
         "type": "scatter",
         "x": [
          3.323977470397949
         ],
         "y": [
          -1.6424415111541748
         ]
        },
        {
         "mode": "markers",
         "text": "unresponsive",
         "textposition": "top center",
         "type": "scatter",
         "x": [
          -0.8905996084213257
         ],
         "y": [
          3.331195831298828
         ]
        },
        {
         "mode": "markers",
         "text": "urinary",
         "textposition": "top center",
         "type": "scatter",
         "x": [
          -6.031670570373535
         ],
         "y": [
          0.4948820173740387
         ]
        },
        {
         "mode": "markers",
         "text": "urine",
         "textposition": "top center",
         "type": "scatter",
         "x": [
          -1.4271302223205566
         ],
         "y": [
          -1.8724769353866577
         ]
        },
        {
         "mode": "markers",
         "text": "using",
         "textposition": "top center",
         "type": "scatter",
         "x": [
          3.674558162689209
         ],
         "y": [
          0.8233481645584106
         ]
        },
        {
         "mode": "markers",
         "text": "valium",
         "textposition": "top center",
         "type": "scatter",
         "x": [
          -3.329601764678955
         ],
         "y": [
          -8.94522762298584
         ]
        },
        {
         "mode": "markers",
         "text": "valve",
         "textposition": "top center",
         "type": "scatter",
         "x": [
          0.5762768387794495
         ],
         "y": [
          2.15419602394104
         ]
        },
        {
         "mode": "markers",
         "text": "vancomycin",
         "textposition": "top center",
         "type": "scatter",
         "x": [
          -3.230781078338623
         ],
         "y": [
          -3.888073682785034
         ]
        },
        {
         "mode": "markers",
         "text": "vascular",
         "textposition": "top center",
         "type": "scatter",
         "x": [
          -8.24597454071045
         ],
         "y": [
          0.4644072949886322
         ]
        },
        {
         "mode": "markers",
         "text": "vein",
         "textposition": "top center",
         "type": "scatter",
         "x": [
          1.6177504062652588
         ],
         "y": [
          0.18017147481441498
         ]
        },
        {
         "mode": "markers",
         "text": "vent",
         "textposition": "top center",
         "type": "scatter",
         "x": [
          1.7663522958755493
         ],
         "y": [
          2.1964709758758545
         ]
        },
        {
         "mode": "markers",
         "text": "ventricle",
         "textposition": "top center",
         "type": "scatter",
         "x": [
          -10.330799102783203
         ],
         "y": [
          2.2853925228118896
         ]
        },
        {
         "mode": "markers",
         "text": "ventricular",
         "textposition": "top center",
         "type": "scatter",
         "x": [
          -10.333572387695312
         ],
         "y": [
          2.2358670234680176
         ]
        },
        {
         "mode": "markers",
         "text": "vicodin",
         "textposition": "top center",
         "type": "scatter",
         "x": [
          -3.313596725463867
         ],
         "y": [
          -8.954451560974121
         ]
        },
        {
         "mode": "markers",
         "text": "vitals",
         "textposition": "top center",
         "type": "scatter",
         "x": [
          0.1694420874118805
         ],
         "y": [
          3.166384696960449
         ]
        },
        {
         "mode": "markers",
         "text": "vodka",
         "textposition": "top center",
         "type": "scatter",
         "x": [
          3.755955457687378
         ],
         "y": [
          -8.318708419799805
         ]
        },
        {
         "mode": "markers",
         "text": "vomiting",
         "textposition": "top center",
         "type": "scatter",
         "x": [
          -2.73664927482605
         ],
         "y": [
          -0.9041826725006104
         ]
        },
        {
         "mode": "markers",
         "text": "walker",
         "textposition": "top center",
         "type": "scatter",
         "x": [
          4.195095062255859
         ],
         "y": [
          -6.104586124420166
         ]
        },
        {
         "mode": "markers",
         "text": "wanted",
         "textposition": "top center",
         "type": "scatter",
         "x": [
          9.499774932861328
         ],
         "y": [
          1.1498891115188599
         ]
        },
        {
         "mode": "markers",
         "text": "ward",
         "textposition": "top center",
         "type": "scatter",
         "x": [
          1.5984385013580322
         ],
         "y": [
          3.421489953994751
         ]
        },
        {
         "mode": "markers",
         "text": "weakness",
         "textposition": "top center",
         "type": "scatter",
         "x": [
          1.925791621208191
         ],
         "y": [
          -1.3259328603744507
         ]
        },
        {
         "mode": "markers",
         "text": "weeks",
         "textposition": "top center",
         "type": "scatter",
         "x": [
          5.01307487487793
         ],
         "y": [
          3.4755280017852783
         ]
        },
        {
         "mode": "markers",
         "text": "wellbutrin",
         "textposition": "top center",
         "type": "scatter",
         "x": [
          -3.598167896270752
         ],
         "y": [
          -10.243480682373047
         ]
        },
        {
         "mode": "markers",
         "text": "went",
         "textposition": "top center",
         "type": "scatter",
         "x": [
          8.371488571166992
         ],
         "y": [
          2.8251166343688965
         ]
        },
        {
         "mode": "markers",
         "text": "were",
         "textposition": "top center",
         "type": "scatter",
         "x": [
          6.454776763916016
         ],
         "y": [
          2.2417497634887695
         ]
        },
        {
         "mode": "markers",
         "text": "widowed",
         "textposition": "top center",
         "type": "scatter",
         "x": [
          7.733107566833496
         ],
         "y": [
          -6.131743907928467
         ]
        },
        {
         "mode": "markers",
         "text": "withdrawal",
         "textposition": "top center",
         "type": "scatter",
         "x": [
          12.522298812866211
         ],
         "y": [
          -5.2067084312438965
         ]
        },
        {
         "mode": "markers",
         "text": "withdrawl",
         "textposition": "top center",
         "type": "scatter",
         "x": [
          12.521829605102539
         ],
         "y": [
          -5.211629390716553
         ]
        },
        {
         "mode": "markers",
         "text": "worked",
         "textposition": "top center",
         "type": "scatter",
         "x": [
          9.579721450805664
         ],
         "y": [
          2.7043068408966064
         ]
        },
        {
         "mode": "markers",
         "text": "worsening",
         "textposition": "top center",
         "type": "scatter",
         "x": [
          1.38680100440979
         ],
         "y": [
          -1.064972162246704
         ]
        },
        {
         "mode": "markers",
         "text": "wrist",
         "textposition": "top center",
         "type": "scatter",
         "x": [
          -0.18026266992092133
         ],
         "y": [
          7.982839584350586
         ]
        },
        {
         "mode": "markers",
         "text": "wrists",
         "textposition": "top center",
         "type": "scatter",
         "x": [
          -0.1447824388742447
         ],
         "y": [
          8.032336235046387
         ]
        },
        {
         "mode": "markers",
         "text": "xanax",
         "textposition": "top center",
         "type": "scatter",
         "x": [
          -3.5376057624816895
         ],
         "y": [
          -9.564475059509277
         ]
        },
        {
         "mode": "markers",
         "text": "years",
         "textposition": "top center",
         "type": "scatter",
         "x": [
          5.0590901374816895
         ],
         "y": [
          3.373211622238159
         ]
        },
        {
         "mode": "markers",
         "text": "zoloft",
         "textposition": "top center",
         "type": "scatter",
         "x": [
          -4.196280002593994
         ],
         "y": [
          -9.270572662353516
         ]
        },
        {
         "mode": "markers",
         "text": "zyprexa",
         "textposition": "top center",
         "type": "scatter",
         "x": [
          -0.38863521814346313
         ],
         "y": [
          -2.0977234840393066
         ]
        }
       ],
       "layout": {
        "showlegend": false,
        "title": "T-SNE for Google embedded vectors 510 words"
       }
      },
      "text/html": [
       "<div id=\"706298bd-a899-4e9b-828d-63451df5b7a2\" style=\"height: 525px; width: 100%;\" class=\"plotly-graph-div\"></div><script type=\"text/javascript\">require([\"plotly\"], function(Plotly) { window.PLOTLYENV=window.PLOTLYENV || {};window.PLOTLYENV.BASE_URL=\"https://plot.ly\";Plotly.newPlot(\"706298bd-a899-4e9b-828d-63451df5b7a2\", [{\"type\": \"scatter\", \"x\": [-3.048480987548828], \"y\": [4.969440937042236], \"mode\": \"markers\", \"text\": \"abdominal\", \"textposition\": \"top center\"}, {\"type\": \"scatter\", \"x\": [-3.467879056930542], \"y\": [-5.582307815551758], \"mode\": \"markers\", \"text\": \"acetaminophen\", \"textposition\": \"top center\"}, {\"type\": \"scatter\", \"x\": [3.5309088230133057], \"y\": [6.066917419433594], \"mode\": \"markers\", \"text\": \"activated\", \"textposition\": \"top center\"}, {\"type\": \"scatter\", \"x\": [5.6870880126953125], \"y\": [-1.0045024156570435], \"mode\": \"markers\", \"text\": \"actively\", \"textposition\": \"top center\"}, {\"type\": \"scatter\", \"x\": [-1.5187054872512817], \"y\": [-0.2103167027235031], \"mode\": \"markers\", \"text\": \"acute\", \"textposition\": \"top center\"}, {\"type\": \"scatter\", \"x\": [2.363182544708252], \"y\": [-1.7676578760147095], \"mode\": \"markers\", \"text\": \"acutely\", \"textposition\": \"top center\"}, {\"type\": \"scatter\", \"x\": [-0.5048936009407043], \"y\": [-2.396243095397949], \"mode\": \"markers\", \"text\": \"adhd\", \"textposition\": \"top center\"}, {\"type\": \"scatter\", \"x\": [1.4579402208328247], \"y\": [4.741952419281006], \"mode\": \"markers\", \"text\": \"admissions\", \"textposition\": \"top center\"}, {\"type\": \"scatter\", \"x\": [8.719043731689453], \"y\": [-0.5197963118553162], \"mode\": \"markers\", \"text\": \"admitted\", \"textposition\": \"top center\"}, {\"type\": \"scatter\", \"x\": [-2.3511276245117188], \"y\": [-1.9338667392730713], \"mode\": \"markers\", \"text\": \"adrenal\", \"textposition\": \"top center\"}, {\"type\": \"scatter\", \"x\": [0.4475654065608978], \"y\": [-1.2731887102127075], \"mode\": \"markers\", \"text\": \"adverse\", \"textposition\": \"top center\"}, {\"type\": \"scatter\", \"x\": [1.3923540115356445], \"y\": [-2.4362456798553467], \"mode\": \"markers\", \"text\": \"agitation\", \"textposition\": \"top center\"}, {\"type\": \"scatter\", \"x\": [9.86614990234375], \"y\": [0.7939206957817078], \"mode\": \"markers\", \"text\": \"agreed\", \"textposition\": \"top center\"}, {\"type\": \"scatter\", \"x\": [-2.27215313911438], \"y\": [2.727208137512207], \"mode\": \"markers\", \"text\": \"airway\", \"textposition\": \"top center\"}, {\"type\": \"scatter\", \"x\": [4.955961227416992], \"y\": [-7.755412578582764], \"mode\": \"markers\", \"text\": \"alcoholic\", \"textposition\": \"top center\"}, {\"type\": \"scatter\", \"x\": [5.084563255310059], \"y\": [-7.709310054779053], \"mode\": \"markers\", \"text\": \"alcoholism\", \"textposition\": \"top center\"}, {\"type\": \"scatter\", \"x\": [2.772470712661743], \"y\": [6.695104122161865], \"mode\": \"markers\", \"text\": \"alert\", \"textposition\": \"top center\"}, {\"type\": \"scatter\", \"x\": [-6.748377323150635], \"y\": [-2.290092945098877], \"mode\": \"markers\", \"text\": \"allergies\", \"textposition\": \"top center\"}, {\"type\": \"scatter\", \"x\": [-6.761544227600098], \"y\": [-2.283607006072998], \"mode\": \"markers\", \"text\": \"allergy\", \"textposition\": \"top center\"}, {\"type\": \"scatter\", \"x\": [3.936767101287842], \"y\": [2.166962146759033], \"mode\": \"markers\", \"text\": \"altered\", \"textposition\": \"top center\"}, {\"type\": \"scatter\", \"x\": [-3.7796921730041504], \"y\": [-9.445267677307129], \"mode\": \"markers\", \"text\": \"ambien\", \"textposition\": \"top center\"}, {\"type\": \"scatter\", \"x\": [0.5111344456672668], \"y\": [0.5497798919677734], \"mode\": \"markers\", \"text\": \"ambulating\", \"textposition\": \"top center\"}, {\"type\": \"scatter\", \"x\": [-4.068596363067627], \"y\": [-2.9337825775146484], \"mode\": \"markers\", \"text\": \"anemia\", \"textposition\": \"top center\"}, {\"type\": \"scatter\", \"x\": [-7.0478410720825195], \"y\": [-1.4027857780456543], \"mode\": \"markers\", \"text\": \"apnea\", \"textposition\": \"top center\"}, {\"type\": \"scatter\", \"x\": [6.822037696838379], \"y\": [-0.5904185771942139], \"mode\": \"markers\", \"text\": \"appears\", \"textposition\": \"top center\"}, {\"type\": \"scatter\", \"x\": [-2.459990978240967], \"y\": [4.313032627105713], \"mode\": \"markers\", \"text\": \"appendectomy\", \"textposition\": \"top center\"}, {\"type\": \"scatter\", \"x\": [3.370971918106079], \"y\": [-4.082556247711182], \"mode\": \"markers\", \"text\": \"appetite\", \"textposition\": \"top center\"}, {\"type\": \"scatter\", \"x\": [1.8340492248535156], \"y\": [-3.6636319160461426], \"mode\": \"markers\", \"text\": \"approx\", \"textposition\": \"top center\"}, {\"type\": \"scatter\", \"x\": [-2.2919294834136963], \"y\": [6.104097366333008], \"mode\": \"markers\", \"text\": \"artery\", \"textposition\": \"top center\"}, {\"type\": \"scatter\", \"x\": [4.052406311035156], \"y\": [-2.503065347671509], \"mode\": \"markers\", \"text\": \"aspiration\", \"textposition\": \"top center\"}, {\"type\": \"scatter\", \"x\": [-3.4401283264160156], \"y\": [-5.502368927001953], \"mode\": \"markers\", \"text\": \"aspirin\", \"textposition\": \"top center\"}, {\"type\": \"scatter\", \"x\": [-6.684579372406006], \"y\": [-2.311809778213501], \"mode\": \"markers\", \"text\": \"asthma\", \"textposition\": \"top center\"}, {\"type\": \"scatter\", \"x\": [-3.972790479660034], \"y\": [-9.24617862701416], \"mode\": \"markers\", \"text\": \"ativan\", \"textposition\": \"top center\"}, {\"type\": \"scatter\", \"x\": [-10.308608055114746], \"y\": [2.252593517303467], \"mode\": \"markers\", \"text\": \"atrial\", \"textposition\": \"top center\"}, {\"type\": \"scatter\", \"x\": [10.662188529968262], \"y\": [1.9862128496170044], \"mode\": \"markers\", \"text\": \"attempted\", \"textposition\": \"top center\"}, {\"type\": \"scatter\", \"x\": [10.981607437133789], \"y\": [2.0957999229431152], \"mode\": \"markers\", \"text\": \"attempts\", \"textposition\": \"top center\"}, {\"type\": \"scatter\", \"x\": [6.965225696563721], \"y\": [4.2137603759765625], \"mode\": \"markers\", \"text\": \"attending\", \"textposition\": \"top center\"}, {\"type\": \"scatter\", \"x\": [-0.3327837586402893], \"y\": [0.7388309240341187], \"mode\": \"markers\", \"text\": \"awake\", \"textposition\": \"top center\"}, {\"type\": \"scatter\", \"x\": [1.366903305053711], \"y\": [-0.20634746551513672], \"mode\": \"markers\", \"text\": \"axis\", \"textposition\": \"top center\"}, {\"type\": \"scatter\", \"x\": [-0.6206204295158386], \"y\": [-6.088721752166748], \"mode\": \"markers\", \"text\": \"barbiturates\", \"textposition\": \"top center\"}, {\"type\": \"scatter\", \"x\": [1.4153062105178833], \"y\": [0.8271965384483337], \"mode\": \"markers\", \"text\": \"baseline\", \"textposition\": \"top center\"}, {\"type\": \"scatter\", \"x\": [6.42653226852417], \"y\": [2.0276198387145996], \"mode\": \"markers\", \"text\": \"been\", \"textposition\": \"top center\"}, {\"type\": \"scatter\", \"x\": [8.234856605529785], \"y\": [4.030905723571777], \"mode\": \"markers\", \"text\": \"began\", \"textposition\": \"top center\"}, {\"type\": \"scatter\", \"x\": [7.877133369445801], \"y\": [-0.11074446886777878], \"mode\": \"markers\", \"text\": \"believed\", \"textposition\": \"top center\"}, {\"type\": \"scatter\", \"x\": [-0.6689338684082031], \"y\": [-2.9050023555755615], \"mode\": \"markers\", \"text\": \"benadryl\", \"textposition\": \"top center\"}, {\"type\": \"scatter\", \"x\": [-1.3894671201705933], \"y\": [-4.369761943817139], \"mode\": \"markers\", \"text\": \"benzo\", \"textposition\": \"top center\"}, {\"type\": \"scatter\", \"x\": [-1.846784234046936], \"y\": [-5.144673824310303], \"mode\": \"markers\", \"text\": \"benzodiazepine\", \"textposition\": \"top center\"}, {\"type\": \"scatter\", \"x\": [-1.9922066926956177], \"y\": [-5.648524761199951], \"mode\": \"markers\", \"text\": \"benzodiazepines\", \"textposition\": \"top center\"}, {\"type\": \"scatter\", \"x\": [-0.6889421343803406], \"y\": [-4.467636585235596], \"mode\": \"markers\", \"text\": \"benzos\", \"textposition\": \"top center\"}, {\"type\": \"scatter\", \"x\": [-4.346619129180908], \"y\": [3.604494333267212], \"mode\": \"markers\", \"text\": \"biopsy\", \"textposition\": \"top center\"}, {\"type\": \"scatter\", \"x\": [-0.4265488386154175], \"y\": [-1.1514787673950195], \"mode\": \"markers\", \"text\": \"bipolar\", \"textposition\": \"top center\"}, {\"type\": \"scatter\", \"x\": [-1.1805533170700073], \"y\": [2.683926582336426], \"mode\": \"markers\", \"text\": \"bleeding\", \"textposition\": \"top center\"}, {\"type\": \"scatter\", \"x\": [3.456317186355591], \"y\": [-2.5216076374053955], \"mode\": \"markers\", \"text\": \"borderline\", \"textposition\": \"top center\"}, {\"type\": \"scatter\", \"x\": [3.5991921424865723], \"y\": [-8.149688720703125], \"mode\": \"markers\", \"text\": \"bottles\", \"textposition\": \"top center\"}, {\"type\": \"scatter\", \"x\": [-6.471023082733154], \"y\": [1.805336833000183], \"mode\": \"markers\", \"text\": \"bowel\", \"textposition\": \"top center\"}, {\"type\": \"scatter\", \"x\": [-1.0728429555892944], \"y\": [2.1150803565979004], \"mode\": \"markers\", \"text\": \"breathing\", \"textposition\": \"top center\"}, {\"type\": \"scatter\", \"x\": [8.390009880065918], \"y\": [2.652512550354004], \"mode\": \"markers\", \"text\": \"brought\", \"textposition\": \"top center\"}, {\"type\": \"scatter\", \"x\": [0.5247703790664673], \"y\": [4.9373860359191895], \"mode\": \"markers\", \"text\": \"bypass\", \"textposition\": \"top center\"}, {\"type\": \"scatter\", \"x\": [-0.8005326390266418], \"y\": [6.972685813903809], \"mode\": \"markers\", \"text\": \"calf\", \"textposition\": \"top center\"}, {\"type\": \"scatter\", \"x\": [6.924108505249023], \"y\": [0.5621026754379272], \"mode\": \"markers\", \"text\": \"called\", \"textposition\": \"top center\"}, {\"type\": \"scatter\", \"x\": [8.295515060424805], \"y\": [2.677050828933716], \"mode\": \"markers\", \"text\": \"came\", \"textposition\": \"top center\"}, {\"type\": \"scatter\", \"x\": [-8.2080659866333], \"y\": [0.3009257912635803], \"mode\": \"markers\", \"text\": \"cardiac\", \"textposition\": \"top center\"}, {\"type\": \"scatter\", \"x\": [-5.9248456954956055], \"y\": [7.206304550170898], \"mode\": \"markers\", \"text\": \"cardiology\", \"textposition\": \"top center\"}, {\"type\": \"scatter\", \"x\": [-5.826488018035889], \"y\": [7.010829925537109], \"mode\": \"markers\", \"text\": \"cardiothoracic\", \"textposition\": \"top center\"}, {\"type\": \"scatter\", \"x\": [-8.282479286193848], \"y\": [0.016257937997579575], \"mode\": \"markers\", \"text\": \"cardiovascular\", \"textposition\": \"top center\"}, {\"type\": \"scatter\", \"x\": [-1.6753464937210083], \"y\": [1.368436574935913], \"mode\": \"markers\", \"text\": \"cath\", \"textposition\": \"top center\"}, {\"type\": \"scatter\", \"x\": [-5.578903675079346], \"y\": [4.84375], \"mode\": \"markers\", \"text\": \"cervical\", \"textposition\": \"top center\"}, {\"type\": \"scatter\", \"x\": [3.9339025020599365], \"y\": [1.9844083786010742], \"mode\": \"markers\", \"text\": \"changes\", \"textposition\": \"top center\"}, {\"type\": \"scatter\", \"x\": [2.0699024200439453], \"y\": [-4.5100321769714355], \"mode\": \"markers\", \"text\": \"charcoal\", \"textposition\": \"top center\"}, {\"type\": \"scatter\", \"x\": [6.204343318939209], \"y\": [-5.256062984466553], \"mode\": \"markers\", \"text\": \"children\", \"textposition\": \"top center\"}, {\"type\": \"scatter\", \"x\": [-5.452110767364502], \"y\": [3.12172269821167], \"mode\": \"markers\", \"text\": \"cholecystectomy\", \"textposition\": \"top center\"}, {\"type\": \"scatter\", \"x\": [-1.541403889656067], \"y\": [-0.48547685146331787], \"mode\": \"markers\", \"text\": \"chronic\", \"textposition\": \"top center\"}, {\"type\": \"scatter\", \"x\": [-8.21185302734375], \"y\": [-2.4775454998016357], \"mode\": \"markers\", \"text\": \"cirrhosis\", \"textposition\": \"top center\"}, {\"type\": \"scatter\", \"x\": [8.461471557617188], \"y\": [5.907687187194824], \"mode\": \"markers\", \"text\": \"cleared\", \"textposition\": \"top center\"}, {\"type\": \"scatter\", \"x\": [-1.2664366960525513], \"y\": [-5.264148712158203], \"mode\": \"markers\", \"text\": \"clonazepam\", \"textposition\": \"top center\"}, {\"type\": \"scatter\", \"x\": [-0.42908820509910583], \"y\": [-8.232780456542969], \"mode\": \"markers\", \"text\": \"cocaine\", \"textposition\": \"top center\"}, {\"type\": \"scatter\", \"x\": [-0.883491039276123], \"y\": [-5.581335544586182], \"mode\": \"markers\", \"text\": \"codeine\", \"textposition\": \"top center\"}, {\"type\": \"scatter\", \"x\": [3.0110244750976562], \"y\": [-0.7988494634628296], \"mode\": \"markers\", \"text\": \"coherent\", \"textposition\": \"top center\"}, {\"type\": \"scatter\", \"x\": [-5.4356794357299805], \"y\": [3.0875236988067627], \"mode\": \"markers\", \"text\": \"colectomy\", \"textposition\": \"top center\"}, {\"type\": \"scatter\", \"x\": [-6.499961853027344], \"y\": [1.971949577331543], \"mode\": \"markers\", \"text\": \"colon\", \"textposition\": \"top center\"}, {\"type\": \"scatter\", \"x\": [-5.504199028015137], \"y\": [1.3963640928268433], \"mode\": \"markers\", \"text\": \"colonic\", \"textposition\": \"top center\"}, {\"type\": \"scatter\", \"x\": [0.48514503240585327], \"y\": [1.1026906967163086], \"mode\": \"markers\", \"text\": \"compartment\", \"textposition\": \"top center\"}, {\"type\": \"scatter\", \"x\": [-3.0656487941741943], \"y\": [0.5588881373405457], \"mode\": \"markers\", \"text\": \"complications\", \"textposition\": \"top center\"}, {\"type\": \"scatter\", \"x\": [4.895175933837891], \"y\": [-1.055813193321228], \"mode\": \"markers\", \"text\": \"concerning\", \"textposition\": \"top center\"}, {\"type\": \"scatter\", \"x\": [9.11495304107666], \"y\": [-0.8765605688095093], \"mode\": \"markers\", \"text\": \"confirmed\", \"textposition\": \"top center\"}, {\"type\": \"scatter\", \"x\": [12.484910011291504], \"y\": [-1.5367223024368286], \"mode\": \"markers\", \"text\": \"consult\", \"textposition\": \"top center\"}, {\"type\": \"scatter\", \"x\": [12.407301902770996], \"y\": [-1.50917649269104], \"mode\": \"markers\", \"text\": \"consulted\", \"textposition\": \"top center\"}, {\"type\": \"scatter\", \"x\": [4.924956798553467], \"y\": [0.7261924743652344], \"mode\": \"markers\", \"text\": \"continuing\", \"textposition\": \"top center\"}, {\"type\": \"scatter\", \"x\": [3.2421252727508545], \"y\": [0.3662824034690857], \"mode\": \"markers\", \"text\": \"contributory\", \"textposition\": \"top center\"}, {\"type\": \"scatter\", \"x\": [2.679011106491089], \"y\": [2.8440959453582764], \"mode\": \"markers\", \"text\": \"controlled\", \"textposition\": \"top center\"}, {\"type\": \"scatter\", \"x\": [1.446759819984436], \"y\": [2.705876588821411], \"mode\": \"markers\", \"text\": \"cord\", \"textposition\": \"top center\"}, {\"type\": \"scatter\", \"x\": [-8.33226490020752], \"y\": [0.3457675874233246], \"mode\": \"markers\", \"text\": \"coronary\", \"textposition\": \"top center\"}, {\"type\": \"scatter\", \"x\": [-0.3296942412853241], \"y\": [-3.09011173248291], \"mode\": \"markers\", \"text\": \"cough\", \"textposition\": \"top center\"}, {\"type\": \"scatter\", \"x\": [-1.0491598844528198], \"y\": [-1.879313588142395], \"mode\": \"markers\", \"text\": \"coumadin\", \"textposition\": \"top center\"}, {\"type\": \"scatter\", \"x\": [0.7251126170158386], \"y\": [-0.5653488039970398], \"mode\": \"markers\", \"text\": \"counseling\", \"textposition\": \"top center\"}, {\"type\": \"scatter\", \"x\": [-9.77646541595459], \"y\": [-2.6750617027282715], \"mode\": \"markers\", \"text\": \"creatinine\", \"textposition\": \"top center\"}, {\"type\": \"scatter\", \"x\": [5.441673755645752], \"y\": [2.147075891494751], \"mode\": \"markers\", \"text\": \"cutting\", \"textposition\": \"top center\"}, {\"type\": \"scatter\", \"x\": [-4.301904201507568], \"y\": [4.315168380737305], \"mode\": \"markers\", \"text\": \"cyst\", \"textposition\": \"top center\"}, {\"type\": \"scatter\", \"x\": [4.944244861602783], \"y\": [3.391957998275757], \"mode\": \"markers\", \"text\": \"days\", \"textposition\": \"top center\"}, {\"type\": \"scatter\", \"x\": [3.082423210144043], \"y\": [3.642699718475342], \"mode\": \"markers\", \"text\": \"deceased\", \"textposition\": \"top center\"}, {\"type\": \"scatter\", \"x\": [9.75035285949707], \"y\": [0.9459754824638367], \"mode\": \"markers\", \"text\": \"decided\", \"textposition\": \"top center\"}, {\"type\": \"scatter\", \"x\": [4.8109822273254395], \"y\": [5.5684494972229], \"mode\": \"markers\", \"text\": \"decreased\", \"textposition\": \"top center\"}, {\"type\": \"scatter\", \"x\": [7.458704948425293], \"y\": [0.42213043570518494], \"mode\": \"markers\", \"text\": \"deemed\", \"textposition\": \"top center\"}, {\"type\": \"scatter\", \"x\": [1.1117022037506104], \"y\": [1.455190658569336], \"mode\": \"markers\", \"text\": \"defect\", \"textposition\": \"top center\"}, {\"type\": \"scatter\", \"x\": [1.1342586278915405], \"y\": [6.319031238555908], \"mode\": \"markers\", \"text\": \"deficiency\", \"textposition\": \"top center\"}, {\"type\": \"scatter\", \"x\": [10.667569160461426], \"y\": [-0.007529734168201685], \"mode\": \"markers\", \"text\": \"denied\", \"textposition\": \"top center\"}, {\"type\": \"scatter\", \"x\": [10.726176261901855], \"y\": [-0.04817052185535431], \"mode\": \"markers\", \"text\": \"denies\", \"textposition\": \"top center\"}, {\"type\": \"scatter\", \"x\": [1.9919602870941162], \"y\": [-0.9217576384544373], \"mode\": \"markers\", \"text\": \"depakote\", \"textposition\": \"top center\"}, {\"type\": \"scatter\", \"x\": [3.929091691970825], \"y\": [-3.443688154220581], \"mode\": \"markers\", \"text\": \"dependence\", \"textposition\": \"top center\"}, {\"type\": \"scatter\", \"x\": [2.1100354194641113], \"y\": [-1.9962358474731445], \"mode\": \"markers\", \"text\": \"depressed\", \"textposition\": \"top center\"}, {\"type\": \"scatter\", \"x\": [8.507874488830566], \"y\": [-3.607832193374634], \"mode\": \"markers\", \"text\": \"details\", \"textposition\": \"top center\"}, {\"type\": \"scatter\", \"x\": [7.569871425628662], \"y\": [0.36096152663230896], \"mode\": \"markers\", \"text\": \"determined\", \"textposition\": \"top center\"}, {\"type\": \"scatter\", \"x\": [7.160833358764648], \"y\": [-9.575261116027832], \"mode\": \"markers\", \"text\": \"detox\", \"textposition\": \"top center\"}, {\"type\": \"scatter\", \"x\": [-6.8901567459106445], \"y\": [-3.775817632675171], \"mode\": \"markers\", \"text\": \"diabetes\", \"textposition\": \"top center\"}, {\"type\": \"scatter\", \"x\": [-3.802387237548828], \"y\": [2.6449339389801025], \"mode\": \"markers\", \"text\": \"diagnosed\", \"textposition\": \"top center\"}, {\"type\": \"scatter\", \"x\": [-3.80952787399292], \"y\": [2.6437180042266846], \"mode\": \"markers\", \"text\": \"diagnoses\", \"textposition\": \"top center\"}, {\"type\": \"scatter\", \"x\": [-3.845790386199951], \"y\": [2.6895318031311035], \"mode\": \"markers\", \"text\": \"diagnosis\", \"textposition\": \"top center\"}, {\"type\": \"scatter\", \"x\": [-10.920048713684082], \"y\": [-0.9153570532798767], \"mode\": \"markers\", \"text\": \"diastolic\", \"textposition\": \"top center\"}, {\"type\": \"scatter\", \"x\": [-3.1331911087036133], \"y\": [-8.612181663513184], \"mode\": \"markers\", \"text\": \"diazepam\", \"textposition\": \"top center\"}, {\"type\": \"scatter\", \"x\": [3.8883230686187744], \"y\": [8.090757369995117], \"mode\": \"markers\", \"text\": \"died\", \"textposition\": \"top center\"}, {\"type\": \"scatter\", \"x\": [-1.237639307975769], \"y\": [1.1813571453094482], \"mode\": \"markers\", \"text\": \"dilated\", \"textposition\": \"top center\"}, {\"type\": \"scatter\", \"x\": [10.332596778869629], \"y\": [6.866376876831055], \"mode\": \"markers\", \"text\": \"discharged\", \"textposition\": \"top center\"}, {\"type\": \"scatter\", \"x\": [2.6401901245117188], \"y\": [-4.0702338218688965], \"mode\": \"markers\", \"text\": \"discontinued\", \"textposition\": \"top center\"}, {\"type\": \"scatter\", \"x\": [10.690508842468262], \"y\": [-1.230330467224121], \"mode\": \"markers\", \"text\": \"discussed\", \"textposition\": \"top center\"}, {\"type\": \"scatter\", \"x\": [4.173826694488525], \"y\": [-1.8976895809173584], \"mode\": \"markers\", \"text\": \"disposition\", \"textposition\": \"top center\"}, {\"type\": \"scatter\", \"x\": [-6.361169815063477], \"y\": [3.912872791290283], \"mode\": \"markers\", \"text\": \"distal\", \"textposition\": \"top center\"}, {\"type\": \"scatter\", \"x\": [7.7234296798706055], \"y\": [-6.120687961578369], \"mode\": \"markers\", \"text\": \"divorced\", \"textposition\": \"top center\"}, {\"type\": \"scatter\", \"x\": [6.332228660583496], \"y\": [-0.3924122154712677], \"mode\": \"markers\", \"text\": \"does\", \"textposition\": \"top center\"}, {\"type\": \"scatter\", \"x\": [6.796245574951172], \"y\": [1.357606053352356], \"mode\": \"markers\", \"text\": \"done\", \"textposition\": \"top center\"}, {\"type\": \"scatter\", \"x\": [-0.09566934406757355], \"y\": [-3.7484965324401855], \"mode\": \"markers\", \"text\": \"dose\", \"textposition\": \"top center\"}, {\"type\": \"scatter\", \"x\": [4.1563520431518555], \"y\": [-8.459765434265137], \"mode\": \"markers\", \"text\": \"drinking\", \"textposition\": \"top center\"}, {\"type\": \"scatter\", \"x\": [3.8973612785339355], \"y\": [-8.328131675720215], \"mode\": \"markers\", \"text\": \"drinks\", \"textposition\": \"top center\"}, {\"type\": \"scatter\", \"x\": [-0.38056546449661255], \"y\": [-1.8546161651611328], \"mode\": \"markers\", \"text\": \"drip\", \"textposition\": \"top center\"}, {\"type\": \"scatter\", \"x\": [-1.2629154920578003], \"y\": [-7.045605182647705], \"mode\": \"markers\", \"text\": \"drugs\", \"textposition\": \"top center\"}, {\"type\": \"scatter\", \"x\": [-7.878088474273682], \"y\": [-3.866199254989624], \"mode\": \"markers\", \"text\": \"dyslipidemia\", \"textposition\": \"top center\"}, {\"type\": \"scatter\", \"x\": [2.9746572971343994], \"y\": [-5.168137073516846], \"mode\": \"markers\", \"text\": \"eating\", \"textposition\": \"top center\"}, {\"type\": \"scatter\", \"x\": [3.704981565475464], \"y\": [-1.0724953413009644], \"mode\": \"markers\", \"text\": \"echo\", \"textposition\": \"top center\"}, {\"type\": \"scatter\", \"x\": [-3.192129373550415], \"y\": [3.317415475845337], \"mode\": \"markers\", \"text\": \"echocardiogram\", \"textposition\": \"top center\"}, {\"type\": \"scatter\", \"x\": [-4.918149948120117], \"y\": [-0.5496914982795715], \"mode\": \"markers\", \"text\": \"edema\", \"textposition\": \"top center\"}, {\"type\": \"scatter\", \"x\": [0.7278667092323303], \"y\": [-1.8986971378326416], \"mode\": \"markers\", \"text\": \"effects\", \"textposition\": \"top center\"}, {\"type\": \"scatter\", \"x\": [-4.163724422454834], \"y\": [-9.986867904663086], \"mode\": \"markers\", \"text\": \"effexor\", \"textposition\": \"top center\"}, {\"type\": \"scatter\", \"x\": [2.090127944946289], \"y\": [-0.013359247706830502], \"mode\": \"markers\", \"text\": \"elevated\", \"textposition\": \"top center\"}, {\"type\": \"scatter\", \"x\": [-3.560962438583374], \"y\": [-2.240691661834717], \"mode\": \"markers\", \"text\": \"encephalopathy\", \"textposition\": \"top center\"}, {\"type\": \"scatter\", \"x\": [-5.244112014770508], \"y\": [-3.0578434467315674], \"mode\": \"markers\", \"text\": \"endometriosis\", \"textposition\": \"top center\"}, {\"type\": \"scatter\", \"x\": [11.133817672729492], \"y\": [-1.092272162437439], \"mode\": \"markers\", \"text\": \"endorsed\", \"textposition\": \"top center\"}, {\"type\": \"scatter\", \"x\": [-5.386733531951904], \"y\": [-3.3562705516815186], \"mode\": \"markers\", \"text\": \"epilepsy\", \"textposition\": \"top center\"}, {\"type\": \"scatter\", \"x\": [-3.0487542152404785], \"y\": [-4.363471984863281], \"mode\": \"markers\", \"text\": \"erythromycin\", \"textposition\": \"top center\"}, {\"type\": \"scatter\", \"x\": [-6.63637638092041], \"y\": [2.0077898502349854], \"mode\": \"markers\", \"text\": \"esophageal\", \"textposition\": \"top center\"}, {\"type\": \"scatter\", \"x\": [-4.537220478057861], \"y\": [-0.8015003800392151], \"mode\": \"markers\", \"text\": \"esophagitis\", \"textposition\": \"top center\"}, {\"type\": \"scatter\", \"x\": [-6.787516117095947], \"y\": [2.088270425796509], \"mode\": \"markers\", \"text\": \"esophagus\", \"textposition\": \"top center\"}, {\"type\": \"scatter\", \"x\": [8.173067092895508], \"y\": [-0.2806074023246765], \"mode\": \"markers\", \"text\": \"estimated\", \"textposition\": \"top center\"}, {\"type\": \"scatter\", \"x\": [4.137120246887207], \"y\": [-4.314320087432861], \"mode\": \"markers\", \"text\": \"ethanol\", \"textposition\": \"top center\"}, {\"type\": \"scatter\", \"x\": [1.1319031715393066], \"y\": [-4.596843719482422], \"mode\": \"markers\", \"text\": \"ethylene\", \"textposition\": \"top center\"}, {\"type\": \"scatter\", \"x\": [-3.094728469848633], \"y\": [-1.69965398311615], \"mode\": \"markers\", \"text\": \"etiology\", \"textposition\": \"top center\"}, {\"type\": \"scatter\", \"x\": [0.5380035042762756], \"y\": [-2.7245326042175293], \"mode\": \"markers\", \"text\": \"eval\", \"textposition\": \"top center\"}, {\"type\": \"scatter\", \"x\": [5.7647600173950195], \"y\": [8.709148406982422], \"mode\": \"markers\", \"text\": \"evaluated\", \"textposition\": \"top center\"}, {\"type\": \"scatter\", \"x\": [0.9311885237693787], \"y\": [3.946126937866211], \"mode\": \"markers\", \"text\": \"exam\", \"textposition\": \"top center\"}, {\"type\": \"scatter\", \"x\": [11.724296569824219], \"y\": [4.225069522857666], \"mode\": \"markers\", \"text\": \"expired\", \"textposition\": \"top center\"}, {\"type\": \"scatter\", \"x\": [9.609908103942871], \"y\": [-1.4247469902038574], \"mode\": \"markers\", \"text\": \"expressed\", \"textposition\": \"top center\"}, {\"type\": \"scatter\", \"x\": [4.949268817901611], \"y\": [1.8395299911499023], \"mode\": \"markers\", \"text\": \"extended\", \"textposition\": \"top center\"}, {\"type\": \"scatter\", \"x\": [-1.1504942178726196], \"y\": [1.481734037399292], \"mode\": \"markers\", \"text\": \"extubated\", \"textposition\": \"top center\"}, {\"type\": \"scatter\", \"x\": [0.043433934450149536], \"y\": [0.030498601496219635], \"mode\": \"markers\", \"text\": \"facial\", \"textposition\": \"top center\"}, {\"type\": \"scatter\", \"x\": [4.1451568603515625], \"y\": [-0.6222827434539795], \"mode\": \"markers\", \"text\": \"feeds\", \"textposition\": \"top center\"}, {\"type\": \"scatter\", \"x\": [7.111124038696289], \"y\": [-1.178333044052124], \"mode\": \"markers\", \"text\": \"feels\", \"textposition\": \"top center\"}, {\"type\": \"scatter\", \"x\": [7.173312187194824], \"y\": [-1.175037145614624], \"mode\": \"markers\", \"text\": \"felt\", \"textposition\": \"top center\"}, {\"type\": \"scatter\", \"x\": [-2.713468551635742], \"y\": [-0.33230751752853394], \"mode\": \"markers\", \"text\": \"fever\", \"textposition\": \"top center\"}, {\"type\": \"scatter\", \"x\": [-2.7864186763763428], \"y\": [-0.3993152379989624], \"mode\": \"markers\", \"text\": \"fevers\", \"textposition\": \"top center\"}, {\"type\": \"scatter\", \"x\": [-4.4882025718688965], \"y\": [1.0920639038085938], \"mode\": \"markers\", \"text\": \"fibrillation\", \"textposition\": \"top center\"}, {\"type\": \"scatter\", \"x\": [1.9328217506408691], \"y\": [1.4913240671157837], \"mode\": \"markers\", \"text\": \"filter\", \"textposition\": \"top center\"}, {\"type\": \"scatter\", \"x\": [11.13762092590332], \"y\": [-2.999376058578491], \"mode\": \"markers\", \"text\": \"findings\", \"textposition\": \"top center\"}, {\"type\": \"scatter\", \"x\": [0.255080908536911], \"y\": [-2.697652578353882], \"mode\": \"markers\", \"text\": \"flexeril\", \"textposition\": \"top center\"}, {\"type\": \"scatter\", \"x\": [-0.1023649200797081], \"y\": [2.0787642002105713], \"mode\": \"markers\", \"text\": \"fluid\", \"textposition\": \"top center\"}, {\"type\": \"scatter\", \"x\": [-0.1866077035665512], \"y\": [2.1739425659179688], \"mode\": \"markers\", \"text\": \"fluids\", \"textposition\": \"top center\"}, {\"type\": \"scatter\", \"x\": [-5.897453784942627], \"y\": [-5.816973686218262], \"mode\": \"markers\", \"text\": \"folate\", \"textposition\": \"top center\"}, {\"type\": \"scatter\", \"x\": [7.980232238769531], \"y\": [2.427772283554077], \"mode\": \"markers\", \"text\": \"followed\", \"textposition\": \"top center\"}, {\"type\": \"scatter\", \"x\": [1.9066728353500366], \"y\": [0.9450433850288391], \"mode\": \"markers\", \"text\": \"followup\", \"textposition\": \"top center\"}, {\"type\": \"scatter\", \"x\": [-1.9563229084014893], \"y\": [4.765692710876465], \"mode\": \"markers\", \"text\": \"fracture\", \"textposition\": \"top center\"}, {\"type\": \"scatter\", \"x\": [6.095189571380615], \"y\": [-4.721320629119873], \"mode\": \"markers\", \"text\": \"friends\", \"textposition\": \"top center\"}, {\"type\": \"scatter\", \"x\": [4.4555768966674805], \"y\": [0.3571932911872864], \"mode\": \"markers\", \"text\": \"further\", \"textposition\": \"top center\"}, {\"type\": \"scatter\", \"x\": [-6.332003593444824], \"y\": [1.347564935684204], \"mode\": \"markers\", \"text\": \"gastric\", \"textposition\": \"top center\"}, {\"type\": \"scatter\", \"x\": [-4.166546821594238], \"y\": [-1.0601354837417603], \"mode\": \"markers\", \"text\": \"gastritis\", \"textposition\": \"top center\"}, {\"type\": \"scatter\", \"x\": [-6.312480449676514], \"y\": [0.7919136881828308], \"mode\": \"markers\", \"text\": \"gastrointestinal\", \"textposition\": \"top center\"}, {\"type\": \"scatter\", \"x\": [-1.14558744430542], \"y\": [-2.927492141723633], \"mode\": \"markers\", \"text\": \"glycol\", \"textposition\": \"top center\"}, {\"type\": \"scatter\", \"x\": [6.114387035369873], \"y\": [0.9882263541221619], \"mode\": \"markers\", \"text\": \"going\", \"textposition\": \"top center\"}, {\"type\": \"scatter\", \"x\": [-6.348517894744873], \"y\": [-3.345818042755127], \"mode\": \"markers\", \"text\": \"gout\", \"textposition\": \"top center\"}, {\"type\": \"scatter\", \"x\": [1.0463918447494507], \"y\": [0.6163224577903748], \"mode\": \"markers\", \"text\": \"graft\", \"textposition\": \"top center\"}, {\"type\": \"scatter\", \"x\": [0.9953795075416565], \"y\": [-6.330979824066162], \"mode\": \"markers\", \"text\": \"hallucinations\", \"textposition\": \"top center\"}, {\"type\": \"scatter\", \"x\": [6.162663459777832], \"y\": [4.328118324279785], \"mode\": \"markers\", \"text\": \"hanging\", \"textposition\": \"top center\"}, {\"type\": \"scatter\", \"x\": [4.650910377502441], \"y\": [-3.0266425609588623], \"mode\": \"markers\", \"text\": \"harm\", \"textposition\": \"top center\"}, {\"type\": \"scatter\", \"x\": [7.1951117515563965], \"y\": [3.8544888496398926], \"mode\": \"markers\", \"text\": \"held\", \"textposition\": \"top center\"}, {\"type\": \"scatter\", \"x\": [-9.915576934814453], \"y\": [-2.6966419219970703], \"mode\": \"markers\", \"text\": \"hematocrit\", \"textposition\": \"top center\"}, {\"type\": \"scatter\", \"x\": [1.2202237844467163], \"y\": [0.26045000553131104], \"mode\": \"markers\", \"text\": \"hemodynamically\", \"textposition\": \"top center\"}, {\"type\": \"scatter\", \"x\": [-9.46069049835205], \"y\": [0.5498193502426147], \"mode\": \"markers\", \"text\": \"hepatic\", \"textposition\": \"top center\"}, {\"type\": \"scatter\", \"x\": [-1.7141953706741333], \"y\": [-1.2888226509094238], \"mode\": \"markers\", \"text\": \"hepatitis\", \"textposition\": \"top center\"}, {\"type\": \"scatter\", \"x\": [-6.321677207946777], \"y\": [7.261603355407715], \"mode\": \"markers\", \"text\": \"hepatology\", \"textposition\": \"top center\"}, {\"type\": \"scatter\", \"x\": [-2.6885364055633545], \"y\": [4.794887065887451], \"mode\": \"markers\", \"text\": \"hernia\", \"textposition\": \"top center\"}, {\"type\": \"scatter\", \"x\": [-0.47450655698776245], \"y\": [-8.153215408325195], \"mode\": \"markers\", \"text\": \"heroin\", \"textposition\": \"top center\"}, {\"type\": \"scatter\", \"x\": [-3.508349657058716], \"y\": [1.4397176504135132], \"mode\": \"markers\", \"text\": \"hospitalization\", \"textposition\": \"top center\"}, {\"type\": \"scatter\", \"x\": [-3.6047403812408447], \"y\": [1.4507954120635986], \"mode\": \"markers\", \"text\": \"hospitalizations\", \"textposition\": \"top center\"}, {\"type\": \"scatter\", \"x\": [3.844782590866089], \"y\": [8.087922096252441], \"mode\": \"markers\", \"text\": \"hospitalized\", \"textposition\": \"top center\"}, {\"type\": \"scatter\", \"x\": [4.857083320617676], \"y\": [3.520667552947998], \"mode\": \"markers\", \"text\": \"hours\", \"textposition\": \"top center\"}, {\"type\": \"scatter\", \"x\": [-7.792226791381836], \"y\": [-3.7179131507873535], \"mode\": \"markers\", \"text\": \"hypercholesterolemia\", \"textposition\": \"top center\"}, {\"type\": \"scatter\", \"x\": [-7.89674711227417], \"y\": [-3.773529291152954], \"mode\": \"markers\", \"text\": \"hyperlipidemia\", \"textposition\": \"top center\"}, {\"type\": \"scatter\", \"x\": [-7.001451015472412], \"y\": [-3.5368874073028564], \"mode\": \"markers\", \"text\": \"hypertension\", \"textposition\": \"top center\"}, {\"type\": \"scatter\", \"x\": [-5.087426662445068], \"y\": [-0.04825630784034729], \"mode\": \"markers\", \"text\": \"hypotension\", \"textposition\": \"top center\"}, {\"type\": \"scatter\", \"x\": [-4.594890117645264], \"y\": [-2.1717567443847656], \"mode\": \"markers\", \"text\": \"hypothyroid\", \"textposition\": \"top center\"}, {\"type\": \"scatter\", \"x\": [-4.983218193054199], \"y\": [-2.440911054611206], \"mode\": \"markers\", \"text\": \"hypothyroidism\", \"textposition\": \"top center\"}, {\"type\": \"scatter\", \"x\": [-3.392146587371826], \"y\": [-5.533501625061035], \"mode\": \"markers\", \"text\": \"ibuprofen\", \"textposition\": \"top center\"}, {\"type\": \"scatter\", \"x\": [1.667397379875183], \"y\": [-1.902215838432312], \"mode\": \"markers\", \"text\": \"ideation\", \"textposition\": \"top center\"}, {\"type\": \"scatter\", \"x\": [2.71601939201355], \"y\": [-1.239292860031128], \"mode\": \"markers\", \"text\": \"ideations\", \"textposition\": \"top center\"}, {\"type\": \"scatter\", \"x\": [3.507046699523926], \"y\": [-0.7299551367759705], \"mode\": \"markers\", \"text\": \"illicits\", \"textposition\": \"top center\"}, {\"type\": \"scatter\", \"x\": [-0.5323327779769897], \"y\": [1.1678745746612549], \"mode\": \"markers\", \"text\": \"imaging\", \"textposition\": \"top center\"}, {\"type\": \"scatter\", \"x\": [4.929807186126709], \"y\": [5.242514610290527], \"mode\": \"markers\", \"text\": \"improved\", \"textposition\": \"top center\"}, {\"type\": \"scatter\", \"x\": [3.353480339050293], \"y\": [-0.841985821723938], \"mode\": \"markers\", \"text\": \"incarceration\", \"textposition\": \"top center\"}, {\"type\": \"scatter\", \"x\": [8.876859664916992], \"y\": [-0.9304161071777344], \"mode\": \"markers\", \"text\": \"indicated\", \"textposition\": \"top center\"}, {\"type\": \"scatter\", \"x\": [-3.200566530227661], \"y\": [-3.872107744216919], \"mode\": \"markers\", \"text\": \"indomethacin\", \"textposition\": \"top center\"}, {\"type\": \"scatter\", \"x\": [0.8050349354743958], \"y\": [-1.8027911186218262], \"mode\": \"markers\", \"text\": \"induced\", \"textposition\": \"top center\"}, {\"type\": \"scatter\", \"x\": [12.551782608032227], \"y\": [2.8261868953704834], \"mode\": \"markers\", \"text\": \"inflicted\", \"textposition\": \"top center\"}, {\"type\": \"scatter\", \"x\": [1.9322646856307983], \"y\": [-11.025379180908203], \"mode\": \"markers\", \"text\": \"ingested\", \"textposition\": \"top center\"}, {\"type\": \"scatter\", \"x\": [1.9030029773712158], \"y\": [-10.991508483886719], \"mode\": \"markers\", \"text\": \"ingesting\", \"textposition\": \"top center\"}, {\"type\": \"scatter\", \"x\": [1.9364018440246582], \"y\": [-11.008709907531738], \"mode\": \"markers\", \"text\": \"ingestion\", \"textposition\": \"top center\"}, {\"type\": \"scatter\", \"x\": [8.77286148071289], \"y\": [4.237419128417969], \"mode\": \"markers\", \"text\": \"initiated\", \"textposition\": \"top center\"}, {\"type\": \"scatter\", \"x\": [-0.8828086853027344], \"y\": [5.352853775024414], \"mode\": \"markers\", \"text\": \"injuries\", \"textposition\": \"top center\"}, {\"type\": \"scatter\", \"x\": [-3.2304258346557617], \"y\": [7.995635509490967], \"mode\": \"markers\", \"text\": \"inpatient\", \"textposition\": \"top center\"}, {\"type\": \"scatter\", \"x\": [2.479785680770874], \"y\": [4.6473870277404785], \"mode\": \"markers\", \"text\": \"instructions\", \"textposition\": \"top center\"}, {\"type\": \"scatter\", \"x\": [1.1119487285614014], \"y\": [6.355849266052246], \"mode\": \"markers\", \"text\": \"insufficiency\", \"textposition\": \"top center\"}, {\"type\": \"scatter\", \"x\": [-4.73237943649292], \"y\": [-5.6967854499816895], \"mode\": \"markers\", \"text\": \"insulin\", \"textposition\": \"top center\"}, {\"type\": \"scatter\", \"x\": [1.8225258588790894], \"y\": [-5.3884758949279785], \"mode\": \"markers\", \"text\": \"intake\", \"textposition\": \"top center\"}, {\"type\": \"scatter\", \"x\": [3.3992016315460205], \"y\": [2.7997448444366455], \"mode\": \"markers\", \"text\": \"intensive\", \"textposition\": \"top center\"}, {\"type\": \"scatter\", \"x\": [3.930558681488037], \"y\": [-1.448818564414978], \"mode\": \"markers\", \"text\": \"intentional\", \"textposition\": \"top center\"}, {\"type\": \"scatter\", \"x\": [4.460499286651611], \"y\": [-10.017142295837402], \"mode\": \"markers\", \"text\": \"intoxicated\", \"textposition\": \"top center\"}, {\"type\": \"scatter\", \"x\": [4.446004867553711], \"y\": [-10.036720275878906], \"mode\": \"markers\", \"text\": \"intoxication\", \"textposition\": \"top center\"}, {\"type\": \"scatter\", \"x\": [-2.211240530014038], \"y\": [2.049349308013916], \"mode\": \"markers\", \"text\": \"intubated\", \"textposition\": \"top center\"}, {\"type\": \"scatter\", \"x\": [-2.4855165481567383], \"y\": [2.078754186630249], \"mode\": \"markers\", \"text\": \"intubation\", \"textposition\": \"top center\"}, {\"type\": \"scatter\", \"x\": [-0.19596216082572937], \"y\": [3.9685587882995605], \"mode\": \"markers\", \"text\": \"invasive\", \"textposition\": \"top center\"}, {\"type\": \"scatter\", \"x\": [-1.7148758172988892], \"y\": [-3.6348066329956055], \"mode\": \"markers\", \"text\": \"iodine\", \"textposition\": \"top center\"}, {\"type\": \"scatter\", \"x\": [-9.577457427978516], \"y\": [0.541142463684082], \"mode\": \"markers\", \"text\": \"ischemic\", \"textposition\": \"top center\"}, {\"type\": \"scatter\", \"x\": [5.687057971954346], \"y\": [-2.305945873260498], \"mode\": \"markers\", \"text\": \"issues\", \"textposition\": \"top center\"}, {\"type\": \"scatter\", \"x\": [6.734087944030762], \"y\": [3.0554378032684326], \"mode\": \"markers\", \"text\": \"kept\", \"textposition\": \"top center\"}, {\"type\": \"scatter\", \"x\": [-4.262098789215088], \"y\": [-1.8515268564224243], \"mode\": \"markers\", \"text\": \"ketoacidosis\", \"textposition\": \"top center\"}, {\"type\": \"scatter\", \"x\": [-8.205856323242188], \"y\": [2.3425629138946533], \"mode\": \"markers\", \"text\": \"kidney\", \"textposition\": \"top center\"}, {\"type\": \"scatter\", \"x\": [-0.9119939804077148], \"y\": [-4.20617151260376], \"mode\": \"markers\", \"text\": \"klonopin\", \"textposition\": \"top center\"}, {\"type\": \"scatter\", \"x\": [6.744058609008789], \"y\": [0.179351806640625], \"mode\": \"markers\", \"text\": \"known\", \"textposition\": \"top center\"}, {\"type\": \"scatter\", \"x\": [2.554170608520508], \"y\": [2.147073268890381], \"mode\": \"markers\", \"text\": \"labs\", \"textposition\": \"top center\"}, {\"type\": \"scatter\", \"x\": [-1.1093697547912598], \"y\": [5.482428550720215], \"mode\": \"markers\", \"text\": \"laceration\", \"textposition\": \"top center\"}, {\"type\": \"scatter\", \"x\": [0.1269313097000122], \"y\": [-1.7657294273376465], \"mode\": \"markers\", \"text\": \"lamictal\", \"textposition\": \"top center\"}, {\"type\": \"scatter\", \"x\": [-4.269037246704102], \"y\": [-9.816620826721191], \"mode\": \"markers\", \"text\": \"lexapro\", \"textposition\": \"top center\"}, {\"type\": \"scatter\", \"x\": [0.6060469746589661], \"y\": [-5.0368123054504395], \"mode\": \"markers\", \"text\": \"lithium\", \"textposition\": \"top center\"}, {\"type\": \"scatter\", \"x\": [9.257723808288574], \"y\": [3.2866673469543457], \"mode\": \"markers\", \"text\": \"lived\", \"textposition\": \"top center\"}, {\"type\": \"scatter\", \"x\": [-8.103302001953125], \"y\": [2.154128313064575], \"mode\": \"markers\", \"text\": \"liver\", \"textposition\": \"top center\"}, {\"type\": \"scatter\", \"x\": [6.971602439880371], \"y\": [-4.829901695251465], \"mode\": \"markers\", \"text\": \"lives\", \"textposition\": \"top center\"}, {\"type\": \"scatter\", \"x\": [4.6302595138549805], \"y\": [0.25894439220428467], \"mode\": \"markers\", \"text\": \"longer\", \"textposition\": \"top center\"}, {\"type\": \"scatter\", \"x\": [7.521259784698486], \"y\": [1.6941068172454834], \"mode\": \"markers\", \"text\": \"made\", \"textposition\": \"top center\"}, {\"type\": \"scatter\", \"x\": [6.599743843078613], \"y\": [2.833026647567749], \"mode\": \"markers\", \"text\": \"maintained\", \"textposition\": \"top center\"}, {\"type\": \"scatter\", \"x\": [10.471288681030273], \"y\": [2.069019317626953], \"mode\": \"markers\", \"text\": \"managed\", \"textposition\": \"top center\"}, {\"type\": \"scatter\", \"x\": [-0.3425872027873993], \"y\": [-8.379422187805176], \"mode\": \"markers\", \"text\": \"marijuana\", \"textposition\": \"top center\"}, {\"type\": \"scatter\", \"x\": [2.2925755977630615], \"y\": [-1.0535012483596802], \"mode\": \"markers\", \"text\": \"maternal\", \"textposition\": \"top center\"}, {\"type\": \"scatter\", \"x\": [5.056099891662598], \"y\": [-0.02558804117143154], \"mode\": \"markers\", \"text\": \"means\", \"textposition\": \"top center\"}, {\"type\": \"scatter\", \"x\": [0.8929429650306702], \"y\": [1.8532265424728394], \"mode\": \"markers\", \"text\": \"mechanical\", \"textposition\": \"top center\"}, {\"type\": \"scatter\", \"x\": [-0.8868882060050964], \"y\": [0.39573538303375244], \"mode\": \"markers\", \"text\": \"medically\", \"textposition\": \"top center\"}, {\"type\": \"scatter\", \"x\": [-2.2959189414978027], \"y\": [-6.392692565917969], \"mode\": \"markers\", \"text\": \"medications\", \"textposition\": \"top center\"}, {\"type\": \"scatter\", \"x\": [-2.345608711242676], \"y\": [-6.526081562042236], \"mode\": \"markers\", \"text\": \"meds\", \"textposition\": \"top center\"}, {\"type\": \"scatter\", \"x\": [2.0769095420837402], \"y\": [-0.6286928653717041], \"mode\": \"markers\", \"text\": \"mellitus\", \"textposition\": \"top center\"}, {\"type\": \"scatter\", \"x\": [-8.468259811401367], \"y\": [-1.1901764869689941], \"mode\": \"markers\", \"text\": \"metabolic\", \"textposition\": \"top center\"}, {\"type\": \"scatter\", \"x\": [-0.924500584602356], \"y\": [-7.110907077789307], \"mode\": \"markers\", \"text\": \"methadone\", \"textposition\": \"top center\"}, {\"type\": \"scatter\", \"x\": [-5.921406269073486], \"y\": [-2.7360715866088867], \"mode\": \"markers\", \"text\": \"migraines\", \"textposition\": \"top center\"}, {\"type\": \"scatter\", \"x\": [0.9127029776573181], \"y\": [-1.3243190050125122], \"mode\": \"markers\", \"text\": \"mild\", \"textposition\": \"top center\"}, {\"type\": \"scatter\", \"x\": [3.159059762954712], \"y\": [-2.952148914337158], \"mode\": \"markers\", \"text\": \"mildly\", \"textposition\": \"top center\"}, {\"type\": \"scatter\", \"x\": [-6.337070941925049], \"y\": [3.610410451889038], \"mode\": \"markers\", \"text\": \"mitral\", \"textposition\": \"top center\"}, {\"type\": \"scatter\", \"x\": [3.063685178756714], \"y\": [-3.051452398300171], \"mode\": \"markers\", \"text\": \"moderately\", \"textposition\": \"top center\"}, {\"type\": \"scatter\", \"x\": [5.646738529205322], \"y\": [8.957131385803223], \"mode\": \"markers\", \"text\": \"monitored\", \"textposition\": \"top center\"}, {\"type\": \"scatter\", \"x\": [5.607528209686279], \"y\": [8.99055004119873], \"mode\": \"markers\", \"text\": \"monitoring\", \"textposition\": \"top center\"}, {\"type\": \"scatter\", \"x\": [5.025656700134277], \"y\": [3.4523844718933105], \"mode\": \"markers\", \"text\": \"months\", \"textposition\": \"top center\"}, {\"type\": \"scatter\", \"x\": [2.62813138961792], \"y\": [-2.243837594985962], \"mode\": \"markers\", \"text\": \"morbid\", \"textposition\": \"top center\"}, {\"type\": \"scatter\", \"x\": [-0.9200984835624695], \"y\": [-6.840901851654053], \"mode\": \"markers\", \"text\": \"morphine\", \"textposition\": \"top center\"}, {\"type\": \"scatter\", \"x\": [2.0195462703704834], \"y\": [-0.7200449705123901], \"mode\": \"markers\", \"text\": \"motrin\", \"textposition\": \"top center\"}, {\"type\": \"scatter\", \"x\": [8.805434226989746], \"y\": [3.2286581993103027], \"mode\": \"markers\", \"text\": \"moved\", \"textposition\": \"top center\"}, {\"type\": \"scatter\", \"x\": [2.2117202281951904], \"y\": [0.30329591035842896], \"mode\": \"markers\", \"text\": \"movements\", \"textposition\": \"top center\"}, {\"type\": \"scatter\", \"x\": [-9.615646362304688], \"y\": [0.6043334603309631], \"mode\": \"markers\", \"text\": \"myocardial\", \"textposition\": \"top center\"}, {\"type\": \"scatter\", \"x\": [-0.8471437692642212], \"y\": [-7.627740383148193], \"mode\": \"markers\", \"text\": \"narcotic\", \"textposition\": \"top center\"}, {\"type\": \"scatter\", \"x\": [5.988461971282959], \"y\": [0.6038440465927124], \"mode\": \"markers\", \"text\": \"needed\", \"textposition\": \"top center\"}, {\"type\": \"scatter\", \"x\": [5.924853324890137], \"y\": [0.2746380865573883], \"mode\": \"markers\", \"text\": \"needs\", \"textposition\": \"top center\"}, {\"type\": \"scatter\", \"x\": [-8.087082862854004], \"y\": [-2.9511044025421143], \"mode\": \"markers\", \"text\": \"nephropathy\", \"textposition\": \"top center\"}, {\"type\": \"scatter\", \"x\": [-5.647463321685791], \"y\": [7.545616149902344], \"mode\": \"markers\", \"text\": \"neurology\", \"textposition\": \"top center\"}, {\"type\": \"scatter\", \"x\": [-3.046225070953369], \"y\": [-10.162449836730957], \"mode\": \"markers\", \"text\": \"neurontin\", \"textposition\": \"top center\"}, {\"type\": \"scatter\", \"x\": [-5.637315273284912], \"y\": [-1.3775315284729004], \"mode\": \"markers\", \"text\": \"neuropathy\", \"textposition\": \"top center\"}, {\"type\": \"scatter\", \"x\": [-5.682069778442383], \"y\": [7.2372941970825195], \"mode\": \"markers\", \"text\": \"neurosurgery\", \"textposition\": \"top center\"}, {\"type\": \"scatter\", \"x\": [-4.39091157913208], \"y\": [4.114182472229004], \"mode\": \"markers\", \"text\": \"nodule\", \"textposition\": \"top center\"}, {\"type\": \"scatter\", \"x\": [3.3702452182769775], \"y\": [0.1503177136182785], \"mode\": \"markers\", \"text\": \"noncontributory\", \"textposition\": \"top center\"}, {\"type\": \"scatter\", \"x\": [5.595905303955078], \"y\": [-1.5311306715011597], \"mode\": \"markers\", \"text\": \"notable\", \"textposition\": \"top center\"}, {\"type\": \"scatter\", \"x\": [8.295496940612793], \"y\": [-1.1888259649276733], \"mode\": \"markers\", \"text\": \"noted\", \"textposition\": \"top center\"}, {\"type\": \"scatter\", \"x\": [7.2046403884887695], \"y\": [-2.0569608211517334], \"mode\": \"markers\", \"text\": \"notes\", \"textposition\": \"top center\"}, {\"type\": \"scatter\", \"x\": [2.9819490909576416], \"y\": [-5.313473701477051], \"mode\": \"markers\", \"text\": \"nutrition\", \"textposition\": \"top center\"}, {\"type\": \"scatter\", \"x\": [-6.982712745666504], \"y\": [-4.313946723937988], \"mode\": \"markers\", \"text\": \"obesity\", \"textposition\": \"top center\"}, {\"type\": \"scatter\", \"x\": [7.947625160217285], \"y\": [-1.7437429428100586], \"mode\": \"markers\", \"text\": \"observed\", \"textposition\": \"top center\"}, {\"type\": \"scatter\", \"x\": [0.6563960313796997], \"y\": [0.04374469444155693], \"mode\": \"markers\", \"text\": \"obstructive\", \"textposition\": \"top center\"}, {\"type\": \"scatter\", \"x\": [8.815624237060547], \"y\": [1.4340198040008545], \"mode\": \"markers\", \"text\": \"obtained\", \"textposition\": \"top center\"}, {\"type\": \"scatter\", \"x\": [2.90480637550354], \"y\": [-1.3822650909423828], \"mode\": \"markers\", \"text\": \"occasional\", \"textposition\": \"top center\"}, {\"type\": \"scatter\", \"x\": [-0.7386105060577393], \"y\": [-7.011404037475586], \"mode\": \"markers\", \"text\": \"opiates\", \"textposition\": \"top center\"}, {\"type\": \"scatter\", \"x\": [1.6763014793395996], \"y\": [8.060752868652344], \"mode\": \"markers\", \"text\": \"oral\", \"textposition\": \"top center\"}, {\"type\": \"scatter\", \"x\": [-6.335535526275635], \"y\": [-3.6383156776428223], \"mode\": \"markers\", \"text\": \"osteoarthritis\", \"textposition\": \"top center\"}, {\"type\": \"scatter\", \"x\": [-3.231671094894409], \"y\": [7.985025405883789], \"mode\": \"markers\", \"text\": \"outpatient\", \"textposition\": \"top center\"}, {\"type\": \"scatter\", \"x\": [0.3546868860721588], \"y\": [-10.126908302307129], \"mode\": \"markers\", \"text\": \"overdose\", \"textposition\": \"top center\"}, {\"type\": \"scatter\", \"x\": [0.3973141610622406], \"y\": [-10.159809112548828], \"mode\": \"markers\", \"text\": \"overdosed\", \"textposition\": \"top center\"}, {\"type\": \"scatter\", \"x\": [0.3107752203941345], \"y\": [-10.11608600616455], \"mode\": \"markers\", \"text\": \"overdoses\", \"textposition\": \"top center\"}, {\"type\": \"scatter\", \"x\": [4.05136251449585], \"y\": [3.3671090602874756], \"mode\": \"markers\", \"text\": \"overnight\", \"textposition\": \"top center\"}, {\"type\": \"scatter\", \"x\": [-0.9349448084831238], \"y\": [-7.409221172332764], \"mode\": \"markers\", \"text\": \"oxycodone\", \"textposition\": \"top center\"}, {\"type\": \"scatter\", \"x\": [-0.8132463097572327], \"y\": [2.009169101715088], \"mode\": \"markers\", \"text\": \"oxygen\", \"textposition\": \"top center\"}, {\"type\": \"scatter\", \"x\": [-4.380132675170898], \"y\": [-1.2377870082855225], \"mode\": \"markers\", \"text\": \"pancreatitis\", \"textposition\": \"top center\"}, {\"type\": \"scatter\", \"x\": [2.4055981636047363], \"y\": [-3.0774688720703125], \"mode\": \"markers\", \"text\": \"panic\", \"textposition\": \"top center\"}, {\"type\": \"scatter\", \"x\": [6.174081802368164], \"y\": [-5.223505973815918], \"mode\": \"markers\", \"text\": \"parents\", \"textposition\": \"top center\"}, {\"type\": \"scatter\", \"x\": [2.959563970565796], \"y\": [-0.09916601330041885], \"mode\": \"markers\", \"text\": \"partial\", \"textposition\": \"top center\"}, {\"type\": \"scatter\", \"x\": [-4.4847002029418945], \"y\": [-9.494951248168945], \"mode\": \"markers\", \"text\": \"paxil\", \"textposition\": \"top center\"}, {\"type\": \"scatter\", \"x\": [6.220512390136719], \"y\": [5.29101037979126], \"mode\": \"markers\", \"text\": \"peaked\", \"textposition\": \"top center\"}, {\"type\": \"scatter\", \"x\": [5.353298187255859], \"y\": [-0.6671658158302307], \"mode\": \"markers\", \"text\": \"pending\", \"textposition\": \"top center\"}, {\"type\": \"scatter\", \"x\": [-2.8769562244415283], \"y\": [-3.829989194869995], \"mode\": \"markers\", \"text\": \"penicillins\", \"textposition\": \"top center\"}, {\"type\": \"scatter\", \"x\": [-2.621407985687256], \"y\": [-7.853301525115967], \"mode\": \"markers\", \"text\": \"percocet\", \"textposition\": \"top center\"}, {\"type\": \"scatter\", \"x\": [7.030961036682129], \"y\": [1.5241212844848633], \"mode\": \"markers\", \"text\": \"performed\", \"textposition\": \"top center\"}, {\"type\": \"scatter\", \"x\": [1.438463807106018], \"y\": [-0.2775309383869171], \"mode\": \"markers\", \"text\": \"peripheral\", \"textposition\": \"top center\"}, {\"type\": \"scatter\", \"x\": [1.561394453048706], \"y\": [-0.8516025543212891], \"mode\": \"markers\", \"text\": \"persistent\", \"textposition\": \"top center\"}, {\"type\": \"scatter\", \"x\": [-1.7194154262542725], \"y\": [-4.877470970153809], \"mode\": \"markers\", \"text\": \"phenobarbital\", \"textposition\": \"top center\"}, {\"type\": \"scatter\", \"x\": [-2.3541669845581055], \"y\": [-6.889801502227783], \"mode\": \"markers\", \"text\": \"pill\", \"textposition\": \"top center\"}, {\"type\": \"scatter\", \"x\": [-2.234339475631714], \"y\": [-6.838647842407227], \"mode\": \"markers\", \"text\": \"pills\", \"textposition\": \"top center\"}, {\"type\": \"scatter\", \"x\": [7.441921234130859], \"y\": [4.963247776031494], \"mode\": \"markers\", \"text\": \"placed\", \"textposition\": \"top center\"}, {\"type\": \"scatter\", \"x\": [2.505143404006958], \"y\": [0.8029975295066833], \"mode\": \"markers\", \"text\": \"placement\", \"textposition\": \"top center\"}, {\"type\": \"scatter\", \"x\": [-3.706397294998169], \"y\": [-0.07169733196496964], \"mode\": \"markers\", \"text\": \"pneumonia\", \"textposition\": \"top center\"}, {\"type\": \"scatter\", \"x\": [0.7170236110687256], \"y\": [-3.786302328109741], \"mode\": \"markers\", \"text\": \"poly\", \"textposition\": \"top center\"}, {\"type\": \"scatter\", \"x\": [3.2520813941955566], \"y\": [-0.2748817205429077], \"mode\": \"markers\", \"text\": \"polysubstance\", \"textposition\": \"top center\"}, {\"type\": \"scatter\", \"x\": [-5.485329627990723], \"y\": [2.9844698905944824], \"mode\": \"markers\", \"text\": \"postoperative\", \"textposition\": \"top center\"}, {\"type\": \"scatter\", \"x\": [2.4592151641845703], \"y\": [5.550148010253906], \"mode\": \"markers\", \"text\": \"precautions\", \"textposition\": \"top center\"}, {\"type\": \"scatter\", \"x\": [4.448163986206055], \"y\": [-0.35636237263679504], \"mode\": \"markers\", \"text\": \"premature\", \"textposition\": \"top center\"}, {\"type\": \"scatter\", \"x\": [11.860817909240723], \"y\": [0.49087947607040405], \"mode\": \"markers\", \"text\": \"presented\", \"textposition\": \"top center\"}, {\"type\": \"scatter\", \"x\": [11.919379234313965], \"y\": [0.5172813534736633], \"mode\": \"markers\", \"text\": \"presenting\", \"textposition\": \"top center\"}, {\"type\": \"scatter\", \"x\": [12.136354446411133], \"y\": [0.5253313779830933], \"mode\": \"markers\", \"text\": \"presents\", \"textposition\": \"top center\"}, {\"type\": \"scatter\", \"x\": [5.599368572235107], \"y\": [-2.316917657852173], \"mode\": \"markers\", \"text\": \"problems\", \"textposition\": \"top center\"}, {\"type\": \"scatter\", \"x\": [8.55150032043457], \"y\": [1.5298196077346802], \"mode\": \"markers\", \"text\": \"provided\", \"textposition\": \"top center\"}, {\"type\": \"scatter\", \"x\": [3.0099523067474365], \"y\": [1.7497013807296753], \"mode\": \"markers\", \"text\": \"providers\", \"textposition\": \"top center\"}, {\"type\": \"scatter\", \"x\": [-4.01547908782959], \"y\": [-9.30416488647461], \"mode\": \"markers\", \"text\": \"prozac\", \"textposition\": \"top center\"}, {\"type\": \"scatter\", \"x\": [1.1904370784759521], \"y\": [-3.4745736122131348], \"mode\": \"markers\", \"text\": \"psych\", \"textposition\": \"top center\"}, {\"type\": \"scatter\", \"x\": [-4.1015448570251465], \"y\": [8.671932220458984], \"mode\": \"markers\", \"text\": \"psychiatric\", \"textposition\": \"top center\"}, {\"type\": \"scatter\", \"x\": [-4.309059143066406], \"y\": [8.959421157836914], \"mode\": \"markers\", \"text\": \"psychiatrist\", \"textposition\": \"top center\"}, {\"type\": \"scatter\", \"x\": [-4.303915023803711], \"y\": [8.87140941619873], \"mode\": \"markers\", \"text\": \"psychiatrists\", \"textposition\": \"top center\"}, {\"type\": \"scatter\", \"x\": [-5.145477771759033], \"y\": [8.125944137573242], \"mode\": \"markers\", \"text\": \"psychiatry\", \"textposition\": \"top center\"}, {\"type\": \"scatter\", \"x\": [-7.3004961013793945], \"y\": [-0.027074290439486504], \"mode\": \"markers\", \"text\": \"pulmonary\", \"textposition\": \"top center\"}, {\"type\": \"scatter\", \"x\": [0.3889710605144501], \"y\": [3.0074870586395264], \"mode\": \"markers\", \"text\": \"pulse\", \"textposition\": \"top center\"}, {\"type\": \"scatter\", \"x\": [4.620607852935791], \"y\": [-1.4319270849227905], \"mode\": \"markers\", \"text\": \"questionable\", \"textposition\": \"top center\"}, {\"type\": \"scatter\", \"x\": [10.072844505310059], \"y\": [3.2354743480682373], \"mode\": \"markers\", \"text\": \"raised\", \"textposition\": \"top center\"}, {\"type\": \"scatter\", \"x\": [1.9676188230514526], \"y\": [-2.7522497177124023], \"mode\": \"markers\", \"text\": \"reactions\", \"textposition\": \"top center\"}, {\"type\": \"scatter\", \"x\": [8.742043495178223], \"y\": [1.8719398975372314], \"mode\": \"markers\", \"text\": \"received\", \"textposition\": \"top center\"}, {\"type\": \"scatter\", \"x\": [11.160691261291504], \"y\": [-2.761650562286377], \"mode\": \"markers\", \"text\": \"recommendations\", \"textposition\": \"top center\"}, {\"type\": \"scatter\", \"x\": [11.025419235229492], \"y\": [-2.363832712173462], \"mode\": \"markers\", \"text\": \"recommended\", \"textposition\": \"top center\"}, {\"type\": \"scatter\", \"x\": [6.996778964996338], \"y\": [-3.518568754196167], \"mode\": \"markers\", \"text\": \"records\", \"textposition\": \"top center\"}, {\"type\": \"scatter\", \"x\": [-1.1248161792755127], \"y\": [-0.2743997871875763], \"mode\": \"markers\", \"text\": \"recurrent\", \"textposition\": \"top center\"}, {\"type\": \"scatter\", \"x\": [10.196310997009277], \"y\": [0.9302037954330444], \"mode\": \"markers\", \"text\": \"refused\", \"textposition\": \"top center\"}, {\"type\": \"scatter\", \"x\": [0.2868320643901825], \"y\": [-4.326464653015137], \"mode\": \"markers\", \"text\": \"regimen\", \"textposition\": \"top center\"}, {\"type\": \"scatter\", \"x\": [7.260631561279297], \"y\": [-9.602751731872559], \"mode\": \"markers\", \"text\": \"rehab\", \"textposition\": \"top center\"}, {\"type\": \"scatter\", \"x\": [7.285806179046631], \"y\": [-9.602720260620117], \"mode\": \"markers\", \"text\": \"rehabilitation\", \"textposition\": \"top center\"}, {\"type\": \"scatter\", \"x\": [4.6754584312438965], \"y\": [-0.9551599621772766], \"mode\": \"markers\", \"text\": \"related\", \"textposition\": \"top center\"}, {\"type\": \"scatter\", \"x\": [4.842250823974609], \"y\": [1.4603021144866943], \"mode\": \"markers\", \"text\": \"remainder\", \"textposition\": \"top center\"}, {\"type\": \"scatter\", \"x\": [6.63238525390625], \"y\": [2.9168100357055664], \"mode\": \"markers\", \"text\": \"remained\", \"textposition\": \"top center\"}, {\"type\": \"scatter\", \"x\": [7.846982479095459], \"y\": [6.078415870666504], \"mode\": \"markers\", \"text\": \"removal\", \"textposition\": \"top center\"}, {\"type\": \"scatter\", \"x\": [7.981940269470215], \"y\": [5.980204105377197], \"mode\": \"markers\", \"text\": \"removed\", \"textposition\": \"top center\"}, {\"type\": \"scatter\", \"x\": [-7.987375259399414], \"y\": [0.8258190751075745], \"mode\": \"markers\", \"text\": \"renal\", \"textposition\": \"top center\"}, {\"type\": \"scatter\", \"x\": [3.6417109966278076], \"y\": [4.687689781188965], \"mode\": \"markers\", \"text\": \"repair\", \"textposition\": \"top center\"}, {\"type\": \"scatter\", \"x\": [3.672994375228882], \"y\": [4.663057327270508], \"mode\": \"markers\", \"text\": \"replacement\", \"textposition\": \"top center\"}, {\"type\": \"scatter\", \"x\": [9.104865074157715], \"y\": [-2.207838296890259], \"mode\": \"markers\", \"text\": \"reported\", \"textposition\": \"top center\"}, {\"type\": \"scatter\", \"x\": [7.652820110321045], \"y\": [-0.21948860585689545], \"mode\": \"markers\", \"text\": \"reportedly\", \"textposition\": \"top center\"}, {\"type\": \"scatter\", \"x\": [9.112138748168945], \"y\": [-2.4207704067230225], \"mode\": \"markers\", \"text\": \"reports\", \"textposition\": \"top center\"}, {\"type\": \"scatter\", \"x\": [5.735681056976318], \"y\": [0.6338171362876892], \"mode\": \"markers\", \"text\": \"required\", \"textposition\": \"top center\"}, {\"type\": \"scatter\", \"x\": [5.636702060699463], \"y\": [0.6483244895935059], \"mode\": \"markers\", \"text\": \"requiring\", \"textposition\": \"top center\"}, {\"type\": \"scatter\", \"x\": [-5.825949192047119], \"y\": [3.574248790740967], \"mode\": \"markers\", \"text\": \"resection\", \"textposition\": \"top center\"}, {\"type\": \"scatter\", \"x\": [9.02863597869873], \"y\": [5.735662937164307], \"mode\": \"markers\", \"text\": \"resolved\", \"textposition\": \"top center\"}, {\"type\": \"scatter\", \"x\": [0.9903566241264343], \"y\": [-2.950137138366699], \"mode\": \"markers\", \"text\": \"resp\", \"textposition\": \"top center\"}, {\"type\": \"scatter\", \"x\": [-7.0872273445129395], \"y\": [-0.1554962396621704], \"mode\": \"markers\", \"text\": \"respiratory\", \"textposition\": \"top center\"}, {\"type\": \"scatter\", \"x\": [8.56640625], \"y\": [8.082362174987793], \"mode\": \"markers\", \"text\": \"restarted\", \"textposition\": \"top center\"}, {\"type\": \"scatter\", \"x\": [8.567228317260742], \"y\": [8.112780570983887], \"mode\": \"markers\", \"text\": \"restarting\", \"textposition\": \"top center\"}, {\"type\": \"scatter\", \"x\": [8.017481803894043], \"y\": [7.462275981903076], \"mode\": \"markers\", \"text\": \"resume\", \"textposition\": \"top center\"}, {\"type\": \"scatter\", \"x\": [10.59726333618164], \"y\": [4.127926826477051], \"mode\": \"markers\", \"text\": \"retired\", \"textposition\": \"top center\"}, {\"type\": \"scatter\", \"x\": [9.14461898803711], \"y\": [-0.840869128704071], \"mode\": \"markers\", \"text\": \"revealed\", \"textposition\": \"top center\"}, {\"type\": \"scatter\", \"x\": [-4.560375213623047], \"y\": [-1.8558316230773926], \"mode\": \"markers\", \"text\": \"rhabdomyolysis\", \"textposition\": \"top center\"}, {\"type\": \"scatter\", \"x\": [7.981311321258545], \"y\": [-0.9635967016220093], \"mode\": \"markers\", \"text\": \"said\", \"textposition\": \"top center\"}, {\"type\": \"scatter\", \"x\": [7.715114116668701], \"y\": [-1.003464698791504], \"mode\": \"markers\", \"text\": \"says\", \"textposition\": \"top center\"}, {\"type\": \"scatter\", \"x\": [0.1068727970123291], \"y\": [-0.7375744581222534], \"mode\": \"markers\", \"text\": \"schizoaffective\", \"textposition\": \"top center\"}, {\"type\": \"scatter\", \"x\": [-5.176713466644287], \"y\": [-3.7557625770568848], \"mode\": \"markers\", \"text\": \"schizophrenia\", \"textposition\": \"top center\"}, {\"type\": \"scatter\", \"x\": [2.927478313446045], \"y\": [0.31809020042419434], \"mode\": \"markers\", \"text\": \"secondary\", \"textposition\": \"top center\"}, {\"type\": \"scatter\", \"x\": [-0.10212484002113342], \"y\": [-0.4053287208080292], \"mode\": \"markers\", \"text\": \"sectioned\", \"textposition\": \"top center\"}, {\"type\": \"scatter\", \"x\": [-2.0779836177825928], \"y\": [0.9370654225349426], \"mode\": \"markers\", \"text\": \"sedation\", \"textposition\": \"top center\"}, {\"type\": \"scatter\", \"x\": [8.142532348632812], \"y\": [1.0561012029647827], \"mode\": \"markers\", \"text\": \"seeking\", \"textposition\": \"top center\"}, {\"type\": \"scatter\", \"x\": [6.8216118812561035], \"y\": [1.0104068517684937], \"mode\": \"markers\", \"text\": \"seen\", \"textposition\": \"top center\"}, {\"type\": \"scatter\", \"x\": [1.7149920463562012], \"y\": [-8.099990844726562], \"mode\": \"markers\", \"text\": \"seizure\", \"textposition\": \"top center\"}, {\"type\": \"scatter\", \"x\": [1.6910840272903442], \"y\": [-8.074783325195312], \"mode\": \"markers\", \"text\": \"seizures\", \"textposition\": \"top center\"}, {\"type\": \"scatter\", \"x\": [8.689722061157227], \"y\": [2.3405771255493164], \"mode\": \"markers\", \"text\": \"sent\", \"textposition\": \"top center\"}, {\"type\": \"scatter\", \"x\": [2.583707809448242], \"y\": [-0.35486680269241333], \"mode\": \"markers\", \"text\": \"serial\", \"textposition\": \"top center\"}, {\"type\": \"scatter\", \"x\": [0.1223345696926117], \"y\": [-2.9634687900543213], \"mode\": \"markers\", \"text\": \"seroquel\", \"textposition\": \"top center\"}, {\"type\": \"scatter\", \"x\": [-6.535429000854492], \"y\": [-5.948206424713135], \"mode\": \"markers\", \"text\": \"serotonin\", \"textposition\": \"top center\"}, {\"type\": \"scatter\", \"x\": [-1.7405492067337036], \"y\": [-2.6628177165985107], \"mode\": \"markers\", \"text\": \"serum\", \"textposition\": \"top center\"}, {\"type\": \"scatter\", \"x\": [2.9895455837249756], \"y\": [1.5058684349060059], \"mode\": \"markers\", \"text\": \"services\", \"textposition\": \"top center\"}, {\"type\": \"scatter\", \"x\": [9.387789726257324], \"y\": [-0.696830153465271], \"mode\": \"markers\", \"text\": \"showed\", \"textposition\": \"top center\"}, {\"type\": \"scatter\", \"x\": [5.962237358093262], \"y\": [-3.564422607421875], \"mode\": \"markers\", \"text\": \"signs\", \"textposition\": \"top center\"}, {\"type\": \"scatter\", \"x\": [-4.130488395690918], \"y\": [-0.16097378730773926], \"mode\": \"markers\", \"text\": \"sinus\", \"textposition\": \"top center\"}, {\"type\": \"scatter\", \"x\": [5.109561920166016], \"y\": [-5.2301411628723145], \"mode\": \"markers\", \"text\": \"sitter\", \"textposition\": \"top center\"}, {\"type\": \"scatter\", \"x\": [9.490532875061035], \"y\": [-7.8865509033203125], \"mode\": \"markers\", \"text\": \"smoker\", \"textposition\": \"top center\"}, {\"type\": \"scatter\", \"x\": [9.481431007385254], \"y\": [-7.88370943069458], \"mode\": \"markers\", \"text\": \"smokes\", \"textposition\": \"top center\"}, {\"type\": \"scatter\", \"x\": [9.482569694519043], \"y\": [-7.886631011962891], \"mode\": \"markers\", \"text\": \"smoking\", \"textposition\": \"top center\"}, {\"type\": \"scatter\", \"x\": [6.34771203994751], \"y\": [-8.06881046295166], \"mode\": \"markers\", \"text\": \"sober\", \"textposition\": \"top center\"}, {\"type\": \"scatter\", \"x\": [6.369871139526367], \"y\": [-8.106721878051758], \"mode\": \"markers\", \"text\": \"sobriety\", \"textposition\": \"top center\"}, {\"type\": \"scatter\", \"x\": [-0.9179679155349731], \"y\": [-2.8172073364257812], \"mode\": \"markers\", \"text\": \"softener\", \"textposition\": \"top center\"}, {\"type\": \"scatter\", \"x\": [-3.753150224685669], \"y\": [-9.26842975616455], \"mode\": \"markers\", \"text\": \"soma\", \"textposition\": \"top center\"}, {\"type\": \"scatter\", \"x\": [3.1228866577148438], \"y\": [-1.996786117553711], \"mode\": \"markers\", \"text\": \"somnolent\", \"textposition\": \"top center\"}, {\"type\": \"scatter\", \"x\": [-3.487093448638916], \"y\": [5.605263710021973], \"mode\": \"markers\", \"text\": \"spinal\", \"textposition\": \"top center\"}, {\"type\": \"scatter\", \"x\": [-3.445363759994507], \"y\": [5.634276390075684], \"mode\": \"markers\", \"text\": \"spine\", \"textposition\": \"top center\"}, {\"type\": \"scatter\", \"x\": [2.368518829345703], \"y\": [3.7047154903411865], \"mode\": \"markers\", \"text\": \"stab\", \"textposition\": \"top center\"}, {\"type\": \"scatter\", \"x\": [5.235055446624756], \"y\": [5.342615127563477], \"mode\": \"markers\", \"text\": \"stabilized\", \"textposition\": \"top center\"}, {\"type\": \"scatter\", \"x\": [6.436273097991943], \"y\": [-1.4915443658828735], \"mode\": \"markers\", \"text\": \"standpoint\", \"textposition\": \"top center\"}, {\"type\": \"scatter\", \"x\": [8.229605674743652], \"y\": [3.946375608444214], \"mode\": \"markers\", \"text\": \"started\", \"textposition\": \"top center\"}, {\"type\": \"scatter\", \"x\": [5.4922776222229], \"y\": [1.4242277145385742], \"mode\": \"markers\", \"text\": \"starting\", \"textposition\": \"top center\"}, {\"type\": \"scatter\", \"x\": [8.48846435546875], \"y\": [-1.2208406925201416], \"mode\": \"markers\", \"text\": \"stated\", \"textposition\": \"top center\"}, {\"type\": \"scatter\", \"x\": [3.7930212020874023], \"y\": [-0.1875450313091278], \"mode\": \"markers\", \"text\": \"states\", \"textposition\": \"top center\"}, {\"type\": \"scatter\", \"x\": [-6.525787353515625], \"y\": [3.3292038440704346], \"mode\": \"markers\", \"text\": \"stenosis\", \"textposition\": \"top center\"}, {\"type\": \"scatter\", \"x\": [-8.821741104125977], \"y\": [5.0092082023620605], \"mode\": \"markers\", \"text\": \"stent\", \"textposition\": \"top center\"}, {\"type\": \"scatter\", \"x\": [-8.82749080657959], \"y\": [5.016419410705566], \"mode\": \"markers\", \"text\": \"stents\", \"textposition\": \"top center\"}, {\"type\": \"scatter\", \"x\": [4.10206937789917], \"y\": [-5.118034839630127], \"mode\": \"markers\", \"text\": \"stones\", \"textposition\": \"top center\"}, {\"type\": \"scatter\", \"x\": [8.16773796081543], \"y\": [4.137333393096924], \"mode\": \"markers\", \"text\": \"stopped\", \"textposition\": \"top center\"}, {\"type\": \"scatter\", \"x\": [4.768608570098877], \"y\": [1.0769191980361938], \"mode\": \"markers\", \"text\": \"subsequently\", \"textposition\": \"top center\"}, {\"type\": \"scatter\", \"x\": [2.608544111251831], \"y\": [-6.548058032989502], \"mode\": \"markers\", \"text\": \"suicidal\", \"textposition\": \"top center\"}, {\"type\": \"scatter\", \"x\": [-5.017653465270996], \"y\": [-4.2379279136657715], \"mode\": \"markers\", \"text\": \"suicidality\", \"textposition\": \"top center\"}, {\"type\": \"scatter\", \"x\": [2.663865327835083], \"y\": [-6.6324896812438965], \"mode\": \"markers\", \"text\": \"suicide\", \"textposition\": \"top center\"}, {\"type\": \"scatter\", \"x\": [-1.7364141941070557], \"y\": [-3.536419630050659], \"mode\": \"markers\", \"text\": \"sulfa\", \"textposition\": \"top center\"}, {\"type\": \"scatter\", \"x\": [-2.0177321434020996], \"y\": [-2.6258537769317627], \"mode\": \"markers\", \"text\": \"sulfonamides\", \"textposition\": \"top center\"}, {\"type\": \"scatter\", \"x\": [8.1108980178833], \"y\": [-4.0707621574401855], \"mode\": \"markers\", \"text\": \"summary\", \"textposition\": \"top center\"}, {\"type\": \"scatter\", \"x\": [7.57871150970459], \"y\": [-2.8262853622436523], \"mode\": \"markers\", \"text\": \"supportive\", \"textposition\": \"top center\"}, {\"type\": \"scatter\", \"x\": [-5.506669044494629], \"y\": [6.139910697937012], \"mode\": \"markers\", \"text\": \"surgical\", \"textposition\": \"top center\"}, {\"type\": \"scatter\", \"x\": [6.164020538330078], \"y\": [6.752176761627197], \"mode\": \"markers\", \"text\": \"suspected\", \"textposition\": \"top center\"}, {\"type\": \"scatter\", \"x\": [6.200457572937012], \"y\": [6.827117919921875], \"mode\": \"markers\", \"text\": \"suspicion\", \"textposition\": \"top center\"}, {\"type\": \"scatter\", \"x\": [-3.1773746013641357], \"y\": [-0.9641821980476379], \"mode\": \"markers\", \"text\": \"symptoms\", \"textposition\": \"top center\"}, {\"type\": \"scatter\", \"x\": [-0.7574755549430847], \"y\": [-0.9628576040267944], \"mode\": \"markers\", \"text\": \"syndrome\", \"textposition\": \"top center\"}, {\"type\": \"scatter\", \"x\": [2.7524948120117188], \"y\": [1.5702399015426636], \"mode\": \"markers\", \"text\": \"systems\", \"textposition\": \"top center\"}, {\"type\": \"scatter\", \"x\": [-10.886836051940918], \"y\": [-0.9231315851211548], \"mode\": \"markers\", \"text\": \"systolic\", \"textposition\": \"top center\"}, {\"type\": \"scatter\", \"x\": [-3.3543198108673096], \"y\": [-6.70940637588501], \"mode\": \"markers\", \"text\": \"tablets\", \"textposition\": \"top center\"}, {\"type\": \"scatter\", \"x\": [4.9236321449279785], \"y\": [-3.9774351119995117], \"mode\": \"markers\", \"text\": \"tabs\", \"textposition\": \"top center\"}, {\"type\": \"scatter\", \"x\": [-4.665874481201172], \"y\": [0.34701573848724365], \"mode\": \"markers\", \"text\": \"tachycardia\", \"textposition\": \"top center\"}, {\"type\": \"scatter\", \"x\": [7.5651679039001465], \"y\": [3.1173341274261475], \"mode\": \"markers\", \"text\": \"taken\", \"textposition\": \"top center\"}, {\"type\": \"scatter\", \"x\": [7.443576335906982], \"y\": [3.05395770072937], \"mode\": \"markers\", \"text\": \"taking\", \"textposition\": \"top center\"}, {\"type\": \"scatter\", \"x\": [-4.248963356018066], \"y\": [9.24269962310791], \"mode\": \"markers\", \"text\": \"therapist\", \"textposition\": \"top center\"}, {\"type\": \"scatter\", \"x\": [-5.75731897354126], \"y\": [-5.7940826416015625], \"mode\": \"markers\", \"text\": \"thiamine\", \"textposition\": \"top center\"}, {\"type\": \"scatter\", \"x\": [4.756207466125488], \"y\": [-2.3420450687408447], \"mode\": \"markers\", \"text\": \"thoughts\", \"textposition\": \"top center\"}, {\"type\": \"scatter\", \"x\": [4.761432647705078], \"y\": [2.6954262256622314], \"mode\": \"markers\", \"text\": \"times\", \"textposition\": \"top center\"}, {\"type\": \"scatter\", \"x\": [6.470697402954102], \"y\": [-2.8733561038970947], \"mode\": \"markers\", \"text\": \"titles\", \"textposition\": \"top center\"}, {\"type\": \"scatter\", \"x\": [8.539109230041504], \"y\": [-1.4840692281723022], \"mode\": \"markers\", \"text\": \"told\", \"textposition\": \"top center\"}, {\"type\": \"scatter\", \"x\": [9.579828262329102], \"y\": [-5.278453826904297], \"mode\": \"markers\", \"text\": \"tolerate\", \"textposition\": \"top center\"}, {\"type\": \"scatter\", \"x\": [9.55936050415039], \"y\": [-5.279706001281738], \"mode\": \"markers\", \"text\": \"tolerating\", \"textposition\": \"top center\"}, {\"type\": \"scatter\", \"x\": [7.784994602203369], \"y\": [3.042886257171631], \"mode\": \"markers\", \"text\": \"took\", \"textposition\": \"top center\"}, {\"type\": \"scatter\", \"x\": [-2.5905344486236572], \"y\": [-3.1364428997039795], \"mode\": \"markers\", \"text\": \"toxicity\", \"textposition\": \"top center\"}, {\"type\": \"scatter\", \"x\": [-2.591904640197754], \"y\": [-3.1240296363830566], \"mode\": \"markers\", \"text\": \"toxicology\", \"textposition\": \"top center\"}, {\"type\": \"scatter\", \"x\": [-1.8723825216293335], \"y\": [1.8643224239349365], \"mode\": \"markers\", \"text\": \"trach\", \"textposition\": \"top center\"}, {\"type\": \"scatter\", \"x\": [-2.2866482734680176], \"y\": [2.082730293273926], \"mode\": \"markers\", \"text\": \"tracheostomy\", \"textposition\": \"top center\"}, {\"type\": \"scatter\", \"x\": [3.4892616271972656], \"y\": [0.8858820199966431], \"mode\": \"markers\", \"text\": \"tracing\", \"textposition\": \"top center\"}, {\"type\": \"scatter\", \"x\": [10.564257621765137], \"y\": [6.179888725280762], \"mode\": \"markers\", \"text\": \"transfered\", \"textposition\": \"top center\"}, {\"type\": \"scatter\", \"x\": [10.536476135253906], \"y\": [6.195711135864258], \"mode\": \"markers\", \"text\": \"transferred\", \"textposition\": \"top center\"}, {\"type\": \"scatter\", \"x\": [3.9783718585968018], \"y\": [1.3196253776550293], \"mode\": \"markers\", \"text\": \"transitional\", \"textposition\": \"top center\"}, {\"type\": \"scatter\", \"x\": [9.428681373596191], \"y\": [4.288684368133545], \"mode\": \"markers\", \"text\": \"transitioned\", \"textposition\": \"top center\"}, {\"type\": \"scatter\", \"x\": [-8.354601860046387], \"y\": [2.6599419116973877], \"mode\": \"markers\", \"text\": \"transplant\", \"textposition\": \"top center\"}, {\"type\": \"scatter\", \"x\": [10.640477180480957], \"y\": [6.154436111450195], \"mode\": \"markers\", \"text\": \"transported\", \"textposition\": \"top center\"}, {\"type\": \"scatter\", \"x\": [-0.8448326587677002], \"y\": [5.1431193351745605], \"mode\": \"markers\", \"text\": \"trauma\", \"textposition\": \"top center\"}, {\"type\": \"scatter\", \"x\": [4.422726631164551], \"y\": [7.297223091125488], \"mode\": \"markers\", \"text\": \"treated\", \"textposition\": \"top center\"}, {\"type\": \"scatter\", \"x\": [5.949483394622803], \"y\": [-5.94552755355835], \"mode\": \"markers\", \"text\": \"treaters\", \"textposition\": \"top center\"}, {\"type\": \"scatter\", \"x\": [5.321493148803711], \"y\": [-3.249619245529175], \"mode\": \"markers\", \"text\": \"trending\", \"textposition\": \"top center\"}, {\"type\": \"scatter\", \"x\": [10.502036094665527], \"y\": [1.9298310279846191], \"mode\": \"markers\", \"text\": \"tried\", \"textposition\": \"top center\"}, {\"type\": \"scatter\", \"x\": [-0.9975940585136414], \"y\": [-4.008309841156006], \"mode\": \"markers\", \"text\": \"tylenol\", \"textposition\": \"top center\"}, {\"type\": \"scatter\", \"x\": [-5.723207950592041], \"y\": [-0.8419167399406433], \"mode\": \"markers\", \"text\": \"ulcer\", \"textposition\": \"top center\"}, {\"type\": \"scatter\", \"x\": [-5.674675941467285], \"y\": [-0.96224445104599], \"mode\": \"markers\", \"text\": \"ulcers\", \"textposition\": \"top center\"}, {\"type\": \"scatter\", \"x\": [8.133905410766602], \"y\": [0.0670916736125946], \"mode\": \"markers\", \"text\": \"unclear\", \"textposition\": \"top center\"}, {\"type\": \"scatter\", \"x\": [10.00313949584961], \"y\": [-3.477705478668213], \"mode\": \"markers\", \"text\": \"underwent\", \"textposition\": \"top center\"}, {\"type\": \"scatter\", \"x\": [3.838350296020508], \"y\": [0.2719270884990692], \"mode\": \"markers\", \"text\": \"unemployed\", \"textposition\": \"top center\"}, {\"type\": \"scatter\", \"x\": [3.323977470397949], \"y\": [-1.6424415111541748], \"mode\": \"markers\", \"text\": \"unremarkable\", \"textposition\": \"top center\"}, {\"type\": \"scatter\", \"x\": [-0.8905996084213257], \"y\": [3.331195831298828], \"mode\": \"markers\", \"text\": \"unresponsive\", \"textposition\": \"top center\"}, {\"type\": \"scatter\", \"x\": [-6.031670570373535], \"y\": [0.4948820173740387], \"mode\": \"markers\", \"text\": \"urinary\", \"textposition\": \"top center\"}, {\"type\": \"scatter\", \"x\": [-1.4271302223205566], \"y\": [-1.8724769353866577], \"mode\": \"markers\", \"text\": \"urine\", \"textposition\": \"top center\"}, {\"type\": \"scatter\", \"x\": [3.674558162689209], \"y\": [0.8233481645584106], \"mode\": \"markers\", \"text\": \"using\", \"textposition\": \"top center\"}, {\"type\": \"scatter\", \"x\": [-3.329601764678955], \"y\": [-8.94522762298584], \"mode\": \"markers\", \"text\": \"valium\", \"textposition\": \"top center\"}, {\"type\": \"scatter\", \"x\": [0.5762768387794495], \"y\": [2.15419602394104], \"mode\": \"markers\", \"text\": \"valve\", \"textposition\": \"top center\"}, {\"type\": \"scatter\", \"x\": [-3.230781078338623], \"y\": [-3.888073682785034], \"mode\": \"markers\", \"text\": \"vancomycin\", \"textposition\": \"top center\"}, {\"type\": \"scatter\", \"x\": [-8.24597454071045], \"y\": [0.4644072949886322], \"mode\": \"markers\", \"text\": \"vascular\", \"textposition\": \"top center\"}, {\"type\": \"scatter\", \"x\": [1.6177504062652588], \"y\": [0.18017147481441498], \"mode\": \"markers\", \"text\": \"vein\", \"textposition\": \"top center\"}, {\"type\": \"scatter\", \"x\": [1.7663522958755493], \"y\": [2.1964709758758545], \"mode\": \"markers\", \"text\": \"vent\", \"textposition\": \"top center\"}, {\"type\": \"scatter\", \"x\": [-10.330799102783203], \"y\": [2.2853925228118896], \"mode\": \"markers\", \"text\": \"ventricle\", \"textposition\": \"top center\"}, {\"type\": \"scatter\", \"x\": [-10.333572387695312], \"y\": [2.2358670234680176], \"mode\": \"markers\", \"text\": \"ventricular\", \"textposition\": \"top center\"}, {\"type\": \"scatter\", \"x\": [-3.313596725463867], \"y\": [-8.954451560974121], \"mode\": \"markers\", \"text\": \"vicodin\", \"textposition\": \"top center\"}, {\"type\": \"scatter\", \"x\": [0.1694420874118805], \"y\": [3.166384696960449], \"mode\": \"markers\", \"text\": \"vitals\", \"textposition\": \"top center\"}, {\"type\": \"scatter\", \"x\": [3.755955457687378], \"y\": [-8.318708419799805], \"mode\": \"markers\", \"text\": \"vodka\", \"textposition\": \"top center\"}, {\"type\": \"scatter\", \"x\": [-2.73664927482605], \"y\": [-0.9041826725006104], \"mode\": \"markers\", \"text\": \"vomiting\", \"textposition\": \"top center\"}, {\"type\": \"scatter\", \"x\": [4.195095062255859], \"y\": [-6.104586124420166], \"mode\": \"markers\", \"text\": \"walker\", \"textposition\": \"top center\"}, {\"type\": \"scatter\", \"x\": [9.499774932861328], \"y\": [1.1498891115188599], \"mode\": \"markers\", \"text\": \"wanted\", \"textposition\": \"top center\"}, {\"type\": \"scatter\", \"x\": [1.5984385013580322], \"y\": [3.421489953994751], \"mode\": \"markers\", \"text\": \"ward\", \"textposition\": \"top center\"}, {\"type\": \"scatter\", \"x\": [1.925791621208191], \"y\": [-1.3259328603744507], \"mode\": \"markers\", \"text\": \"weakness\", \"textposition\": \"top center\"}, {\"type\": \"scatter\", \"x\": [5.01307487487793], \"y\": [3.4755280017852783], \"mode\": \"markers\", \"text\": \"weeks\", \"textposition\": \"top center\"}, {\"type\": \"scatter\", \"x\": [-3.598167896270752], \"y\": [-10.243480682373047], \"mode\": \"markers\", \"text\": \"wellbutrin\", \"textposition\": \"top center\"}, {\"type\": \"scatter\", \"x\": [8.371488571166992], \"y\": [2.8251166343688965], \"mode\": \"markers\", \"text\": \"went\", \"textposition\": \"top center\"}, {\"type\": \"scatter\", \"x\": [6.454776763916016], \"y\": [2.2417497634887695], \"mode\": \"markers\", \"text\": \"were\", \"textposition\": \"top center\"}, {\"type\": \"scatter\", \"x\": [7.733107566833496], \"y\": [-6.131743907928467], \"mode\": \"markers\", \"text\": \"widowed\", \"textposition\": \"top center\"}, {\"type\": \"scatter\", \"x\": [12.522298812866211], \"y\": [-5.2067084312438965], \"mode\": \"markers\", \"text\": \"withdrawal\", \"textposition\": \"top center\"}, {\"type\": \"scatter\", \"x\": [12.521829605102539], \"y\": [-5.211629390716553], \"mode\": \"markers\", \"text\": \"withdrawl\", \"textposition\": \"top center\"}, {\"type\": \"scatter\", \"x\": [9.579721450805664], \"y\": [2.7043068408966064], \"mode\": \"markers\", \"text\": \"worked\", \"textposition\": \"top center\"}, {\"type\": \"scatter\", \"x\": [1.38680100440979], \"y\": [-1.064972162246704], \"mode\": \"markers\", \"text\": \"worsening\", \"textposition\": \"top center\"}, {\"type\": \"scatter\", \"x\": [-0.18026266992092133], \"y\": [7.982839584350586], \"mode\": \"markers\", \"text\": \"wrist\", \"textposition\": \"top center\"}, {\"type\": \"scatter\", \"x\": [-0.1447824388742447], \"y\": [8.032336235046387], \"mode\": \"markers\", \"text\": \"wrists\", \"textposition\": \"top center\"}, {\"type\": \"scatter\", \"x\": [-3.5376057624816895], \"y\": [-9.564475059509277], \"mode\": \"markers\", \"text\": \"xanax\", \"textposition\": \"top center\"}, {\"type\": \"scatter\", \"x\": [5.0590901374816895], \"y\": [3.373211622238159], \"mode\": \"markers\", \"text\": \"years\", \"textposition\": \"top center\"}, {\"type\": \"scatter\", \"x\": [-4.196280002593994], \"y\": [-9.270572662353516], \"mode\": \"markers\", \"text\": \"zoloft\", \"textposition\": \"top center\"}, {\"type\": \"scatter\", \"x\": [-0.38863521814346313], \"y\": [-2.0977234840393066], \"mode\": \"markers\", \"text\": \"zyprexa\", \"textposition\": \"top center\"}], {\"title\": \"T-SNE for Google embedded vectors 510 words\", \"showlegend\": false}, {\"showLink\": true, \"linkText\": \"Export to plot.ly\"})});</script>"
      ],
      "text/vnd.plotly.v1+html": [
       "<div id=\"706298bd-a899-4e9b-828d-63451df5b7a2\" style=\"height: 525px; width: 100%;\" class=\"plotly-graph-div\"></div><script type=\"text/javascript\">require([\"plotly\"], function(Plotly) { window.PLOTLYENV=window.PLOTLYENV || {};window.PLOTLYENV.BASE_URL=\"https://plot.ly\";Plotly.newPlot(\"706298bd-a899-4e9b-828d-63451df5b7a2\", [{\"type\": \"scatter\", \"x\": [-3.048480987548828], \"y\": [4.969440937042236], \"mode\": \"markers\", \"text\": \"abdominal\", \"textposition\": \"top center\"}, {\"type\": \"scatter\", \"x\": [-3.467879056930542], \"y\": [-5.582307815551758], \"mode\": \"markers\", \"text\": \"acetaminophen\", \"textposition\": \"top center\"}, {\"type\": \"scatter\", \"x\": [3.5309088230133057], \"y\": [6.066917419433594], \"mode\": \"markers\", \"text\": \"activated\", \"textposition\": \"top center\"}, {\"type\": \"scatter\", \"x\": [5.6870880126953125], \"y\": [-1.0045024156570435], \"mode\": \"markers\", \"text\": \"actively\", \"textposition\": \"top center\"}, {\"type\": \"scatter\", \"x\": [-1.5187054872512817], \"y\": [-0.2103167027235031], \"mode\": \"markers\", \"text\": \"acute\", \"textposition\": \"top center\"}, {\"type\": \"scatter\", \"x\": [2.363182544708252], \"y\": [-1.7676578760147095], \"mode\": \"markers\", \"text\": \"acutely\", \"textposition\": \"top center\"}, {\"type\": \"scatter\", \"x\": [-0.5048936009407043], \"y\": [-2.396243095397949], \"mode\": \"markers\", \"text\": \"adhd\", \"textposition\": \"top center\"}, {\"type\": \"scatter\", \"x\": [1.4579402208328247], \"y\": [4.741952419281006], \"mode\": \"markers\", \"text\": \"admissions\", \"textposition\": \"top center\"}, {\"type\": \"scatter\", \"x\": [8.719043731689453], \"y\": [-0.5197963118553162], \"mode\": \"markers\", \"text\": \"admitted\", \"textposition\": \"top center\"}, {\"type\": \"scatter\", \"x\": [-2.3511276245117188], \"y\": [-1.9338667392730713], \"mode\": \"markers\", \"text\": \"adrenal\", \"textposition\": \"top center\"}, {\"type\": \"scatter\", \"x\": [0.4475654065608978], \"y\": [-1.2731887102127075], \"mode\": \"markers\", \"text\": \"adverse\", \"textposition\": \"top center\"}, {\"type\": \"scatter\", \"x\": [1.3923540115356445], \"y\": [-2.4362456798553467], \"mode\": \"markers\", \"text\": \"agitation\", \"textposition\": \"top center\"}, {\"type\": \"scatter\", \"x\": [9.86614990234375], \"y\": [0.7939206957817078], \"mode\": \"markers\", \"text\": \"agreed\", \"textposition\": \"top center\"}, {\"type\": \"scatter\", \"x\": [-2.27215313911438], \"y\": [2.727208137512207], \"mode\": \"markers\", \"text\": \"airway\", \"textposition\": \"top center\"}, {\"type\": \"scatter\", \"x\": [4.955961227416992], \"y\": [-7.755412578582764], \"mode\": \"markers\", \"text\": \"alcoholic\", \"textposition\": \"top center\"}, {\"type\": \"scatter\", \"x\": [5.084563255310059], \"y\": [-7.709310054779053], \"mode\": \"markers\", \"text\": \"alcoholism\", \"textposition\": \"top center\"}, {\"type\": \"scatter\", \"x\": [2.772470712661743], \"y\": [6.695104122161865], \"mode\": \"markers\", \"text\": \"alert\", \"textposition\": \"top center\"}, {\"type\": \"scatter\", \"x\": [-6.748377323150635], \"y\": [-2.290092945098877], \"mode\": \"markers\", \"text\": \"allergies\", \"textposition\": \"top center\"}, {\"type\": \"scatter\", \"x\": [-6.761544227600098], \"y\": [-2.283607006072998], \"mode\": \"markers\", \"text\": \"allergy\", \"textposition\": \"top center\"}, {\"type\": \"scatter\", \"x\": [3.936767101287842], \"y\": [2.166962146759033], \"mode\": \"markers\", \"text\": \"altered\", \"textposition\": \"top center\"}, {\"type\": \"scatter\", \"x\": [-3.7796921730041504], \"y\": [-9.445267677307129], \"mode\": \"markers\", \"text\": \"ambien\", \"textposition\": \"top center\"}, {\"type\": \"scatter\", \"x\": [0.5111344456672668], \"y\": [0.5497798919677734], \"mode\": \"markers\", \"text\": \"ambulating\", \"textposition\": \"top center\"}, {\"type\": \"scatter\", \"x\": [-4.068596363067627], \"y\": [-2.9337825775146484], \"mode\": \"markers\", \"text\": \"anemia\", \"textposition\": \"top center\"}, {\"type\": \"scatter\", \"x\": [-7.0478410720825195], \"y\": [-1.4027857780456543], \"mode\": \"markers\", \"text\": \"apnea\", \"textposition\": \"top center\"}, {\"type\": \"scatter\", \"x\": [6.822037696838379], \"y\": [-0.5904185771942139], \"mode\": \"markers\", \"text\": \"appears\", \"textposition\": \"top center\"}, {\"type\": \"scatter\", \"x\": [-2.459990978240967], \"y\": [4.313032627105713], \"mode\": \"markers\", \"text\": \"appendectomy\", \"textposition\": \"top center\"}, {\"type\": \"scatter\", \"x\": [3.370971918106079], \"y\": [-4.082556247711182], \"mode\": \"markers\", \"text\": \"appetite\", \"textposition\": \"top center\"}, {\"type\": \"scatter\", \"x\": [1.8340492248535156], \"y\": [-3.6636319160461426], \"mode\": \"markers\", \"text\": \"approx\", \"textposition\": \"top center\"}, {\"type\": \"scatter\", \"x\": [-2.2919294834136963], \"y\": [6.104097366333008], \"mode\": \"markers\", \"text\": \"artery\", \"textposition\": \"top center\"}, {\"type\": \"scatter\", \"x\": [4.052406311035156], \"y\": [-2.503065347671509], \"mode\": \"markers\", \"text\": \"aspiration\", \"textposition\": \"top center\"}, {\"type\": \"scatter\", \"x\": [-3.4401283264160156], \"y\": [-5.502368927001953], \"mode\": \"markers\", \"text\": \"aspirin\", \"textposition\": \"top center\"}, {\"type\": \"scatter\", \"x\": [-6.684579372406006], \"y\": [-2.311809778213501], \"mode\": \"markers\", \"text\": \"asthma\", \"textposition\": \"top center\"}, {\"type\": \"scatter\", \"x\": [-3.972790479660034], \"y\": [-9.24617862701416], \"mode\": \"markers\", \"text\": \"ativan\", \"textposition\": \"top center\"}, {\"type\": \"scatter\", \"x\": [-10.308608055114746], \"y\": [2.252593517303467], \"mode\": \"markers\", \"text\": \"atrial\", \"textposition\": \"top center\"}, {\"type\": \"scatter\", \"x\": [10.662188529968262], \"y\": [1.9862128496170044], \"mode\": \"markers\", \"text\": \"attempted\", \"textposition\": \"top center\"}, {\"type\": \"scatter\", \"x\": [10.981607437133789], \"y\": [2.0957999229431152], \"mode\": \"markers\", \"text\": \"attempts\", \"textposition\": \"top center\"}, {\"type\": \"scatter\", \"x\": [6.965225696563721], \"y\": [4.2137603759765625], \"mode\": \"markers\", \"text\": \"attending\", \"textposition\": \"top center\"}, {\"type\": \"scatter\", \"x\": [-0.3327837586402893], \"y\": [0.7388309240341187], \"mode\": \"markers\", \"text\": \"awake\", \"textposition\": \"top center\"}, {\"type\": \"scatter\", \"x\": [1.366903305053711], \"y\": [-0.20634746551513672], \"mode\": \"markers\", \"text\": \"axis\", \"textposition\": \"top center\"}, {\"type\": \"scatter\", \"x\": [-0.6206204295158386], \"y\": [-6.088721752166748], \"mode\": \"markers\", \"text\": \"barbiturates\", \"textposition\": \"top center\"}, {\"type\": \"scatter\", \"x\": [1.4153062105178833], \"y\": [0.8271965384483337], \"mode\": \"markers\", \"text\": \"baseline\", \"textposition\": \"top center\"}, {\"type\": \"scatter\", \"x\": [6.42653226852417], \"y\": [2.0276198387145996], \"mode\": \"markers\", \"text\": \"been\", \"textposition\": \"top center\"}, {\"type\": \"scatter\", \"x\": [8.234856605529785], \"y\": [4.030905723571777], \"mode\": \"markers\", \"text\": \"began\", \"textposition\": \"top center\"}, {\"type\": \"scatter\", \"x\": [7.877133369445801], \"y\": [-0.11074446886777878], \"mode\": \"markers\", \"text\": \"believed\", \"textposition\": \"top center\"}, {\"type\": \"scatter\", \"x\": [-0.6689338684082031], \"y\": [-2.9050023555755615], \"mode\": \"markers\", \"text\": \"benadryl\", \"textposition\": \"top center\"}, {\"type\": \"scatter\", \"x\": [-1.3894671201705933], \"y\": [-4.369761943817139], \"mode\": \"markers\", \"text\": \"benzo\", \"textposition\": \"top center\"}, {\"type\": \"scatter\", \"x\": [-1.846784234046936], \"y\": [-5.144673824310303], \"mode\": \"markers\", \"text\": \"benzodiazepine\", \"textposition\": \"top center\"}, {\"type\": \"scatter\", \"x\": [-1.9922066926956177], \"y\": [-5.648524761199951], \"mode\": \"markers\", \"text\": \"benzodiazepines\", \"textposition\": \"top center\"}, {\"type\": \"scatter\", \"x\": [-0.6889421343803406], \"y\": [-4.467636585235596], \"mode\": \"markers\", \"text\": \"benzos\", \"textposition\": \"top center\"}, {\"type\": \"scatter\", \"x\": [-4.346619129180908], \"y\": [3.604494333267212], \"mode\": \"markers\", \"text\": \"biopsy\", \"textposition\": \"top center\"}, {\"type\": \"scatter\", \"x\": [-0.4265488386154175], \"y\": [-1.1514787673950195], \"mode\": \"markers\", \"text\": \"bipolar\", \"textposition\": \"top center\"}, {\"type\": \"scatter\", \"x\": [-1.1805533170700073], \"y\": [2.683926582336426], \"mode\": \"markers\", \"text\": \"bleeding\", \"textposition\": \"top center\"}, {\"type\": \"scatter\", \"x\": [3.456317186355591], \"y\": [-2.5216076374053955], \"mode\": \"markers\", \"text\": \"borderline\", \"textposition\": \"top center\"}, {\"type\": \"scatter\", \"x\": [3.5991921424865723], \"y\": [-8.149688720703125], \"mode\": \"markers\", \"text\": \"bottles\", \"textposition\": \"top center\"}, {\"type\": \"scatter\", \"x\": [-6.471023082733154], \"y\": [1.805336833000183], \"mode\": \"markers\", \"text\": \"bowel\", \"textposition\": \"top center\"}, {\"type\": \"scatter\", \"x\": [-1.0728429555892944], \"y\": [2.1150803565979004], \"mode\": \"markers\", \"text\": \"breathing\", \"textposition\": \"top center\"}, {\"type\": \"scatter\", \"x\": [8.390009880065918], \"y\": [2.652512550354004], \"mode\": \"markers\", \"text\": \"brought\", \"textposition\": \"top center\"}, {\"type\": \"scatter\", \"x\": [0.5247703790664673], \"y\": [4.9373860359191895], \"mode\": \"markers\", \"text\": \"bypass\", \"textposition\": \"top center\"}, {\"type\": \"scatter\", \"x\": [-0.8005326390266418], \"y\": [6.972685813903809], \"mode\": \"markers\", \"text\": \"calf\", \"textposition\": \"top center\"}, {\"type\": \"scatter\", \"x\": [6.924108505249023], \"y\": [0.5621026754379272], \"mode\": \"markers\", \"text\": \"called\", \"textposition\": \"top center\"}, {\"type\": \"scatter\", \"x\": [8.295515060424805], \"y\": [2.677050828933716], \"mode\": \"markers\", \"text\": \"came\", \"textposition\": \"top center\"}, {\"type\": \"scatter\", \"x\": [-8.2080659866333], \"y\": [0.3009257912635803], \"mode\": \"markers\", \"text\": \"cardiac\", \"textposition\": \"top center\"}, {\"type\": \"scatter\", \"x\": [-5.9248456954956055], \"y\": [7.206304550170898], \"mode\": \"markers\", \"text\": \"cardiology\", \"textposition\": \"top center\"}, {\"type\": \"scatter\", \"x\": [-5.826488018035889], \"y\": [7.010829925537109], \"mode\": \"markers\", \"text\": \"cardiothoracic\", \"textposition\": \"top center\"}, {\"type\": \"scatter\", \"x\": [-8.282479286193848], \"y\": [0.016257937997579575], \"mode\": \"markers\", \"text\": \"cardiovascular\", \"textposition\": \"top center\"}, {\"type\": \"scatter\", \"x\": [-1.6753464937210083], \"y\": [1.368436574935913], \"mode\": \"markers\", \"text\": \"cath\", \"textposition\": \"top center\"}, {\"type\": \"scatter\", \"x\": [-5.578903675079346], \"y\": [4.84375], \"mode\": \"markers\", \"text\": \"cervical\", \"textposition\": \"top center\"}, {\"type\": \"scatter\", \"x\": [3.9339025020599365], \"y\": [1.9844083786010742], \"mode\": \"markers\", \"text\": \"changes\", \"textposition\": \"top center\"}, {\"type\": \"scatter\", \"x\": [2.0699024200439453], \"y\": [-4.5100321769714355], \"mode\": \"markers\", \"text\": \"charcoal\", \"textposition\": \"top center\"}, {\"type\": \"scatter\", \"x\": [6.204343318939209], \"y\": [-5.256062984466553], \"mode\": \"markers\", \"text\": \"children\", \"textposition\": \"top center\"}, {\"type\": \"scatter\", \"x\": [-5.452110767364502], \"y\": [3.12172269821167], \"mode\": \"markers\", \"text\": \"cholecystectomy\", \"textposition\": \"top center\"}, {\"type\": \"scatter\", \"x\": [-1.541403889656067], \"y\": [-0.48547685146331787], \"mode\": \"markers\", \"text\": \"chronic\", \"textposition\": \"top center\"}, {\"type\": \"scatter\", \"x\": [-8.21185302734375], \"y\": [-2.4775454998016357], \"mode\": \"markers\", \"text\": \"cirrhosis\", \"textposition\": \"top center\"}, {\"type\": \"scatter\", \"x\": [8.461471557617188], \"y\": [5.907687187194824], \"mode\": \"markers\", \"text\": \"cleared\", \"textposition\": \"top center\"}, {\"type\": \"scatter\", \"x\": [-1.2664366960525513], \"y\": [-5.264148712158203], \"mode\": \"markers\", \"text\": \"clonazepam\", \"textposition\": \"top center\"}, {\"type\": \"scatter\", \"x\": [-0.42908820509910583], \"y\": [-8.232780456542969], \"mode\": \"markers\", \"text\": \"cocaine\", \"textposition\": \"top center\"}, {\"type\": \"scatter\", \"x\": [-0.883491039276123], \"y\": [-5.581335544586182], \"mode\": \"markers\", \"text\": \"codeine\", \"textposition\": \"top center\"}, {\"type\": \"scatter\", \"x\": [3.0110244750976562], \"y\": [-0.7988494634628296], \"mode\": \"markers\", \"text\": \"coherent\", \"textposition\": \"top center\"}, {\"type\": \"scatter\", \"x\": [-5.4356794357299805], \"y\": [3.0875236988067627], \"mode\": \"markers\", \"text\": \"colectomy\", \"textposition\": \"top center\"}, {\"type\": \"scatter\", \"x\": [-6.499961853027344], \"y\": [1.971949577331543], \"mode\": \"markers\", \"text\": \"colon\", \"textposition\": \"top center\"}, {\"type\": \"scatter\", \"x\": [-5.504199028015137], \"y\": [1.3963640928268433], \"mode\": \"markers\", \"text\": \"colonic\", \"textposition\": \"top center\"}, {\"type\": \"scatter\", \"x\": [0.48514503240585327], \"y\": [1.1026906967163086], \"mode\": \"markers\", \"text\": \"compartment\", \"textposition\": \"top center\"}, {\"type\": \"scatter\", \"x\": [-3.0656487941741943], \"y\": [0.5588881373405457], \"mode\": \"markers\", \"text\": \"complications\", \"textposition\": \"top center\"}, {\"type\": \"scatter\", \"x\": [4.895175933837891], \"y\": [-1.055813193321228], \"mode\": \"markers\", \"text\": \"concerning\", \"textposition\": \"top center\"}, {\"type\": \"scatter\", \"x\": [9.11495304107666], \"y\": [-0.8765605688095093], \"mode\": \"markers\", \"text\": \"confirmed\", \"textposition\": \"top center\"}, {\"type\": \"scatter\", \"x\": [12.484910011291504], \"y\": [-1.5367223024368286], \"mode\": \"markers\", \"text\": \"consult\", \"textposition\": \"top center\"}, {\"type\": \"scatter\", \"x\": [12.407301902770996], \"y\": [-1.50917649269104], \"mode\": \"markers\", \"text\": \"consulted\", \"textposition\": \"top center\"}, {\"type\": \"scatter\", \"x\": [4.924956798553467], \"y\": [0.7261924743652344], \"mode\": \"markers\", \"text\": \"continuing\", \"textposition\": \"top center\"}, {\"type\": \"scatter\", \"x\": [3.2421252727508545], \"y\": [0.3662824034690857], \"mode\": \"markers\", \"text\": \"contributory\", \"textposition\": \"top center\"}, {\"type\": \"scatter\", \"x\": [2.679011106491089], \"y\": [2.8440959453582764], \"mode\": \"markers\", \"text\": \"controlled\", \"textposition\": \"top center\"}, {\"type\": \"scatter\", \"x\": [1.446759819984436], \"y\": [2.705876588821411], \"mode\": \"markers\", \"text\": \"cord\", \"textposition\": \"top center\"}, {\"type\": \"scatter\", \"x\": [-8.33226490020752], \"y\": [0.3457675874233246], \"mode\": \"markers\", \"text\": \"coronary\", \"textposition\": \"top center\"}, {\"type\": \"scatter\", \"x\": [-0.3296942412853241], \"y\": [-3.09011173248291], \"mode\": \"markers\", \"text\": \"cough\", \"textposition\": \"top center\"}, {\"type\": \"scatter\", \"x\": [-1.0491598844528198], \"y\": [-1.879313588142395], \"mode\": \"markers\", \"text\": \"coumadin\", \"textposition\": \"top center\"}, {\"type\": \"scatter\", \"x\": [0.7251126170158386], \"y\": [-0.5653488039970398], \"mode\": \"markers\", \"text\": \"counseling\", \"textposition\": \"top center\"}, {\"type\": \"scatter\", \"x\": [-9.77646541595459], \"y\": [-2.6750617027282715], \"mode\": \"markers\", \"text\": \"creatinine\", \"textposition\": \"top center\"}, {\"type\": \"scatter\", \"x\": [5.441673755645752], \"y\": [2.147075891494751], \"mode\": \"markers\", \"text\": \"cutting\", \"textposition\": \"top center\"}, {\"type\": \"scatter\", \"x\": [-4.301904201507568], \"y\": [4.315168380737305], \"mode\": \"markers\", \"text\": \"cyst\", \"textposition\": \"top center\"}, {\"type\": \"scatter\", \"x\": [4.944244861602783], \"y\": [3.391957998275757], \"mode\": \"markers\", \"text\": \"days\", \"textposition\": \"top center\"}, {\"type\": \"scatter\", \"x\": [3.082423210144043], \"y\": [3.642699718475342], \"mode\": \"markers\", \"text\": \"deceased\", \"textposition\": \"top center\"}, {\"type\": \"scatter\", \"x\": [9.75035285949707], \"y\": [0.9459754824638367], \"mode\": \"markers\", \"text\": \"decided\", \"textposition\": \"top center\"}, {\"type\": \"scatter\", \"x\": [4.8109822273254395], \"y\": [5.5684494972229], \"mode\": \"markers\", \"text\": \"decreased\", \"textposition\": \"top center\"}, {\"type\": \"scatter\", \"x\": [7.458704948425293], \"y\": [0.42213043570518494], \"mode\": \"markers\", \"text\": \"deemed\", \"textposition\": \"top center\"}, {\"type\": \"scatter\", \"x\": [1.1117022037506104], \"y\": [1.455190658569336], \"mode\": \"markers\", \"text\": \"defect\", \"textposition\": \"top center\"}, {\"type\": \"scatter\", \"x\": [1.1342586278915405], \"y\": [6.319031238555908], \"mode\": \"markers\", \"text\": \"deficiency\", \"textposition\": \"top center\"}, {\"type\": \"scatter\", \"x\": [10.667569160461426], \"y\": [-0.007529734168201685], \"mode\": \"markers\", \"text\": \"denied\", \"textposition\": \"top center\"}, {\"type\": \"scatter\", \"x\": [10.726176261901855], \"y\": [-0.04817052185535431], \"mode\": \"markers\", \"text\": \"denies\", \"textposition\": \"top center\"}, {\"type\": \"scatter\", \"x\": [1.9919602870941162], \"y\": [-0.9217576384544373], \"mode\": \"markers\", \"text\": \"depakote\", \"textposition\": \"top center\"}, {\"type\": \"scatter\", \"x\": [3.929091691970825], \"y\": [-3.443688154220581], \"mode\": \"markers\", \"text\": \"dependence\", \"textposition\": \"top center\"}, {\"type\": \"scatter\", \"x\": [2.1100354194641113], \"y\": [-1.9962358474731445], \"mode\": \"markers\", \"text\": \"depressed\", \"textposition\": \"top center\"}, {\"type\": \"scatter\", \"x\": [8.507874488830566], \"y\": [-3.607832193374634], \"mode\": \"markers\", \"text\": \"details\", \"textposition\": \"top center\"}, {\"type\": \"scatter\", \"x\": [7.569871425628662], \"y\": [0.36096152663230896], \"mode\": \"markers\", \"text\": \"determined\", \"textposition\": \"top center\"}, {\"type\": \"scatter\", \"x\": [7.160833358764648], \"y\": [-9.575261116027832], \"mode\": \"markers\", \"text\": \"detox\", \"textposition\": \"top center\"}, {\"type\": \"scatter\", \"x\": [-6.8901567459106445], \"y\": [-3.775817632675171], \"mode\": \"markers\", \"text\": \"diabetes\", \"textposition\": \"top center\"}, {\"type\": \"scatter\", \"x\": [-3.802387237548828], \"y\": [2.6449339389801025], \"mode\": \"markers\", \"text\": \"diagnosed\", \"textposition\": \"top center\"}, {\"type\": \"scatter\", \"x\": [-3.80952787399292], \"y\": [2.6437180042266846], \"mode\": \"markers\", \"text\": \"diagnoses\", \"textposition\": \"top center\"}, {\"type\": \"scatter\", \"x\": [-3.845790386199951], \"y\": [2.6895318031311035], \"mode\": \"markers\", \"text\": \"diagnosis\", \"textposition\": \"top center\"}, {\"type\": \"scatter\", \"x\": [-10.920048713684082], \"y\": [-0.9153570532798767], \"mode\": \"markers\", \"text\": \"diastolic\", \"textposition\": \"top center\"}, {\"type\": \"scatter\", \"x\": [-3.1331911087036133], \"y\": [-8.612181663513184], \"mode\": \"markers\", \"text\": \"diazepam\", \"textposition\": \"top center\"}, {\"type\": \"scatter\", \"x\": [3.8883230686187744], \"y\": [8.090757369995117], \"mode\": \"markers\", \"text\": \"died\", \"textposition\": \"top center\"}, {\"type\": \"scatter\", \"x\": [-1.237639307975769], \"y\": [1.1813571453094482], \"mode\": \"markers\", \"text\": \"dilated\", \"textposition\": \"top center\"}, {\"type\": \"scatter\", \"x\": [10.332596778869629], \"y\": [6.866376876831055], \"mode\": \"markers\", \"text\": \"discharged\", \"textposition\": \"top center\"}, {\"type\": \"scatter\", \"x\": [2.6401901245117188], \"y\": [-4.0702338218688965], \"mode\": \"markers\", \"text\": \"discontinued\", \"textposition\": \"top center\"}, {\"type\": \"scatter\", \"x\": [10.690508842468262], \"y\": [-1.230330467224121], \"mode\": \"markers\", \"text\": \"discussed\", \"textposition\": \"top center\"}, {\"type\": \"scatter\", \"x\": [4.173826694488525], \"y\": [-1.8976895809173584], \"mode\": \"markers\", \"text\": \"disposition\", \"textposition\": \"top center\"}, {\"type\": \"scatter\", \"x\": [-6.361169815063477], \"y\": [3.912872791290283], \"mode\": \"markers\", \"text\": \"distal\", \"textposition\": \"top center\"}, {\"type\": \"scatter\", \"x\": [7.7234296798706055], \"y\": [-6.120687961578369], \"mode\": \"markers\", \"text\": \"divorced\", \"textposition\": \"top center\"}, {\"type\": \"scatter\", \"x\": [6.332228660583496], \"y\": [-0.3924122154712677], \"mode\": \"markers\", \"text\": \"does\", \"textposition\": \"top center\"}, {\"type\": \"scatter\", \"x\": [6.796245574951172], \"y\": [1.357606053352356], \"mode\": \"markers\", \"text\": \"done\", \"textposition\": \"top center\"}, {\"type\": \"scatter\", \"x\": [-0.09566934406757355], \"y\": [-3.7484965324401855], \"mode\": \"markers\", \"text\": \"dose\", \"textposition\": \"top center\"}, {\"type\": \"scatter\", \"x\": [4.1563520431518555], \"y\": [-8.459765434265137], \"mode\": \"markers\", \"text\": \"drinking\", \"textposition\": \"top center\"}, {\"type\": \"scatter\", \"x\": [3.8973612785339355], \"y\": [-8.328131675720215], \"mode\": \"markers\", \"text\": \"drinks\", \"textposition\": \"top center\"}, {\"type\": \"scatter\", \"x\": [-0.38056546449661255], \"y\": [-1.8546161651611328], \"mode\": \"markers\", \"text\": \"drip\", \"textposition\": \"top center\"}, {\"type\": \"scatter\", \"x\": [-1.2629154920578003], \"y\": [-7.045605182647705], \"mode\": \"markers\", \"text\": \"drugs\", \"textposition\": \"top center\"}, {\"type\": \"scatter\", \"x\": [-7.878088474273682], \"y\": [-3.866199254989624], \"mode\": \"markers\", \"text\": \"dyslipidemia\", \"textposition\": \"top center\"}, {\"type\": \"scatter\", \"x\": [2.9746572971343994], \"y\": [-5.168137073516846], \"mode\": \"markers\", \"text\": \"eating\", \"textposition\": \"top center\"}, {\"type\": \"scatter\", \"x\": [3.704981565475464], \"y\": [-1.0724953413009644], \"mode\": \"markers\", \"text\": \"echo\", \"textposition\": \"top center\"}, {\"type\": \"scatter\", \"x\": [-3.192129373550415], \"y\": [3.317415475845337], \"mode\": \"markers\", \"text\": \"echocardiogram\", \"textposition\": \"top center\"}, {\"type\": \"scatter\", \"x\": [-4.918149948120117], \"y\": [-0.5496914982795715], \"mode\": \"markers\", \"text\": \"edema\", \"textposition\": \"top center\"}, {\"type\": \"scatter\", \"x\": [0.7278667092323303], \"y\": [-1.8986971378326416], \"mode\": \"markers\", \"text\": \"effects\", \"textposition\": \"top center\"}, {\"type\": \"scatter\", \"x\": [-4.163724422454834], \"y\": [-9.986867904663086], \"mode\": \"markers\", \"text\": \"effexor\", \"textposition\": \"top center\"}, {\"type\": \"scatter\", \"x\": [2.090127944946289], \"y\": [-0.013359247706830502], \"mode\": \"markers\", \"text\": \"elevated\", \"textposition\": \"top center\"}, {\"type\": \"scatter\", \"x\": [-3.560962438583374], \"y\": [-2.240691661834717], \"mode\": \"markers\", \"text\": \"encephalopathy\", \"textposition\": \"top center\"}, {\"type\": \"scatter\", \"x\": [-5.244112014770508], \"y\": [-3.0578434467315674], \"mode\": \"markers\", \"text\": \"endometriosis\", \"textposition\": \"top center\"}, {\"type\": \"scatter\", \"x\": [11.133817672729492], \"y\": [-1.092272162437439], \"mode\": \"markers\", \"text\": \"endorsed\", \"textposition\": \"top center\"}, {\"type\": \"scatter\", \"x\": [-5.386733531951904], \"y\": [-3.3562705516815186], \"mode\": \"markers\", \"text\": \"epilepsy\", \"textposition\": \"top center\"}, {\"type\": \"scatter\", \"x\": [-3.0487542152404785], \"y\": [-4.363471984863281], \"mode\": \"markers\", \"text\": \"erythromycin\", \"textposition\": \"top center\"}, {\"type\": \"scatter\", \"x\": [-6.63637638092041], \"y\": [2.0077898502349854], \"mode\": \"markers\", \"text\": \"esophageal\", \"textposition\": \"top center\"}, {\"type\": \"scatter\", \"x\": [-4.537220478057861], \"y\": [-0.8015003800392151], \"mode\": \"markers\", \"text\": \"esophagitis\", \"textposition\": \"top center\"}, {\"type\": \"scatter\", \"x\": [-6.787516117095947], \"y\": [2.088270425796509], \"mode\": \"markers\", \"text\": \"esophagus\", \"textposition\": \"top center\"}, {\"type\": \"scatter\", \"x\": [8.173067092895508], \"y\": [-0.2806074023246765], \"mode\": \"markers\", \"text\": \"estimated\", \"textposition\": \"top center\"}, {\"type\": \"scatter\", \"x\": [4.137120246887207], \"y\": [-4.314320087432861], \"mode\": \"markers\", \"text\": \"ethanol\", \"textposition\": \"top center\"}, {\"type\": \"scatter\", \"x\": [1.1319031715393066], \"y\": [-4.596843719482422], \"mode\": \"markers\", \"text\": \"ethylene\", \"textposition\": \"top center\"}, {\"type\": \"scatter\", \"x\": [-3.094728469848633], \"y\": [-1.69965398311615], \"mode\": \"markers\", \"text\": \"etiology\", \"textposition\": \"top center\"}, {\"type\": \"scatter\", \"x\": [0.5380035042762756], \"y\": [-2.7245326042175293], \"mode\": \"markers\", \"text\": \"eval\", \"textposition\": \"top center\"}, {\"type\": \"scatter\", \"x\": [5.7647600173950195], \"y\": [8.709148406982422], \"mode\": \"markers\", \"text\": \"evaluated\", \"textposition\": \"top center\"}, {\"type\": \"scatter\", \"x\": [0.9311885237693787], \"y\": [3.946126937866211], \"mode\": \"markers\", \"text\": \"exam\", \"textposition\": \"top center\"}, {\"type\": \"scatter\", \"x\": [11.724296569824219], \"y\": [4.225069522857666], \"mode\": \"markers\", \"text\": \"expired\", \"textposition\": \"top center\"}, {\"type\": \"scatter\", \"x\": [9.609908103942871], \"y\": [-1.4247469902038574], \"mode\": \"markers\", \"text\": \"expressed\", \"textposition\": \"top center\"}, {\"type\": \"scatter\", \"x\": [4.949268817901611], \"y\": [1.8395299911499023], \"mode\": \"markers\", \"text\": \"extended\", \"textposition\": \"top center\"}, {\"type\": \"scatter\", \"x\": [-1.1504942178726196], \"y\": [1.481734037399292], \"mode\": \"markers\", \"text\": \"extubated\", \"textposition\": \"top center\"}, {\"type\": \"scatter\", \"x\": [0.043433934450149536], \"y\": [0.030498601496219635], \"mode\": \"markers\", \"text\": \"facial\", \"textposition\": \"top center\"}, {\"type\": \"scatter\", \"x\": [4.1451568603515625], \"y\": [-0.6222827434539795], \"mode\": \"markers\", \"text\": \"feeds\", \"textposition\": \"top center\"}, {\"type\": \"scatter\", \"x\": [7.111124038696289], \"y\": [-1.178333044052124], \"mode\": \"markers\", \"text\": \"feels\", \"textposition\": \"top center\"}, {\"type\": \"scatter\", \"x\": [7.173312187194824], \"y\": [-1.175037145614624], \"mode\": \"markers\", \"text\": \"felt\", \"textposition\": \"top center\"}, {\"type\": \"scatter\", \"x\": [-2.713468551635742], \"y\": [-0.33230751752853394], \"mode\": \"markers\", \"text\": \"fever\", \"textposition\": \"top center\"}, {\"type\": \"scatter\", \"x\": [-2.7864186763763428], \"y\": [-0.3993152379989624], \"mode\": \"markers\", \"text\": \"fevers\", \"textposition\": \"top center\"}, {\"type\": \"scatter\", \"x\": [-4.4882025718688965], \"y\": [1.0920639038085938], \"mode\": \"markers\", \"text\": \"fibrillation\", \"textposition\": \"top center\"}, {\"type\": \"scatter\", \"x\": [1.9328217506408691], \"y\": [1.4913240671157837], \"mode\": \"markers\", \"text\": \"filter\", \"textposition\": \"top center\"}, {\"type\": \"scatter\", \"x\": [11.13762092590332], \"y\": [-2.999376058578491], \"mode\": \"markers\", \"text\": \"findings\", \"textposition\": \"top center\"}, {\"type\": \"scatter\", \"x\": [0.255080908536911], \"y\": [-2.697652578353882], \"mode\": \"markers\", \"text\": \"flexeril\", \"textposition\": \"top center\"}, {\"type\": \"scatter\", \"x\": [-0.1023649200797081], \"y\": [2.0787642002105713], \"mode\": \"markers\", \"text\": \"fluid\", \"textposition\": \"top center\"}, {\"type\": \"scatter\", \"x\": [-0.1866077035665512], \"y\": [2.1739425659179688], \"mode\": \"markers\", \"text\": \"fluids\", \"textposition\": \"top center\"}, {\"type\": \"scatter\", \"x\": [-5.897453784942627], \"y\": [-5.816973686218262], \"mode\": \"markers\", \"text\": \"folate\", \"textposition\": \"top center\"}, {\"type\": \"scatter\", \"x\": [7.980232238769531], \"y\": [2.427772283554077], \"mode\": \"markers\", \"text\": \"followed\", \"textposition\": \"top center\"}, {\"type\": \"scatter\", \"x\": [1.9066728353500366], \"y\": [0.9450433850288391], \"mode\": \"markers\", \"text\": \"followup\", \"textposition\": \"top center\"}, {\"type\": \"scatter\", \"x\": [-1.9563229084014893], \"y\": [4.765692710876465], \"mode\": \"markers\", \"text\": \"fracture\", \"textposition\": \"top center\"}, {\"type\": \"scatter\", \"x\": [6.095189571380615], \"y\": [-4.721320629119873], \"mode\": \"markers\", \"text\": \"friends\", \"textposition\": \"top center\"}, {\"type\": \"scatter\", \"x\": [4.4555768966674805], \"y\": [0.3571932911872864], \"mode\": \"markers\", \"text\": \"further\", \"textposition\": \"top center\"}, {\"type\": \"scatter\", \"x\": [-6.332003593444824], \"y\": [1.347564935684204], \"mode\": \"markers\", \"text\": \"gastric\", \"textposition\": \"top center\"}, {\"type\": \"scatter\", \"x\": [-4.166546821594238], \"y\": [-1.0601354837417603], \"mode\": \"markers\", \"text\": \"gastritis\", \"textposition\": \"top center\"}, {\"type\": \"scatter\", \"x\": [-6.312480449676514], \"y\": [0.7919136881828308], \"mode\": \"markers\", \"text\": \"gastrointestinal\", \"textposition\": \"top center\"}, {\"type\": \"scatter\", \"x\": [-1.14558744430542], \"y\": [-2.927492141723633], \"mode\": \"markers\", \"text\": \"glycol\", \"textposition\": \"top center\"}, {\"type\": \"scatter\", \"x\": [6.114387035369873], \"y\": [0.9882263541221619], \"mode\": \"markers\", \"text\": \"going\", \"textposition\": \"top center\"}, {\"type\": \"scatter\", \"x\": [-6.348517894744873], \"y\": [-3.345818042755127], \"mode\": \"markers\", \"text\": \"gout\", \"textposition\": \"top center\"}, {\"type\": \"scatter\", \"x\": [1.0463918447494507], \"y\": [0.6163224577903748], \"mode\": \"markers\", \"text\": \"graft\", \"textposition\": \"top center\"}, {\"type\": \"scatter\", \"x\": [0.9953795075416565], \"y\": [-6.330979824066162], \"mode\": \"markers\", \"text\": \"hallucinations\", \"textposition\": \"top center\"}, {\"type\": \"scatter\", \"x\": [6.162663459777832], \"y\": [4.328118324279785], \"mode\": \"markers\", \"text\": \"hanging\", \"textposition\": \"top center\"}, {\"type\": \"scatter\", \"x\": [4.650910377502441], \"y\": [-3.0266425609588623], \"mode\": \"markers\", \"text\": \"harm\", \"textposition\": \"top center\"}, {\"type\": \"scatter\", \"x\": [7.1951117515563965], \"y\": [3.8544888496398926], \"mode\": \"markers\", \"text\": \"held\", \"textposition\": \"top center\"}, {\"type\": \"scatter\", \"x\": [-9.915576934814453], \"y\": [-2.6966419219970703], \"mode\": \"markers\", \"text\": \"hematocrit\", \"textposition\": \"top center\"}, {\"type\": \"scatter\", \"x\": [1.2202237844467163], \"y\": [0.26045000553131104], \"mode\": \"markers\", \"text\": \"hemodynamically\", \"textposition\": \"top center\"}, {\"type\": \"scatter\", \"x\": [-9.46069049835205], \"y\": [0.5498193502426147], \"mode\": \"markers\", \"text\": \"hepatic\", \"textposition\": \"top center\"}, {\"type\": \"scatter\", \"x\": [-1.7141953706741333], \"y\": [-1.2888226509094238], \"mode\": \"markers\", \"text\": \"hepatitis\", \"textposition\": \"top center\"}, {\"type\": \"scatter\", \"x\": [-6.321677207946777], \"y\": [7.261603355407715], \"mode\": \"markers\", \"text\": \"hepatology\", \"textposition\": \"top center\"}, {\"type\": \"scatter\", \"x\": [-2.6885364055633545], \"y\": [4.794887065887451], \"mode\": \"markers\", \"text\": \"hernia\", \"textposition\": \"top center\"}, {\"type\": \"scatter\", \"x\": [-0.47450655698776245], \"y\": [-8.153215408325195], \"mode\": \"markers\", \"text\": \"heroin\", \"textposition\": \"top center\"}, {\"type\": \"scatter\", \"x\": [-3.508349657058716], \"y\": [1.4397176504135132], \"mode\": \"markers\", \"text\": \"hospitalization\", \"textposition\": \"top center\"}, {\"type\": \"scatter\", \"x\": [-3.6047403812408447], \"y\": [1.4507954120635986], \"mode\": \"markers\", \"text\": \"hospitalizations\", \"textposition\": \"top center\"}, {\"type\": \"scatter\", \"x\": [3.844782590866089], \"y\": [8.087922096252441], \"mode\": \"markers\", \"text\": \"hospitalized\", \"textposition\": \"top center\"}, {\"type\": \"scatter\", \"x\": [4.857083320617676], \"y\": [3.520667552947998], \"mode\": \"markers\", \"text\": \"hours\", \"textposition\": \"top center\"}, {\"type\": \"scatter\", \"x\": [-7.792226791381836], \"y\": [-3.7179131507873535], \"mode\": \"markers\", \"text\": \"hypercholesterolemia\", \"textposition\": \"top center\"}, {\"type\": \"scatter\", \"x\": [-7.89674711227417], \"y\": [-3.773529291152954], \"mode\": \"markers\", \"text\": \"hyperlipidemia\", \"textposition\": \"top center\"}, {\"type\": \"scatter\", \"x\": [-7.001451015472412], \"y\": [-3.5368874073028564], \"mode\": \"markers\", \"text\": \"hypertension\", \"textposition\": \"top center\"}, {\"type\": \"scatter\", \"x\": [-5.087426662445068], \"y\": [-0.04825630784034729], \"mode\": \"markers\", \"text\": \"hypotension\", \"textposition\": \"top center\"}, {\"type\": \"scatter\", \"x\": [-4.594890117645264], \"y\": [-2.1717567443847656], \"mode\": \"markers\", \"text\": \"hypothyroid\", \"textposition\": \"top center\"}, {\"type\": \"scatter\", \"x\": [-4.983218193054199], \"y\": [-2.440911054611206], \"mode\": \"markers\", \"text\": \"hypothyroidism\", \"textposition\": \"top center\"}, {\"type\": \"scatter\", \"x\": [-3.392146587371826], \"y\": [-5.533501625061035], \"mode\": \"markers\", \"text\": \"ibuprofen\", \"textposition\": \"top center\"}, {\"type\": \"scatter\", \"x\": [1.667397379875183], \"y\": [-1.902215838432312], \"mode\": \"markers\", \"text\": \"ideation\", \"textposition\": \"top center\"}, {\"type\": \"scatter\", \"x\": [2.71601939201355], \"y\": [-1.239292860031128], \"mode\": \"markers\", \"text\": \"ideations\", \"textposition\": \"top center\"}, {\"type\": \"scatter\", \"x\": [3.507046699523926], \"y\": [-0.7299551367759705], \"mode\": \"markers\", \"text\": \"illicits\", \"textposition\": \"top center\"}, {\"type\": \"scatter\", \"x\": [-0.5323327779769897], \"y\": [1.1678745746612549], \"mode\": \"markers\", \"text\": \"imaging\", \"textposition\": \"top center\"}, {\"type\": \"scatter\", \"x\": [4.929807186126709], \"y\": [5.242514610290527], \"mode\": \"markers\", \"text\": \"improved\", \"textposition\": \"top center\"}, {\"type\": \"scatter\", \"x\": [3.353480339050293], \"y\": [-0.841985821723938], \"mode\": \"markers\", \"text\": \"incarceration\", \"textposition\": \"top center\"}, {\"type\": \"scatter\", \"x\": [8.876859664916992], \"y\": [-0.9304161071777344], \"mode\": \"markers\", \"text\": \"indicated\", \"textposition\": \"top center\"}, {\"type\": \"scatter\", \"x\": [-3.200566530227661], \"y\": [-3.872107744216919], \"mode\": \"markers\", \"text\": \"indomethacin\", \"textposition\": \"top center\"}, {\"type\": \"scatter\", \"x\": [0.8050349354743958], \"y\": [-1.8027911186218262], \"mode\": \"markers\", \"text\": \"induced\", \"textposition\": \"top center\"}, {\"type\": \"scatter\", \"x\": [12.551782608032227], \"y\": [2.8261868953704834], \"mode\": \"markers\", \"text\": \"inflicted\", \"textposition\": \"top center\"}, {\"type\": \"scatter\", \"x\": [1.9322646856307983], \"y\": [-11.025379180908203], \"mode\": \"markers\", \"text\": \"ingested\", \"textposition\": \"top center\"}, {\"type\": \"scatter\", \"x\": [1.9030029773712158], \"y\": [-10.991508483886719], \"mode\": \"markers\", \"text\": \"ingesting\", \"textposition\": \"top center\"}, {\"type\": \"scatter\", \"x\": [1.9364018440246582], \"y\": [-11.008709907531738], \"mode\": \"markers\", \"text\": \"ingestion\", \"textposition\": \"top center\"}, {\"type\": \"scatter\", \"x\": [8.77286148071289], \"y\": [4.237419128417969], \"mode\": \"markers\", \"text\": \"initiated\", \"textposition\": \"top center\"}, {\"type\": \"scatter\", \"x\": [-0.8828086853027344], \"y\": [5.352853775024414], \"mode\": \"markers\", \"text\": \"injuries\", \"textposition\": \"top center\"}, {\"type\": \"scatter\", \"x\": [-3.2304258346557617], \"y\": [7.995635509490967], \"mode\": \"markers\", \"text\": \"inpatient\", \"textposition\": \"top center\"}, {\"type\": \"scatter\", \"x\": [2.479785680770874], \"y\": [4.6473870277404785], \"mode\": \"markers\", \"text\": \"instructions\", \"textposition\": \"top center\"}, {\"type\": \"scatter\", \"x\": [1.1119487285614014], \"y\": [6.355849266052246], \"mode\": \"markers\", \"text\": \"insufficiency\", \"textposition\": \"top center\"}, {\"type\": \"scatter\", \"x\": [-4.73237943649292], \"y\": [-5.6967854499816895], \"mode\": \"markers\", \"text\": \"insulin\", \"textposition\": \"top center\"}, {\"type\": \"scatter\", \"x\": [1.8225258588790894], \"y\": [-5.3884758949279785], \"mode\": \"markers\", \"text\": \"intake\", \"textposition\": \"top center\"}, {\"type\": \"scatter\", \"x\": [3.3992016315460205], \"y\": [2.7997448444366455], \"mode\": \"markers\", \"text\": \"intensive\", \"textposition\": \"top center\"}, {\"type\": \"scatter\", \"x\": [3.930558681488037], \"y\": [-1.448818564414978], \"mode\": \"markers\", \"text\": \"intentional\", \"textposition\": \"top center\"}, {\"type\": \"scatter\", \"x\": [4.460499286651611], \"y\": [-10.017142295837402], \"mode\": \"markers\", \"text\": \"intoxicated\", \"textposition\": \"top center\"}, {\"type\": \"scatter\", \"x\": [4.446004867553711], \"y\": [-10.036720275878906], \"mode\": \"markers\", \"text\": \"intoxication\", \"textposition\": \"top center\"}, {\"type\": \"scatter\", \"x\": [-2.211240530014038], \"y\": [2.049349308013916], \"mode\": \"markers\", \"text\": \"intubated\", \"textposition\": \"top center\"}, {\"type\": \"scatter\", \"x\": [-2.4855165481567383], \"y\": [2.078754186630249], \"mode\": \"markers\", \"text\": \"intubation\", \"textposition\": \"top center\"}, {\"type\": \"scatter\", \"x\": [-0.19596216082572937], \"y\": [3.9685587882995605], \"mode\": \"markers\", \"text\": \"invasive\", \"textposition\": \"top center\"}, {\"type\": \"scatter\", \"x\": [-1.7148758172988892], \"y\": [-3.6348066329956055], \"mode\": \"markers\", \"text\": \"iodine\", \"textposition\": \"top center\"}, {\"type\": \"scatter\", \"x\": [-9.577457427978516], \"y\": [0.541142463684082], \"mode\": \"markers\", \"text\": \"ischemic\", \"textposition\": \"top center\"}, {\"type\": \"scatter\", \"x\": [5.687057971954346], \"y\": [-2.305945873260498], \"mode\": \"markers\", \"text\": \"issues\", \"textposition\": \"top center\"}, {\"type\": \"scatter\", \"x\": [6.734087944030762], \"y\": [3.0554378032684326], \"mode\": \"markers\", \"text\": \"kept\", \"textposition\": \"top center\"}, {\"type\": \"scatter\", \"x\": [-4.262098789215088], \"y\": [-1.8515268564224243], \"mode\": \"markers\", \"text\": \"ketoacidosis\", \"textposition\": \"top center\"}, {\"type\": \"scatter\", \"x\": [-8.205856323242188], \"y\": [2.3425629138946533], \"mode\": \"markers\", \"text\": \"kidney\", \"textposition\": \"top center\"}, {\"type\": \"scatter\", \"x\": [-0.9119939804077148], \"y\": [-4.20617151260376], \"mode\": \"markers\", \"text\": \"klonopin\", \"textposition\": \"top center\"}, {\"type\": \"scatter\", \"x\": [6.744058609008789], \"y\": [0.179351806640625], \"mode\": \"markers\", \"text\": \"known\", \"textposition\": \"top center\"}, {\"type\": \"scatter\", \"x\": [2.554170608520508], \"y\": [2.147073268890381], \"mode\": \"markers\", \"text\": \"labs\", \"textposition\": \"top center\"}, {\"type\": \"scatter\", \"x\": [-1.1093697547912598], \"y\": [5.482428550720215], \"mode\": \"markers\", \"text\": \"laceration\", \"textposition\": \"top center\"}, {\"type\": \"scatter\", \"x\": [0.1269313097000122], \"y\": [-1.7657294273376465], \"mode\": \"markers\", \"text\": \"lamictal\", \"textposition\": \"top center\"}, {\"type\": \"scatter\", \"x\": [-4.269037246704102], \"y\": [-9.816620826721191], \"mode\": \"markers\", \"text\": \"lexapro\", \"textposition\": \"top center\"}, {\"type\": \"scatter\", \"x\": [0.6060469746589661], \"y\": [-5.0368123054504395], \"mode\": \"markers\", \"text\": \"lithium\", \"textposition\": \"top center\"}, {\"type\": \"scatter\", \"x\": [9.257723808288574], \"y\": [3.2866673469543457], \"mode\": \"markers\", \"text\": \"lived\", \"textposition\": \"top center\"}, {\"type\": \"scatter\", \"x\": [-8.103302001953125], \"y\": [2.154128313064575], \"mode\": \"markers\", \"text\": \"liver\", \"textposition\": \"top center\"}, {\"type\": \"scatter\", \"x\": [6.971602439880371], \"y\": [-4.829901695251465], \"mode\": \"markers\", \"text\": \"lives\", \"textposition\": \"top center\"}, {\"type\": \"scatter\", \"x\": [4.6302595138549805], \"y\": [0.25894439220428467], \"mode\": \"markers\", \"text\": \"longer\", \"textposition\": \"top center\"}, {\"type\": \"scatter\", \"x\": [7.521259784698486], \"y\": [1.6941068172454834], \"mode\": \"markers\", \"text\": \"made\", \"textposition\": \"top center\"}, {\"type\": \"scatter\", \"x\": [6.599743843078613], \"y\": [2.833026647567749], \"mode\": \"markers\", \"text\": \"maintained\", \"textposition\": \"top center\"}, {\"type\": \"scatter\", \"x\": [10.471288681030273], \"y\": [2.069019317626953], \"mode\": \"markers\", \"text\": \"managed\", \"textposition\": \"top center\"}, {\"type\": \"scatter\", \"x\": [-0.3425872027873993], \"y\": [-8.379422187805176], \"mode\": \"markers\", \"text\": \"marijuana\", \"textposition\": \"top center\"}, {\"type\": \"scatter\", \"x\": [2.2925755977630615], \"y\": [-1.0535012483596802], \"mode\": \"markers\", \"text\": \"maternal\", \"textposition\": \"top center\"}, {\"type\": \"scatter\", \"x\": [5.056099891662598], \"y\": [-0.02558804117143154], \"mode\": \"markers\", \"text\": \"means\", \"textposition\": \"top center\"}, {\"type\": \"scatter\", \"x\": [0.8929429650306702], \"y\": [1.8532265424728394], \"mode\": \"markers\", \"text\": \"mechanical\", \"textposition\": \"top center\"}, {\"type\": \"scatter\", \"x\": [-0.8868882060050964], \"y\": [0.39573538303375244], \"mode\": \"markers\", \"text\": \"medically\", \"textposition\": \"top center\"}, {\"type\": \"scatter\", \"x\": [-2.2959189414978027], \"y\": [-6.392692565917969], \"mode\": \"markers\", \"text\": \"medications\", \"textposition\": \"top center\"}, {\"type\": \"scatter\", \"x\": [-2.345608711242676], \"y\": [-6.526081562042236], \"mode\": \"markers\", \"text\": \"meds\", \"textposition\": \"top center\"}, {\"type\": \"scatter\", \"x\": [2.0769095420837402], \"y\": [-0.6286928653717041], \"mode\": \"markers\", \"text\": \"mellitus\", \"textposition\": \"top center\"}, {\"type\": \"scatter\", \"x\": [-8.468259811401367], \"y\": [-1.1901764869689941], \"mode\": \"markers\", \"text\": \"metabolic\", \"textposition\": \"top center\"}, {\"type\": \"scatter\", \"x\": [-0.924500584602356], \"y\": [-7.110907077789307], \"mode\": \"markers\", \"text\": \"methadone\", \"textposition\": \"top center\"}, {\"type\": \"scatter\", \"x\": [-5.921406269073486], \"y\": [-2.7360715866088867], \"mode\": \"markers\", \"text\": \"migraines\", \"textposition\": \"top center\"}, {\"type\": \"scatter\", \"x\": [0.9127029776573181], \"y\": [-1.3243190050125122], \"mode\": \"markers\", \"text\": \"mild\", \"textposition\": \"top center\"}, {\"type\": \"scatter\", \"x\": [3.159059762954712], \"y\": [-2.952148914337158], \"mode\": \"markers\", \"text\": \"mildly\", \"textposition\": \"top center\"}, {\"type\": \"scatter\", \"x\": [-6.337070941925049], \"y\": [3.610410451889038], \"mode\": \"markers\", \"text\": \"mitral\", \"textposition\": \"top center\"}, {\"type\": \"scatter\", \"x\": [3.063685178756714], \"y\": [-3.051452398300171], \"mode\": \"markers\", \"text\": \"moderately\", \"textposition\": \"top center\"}, {\"type\": \"scatter\", \"x\": [5.646738529205322], \"y\": [8.957131385803223], \"mode\": \"markers\", \"text\": \"monitored\", \"textposition\": \"top center\"}, {\"type\": \"scatter\", \"x\": [5.607528209686279], \"y\": [8.99055004119873], \"mode\": \"markers\", \"text\": \"monitoring\", \"textposition\": \"top center\"}, {\"type\": \"scatter\", \"x\": [5.025656700134277], \"y\": [3.4523844718933105], \"mode\": \"markers\", \"text\": \"months\", \"textposition\": \"top center\"}, {\"type\": \"scatter\", \"x\": [2.62813138961792], \"y\": [-2.243837594985962], \"mode\": \"markers\", \"text\": \"morbid\", \"textposition\": \"top center\"}, {\"type\": \"scatter\", \"x\": [-0.9200984835624695], \"y\": [-6.840901851654053], \"mode\": \"markers\", \"text\": \"morphine\", \"textposition\": \"top center\"}, {\"type\": \"scatter\", \"x\": [2.0195462703704834], \"y\": [-0.7200449705123901], \"mode\": \"markers\", \"text\": \"motrin\", \"textposition\": \"top center\"}, {\"type\": \"scatter\", \"x\": [8.805434226989746], \"y\": [3.2286581993103027], \"mode\": \"markers\", \"text\": \"moved\", \"textposition\": \"top center\"}, {\"type\": \"scatter\", \"x\": [2.2117202281951904], \"y\": [0.30329591035842896], \"mode\": \"markers\", \"text\": \"movements\", \"textposition\": \"top center\"}, {\"type\": \"scatter\", \"x\": [-9.615646362304688], \"y\": [0.6043334603309631], \"mode\": \"markers\", \"text\": \"myocardial\", \"textposition\": \"top center\"}, {\"type\": \"scatter\", \"x\": [-0.8471437692642212], \"y\": [-7.627740383148193], \"mode\": \"markers\", \"text\": \"narcotic\", \"textposition\": \"top center\"}, {\"type\": \"scatter\", \"x\": [5.988461971282959], \"y\": [0.6038440465927124], \"mode\": \"markers\", \"text\": \"needed\", \"textposition\": \"top center\"}, {\"type\": \"scatter\", \"x\": [5.924853324890137], \"y\": [0.2746380865573883], \"mode\": \"markers\", \"text\": \"needs\", \"textposition\": \"top center\"}, {\"type\": \"scatter\", \"x\": [-8.087082862854004], \"y\": [-2.9511044025421143], \"mode\": \"markers\", \"text\": \"nephropathy\", \"textposition\": \"top center\"}, {\"type\": \"scatter\", \"x\": [-5.647463321685791], \"y\": [7.545616149902344], \"mode\": \"markers\", \"text\": \"neurology\", \"textposition\": \"top center\"}, {\"type\": \"scatter\", \"x\": [-3.046225070953369], \"y\": [-10.162449836730957], \"mode\": \"markers\", \"text\": \"neurontin\", \"textposition\": \"top center\"}, {\"type\": \"scatter\", \"x\": [-5.637315273284912], \"y\": [-1.3775315284729004], \"mode\": \"markers\", \"text\": \"neuropathy\", \"textposition\": \"top center\"}, {\"type\": \"scatter\", \"x\": [-5.682069778442383], \"y\": [7.2372941970825195], \"mode\": \"markers\", \"text\": \"neurosurgery\", \"textposition\": \"top center\"}, {\"type\": \"scatter\", \"x\": [-4.39091157913208], \"y\": [4.114182472229004], \"mode\": \"markers\", \"text\": \"nodule\", \"textposition\": \"top center\"}, {\"type\": \"scatter\", \"x\": [3.3702452182769775], \"y\": [0.1503177136182785], \"mode\": \"markers\", \"text\": \"noncontributory\", \"textposition\": \"top center\"}, {\"type\": \"scatter\", \"x\": [5.595905303955078], \"y\": [-1.5311306715011597], \"mode\": \"markers\", \"text\": \"notable\", \"textposition\": \"top center\"}, {\"type\": \"scatter\", \"x\": [8.295496940612793], \"y\": [-1.1888259649276733], \"mode\": \"markers\", \"text\": \"noted\", \"textposition\": \"top center\"}, {\"type\": \"scatter\", \"x\": [7.2046403884887695], \"y\": [-2.0569608211517334], \"mode\": \"markers\", \"text\": \"notes\", \"textposition\": \"top center\"}, {\"type\": \"scatter\", \"x\": [2.9819490909576416], \"y\": [-5.313473701477051], \"mode\": \"markers\", \"text\": \"nutrition\", \"textposition\": \"top center\"}, {\"type\": \"scatter\", \"x\": [-6.982712745666504], \"y\": [-4.313946723937988], \"mode\": \"markers\", \"text\": \"obesity\", \"textposition\": \"top center\"}, {\"type\": \"scatter\", \"x\": [7.947625160217285], \"y\": [-1.7437429428100586], \"mode\": \"markers\", \"text\": \"observed\", \"textposition\": \"top center\"}, {\"type\": \"scatter\", \"x\": [0.6563960313796997], \"y\": [0.04374469444155693], \"mode\": \"markers\", \"text\": \"obstructive\", \"textposition\": \"top center\"}, {\"type\": \"scatter\", \"x\": [8.815624237060547], \"y\": [1.4340198040008545], \"mode\": \"markers\", \"text\": \"obtained\", \"textposition\": \"top center\"}, {\"type\": \"scatter\", \"x\": [2.90480637550354], \"y\": [-1.3822650909423828], \"mode\": \"markers\", \"text\": \"occasional\", \"textposition\": \"top center\"}, {\"type\": \"scatter\", \"x\": [-0.7386105060577393], \"y\": [-7.011404037475586], \"mode\": \"markers\", \"text\": \"opiates\", \"textposition\": \"top center\"}, {\"type\": \"scatter\", \"x\": [1.6763014793395996], \"y\": [8.060752868652344], \"mode\": \"markers\", \"text\": \"oral\", \"textposition\": \"top center\"}, {\"type\": \"scatter\", \"x\": [-6.335535526275635], \"y\": [-3.6383156776428223], \"mode\": \"markers\", \"text\": \"osteoarthritis\", \"textposition\": \"top center\"}, {\"type\": \"scatter\", \"x\": [-3.231671094894409], \"y\": [7.985025405883789], \"mode\": \"markers\", \"text\": \"outpatient\", \"textposition\": \"top center\"}, {\"type\": \"scatter\", \"x\": [0.3546868860721588], \"y\": [-10.126908302307129], \"mode\": \"markers\", \"text\": \"overdose\", \"textposition\": \"top center\"}, {\"type\": \"scatter\", \"x\": [0.3973141610622406], \"y\": [-10.159809112548828], \"mode\": \"markers\", \"text\": \"overdosed\", \"textposition\": \"top center\"}, {\"type\": \"scatter\", \"x\": [0.3107752203941345], \"y\": [-10.11608600616455], \"mode\": \"markers\", \"text\": \"overdoses\", \"textposition\": \"top center\"}, {\"type\": \"scatter\", \"x\": [4.05136251449585], \"y\": [3.3671090602874756], \"mode\": \"markers\", \"text\": \"overnight\", \"textposition\": \"top center\"}, {\"type\": \"scatter\", \"x\": [-0.9349448084831238], \"y\": [-7.409221172332764], \"mode\": \"markers\", \"text\": \"oxycodone\", \"textposition\": \"top center\"}, {\"type\": \"scatter\", \"x\": [-0.8132463097572327], \"y\": [2.009169101715088], \"mode\": \"markers\", \"text\": \"oxygen\", \"textposition\": \"top center\"}, {\"type\": \"scatter\", \"x\": [-4.380132675170898], \"y\": [-1.2377870082855225], \"mode\": \"markers\", \"text\": \"pancreatitis\", \"textposition\": \"top center\"}, {\"type\": \"scatter\", \"x\": [2.4055981636047363], \"y\": [-3.0774688720703125], \"mode\": \"markers\", \"text\": \"panic\", \"textposition\": \"top center\"}, {\"type\": \"scatter\", \"x\": [6.174081802368164], \"y\": [-5.223505973815918], \"mode\": \"markers\", \"text\": \"parents\", \"textposition\": \"top center\"}, {\"type\": \"scatter\", \"x\": [2.959563970565796], \"y\": [-0.09916601330041885], \"mode\": \"markers\", \"text\": \"partial\", \"textposition\": \"top center\"}, {\"type\": \"scatter\", \"x\": [-4.4847002029418945], \"y\": [-9.494951248168945], \"mode\": \"markers\", \"text\": \"paxil\", \"textposition\": \"top center\"}, {\"type\": \"scatter\", \"x\": [6.220512390136719], \"y\": [5.29101037979126], \"mode\": \"markers\", \"text\": \"peaked\", \"textposition\": \"top center\"}, {\"type\": \"scatter\", \"x\": [5.353298187255859], \"y\": [-0.6671658158302307], \"mode\": \"markers\", \"text\": \"pending\", \"textposition\": \"top center\"}, {\"type\": \"scatter\", \"x\": [-2.8769562244415283], \"y\": [-3.829989194869995], \"mode\": \"markers\", \"text\": \"penicillins\", \"textposition\": \"top center\"}, {\"type\": \"scatter\", \"x\": [-2.621407985687256], \"y\": [-7.853301525115967], \"mode\": \"markers\", \"text\": \"percocet\", \"textposition\": \"top center\"}, {\"type\": \"scatter\", \"x\": [7.030961036682129], \"y\": [1.5241212844848633], \"mode\": \"markers\", \"text\": \"performed\", \"textposition\": \"top center\"}, {\"type\": \"scatter\", \"x\": [1.438463807106018], \"y\": [-0.2775309383869171], \"mode\": \"markers\", \"text\": \"peripheral\", \"textposition\": \"top center\"}, {\"type\": \"scatter\", \"x\": [1.561394453048706], \"y\": [-0.8516025543212891], \"mode\": \"markers\", \"text\": \"persistent\", \"textposition\": \"top center\"}, {\"type\": \"scatter\", \"x\": [-1.7194154262542725], \"y\": [-4.877470970153809], \"mode\": \"markers\", \"text\": \"phenobarbital\", \"textposition\": \"top center\"}, {\"type\": \"scatter\", \"x\": [-2.3541669845581055], \"y\": [-6.889801502227783], \"mode\": \"markers\", \"text\": \"pill\", \"textposition\": \"top center\"}, {\"type\": \"scatter\", \"x\": [-2.234339475631714], \"y\": [-6.838647842407227], \"mode\": \"markers\", \"text\": \"pills\", \"textposition\": \"top center\"}, {\"type\": \"scatter\", \"x\": [7.441921234130859], \"y\": [4.963247776031494], \"mode\": \"markers\", \"text\": \"placed\", \"textposition\": \"top center\"}, {\"type\": \"scatter\", \"x\": [2.505143404006958], \"y\": [0.8029975295066833], \"mode\": \"markers\", \"text\": \"placement\", \"textposition\": \"top center\"}, {\"type\": \"scatter\", \"x\": [-3.706397294998169], \"y\": [-0.07169733196496964], \"mode\": \"markers\", \"text\": \"pneumonia\", \"textposition\": \"top center\"}, {\"type\": \"scatter\", \"x\": [0.7170236110687256], \"y\": [-3.786302328109741], \"mode\": \"markers\", \"text\": \"poly\", \"textposition\": \"top center\"}, {\"type\": \"scatter\", \"x\": [3.2520813941955566], \"y\": [-0.2748817205429077], \"mode\": \"markers\", \"text\": \"polysubstance\", \"textposition\": \"top center\"}, {\"type\": \"scatter\", \"x\": [-5.485329627990723], \"y\": [2.9844698905944824], \"mode\": \"markers\", \"text\": \"postoperative\", \"textposition\": \"top center\"}, {\"type\": \"scatter\", \"x\": [2.4592151641845703], \"y\": [5.550148010253906], \"mode\": \"markers\", \"text\": \"precautions\", \"textposition\": \"top center\"}, {\"type\": \"scatter\", \"x\": [4.448163986206055], \"y\": [-0.35636237263679504], \"mode\": \"markers\", \"text\": \"premature\", \"textposition\": \"top center\"}, {\"type\": \"scatter\", \"x\": [11.860817909240723], \"y\": [0.49087947607040405], \"mode\": \"markers\", \"text\": \"presented\", \"textposition\": \"top center\"}, {\"type\": \"scatter\", \"x\": [11.919379234313965], \"y\": [0.5172813534736633], \"mode\": \"markers\", \"text\": \"presenting\", \"textposition\": \"top center\"}, {\"type\": \"scatter\", \"x\": [12.136354446411133], \"y\": [0.5253313779830933], \"mode\": \"markers\", \"text\": \"presents\", \"textposition\": \"top center\"}, {\"type\": \"scatter\", \"x\": [5.599368572235107], \"y\": [-2.316917657852173], \"mode\": \"markers\", \"text\": \"problems\", \"textposition\": \"top center\"}, {\"type\": \"scatter\", \"x\": [8.55150032043457], \"y\": [1.5298196077346802], \"mode\": \"markers\", \"text\": \"provided\", \"textposition\": \"top center\"}, {\"type\": \"scatter\", \"x\": [3.0099523067474365], \"y\": [1.7497013807296753], \"mode\": \"markers\", \"text\": \"providers\", \"textposition\": \"top center\"}, {\"type\": \"scatter\", \"x\": [-4.01547908782959], \"y\": [-9.30416488647461], \"mode\": \"markers\", \"text\": \"prozac\", \"textposition\": \"top center\"}, {\"type\": \"scatter\", \"x\": [1.1904370784759521], \"y\": [-3.4745736122131348], \"mode\": \"markers\", \"text\": \"psych\", \"textposition\": \"top center\"}, {\"type\": \"scatter\", \"x\": [-4.1015448570251465], \"y\": [8.671932220458984], \"mode\": \"markers\", \"text\": \"psychiatric\", \"textposition\": \"top center\"}, {\"type\": \"scatter\", \"x\": [-4.309059143066406], \"y\": [8.959421157836914], \"mode\": \"markers\", \"text\": \"psychiatrist\", \"textposition\": \"top center\"}, {\"type\": \"scatter\", \"x\": [-4.303915023803711], \"y\": [8.87140941619873], \"mode\": \"markers\", \"text\": \"psychiatrists\", \"textposition\": \"top center\"}, {\"type\": \"scatter\", \"x\": [-5.145477771759033], \"y\": [8.125944137573242], \"mode\": \"markers\", \"text\": \"psychiatry\", \"textposition\": \"top center\"}, {\"type\": \"scatter\", \"x\": [-7.3004961013793945], \"y\": [-0.027074290439486504], \"mode\": \"markers\", \"text\": \"pulmonary\", \"textposition\": \"top center\"}, {\"type\": \"scatter\", \"x\": [0.3889710605144501], \"y\": [3.0074870586395264], \"mode\": \"markers\", \"text\": \"pulse\", \"textposition\": \"top center\"}, {\"type\": \"scatter\", \"x\": [4.620607852935791], \"y\": [-1.4319270849227905], \"mode\": \"markers\", \"text\": \"questionable\", \"textposition\": \"top center\"}, {\"type\": \"scatter\", \"x\": [10.072844505310059], \"y\": [3.2354743480682373], \"mode\": \"markers\", \"text\": \"raised\", \"textposition\": \"top center\"}, {\"type\": \"scatter\", \"x\": [1.9676188230514526], \"y\": [-2.7522497177124023], \"mode\": \"markers\", \"text\": \"reactions\", \"textposition\": \"top center\"}, {\"type\": \"scatter\", \"x\": [8.742043495178223], \"y\": [1.8719398975372314], \"mode\": \"markers\", \"text\": \"received\", \"textposition\": \"top center\"}, {\"type\": \"scatter\", \"x\": [11.160691261291504], \"y\": [-2.761650562286377], \"mode\": \"markers\", \"text\": \"recommendations\", \"textposition\": \"top center\"}, {\"type\": \"scatter\", \"x\": [11.025419235229492], \"y\": [-2.363832712173462], \"mode\": \"markers\", \"text\": \"recommended\", \"textposition\": \"top center\"}, {\"type\": \"scatter\", \"x\": [6.996778964996338], \"y\": [-3.518568754196167], \"mode\": \"markers\", \"text\": \"records\", \"textposition\": \"top center\"}, {\"type\": \"scatter\", \"x\": [-1.1248161792755127], \"y\": [-0.2743997871875763], \"mode\": \"markers\", \"text\": \"recurrent\", \"textposition\": \"top center\"}, {\"type\": \"scatter\", \"x\": [10.196310997009277], \"y\": [0.9302037954330444], \"mode\": \"markers\", \"text\": \"refused\", \"textposition\": \"top center\"}, {\"type\": \"scatter\", \"x\": [0.2868320643901825], \"y\": [-4.326464653015137], \"mode\": \"markers\", \"text\": \"regimen\", \"textposition\": \"top center\"}, {\"type\": \"scatter\", \"x\": [7.260631561279297], \"y\": [-9.602751731872559], \"mode\": \"markers\", \"text\": \"rehab\", \"textposition\": \"top center\"}, {\"type\": \"scatter\", \"x\": [7.285806179046631], \"y\": [-9.602720260620117], \"mode\": \"markers\", \"text\": \"rehabilitation\", \"textposition\": \"top center\"}, {\"type\": \"scatter\", \"x\": [4.6754584312438965], \"y\": [-0.9551599621772766], \"mode\": \"markers\", \"text\": \"related\", \"textposition\": \"top center\"}, {\"type\": \"scatter\", \"x\": [4.842250823974609], \"y\": [1.4603021144866943], \"mode\": \"markers\", \"text\": \"remainder\", \"textposition\": \"top center\"}, {\"type\": \"scatter\", \"x\": [6.63238525390625], \"y\": [2.9168100357055664], \"mode\": \"markers\", \"text\": \"remained\", \"textposition\": \"top center\"}, {\"type\": \"scatter\", \"x\": [7.846982479095459], \"y\": [6.078415870666504], \"mode\": \"markers\", \"text\": \"removal\", \"textposition\": \"top center\"}, {\"type\": \"scatter\", \"x\": [7.981940269470215], \"y\": [5.980204105377197], \"mode\": \"markers\", \"text\": \"removed\", \"textposition\": \"top center\"}, {\"type\": \"scatter\", \"x\": [-7.987375259399414], \"y\": [0.8258190751075745], \"mode\": \"markers\", \"text\": \"renal\", \"textposition\": \"top center\"}, {\"type\": \"scatter\", \"x\": [3.6417109966278076], \"y\": [4.687689781188965], \"mode\": \"markers\", \"text\": \"repair\", \"textposition\": \"top center\"}, {\"type\": \"scatter\", \"x\": [3.672994375228882], \"y\": [4.663057327270508], \"mode\": \"markers\", \"text\": \"replacement\", \"textposition\": \"top center\"}, {\"type\": \"scatter\", \"x\": [9.104865074157715], \"y\": [-2.207838296890259], \"mode\": \"markers\", \"text\": \"reported\", \"textposition\": \"top center\"}, {\"type\": \"scatter\", \"x\": [7.652820110321045], \"y\": [-0.21948860585689545], \"mode\": \"markers\", \"text\": \"reportedly\", \"textposition\": \"top center\"}, {\"type\": \"scatter\", \"x\": [9.112138748168945], \"y\": [-2.4207704067230225], \"mode\": \"markers\", \"text\": \"reports\", \"textposition\": \"top center\"}, {\"type\": \"scatter\", \"x\": [5.735681056976318], \"y\": [0.6338171362876892], \"mode\": \"markers\", \"text\": \"required\", \"textposition\": \"top center\"}, {\"type\": \"scatter\", \"x\": [5.636702060699463], \"y\": [0.6483244895935059], \"mode\": \"markers\", \"text\": \"requiring\", \"textposition\": \"top center\"}, {\"type\": \"scatter\", \"x\": [-5.825949192047119], \"y\": [3.574248790740967], \"mode\": \"markers\", \"text\": \"resection\", \"textposition\": \"top center\"}, {\"type\": \"scatter\", \"x\": [9.02863597869873], \"y\": [5.735662937164307], \"mode\": \"markers\", \"text\": \"resolved\", \"textposition\": \"top center\"}, {\"type\": \"scatter\", \"x\": [0.9903566241264343], \"y\": [-2.950137138366699], \"mode\": \"markers\", \"text\": \"resp\", \"textposition\": \"top center\"}, {\"type\": \"scatter\", \"x\": [-7.0872273445129395], \"y\": [-0.1554962396621704], \"mode\": \"markers\", \"text\": \"respiratory\", \"textposition\": \"top center\"}, {\"type\": \"scatter\", \"x\": [8.56640625], \"y\": [8.082362174987793], \"mode\": \"markers\", \"text\": \"restarted\", \"textposition\": \"top center\"}, {\"type\": \"scatter\", \"x\": [8.567228317260742], \"y\": [8.112780570983887], \"mode\": \"markers\", \"text\": \"restarting\", \"textposition\": \"top center\"}, {\"type\": \"scatter\", \"x\": [8.017481803894043], \"y\": [7.462275981903076], \"mode\": \"markers\", \"text\": \"resume\", \"textposition\": \"top center\"}, {\"type\": \"scatter\", \"x\": [10.59726333618164], \"y\": [4.127926826477051], \"mode\": \"markers\", \"text\": \"retired\", \"textposition\": \"top center\"}, {\"type\": \"scatter\", \"x\": [9.14461898803711], \"y\": [-0.840869128704071], \"mode\": \"markers\", \"text\": \"revealed\", \"textposition\": \"top center\"}, {\"type\": \"scatter\", \"x\": [-4.560375213623047], \"y\": [-1.8558316230773926], \"mode\": \"markers\", \"text\": \"rhabdomyolysis\", \"textposition\": \"top center\"}, {\"type\": \"scatter\", \"x\": [7.981311321258545], \"y\": [-0.9635967016220093], \"mode\": \"markers\", \"text\": \"said\", \"textposition\": \"top center\"}, {\"type\": \"scatter\", \"x\": [7.715114116668701], \"y\": [-1.003464698791504], \"mode\": \"markers\", \"text\": \"says\", \"textposition\": \"top center\"}, {\"type\": \"scatter\", \"x\": [0.1068727970123291], \"y\": [-0.7375744581222534], \"mode\": \"markers\", \"text\": \"schizoaffective\", \"textposition\": \"top center\"}, {\"type\": \"scatter\", \"x\": [-5.176713466644287], \"y\": [-3.7557625770568848], \"mode\": \"markers\", \"text\": \"schizophrenia\", \"textposition\": \"top center\"}, {\"type\": \"scatter\", \"x\": [2.927478313446045], \"y\": [0.31809020042419434], \"mode\": \"markers\", \"text\": \"secondary\", \"textposition\": \"top center\"}, {\"type\": \"scatter\", \"x\": [-0.10212484002113342], \"y\": [-0.4053287208080292], \"mode\": \"markers\", \"text\": \"sectioned\", \"textposition\": \"top center\"}, {\"type\": \"scatter\", \"x\": [-2.0779836177825928], \"y\": [0.9370654225349426], \"mode\": \"markers\", \"text\": \"sedation\", \"textposition\": \"top center\"}, {\"type\": \"scatter\", \"x\": [8.142532348632812], \"y\": [1.0561012029647827], \"mode\": \"markers\", \"text\": \"seeking\", \"textposition\": \"top center\"}, {\"type\": \"scatter\", \"x\": [6.8216118812561035], \"y\": [1.0104068517684937], \"mode\": \"markers\", \"text\": \"seen\", \"textposition\": \"top center\"}, {\"type\": \"scatter\", \"x\": [1.7149920463562012], \"y\": [-8.099990844726562], \"mode\": \"markers\", \"text\": \"seizure\", \"textposition\": \"top center\"}, {\"type\": \"scatter\", \"x\": [1.6910840272903442], \"y\": [-8.074783325195312], \"mode\": \"markers\", \"text\": \"seizures\", \"textposition\": \"top center\"}, {\"type\": \"scatter\", \"x\": [8.689722061157227], \"y\": [2.3405771255493164], \"mode\": \"markers\", \"text\": \"sent\", \"textposition\": \"top center\"}, {\"type\": \"scatter\", \"x\": [2.583707809448242], \"y\": [-0.35486680269241333], \"mode\": \"markers\", \"text\": \"serial\", \"textposition\": \"top center\"}, {\"type\": \"scatter\", \"x\": [0.1223345696926117], \"y\": [-2.9634687900543213], \"mode\": \"markers\", \"text\": \"seroquel\", \"textposition\": \"top center\"}, {\"type\": \"scatter\", \"x\": [-6.535429000854492], \"y\": [-5.948206424713135], \"mode\": \"markers\", \"text\": \"serotonin\", \"textposition\": \"top center\"}, {\"type\": \"scatter\", \"x\": [-1.7405492067337036], \"y\": [-2.6628177165985107], \"mode\": \"markers\", \"text\": \"serum\", \"textposition\": \"top center\"}, {\"type\": \"scatter\", \"x\": [2.9895455837249756], \"y\": [1.5058684349060059], \"mode\": \"markers\", \"text\": \"services\", \"textposition\": \"top center\"}, {\"type\": \"scatter\", \"x\": [9.387789726257324], \"y\": [-0.696830153465271], \"mode\": \"markers\", \"text\": \"showed\", \"textposition\": \"top center\"}, {\"type\": \"scatter\", \"x\": [5.962237358093262], \"y\": [-3.564422607421875], \"mode\": \"markers\", \"text\": \"signs\", \"textposition\": \"top center\"}, {\"type\": \"scatter\", \"x\": [-4.130488395690918], \"y\": [-0.16097378730773926], \"mode\": \"markers\", \"text\": \"sinus\", \"textposition\": \"top center\"}, {\"type\": \"scatter\", \"x\": [5.109561920166016], \"y\": [-5.2301411628723145], \"mode\": \"markers\", \"text\": \"sitter\", \"textposition\": \"top center\"}, {\"type\": \"scatter\", \"x\": [9.490532875061035], \"y\": [-7.8865509033203125], \"mode\": \"markers\", \"text\": \"smoker\", \"textposition\": \"top center\"}, {\"type\": \"scatter\", \"x\": [9.481431007385254], \"y\": [-7.88370943069458], \"mode\": \"markers\", \"text\": \"smokes\", \"textposition\": \"top center\"}, {\"type\": \"scatter\", \"x\": [9.482569694519043], \"y\": [-7.886631011962891], \"mode\": \"markers\", \"text\": \"smoking\", \"textposition\": \"top center\"}, {\"type\": \"scatter\", \"x\": [6.34771203994751], \"y\": [-8.06881046295166], \"mode\": \"markers\", \"text\": \"sober\", \"textposition\": \"top center\"}, {\"type\": \"scatter\", \"x\": [6.369871139526367], \"y\": [-8.106721878051758], \"mode\": \"markers\", \"text\": \"sobriety\", \"textposition\": \"top center\"}, {\"type\": \"scatter\", \"x\": [-0.9179679155349731], \"y\": [-2.8172073364257812], \"mode\": \"markers\", \"text\": \"softener\", \"textposition\": \"top center\"}, {\"type\": \"scatter\", \"x\": [-3.753150224685669], \"y\": [-9.26842975616455], \"mode\": \"markers\", \"text\": \"soma\", \"textposition\": \"top center\"}, {\"type\": \"scatter\", \"x\": [3.1228866577148438], \"y\": [-1.996786117553711], \"mode\": \"markers\", \"text\": \"somnolent\", \"textposition\": \"top center\"}, {\"type\": \"scatter\", \"x\": [-3.487093448638916], \"y\": [5.605263710021973], \"mode\": \"markers\", \"text\": \"spinal\", \"textposition\": \"top center\"}, {\"type\": \"scatter\", \"x\": [-3.445363759994507], \"y\": [5.634276390075684], \"mode\": \"markers\", \"text\": \"spine\", \"textposition\": \"top center\"}, {\"type\": \"scatter\", \"x\": [2.368518829345703], \"y\": [3.7047154903411865], \"mode\": \"markers\", \"text\": \"stab\", \"textposition\": \"top center\"}, {\"type\": \"scatter\", \"x\": [5.235055446624756], \"y\": [5.342615127563477], \"mode\": \"markers\", \"text\": \"stabilized\", \"textposition\": \"top center\"}, {\"type\": \"scatter\", \"x\": [6.436273097991943], \"y\": [-1.4915443658828735], \"mode\": \"markers\", \"text\": \"standpoint\", \"textposition\": \"top center\"}, {\"type\": \"scatter\", \"x\": [8.229605674743652], \"y\": [3.946375608444214], \"mode\": \"markers\", \"text\": \"started\", \"textposition\": \"top center\"}, {\"type\": \"scatter\", \"x\": [5.4922776222229], \"y\": [1.4242277145385742], \"mode\": \"markers\", \"text\": \"starting\", \"textposition\": \"top center\"}, {\"type\": \"scatter\", \"x\": [8.48846435546875], \"y\": [-1.2208406925201416], \"mode\": \"markers\", \"text\": \"stated\", \"textposition\": \"top center\"}, {\"type\": \"scatter\", \"x\": [3.7930212020874023], \"y\": [-0.1875450313091278], \"mode\": \"markers\", \"text\": \"states\", \"textposition\": \"top center\"}, {\"type\": \"scatter\", \"x\": [-6.525787353515625], \"y\": [3.3292038440704346], \"mode\": \"markers\", \"text\": \"stenosis\", \"textposition\": \"top center\"}, {\"type\": \"scatter\", \"x\": [-8.821741104125977], \"y\": [5.0092082023620605], \"mode\": \"markers\", \"text\": \"stent\", \"textposition\": \"top center\"}, {\"type\": \"scatter\", \"x\": [-8.82749080657959], \"y\": [5.016419410705566], \"mode\": \"markers\", \"text\": \"stents\", \"textposition\": \"top center\"}, {\"type\": \"scatter\", \"x\": [4.10206937789917], \"y\": [-5.118034839630127], \"mode\": \"markers\", \"text\": \"stones\", \"textposition\": \"top center\"}, {\"type\": \"scatter\", \"x\": [8.16773796081543], \"y\": [4.137333393096924], \"mode\": \"markers\", \"text\": \"stopped\", \"textposition\": \"top center\"}, {\"type\": \"scatter\", \"x\": [4.768608570098877], \"y\": [1.0769191980361938], \"mode\": \"markers\", \"text\": \"subsequently\", \"textposition\": \"top center\"}, {\"type\": \"scatter\", \"x\": [2.608544111251831], \"y\": [-6.548058032989502], \"mode\": \"markers\", \"text\": \"suicidal\", \"textposition\": \"top center\"}, {\"type\": \"scatter\", \"x\": [-5.017653465270996], \"y\": [-4.2379279136657715], \"mode\": \"markers\", \"text\": \"suicidality\", \"textposition\": \"top center\"}, {\"type\": \"scatter\", \"x\": [2.663865327835083], \"y\": [-6.6324896812438965], \"mode\": \"markers\", \"text\": \"suicide\", \"textposition\": \"top center\"}, {\"type\": \"scatter\", \"x\": [-1.7364141941070557], \"y\": [-3.536419630050659], \"mode\": \"markers\", \"text\": \"sulfa\", \"textposition\": \"top center\"}, {\"type\": \"scatter\", \"x\": [-2.0177321434020996], \"y\": [-2.6258537769317627], \"mode\": \"markers\", \"text\": \"sulfonamides\", \"textposition\": \"top center\"}, {\"type\": \"scatter\", \"x\": [8.1108980178833], \"y\": [-4.0707621574401855], \"mode\": \"markers\", \"text\": \"summary\", \"textposition\": \"top center\"}, {\"type\": \"scatter\", \"x\": [7.57871150970459], \"y\": [-2.8262853622436523], \"mode\": \"markers\", \"text\": \"supportive\", \"textposition\": \"top center\"}, {\"type\": \"scatter\", \"x\": [-5.506669044494629], \"y\": [6.139910697937012], \"mode\": \"markers\", \"text\": \"surgical\", \"textposition\": \"top center\"}, {\"type\": \"scatter\", \"x\": [6.164020538330078], \"y\": [6.752176761627197], \"mode\": \"markers\", \"text\": \"suspected\", \"textposition\": \"top center\"}, {\"type\": \"scatter\", \"x\": [6.200457572937012], \"y\": [6.827117919921875], \"mode\": \"markers\", \"text\": \"suspicion\", \"textposition\": \"top center\"}, {\"type\": \"scatter\", \"x\": [-3.1773746013641357], \"y\": [-0.9641821980476379], \"mode\": \"markers\", \"text\": \"symptoms\", \"textposition\": \"top center\"}, {\"type\": \"scatter\", \"x\": [-0.7574755549430847], \"y\": [-0.9628576040267944], \"mode\": \"markers\", \"text\": \"syndrome\", \"textposition\": \"top center\"}, {\"type\": \"scatter\", \"x\": [2.7524948120117188], \"y\": [1.5702399015426636], \"mode\": \"markers\", \"text\": \"systems\", \"textposition\": \"top center\"}, {\"type\": \"scatter\", \"x\": [-10.886836051940918], \"y\": [-0.9231315851211548], \"mode\": \"markers\", \"text\": \"systolic\", \"textposition\": \"top center\"}, {\"type\": \"scatter\", \"x\": [-3.3543198108673096], \"y\": [-6.70940637588501], \"mode\": \"markers\", \"text\": \"tablets\", \"textposition\": \"top center\"}, {\"type\": \"scatter\", \"x\": [4.9236321449279785], \"y\": [-3.9774351119995117], \"mode\": \"markers\", \"text\": \"tabs\", \"textposition\": \"top center\"}, {\"type\": \"scatter\", \"x\": [-4.665874481201172], \"y\": [0.34701573848724365], \"mode\": \"markers\", \"text\": \"tachycardia\", \"textposition\": \"top center\"}, {\"type\": \"scatter\", \"x\": [7.5651679039001465], \"y\": [3.1173341274261475], \"mode\": \"markers\", \"text\": \"taken\", \"textposition\": \"top center\"}, {\"type\": \"scatter\", \"x\": [7.443576335906982], \"y\": [3.05395770072937], \"mode\": \"markers\", \"text\": \"taking\", \"textposition\": \"top center\"}, {\"type\": \"scatter\", \"x\": [-4.248963356018066], \"y\": [9.24269962310791], \"mode\": \"markers\", \"text\": \"therapist\", \"textposition\": \"top center\"}, {\"type\": \"scatter\", \"x\": [-5.75731897354126], \"y\": [-5.7940826416015625], \"mode\": \"markers\", \"text\": \"thiamine\", \"textposition\": \"top center\"}, {\"type\": \"scatter\", \"x\": [4.756207466125488], \"y\": [-2.3420450687408447], \"mode\": \"markers\", \"text\": \"thoughts\", \"textposition\": \"top center\"}, {\"type\": \"scatter\", \"x\": [4.761432647705078], \"y\": [2.6954262256622314], \"mode\": \"markers\", \"text\": \"times\", \"textposition\": \"top center\"}, {\"type\": \"scatter\", \"x\": [6.470697402954102], \"y\": [-2.8733561038970947], \"mode\": \"markers\", \"text\": \"titles\", \"textposition\": \"top center\"}, {\"type\": \"scatter\", \"x\": [8.539109230041504], \"y\": [-1.4840692281723022], \"mode\": \"markers\", \"text\": \"told\", \"textposition\": \"top center\"}, {\"type\": \"scatter\", \"x\": [9.579828262329102], \"y\": [-5.278453826904297], \"mode\": \"markers\", \"text\": \"tolerate\", \"textposition\": \"top center\"}, {\"type\": \"scatter\", \"x\": [9.55936050415039], \"y\": [-5.279706001281738], \"mode\": \"markers\", \"text\": \"tolerating\", \"textposition\": \"top center\"}, {\"type\": \"scatter\", \"x\": [7.784994602203369], \"y\": [3.042886257171631], \"mode\": \"markers\", \"text\": \"took\", \"textposition\": \"top center\"}, {\"type\": \"scatter\", \"x\": [-2.5905344486236572], \"y\": [-3.1364428997039795], \"mode\": \"markers\", \"text\": \"toxicity\", \"textposition\": \"top center\"}, {\"type\": \"scatter\", \"x\": [-2.591904640197754], \"y\": [-3.1240296363830566], \"mode\": \"markers\", \"text\": \"toxicology\", \"textposition\": \"top center\"}, {\"type\": \"scatter\", \"x\": [-1.8723825216293335], \"y\": [1.8643224239349365], \"mode\": \"markers\", \"text\": \"trach\", \"textposition\": \"top center\"}, {\"type\": \"scatter\", \"x\": [-2.2866482734680176], \"y\": [2.082730293273926], \"mode\": \"markers\", \"text\": \"tracheostomy\", \"textposition\": \"top center\"}, {\"type\": \"scatter\", \"x\": [3.4892616271972656], \"y\": [0.8858820199966431], \"mode\": \"markers\", \"text\": \"tracing\", \"textposition\": \"top center\"}, {\"type\": \"scatter\", \"x\": [10.564257621765137], \"y\": [6.179888725280762], \"mode\": \"markers\", \"text\": \"transfered\", \"textposition\": \"top center\"}, {\"type\": \"scatter\", \"x\": [10.536476135253906], \"y\": [6.195711135864258], \"mode\": \"markers\", \"text\": \"transferred\", \"textposition\": \"top center\"}, {\"type\": \"scatter\", \"x\": [3.9783718585968018], \"y\": [1.3196253776550293], \"mode\": \"markers\", \"text\": \"transitional\", \"textposition\": \"top center\"}, {\"type\": \"scatter\", \"x\": [9.428681373596191], \"y\": [4.288684368133545], \"mode\": \"markers\", \"text\": \"transitioned\", \"textposition\": \"top center\"}, {\"type\": \"scatter\", \"x\": [-8.354601860046387], \"y\": [2.6599419116973877], \"mode\": \"markers\", \"text\": \"transplant\", \"textposition\": \"top center\"}, {\"type\": \"scatter\", \"x\": [10.640477180480957], \"y\": [6.154436111450195], \"mode\": \"markers\", \"text\": \"transported\", \"textposition\": \"top center\"}, {\"type\": \"scatter\", \"x\": [-0.8448326587677002], \"y\": [5.1431193351745605], \"mode\": \"markers\", \"text\": \"trauma\", \"textposition\": \"top center\"}, {\"type\": \"scatter\", \"x\": [4.422726631164551], \"y\": [7.297223091125488], \"mode\": \"markers\", \"text\": \"treated\", \"textposition\": \"top center\"}, {\"type\": \"scatter\", \"x\": [5.949483394622803], \"y\": [-5.94552755355835], \"mode\": \"markers\", \"text\": \"treaters\", \"textposition\": \"top center\"}, {\"type\": \"scatter\", \"x\": [5.321493148803711], \"y\": [-3.249619245529175], \"mode\": \"markers\", \"text\": \"trending\", \"textposition\": \"top center\"}, {\"type\": \"scatter\", \"x\": [10.502036094665527], \"y\": [1.9298310279846191], \"mode\": \"markers\", \"text\": \"tried\", \"textposition\": \"top center\"}, {\"type\": \"scatter\", \"x\": [-0.9975940585136414], \"y\": [-4.008309841156006], \"mode\": \"markers\", \"text\": \"tylenol\", \"textposition\": \"top center\"}, {\"type\": \"scatter\", \"x\": [-5.723207950592041], \"y\": [-0.8419167399406433], \"mode\": \"markers\", \"text\": \"ulcer\", \"textposition\": \"top center\"}, {\"type\": \"scatter\", \"x\": [-5.674675941467285], \"y\": [-0.96224445104599], \"mode\": \"markers\", \"text\": \"ulcers\", \"textposition\": \"top center\"}, {\"type\": \"scatter\", \"x\": [8.133905410766602], \"y\": [0.0670916736125946], \"mode\": \"markers\", \"text\": \"unclear\", \"textposition\": \"top center\"}, {\"type\": \"scatter\", \"x\": [10.00313949584961], \"y\": [-3.477705478668213], \"mode\": \"markers\", \"text\": \"underwent\", \"textposition\": \"top center\"}, {\"type\": \"scatter\", \"x\": [3.838350296020508], \"y\": [0.2719270884990692], \"mode\": \"markers\", \"text\": \"unemployed\", \"textposition\": \"top center\"}, {\"type\": \"scatter\", \"x\": [3.323977470397949], \"y\": [-1.6424415111541748], \"mode\": \"markers\", \"text\": \"unremarkable\", \"textposition\": \"top center\"}, {\"type\": \"scatter\", \"x\": [-0.8905996084213257], \"y\": [3.331195831298828], \"mode\": \"markers\", \"text\": \"unresponsive\", \"textposition\": \"top center\"}, {\"type\": \"scatter\", \"x\": [-6.031670570373535], \"y\": [0.4948820173740387], \"mode\": \"markers\", \"text\": \"urinary\", \"textposition\": \"top center\"}, {\"type\": \"scatter\", \"x\": [-1.4271302223205566], \"y\": [-1.8724769353866577], \"mode\": \"markers\", \"text\": \"urine\", \"textposition\": \"top center\"}, {\"type\": \"scatter\", \"x\": [3.674558162689209], \"y\": [0.8233481645584106], \"mode\": \"markers\", \"text\": \"using\", \"textposition\": \"top center\"}, {\"type\": \"scatter\", \"x\": [-3.329601764678955], \"y\": [-8.94522762298584], \"mode\": \"markers\", \"text\": \"valium\", \"textposition\": \"top center\"}, {\"type\": \"scatter\", \"x\": [0.5762768387794495], \"y\": [2.15419602394104], \"mode\": \"markers\", \"text\": \"valve\", \"textposition\": \"top center\"}, {\"type\": \"scatter\", \"x\": [-3.230781078338623], \"y\": [-3.888073682785034], \"mode\": \"markers\", \"text\": \"vancomycin\", \"textposition\": \"top center\"}, {\"type\": \"scatter\", \"x\": [-8.24597454071045], \"y\": [0.4644072949886322], \"mode\": \"markers\", \"text\": \"vascular\", \"textposition\": \"top center\"}, {\"type\": \"scatter\", \"x\": [1.6177504062652588], \"y\": [0.18017147481441498], \"mode\": \"markers\", \"text\": \"vein\", \"textposition\": \"top center\"}, {\"type\": \"scatter\", \"x\": [1.7663522958755493], \"y\": [2.1964709758758545], \"mode\": \"markers\", \"text\": \"vent\", \"textposition\": \"top center\"}, {\"type\": \"scatter\", \"x\": [-10.330799102783203], \"y\": [2.2853925228118896], \"mode\": \"markers\", \"text\": \"ventricle\", \"textposition\": \"top center\"}, {\"type\": \"scatter\", \"x\": [-10.333572387695312], \"y\": [2.2358670234680176], \"mode\": \"markers\", \"text\": \"ventricular\", \"textposition\": \"top center\"}, {\"type\": \"scatter\", \"x\": [-3.313596725463867], \"y\": [-8.954451560974121], \"mode\": \"markers\", \"text\": \"vicodin\", \"textposition\": \"top center\"}, {\"type\": \"scatter\", \"x\": [0.1694420874118805], \"y\": [3.166384696960449], \"mode\": \"markers\", \"text\": \"vitals\", \"textposition\": \"top center\"}, {\"type\": \"scatter\", \"x\": [3.755955457687378], \"y\": [-8.318708419799805], \"mode\": \"markers\", \"text\": \"vodka\", \"textposition\": \"top center\"}, {\"type\": \"scatter\", \"x\": [-2.73664927482605], \"y\": [-0.9041826725006104], \"mode\": \"markers\", \"text\": \"vomiting\", \"textposition\": \"top center\"}, {\"type\": \"scatter\", \"x\": [4.195095062255859], \"y\": [-6.104586124420166], \"mode\": \"markers\", \"text\": \"walker\", \"textposition\": \"top center\"}, {\"type\": \"scatter\", \"x\": [9.499774932861328], \"y\": [1.1498891115188599], \"mode\": \"markers\", \"text\": \"wanted\", \"textposition\": \"top center\"}, {\"type\": \"scatter\", \"x\": [1.5984385013580322], \"y\": [3.421489953994751], \"mode\": \"markers\", \"text\": \"ward\", \"textposition\": \"top center\"}, {\"type\": \"scatter\", \"x\": [1.925791621208191], \"y\": [-1.3259328603744507], \"mode\": \"markers\", \"text\": \"weakness\", \"textposition\": \"top center\"}, {\"type\": \"scatter\", \"x\": [5.01307487487793], \"y\": [3.4755280017852783], \"mode\": \"markers\", \"text\": \"weeks\", \"textposition\": \"top center\"}, {\"type\": \"scatter\", \"x\": [-3.598167896270752], \"y\": [-10.243480682373047], \"mode\": \"markers\", \"text\": \"wellbutrin\", \"textposition\": \"top center\"}, {\"type\": \"scatter\", \"x\": [8.371488571166992], \"y\": [2.8251166343688965], \"mode\": \"markers\", \"text\": \"went\", \"textposition\": \"top center\"}, {\"type\": \"scatter\", \"x\": [6.454776763916016], \"y\": [2.2417497634887695], \"mode\": \"markers\", \"text\": \"were\", \"textposition\": \"top center\"}, {\"type\": \"scatter\", \"x\": [7.733107566833496], \"y\": [-6.131743907928467], \"mode\": \"markers\", \"text\": \"widowed\", \"textposition\": \"top center\"}, {\"type\": \"scatter\", \"x\": [12.522298812866211], \"y\": [-5.2067084312438965], \"mode\": \"markers\", \"text\": \"withdrawal\", \"textposition\": \"top center\"}, {\"type\": \"scatter\", \"x\": [12.521829605102539], \"y\": [-5.211629390716553], \"mode\": \"markers\", \"text\": \"withdrawl\", \"textposition\": \"top center\"}, {\"type\": \"scatter\", \"x\": [9.579721450805664], \"y\": [2.7043068408966064], \"mode\": \"markers\", \"text\": \"worked\", \"textposition\": \"top center\"}, {\"type\": \"scatter\", \"x\": [1.38680100440979], \"y\": [-1.064972162246704], \"mode\": \"markers\", \"text\": \"worsening\", \"textposition\": \"top center\"}, {\"type\": \"scatter\", \"x\": [-0.18026266992092133], \"y\": [7.982839584350586], \"mode\": \"markers\", \"text\": \"wrist\", \"textposition\": \"top center\"}, {\"type\": \"scatter\", \"x\": [-0.1447824388742447], \"y\": [8.032336235046387], \"mode\": \"markers\", \"text\": \"wrists\", \"textposition\": \"top center\"}, {\"type\": \"scatter\", \"x\": [-3.5376057624816895], \"y\": [-9.564475059509277], \"mode\": \"markers\", \"text\": \"xanax\", \"textposition\": \"top center\"}, {\"type\": \"scatter\", \"x\": [5.0590901374816895], \"y\": [3.373211622238159], \"mode\": \"markers\", \"text\": \"years\", \"textposition\": \"top center\"}, {\"type\": \"scatter\", \"x\": [-4.196280002593994], \"y\": [-9.270572662353516], \"mode\": \"markers\", \"text\": \"zoloft\", \"textposition\": \"top center\"}, {\"type\": \"scatter\", \"x\": [-0.38863521814346313], \"y\": [-2.0977234840393066], \"mode\": \"markers\", \"text\": \"zyprexa\", \"textposition\": \"top center\"}], {\"title\": \"T-SNE for Google embedded vectors 510 words\", \"showlegend\": false}, {\"showLink\": true, \"linkText\": \"Export to plot.ly\"})});</script>"
      ]
     },
     "metadata": {},
     "output_type": "display_data"
    }
   ],
   "source": [
    "def tsne_interactive_plot(save=False, show_labels=False):\n",
    "    \"Creates the t-SNE interactive plot\"\n",
    "    labels = []\n",
    "    data = []\n",
    "\n",
    "    x = []\n",
    "    y = []\n",
    "    \n",
    "    for i, word in enumerate(safe_words):\n",
    "        x.append(tsne_result[i, 0])\n",
    "        y.append(tsne_result[i, 1])\n",
    "        labels.append(word[0])\n",
    "\n",
    "    # Should we show markers / markers & text\n",
    "    if show_labels:\n",
    "        mode = \"markers+text\"\n",
    "    else:\n",
    "        mode = \"markers\"\n",
    "        \n",
    "    for i in range(len(x)):\n",
    "        trace0= go.Scatter(\n",
    "            x= [x[i]],\n",
    "            y= [y[i]],\n",
    "            mode= mode,\n",
    "            text= labels[i],\n",
    "            textposition='top center')\n",
    "        data.append(trace0);\n",
    "    \n",
    "    title = \"T-SNE for Google embedded vectors {} words\"\n",
    "    filename = \"output/google-tsne-interactive-plot.html\"\n",
    "    # Save the html file \n",
    "    if save:\n",
    "        py.offline.plot({\n",
    "            \"data\": data, \n",
    "            \"layout\": go.Layout(title=title.format(len(safe_words)), \n",
    "                                showlegend=False)\n",
    "        }, auto_open=False, filename=filename)\n",
    "\n",
    "    py.offline.iplot({\n",
    "        \"data\": data, \n",
    "        \"layout\": go.Layout(title=title.format(len(safe_words)), \n",
    "                            showlegend=False)\n",
    "    })\n",
    "        \n",
    "\n",
    "tsne_interactive_plot()"
   ]
  },
  {
   "cell_type": "code",
   "execution_count": null,
   "metadata": {},
   "outputs": [],
   "source": []
  }
 ],
 "metadata": {
  "kernelspec": {
   "display_name": "Python 3",
   "language": "python",
   "name": "python3"
  },
  "language_info": {
   "codemirror_mode": {
    "name": "ipython",
    "version": 3
   },
   "file_extension": ".py",
   "mimetype": "text/x-python",
   "name": "python",
   "nbconvert_exporter": "python",
   "pygments_lexer": "ipython3",
   "version": "3.6.6"
  }
 },
 "nbformat": 4,
 "nbformat_minor": 2
}
