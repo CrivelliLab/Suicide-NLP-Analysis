{
 "cells": [
  {
   "cell_type": "markdown",
   "metadata": {},
   "source": [
    "# WordNet Analysis\n",
    "\n",
    "The [TextBlob](https://textblob.readthedocs.io/en/dev/quickstart.html#wordnet-integration) library has an interesting feature called `path_similarity` which could be used to see how similar words are."
   ]
  },
  {
   "cell_type": "code",
   "execution_count": 87,
   "metadata": {},
   "outputs": [],
   "source": [
    "# Preamble\n",
    "from textblob.wordnet import Synset\n",
    "from textblob import Word\n",
    "import numpy as np\n",
    "import pickle\n",
    "from math import isnan\n",
    "from matplotlib import pyplot"
   ]
  },
  {
   "cell_type": "code",
   "execution_count": 36,
   "metadata": {},
   "outputs": [
    {
     "name": "stdout",
     "output_type": "stream",
     "text": [
      "model_words loaded\n"
     ]
    }
   ],
   "source": [
    "def load_model_words():\n",
    "    \"Load a model_words\"\n",
    "    global model_words\n",
    "    with open(\"models/model_words.pickle\", \"rb\") as pickle_file:        \n",
    "        model_words = pickle.load(pickle_file)\n",
    "    print(\"model_words loaded\")\n",
    "\n",
    "load_model_words()"
   ]
  },
  {
   "cell_type": "code",
   "execution_count": 48,
   "metadata": {},
   "outputs": [],
   "source": [
    "def clean_up_words(dirty_words):\n",
    "    \"Figure out which words are not in synsets\"\n",
    "    words, not_words = [], []\n",
    "    for word in dirty_words:\n",
    "        if len(Word(word).synsets) != 0: words.append(Word(word).synsets[0])\n",
    "        if len(Word(word).synsets) == 0: not_words.append(word)\n",
    "    return words, not_words\n",
    "\n",
    "words, not_words = clean_up_words(model_words)"
   ]
  },
  {
   "cell_type": "code",
   "execution_count": 49,
   "metadata": {},
   "outputs": [
    {
     "data": {
      "text/plain": [
       "474"
      ]
     },
     "execution_count": 49,
     "metadata": {},
     "output_type": "execute_result"
    }
   ],
   "source": [
    "len(words) # Number of words which are in synsets"
   ]
  },
  {
   "cell_type": "code",
   "execution_count": 50,
   "metadata": {},
   "outputs": [
    {
     "data": {
      "text/plain": [
       "74"
      ]
     },
     "execution_count": 50,
     "metadata": {},
     "output_type": "execute_result"
    }
   ],
   "source": [
    "len(not_words) # Number of words not in synsets"
   ]
  },
  {
   "cell_type": "markdown",
   "metadata": {},
   "source": [
    "Out of the 548 words we started with, 74 words are not in the WordNet system. The words which will be excluded in the analysis are listed bellow. This means that we will primarily be working with 474 words."
   ]
  },
  {
   "cell_type": "code",
   "execution_count": 51,
   "metadata": {},
   "outputs": [
    {
     "data": {
      "text/plain": [
       "548"
      ]
     },
     "execution_count": 51,
     "metadata": {},
     "output_type": "execute_result"
    }
   ],
   "source": [
    "len(model_words)"
   ]
  },
  {
   "cell_type": "code",
   "execution_count": 52,
   "metadata": {
    "scrolled": false
   },
   "outputs": [
    {
     "data": {
      "text/plain": [
       "['zyprexa',\n",
       " 'hemodynamically',\n",
       " 'ambien',\n",
       " 'apap',\n",
       " '',\n",
       " 'tegretol',\n",
       " 'micu',\n",
       " 'name11',\n",
       " 'namepattern4',\n",
       " 'stitle',\n",
       " 'extubated',\n",
       " 'illicits',\n",
       " 'lastname',\n",
       " 'namepattern1',\n",
       " 'psych',\n",
       " 'etoh',\n",
       " 'hospital1',\n",
       " 'mellitus',\n",
       " 'ivdu',\n",
       " 'risperdal',\n",
       " 'hospital6',\n",
       " 'mucomyst',\n",
       " 'dispo',\n",
       " 'lvef',\n",
       " 'copd',\n",
       " 'gerd',\n",
       " 'oxycodone',\n",
       " 'cath',\n",
       " 'schizoaffective',\n",
       " 'hospital3',\n",
       " 'percocet',\n",
       " 'poly',\n",
       " 'polysubstance',\n",
       " 'approx',\n",
       " 'withdrawl',\n",
       " 'name8',\n",
       " 'resp',\n",
       " 'namepattern2',\n",
       " 'dyslipidemia',\n",
       " 'trach',\n",
       " 'seroquel',\n",
       " 'benzos',\n",
       " 'listerine',\n",
       " 'benzo',\n",
       " 'lfts',\n",
       " 'klonopin',\n",
       " 'rehab',\n",
       " 'ciwa',\n",
       " 'clonazepam',\n",
       " 'depakote',\n",
       " 'creatinine',\n",
       " 'valproic',\n",
       " 'effexor',\n",
       " 'vicodin',\n",
       " 'eval',\n",
       " 'trazadone',\n",
       " 'mrsa',\n",
       " 'medquist36',\n",
       " 'rhabdomyolysis',\n",
       " 'name2',\n",
       " 'lexapro',\n",
       " 'hepatology',\n",
       " 'suicidality',\n",
       " 'wellbutrin',\n",
       " 'hypothyroid',\n",
       " 'colectomy',\n",
       " 'cardiothoracic',\n",
       " 'dxed',\n",
       " 'pcwp',\n",
       " 'noncontributory',\n",
       " 'utis',\n",
       " 'lamictal',\n",
       " 'oopherectomy',\n",
       " 'hiatal']"
      ]
     },
     "execution_count": 52,
     "metadata": {},
     "output_type": "execute_result"
    }
   ],
   "source": [
    "not_words"
   ]
  },
  {
   "cell_type": "markdown",
   "metadata": {},
   "source": [
    "## Heatmap\n",
    "\n",
    "Now that we have the words, the goal is to create a heatmap where words that are close by (via `path_similarity`) have higher values.\n",
    "\n",
    "Important notes about using `path_similarity` via [this site](https://nlpforhackers.io/wordnet-sentence-similarity/):\n",
    "- Wordnet has some issues with computing the similarity between adjectives and adverbs\n",
    "- Some Wordnet similarity measures misbehave\n",
    "- Values that are nan will just be set to zero in our case"
   ]
  },
  {
   "cell_type": "code",
   "execution_count": 83,
   "metadata": {},
   "outputs": [],
   "source": [
    "def get_distances():\n",
    "    \"Get the distances between different points\"\n",
    "    distances = np.empty([len(words), len(words)])\n",
    "    dist = lambda a,b: a.path_similarity(b)\n",
    "    \n",
    "    # For all the words, generate the the distance plot:\n",
    "    for index, word in enumerate(words):\n",
    "        for index2, word2 in enumerate(words):\n",
    "            tmp_dist = dist(word, word2)\n",
    "            if tmp_dist is not None:\n",
    "                distances[index][index2] = tmp_dist\n",
    "            else:\n",
    "                distances[index][index2] = 0.0\n",
    "    \n",
    "    return distances"
   ]
  },
  {
   "cell_type": "code",
   "execution_count": 84,
   "metadata": {},
   "outputs": [],
   "source": [
    "distances = get_distances()"
   ]
  },
  {
   "cell_type": "code",
   "execution_count": 86,
   "metadata": {},
   "outputs": [
    {
     "ename": "NameError",
     "evalue": "name 'pyplot' is not defined",
     "output_type": "error",
     "traceback": [
      "\u001b[0;31m---------------------------------------------------------------------------\u001b[0m",
      "\u001b[0;31mNameError\u001b[0m                                 Traceback (most recent call last)",
      "\u001b[0;32m<ipython-input-86-c12b452ecbc5>\u001b[0m in \u001b[0;36m<module>\u001b[0;34m()\u001b[0m\n\u001b[1;32m     17\u001b[0m         \u001b[0mfig\u001b[0m\u001b[0;34m.\u001b[0m\u001b[0msavefig\u001b[0m\u001b[0;34m(\u001b[0m\u001b[0;34m\"output/similarity-map.png\"\u001b[0m\u001b[0;34m)\u001b[0m\u001b[0;34m\u001b[0m\u001b[0m\n\u001b[1;32m     18\u001b[0m \u001b[0;34m\u001b[0m\u001b[0m\n\u001b[0;32m---> 19\u001b[0;31m \u001b[0mplot_similarity\u001b[0m\u001b[0;34m(\u001b[0m\u001b[0;34m)\u001b[0m\u001b[0;34m\u001b[0m\u001b[0m\n\u001b[0m",
      "\u001b[0;32m<ipython-input-86-c12b452ecbc5>\u001b[0m in \u001b[0;36mplot_similarity\u001b[0;34m(save)\u001b[0m\n\u001b[1;32m      1\u001b[0m \u001b[0;32mdef\u001b[0m \u001b[0mplot_similarity\u001b[0m\u001b[0;34m(\u001b[0m\u001b[0msave\u001b[0m\u001b[0;34m=\u001b[0m\u001b[0;32mFalse\u001b[0m\u001b[0;34m)\u001b[0m\u001b[0;34m:\u001b[0m\u001b[0;34m\u001b[0m\u001b[0m\n\u001b[1;32m      2\u001b[0m     \u001b[0;34m\"Create a heatmap correlation style map for a given set of words\"\u001b[0m\u001b[0;34m\u001b[0m\u001b[0m\n\u001b[0;32m----> 3\u001b[0;31m     \u001b[0mfig\u001b[0m \u001b[0;34m=\u001b[0m \u001b[0mpyplot\u001b[0m\u001b[0;34m.\u001b[0m\u001b[0mfigure\u001b[0m\u001b[0;34m(\u001b[0m\u001b[0mfigsize\u001b[0m\u001b[0;34m=\u001b[0m\u001b[0;34m(\u001b[0m\u001b[0;36m16\u001b[0m\u001b[0;34m,\u001b[0m \u001b[0;36m16\u001b[0m\u001b[0;34m)\u001b[0m\u001b[0;34m)\u001b[0m\u001b[0;34m\u001b[0m\u001b[0m\n\u001b[0m\u001b[1;32m      4\u001b[0m     \u001b[0max\u001b[0m \u001b[0;34m=\u001b[0m \u001b[0mfig\u001b[0m\u001b[0;34m.\u001b[0m\u001b[0madd_subplot\u001b[0m\u001b[0;34m(\u001b[0m\u001b[0;36m111\u001b[0m\u001b[0;34m)\u001b[0m\u001b[0;34m\u001b[0m\u001b[0m\n\u001b[1;32m      5\u001b[0m     \u001b[0mcax\u001b[0m \u001b[0;34m=\u001b[0m \u001b[0max\u001b[0m\u001b[0;34m.\u001b[0m\u001b[0mmatshow\u001b[0m\u001b[0;34m(\u001b[0m\u001b[0mdistances\u001b[0m\u001b[0;34m,\u001b[0m \u001b[0mvmin\u001b[0m\u001b[0;34m=\u001b[0m\u001b[0mnp\u001b[0m\u001b[0;34m.\u001b[0m\u001b[0mmin\u001b[0m\u001b[0;34m(\u001b[0m\u001b[0mdistances\u001b[0m\u001b[0;34m)\u001b[0m\u001b[0;34m,\u001b[0m \u001b[0mvmax\u001b[0m\u001b[0;34m=\u001b[0m\u001b[0mnp\u001b[0m\u001b[0;34m.\u001b[0m\u001b[0mmax\u001b[0m\u001b[0;34m(\u001b[0m\u001b[0mdistances\u001b[0m\u001b[0;34m)\u001b[0m\u001b[0;34m)\u001b[0m\u001b[0;34m\u001b[0m\u001b[0m\n",
      "\u001b[0;31mNameError\u001b[0m: name 'pyplot' is not defined"
     ]
    }
   ],
   "source": [
    "def plot_similarity(save=False):\n",
    "    \"Create a heatmap correlation style map for a given set of words\"\n",
    "    fig = pyplot.figure(figsize=(16, 16))\n",
    "    ax = fig.add_subplot(111)\n",
    "    cax = ax.matshow(distances, vmin=np.min(distances), vmax=np.max(distances))\n",
    "    fig.colorbar(cax)\n",
    "    ticks = np.arange(0,len(words),1)\n",
    "    ax.axis('off')\n",
    "    ax.set_xticks(ticks)\n",
    "    ax.set_yticks(ticks)\n",
    "    ax.set_xticklabels(words)\n",
    "    ax.set_yticklabels(words)\n",
    "    pyplot.show()\n",
    "    \n",
    "    # Save a .png of the plot\n",
    "    if save:\n",
    "        fig.savefig(\"output/similarity-map.png\")\n",
    "\n",
    "plot_similarity()"
   ]
  },
  {
   "cell_type": "code",
   "execution_count": null,
   "metadata": {},
   "outputs": [],
   "source": []
  }
 ],
 "metadata": {
  "kernelspec": {
   "display_name": "Python 3",
   "language": "python",
   "name": "python3"
  },
  "language_info": {
   "codemirror_mode": {
    "name": "ipython",
    "version": 3
   },
   "file_extension": ".py",
   "mimetype": "text/x-python",
   "name": "python",
   "nbconvert_exporter": "python",
   "pygments_lexer": "ipython3",
   "version": "3.6.6"
  }
 },
 "nbformat": 4,
 "nbformat_minor": 2
}
